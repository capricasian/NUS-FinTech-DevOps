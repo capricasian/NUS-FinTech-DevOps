{
 "cells": [
  {
   "cell_type": "code",
   "execution_count": 6,
   "metadata": {},
   "outputs": [
    {
     "name": "stdout",
     "output_type": "stream",
     "text": [
      "What is your age:66\n",
      "What is your monthly salary in $750\n",
      "Employee CPF contribution is $37.50\n",
      "Employer CPF contribution is $56.25\n"
     ]
    }
   ],
   "source": [
    "def CPFcalc ():\n",
    "    age=input(\"What is your age:\")\n",
    "    salary=input(\"What is your monthly salary in $\")\n",
    "    age=int(age)\n",
    "    salary=float(salary)\n",
    "\n",
    "    if age <16:\n",
    "        employer_percent = 0\n",
    "        employee_percent = 0\n",
    "    elif age <=55:\n",
    "        employer_percent = 0.17\n",
    "        employee_percent = 0.20\n",
    "    elif age <=60:\n",
    "        employer_percent = 0.13\n",
    "        employee_percent = 0.13\n",
    "    elif age <=65:\n",
    "        employer_percent = 0.09\n",
    "        employee_percent = 0.075\n",
    "    else:\n",
    "        employer_percent = 0.075\n",
    "        employee_percent = 0.05\n",
    "    \n",
    "    if salary <750:\n",
    "        employer_percent = 0\n",
    "        employee_percent = 0\n",
    "    else:\n",
    "        employer_percent = employer_percent\n",
    "        employee_percent = employee_percent\n",
    "    \n",
    "    employee_contrib = salary * employee_percent\n",
    "    employer_contrib = salary * employer_percent\n",
    "    return employee_contrib, employer_contrib\n",
    "        \n",
    "employee, employer = CPFcalc()\n",
    "print(\"Employee CPF contribution is ${:.2f}\".format(employee))\n",
    "print(\"Employer CPF contribution is ${:.2f}\".format(employer))\n"
   ]
  }
 ],
 "metadata": {
  "kernelspec": {
   "display_name": "Python 3",
   "language": "python",
   "name": "python3"
  },
  "language_info": {
   "codemirror_mode": {
    "name": "ipython",
    "version": 3
   },
   "file_extension": ".py",
   "mimetype": "text/x-python",
   "name": "python",
   "nbconvert_exporter": "python",
   "pygments_lexer": "ipython3",
   "version": "3.7.4"
  }
 },
 "nbformat": 4,
 "nbformat_minor": 2
}
