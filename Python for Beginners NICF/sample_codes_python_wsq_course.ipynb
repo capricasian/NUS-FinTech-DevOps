{
  "nbformat": 4,
  "nbformat_minor": 0,
  "metadata": {
    "colab": {
      "name": "sample_codes_python_wsq_course.ipynb",
      "provenance": [],
      "collapsed_sections": []
    },
    "kernelspec": {
      "name": "python3",
      "display_name": "Python 3"
    },
    "accelerator": "GPU"
  },
  "cells": [
    {
      "cell_type": "markdown",
      "metadata": {
        "id": "BFtOba3twrZP",
        "colab_type": "text"
      },
      "source": [
        "# Topic 1 Get Started in Python"
      ]
    },
    {
      "cell_type": "code",
      "metadata": {
        "id": "N3DJ-DyMrkIl",
        "colab_type": "code",
        "colab": {}
      },
      "source": [
        "# Comment\n",
        "# Highlight and Ctrl / to toggle comment\n",
        "\n",
        "print(\"hello\")\n",
        "# print(\"hello2\")\n",
        "# print(\"hello3\")\n",
        "# print(\"hello4\")\n"
      ],
      "execution_count": null,
      "outputs": []
    },
    {
      "cell_type": "markdown",
      "metadata": {
        "id": "OEmvlnboxSSW",
        "colab_type": "text"
      },
      "source": [
        "# Topic 2 Data Types"
      ]
    },
    {
      "cell_type": "code",
      "metadata": {
        "id": "Q5lHdI5arvKl",
        "colab_type": "code",
        "colab": {}
      },
      "source": [
        "# Python codes run sequentially \n",
        "# Python syntax is case sensitive\n",
        "# Python is very sensitive to spacing in front\n",
        "\n",
        "a,b = 1,2\n",
        "b = 2\n",
        "# print(a+b) -> Indentation Error\n",
        "print(a+b)"
      ],
      "execution_count": null,
      "outputs": []
    },
    {
      "cell_type": "markdown",
      "metadata": {
        "id": "etQse5It4ycS",
        "colab_type": "text"
      },
      "source": [
        "## Multiple Assignment"
      ]
    },
    {
      "cell_type": "code",
      "metadata": {
        "id": "9ZFm4ooUwG_L",
        "colab_type": "code",
        "colab": {}
      },
      "source": [
        "a,b=1,2\n",
        "a = b\n",
        "b = a+b\n",
        "print('a = ',a)\n",
        "print('b = ',b)"
      ],
      "execution_count": null,
      "outputs": []
    },
    {
      "cell_type": "code",
      "metadata": {
        "id": "iJUWz_K4utWz",
        "colab_type": "code",
        "colab": {}
      },
      "source": [
        "# Exercise\n",
        "# Enter your answer in Google Classroom Quiz\n",
        "\n",
        "a,b=1,2\n",
        "a,b = b,a+b\n",
        "print('a = ',a)\n",
        "print('b = ',b)"
      ],
      "execution_count": null,
      "outputs": []
    },
    {
      "cell_type": "markdown",
      "metadata": {
        "id": "dvYPFeIS5Ec6",
        "colab_type": "text"
      },
      "source": [
        "## Formating Numbers"
      ]
    },
    {
      "cell_type": "code",
      "metadata": {
        "id": "TgzmToLqu-Bs",
        "colab_type": "code",
        "colab": {}
      },
      "source": [
        "# To print in a formatted way\n",
        "a = 1\n",
        "b = 2\n",
        "print(\"{}+{}={}\".format(a,b,a+b))"
      ],
      "execution_count": null,
      "outputs": []
    },
    {
      "cell_type": "code",
      "metadata": {
        "id": "R-JjRUz9jn1B",
        "colab_type": "code",
        "colab": {}
      },
      "source": [
        "a = '1'\n",
        "b = '2'\n",
        "print(a+b)"
      ],
      "execution_count": null,
      "outputs": []
    },
    {
      "cell_type": "code",
      "metadata": {
        "id": "VdtXOK6Bz7kt",
        "colab_type": "code",
        "colab": {}
      },
      "source": [
        "# To format the decimal places (float)\n",
        "a = 1.222\n",
        "b = 2.333\n",
        "print(\"{:0.2f}+{:0.1f}={:0.1f}\".format(a,b,a+b))"
      ],
      "execution_count": null,
      "outputs": []
    },
    {
      "cell_type": "code",
      "metadata": {
        "id": "5mXehutK5JqK",
        "colab_type": "code",
        "colab": {}
      },
      "source": [
        "# To arrange the location\n",
        "\n",
        "a = 1.222\n",
        "b = 2.333\n",
        "print(\"{1:0.1f}+{0:0.1f}={2:0.1f}\".format(a,b,a+b))"
      ],
      "execution_count": null,
      "outputs": []
    },
    {
      "cell_type": "code",
      "metadata": {
        "id": "08q59OEQ0gMO",
        "colab_type": "code",
        "colab": {}
      },
      "source": [
        "# Exercise\n",
        "\n",
        "a = 4.444\n",
        "b = 5.555\n",
        "c = 6.6666\n",
        "d = a + b +c\n",
        "\n",
        "print(\"{1:0.2f}+{2:0.2f}+{0:0.1f}={3:0.0f}\".format(a,b,c,d))\n"
      ],
      "execution_count": null,
      "outputs": []
    },
    {
      "cell_type": "markdown",
      "metadata": {
        "id": "vDxFXHUP6Lyz",
        "colab_type": "text"
      },
      "source": [
        "## String"
      ]
    },
    {
      "cell_type": "code",
      "metadata": {
        "id": "NZOU8r8_2AGQ",
        "colab_type": "code",
        "colab": {}
      },
      "source": [
        "# Concatenate two strings\n",
        "# Python support single and double quotes. But the quotation has to be consistent.\n",
        "\n",
        "a = \"Hello\"\n",
        "b = \" World\"\n",
        "print(a+b)\n"
      ],
      "execution_count": null,
      "outputs": []
    },
    {
      "cell_type": "code",
      "metadata": {
        "id": "5gT_42iA25IM",
        "colab_type": "code",
        "colab": {}
      },
      "source": [
        "# Change the casing in string\n",
        "\n",
        "a = \"Hello\".upper()\n",
        "print(a)\n",
        "b = \" World\".lower()\n",
        "print(b)\n",
        "print(a+b)"
      ],
      "execution_count": null,
      "outputs": []
    },
    {
      "cell_type": "code",
      "metadata": {
        "id": "gGUdjxWQ3OdK",
        "colab_type": "code",
        "colab": {}
      },
      "source": [
        "# Replacing the word\n",
        "\n",
        "a = 'Hello'\n",
        "b = \" World\"\n",
        "c = a+b\n",
        "d = c.replace(\"World\",\"Alfred\")\n",
        "print(d)\n"
      ],
      "execution_count": null,
      "outputs": []
    },
    {
      "cell_type": "code",
      "metadata": {
        "id": "1WOWaSfm3ina",
        "colab_type": "code",
        "colab": {}
      },
      "source": [
        "# Format the string output\n",
        "\n",
        "name = \"Alfred\"\n",
        "print(\"My name is {}\".format(name))"
      ],
      "execution_count": null,
      "outputs": []
    },
    {
      "cell_type": "code",
      "metadata": {
        "id": "ZfDCRQqH4Ayk",
        "colab_type": "code",
        "colab": {}
      },
      "source": [
        "# Exercise\n",
        "\n",
        "country =\"france\".upper()\n",
        "capital =\"paris\".capitalize()\n",
        "\n",
        "print(\"The capital of {} is {}\".format(country,capital))"
      ],
      "execution_count": null,
      "outputs": []
    },
    {
      "cell_type": "code",
      "metadata": {
        "id": "J5EzOvKm5jvm",
        "colab_type": "code",
        "colab": {}
      },
      "source": [
        "# Remove the spacing in string\n",
        "\n",
        "a = \"         Hello\".strip()\n",
        "b = \" World\"\n",
        "print(a+b)"
      ],
      "execution_count": null,
      "outputs": []
    },
    {
      "cell_type": "code",
      "metadata": {
        "id": "qLblldJT6yfb",
        "colab_type": "code",
        "colab": {}
      },
      "source": [
        "# Split the string into words\n",
        "\n",
        "a = \"Today is a nice day\"\n",
        "b = a.split()\n",
        "print(b)"
      ],
      "execution_count": null,
      "outputs": []
    },
    {
      "cell_type": "code",
      "metadata": {
        "id": "-cEzl5bQ7FhG",
        "colab_type": "code",
        "colab": {}
      },
      "source": [
        "# Add separator to split the strings\n",
        "\n",
        "a = \"The answer = 5 \"\n",
        "b = a.split('=')\n",
        "print(b)"
      ],
      "execution_count": null,
      "outputs": []
    },
    {
      "cell_type": "code",
      "metadata": {
        "id": "nYGUvoOC7YxN",
        "colab_type": "code",
        "colab": {}
      },
      "source": [
        "# Join back the strings\n",
        "\n",
        "c = \"=\".join(b)\n",
        "print(c)"
      ],
      "execution_count": null,
      "outputs": []
    },
    {
      "cell_type": "code",
      "metadata": {
        "id": "T0GJJDsz7wP9",
        "colab_type": "code",
        "colab": {}
      },
      "source": [
        "# Exercise\n",
        "\n",
        "a = 'abc@def.com'\n",
        "\n",
        "b = a.split(\"@\")\n",
        "print(b)\n",
        "c = \"/\".join(b)\n",
        "print(c)"
      ],
      "execution_count": null,
      "outputs": []
    },
    {
      "cell_type": "markdown",
      "metadata": {
        "id": "_qyZdCtQEo37",
        "colab_type": "text"
      },
      "source": [
        "## List"
      ]
    },
    {
      "cell_type": "code",
      "metadata": {
        "id": "hiMCUdZP8R5o",
        "colab_type": "code",
        "colab": {}
      },
      "source": [
        "a = ['apple','orange','banana','durian']\n",
        "print(a)"
      ],
      "execution_count": null,
      "outputs": []
    },
    {
      "cell_type": "code",
      "metadata": {
        "id": "VIW7Dx1S9Rm3",
        "colab_type": "code",
        "colab": {}
      },
      "source": [
        "a[0]"
      ],
      "execution_count": null,
      "outputs": []
    },
    {
      "cell_type": "code",
      "metadata": {
        "id": "t23bRsO79YZ7",
        "colab_type": "code",
        "colab": {}
      },
      "source": [
        "a[2]"
      ],
      "execution_count": null,
      "outputs": []
    },
    {
      "cell_type": "code",
      "metadata": {
        "id": "P7WLjY1e9aZ-",
        "colab_type": "code",
        "colab": {}
      },
      "source": [
        "a[1:2]"
      ],
      "execution_count": null,
      "outputs": []
    },
    {
      "cell_type": "code",
      "metadata": {
        "id": "fiPvqG7_9lo5",
        "colab_type": "code",
        "colab": {}
      },
      "source": [
        "a[0:4]"
      ],
      "execution_count": null,
      "outputs": []
    },
    {
      "cell_type": "code",
      "metadata": {
        "id": "twjcEeie9pXq",
        "colab_type": "code",
        "colab": {}
      },
      "source": [
        "a[2:4]"
      ],
      "execution_count": null,
      "outputs": []
    },
    {
      "cell_type": "code",
      "metadata": {
        "id": "XOLWx-pu9sw1",
        "colab_type": "code",
        "colab": {}
      },
      "source": [
        "a[-5]"
      ],
      "execution_count": null,
      "outputs": []
    },
    {
      "cell_type": "code",
      "metadata": {
        "id": "h3DWXUCi90cz",
        "colab_type": "code",
        "colab": {}
      },
      "source": [
        "a[-2]"
      ],
      "execution_count": null,
      "outputs": []
    },
    {
      "cell_type": "code",
      "metadata": {
        "id": "MRYZ4_-U9243",
        "colab_type": "code",
        "colab": {}
      },
      "source": [
        "a.index('banana')"
      ],
      "execution_count": null,
      "outputs": []
    },
    {
      "cell_type": "code",
      "metadata": {
        "id": "LPcuEu0r99Vp",
        "colab_type": "code",
        "colab": {}
      },
      "source": [
        "a = ['apple','orange','banana','durian']\n",
        "a.append('mango')\n",
        "a"
      ],
      "execution_count": null,
      "outputs": []
    },
    {
      "cell_type": "code",
      "metadata": {
        "id": "dGPj0R8T-Cfn",
        "colab_type": "code",
        "colab": {}
      },
      "source": [
        "a.insert(2,'strawberry')\n",
        "a"
      ],
      "execution_count": null,
      "outputs": []
    },
    {
      "cell_type": "code",
      "metadata": {
        "id": "RRtnt1LQ-SuG",
        "colab_type": "code",
        "colab": {}
      },
      "source": [
        "a.remove('banana')\n",
        "a"
      ],
      "execution_count": null,
      "outputs": []
    },
    {
      "cell_type": "code",
      "metadata": {
        "id": "OTlBEes2-Xwz",
        "colab_type": "code",
        "colab": {}
      },
      "source": [
        "a.pop()\n",
        "a"
      ],
      "execution_count": null,
      "outputs": []
    },
    {
      "cell_type": "code",
      "metadata": {
        "id": "bAECnvVQ-Y7P",
        "colab_type": "code",
        "colab": {}
      },
      "source": [
        "a.pop(0)\n",
        "a"
      ],
      "execution_count": null,
      "outputs": []
    },
    {
      "cell_type": "code",
      "metadata": {
        "id": "n-1xkskr-hej",
        "colab_type": "code",
        "colab": {}
      },
      "source": [
        "a = ['apple','orange','banana','durian']\n",
        "b = a.copy()\n",
        "b"
      ],
      "execution_count": null,
      "outputs": []
    },
    {
      "cell_type": "code",
      "metadata": {
        "id": "n_HZDwHAWzI3",
        "colab_type": "code",
        "colab": {}
      },
      "source": [
        "alist = ['apple','orange','banana','durian',1,2,3,4, 5.6, 7.8]"
      ],
      "execution_count": null,
      "outputs": []
    },
    {
      "cell_type": "code",
      "metadata": {
        "id": "tnWv0A-RXLSG",
        "colab_type": "code",
        "colab": {}
      },
      "source": [
        "alist[8]"
      ],
      "execution_count": null,
      "outputs": []
    },
    {
      "cell_type": "code",
      "metadata": {
        "id": "h0F1iLC9Xt63",
        "colab_type": "code",
        "colab": {}
      },
      "source": [
        "a = 1\n",
        "a= alist[0] + a\n",
        "print(a)"
      ],
      "execution_count": null,
      "outputs": []
    },
    {
      "cell_type": "code",
      "metadata": {
        "id": "A-LMFkcC-tmt",
        "colab_type": "code",
        "colab": {}
      },
      "source": [
        "c = a \n",
        "c"
      ],
      "execution_count": null,
      "outputs": []
    },
    {
      "cell_type": "code",
      "metadata": {
        "id": "SMsPXOmb-wyY",
        "colab_type": "code",
        "colab": {}
      },
      "source": [
        "c.pop()\n",
        "c"
      ],
      "execution_count": null,
      "outputs": []
    },
    {
      "cell_type": "code",
      "metadata": {
        "id": "OzNounvz-6CU",
        "colab_type": "code",
        "colab": {}
      },
      "source": [
        "a"
      ],
      "execution_count": null,
      "outputs": []
    },
    {
      "cell_type": "code",
      "metadata": {
        "id": "Rfw4eXEL--ZC",
        "colab_type": "code",
        "colab": {}
      },
      "source": [
        "b"
      ],
      "execution_count": null,
      "outputs": []
    },
    {
      "cell_type": "code",
      "metadata": {
        "id": "08LkpqYS_D5j",
        "colab_type": "code",
        "colab": {}
      },
      "source": [
        "a.reverse()\n",
        "a"
      ],
      "execution_count": null,
      "outputs": []
    },
    {
      "cell_type": "code",
      "metadata": {
        "id": "7hFnQBZb_Jq5",
        "colab_type": "code",
        "colab": {}
      },
      "source": [
        "a.append('orange')\n",
        "a"
      ],
      "execution_count": null,
      "outputs": []
    },
    {
      "cell_type": "code",
      "metadata": {
        "id": "_oW5jLEW_Rb-",
        "colab_type": "code",
        "colab": {}
      },
      "source": [
        "a.count('orange')"
      ],
      "execution_count": null,
      "outputs": []
    },
    {
      "cell_type": "code",
      "metadata": {
        "id": "TjQgGNUm_Tgy",
        "colab_type": "code",
        "colab": {}
      },
      "source": [
        "# Exercise \n",
        "# Enter your answer in Google Classroom Quiz\n",
        "\n",
        "letters =['A','C','C','A','T','T','G','A','C','A']\n",
        "\n",
        "letters2 = letters.copy()\n",
        "letters2.remove('G')\n",
        "letters2.insert(3,'A')\n",
        "letters2.reverse()\n",
        "letters2"
      ],
      "execution_count": null,
      "outputs": []
    },
    {
      "cell_type": "markdown",
      "metadata": {
        "id": "UKAO7EvLC88s",
        "colab_type": "text"
      },
      "source": [
        "## Tuple"
      ]
    },
    {
      "cell_type": "code",
      "metadata": {
        "id": "lcWgze-1Cq2y",
        "colab_type": "code",
        "colab": {}
      },
      "source": [
        "a = ('apple1','orange1','banana','durian')\n",
        "a"
      ],
      "execution_count": null,
      "outputs": []
    },
    {
      "cell_type": "code",
      "metadata": {
        "id": "nOkryIHfEQOQ",
        "colab_type": "code",
        "colab": {}
      },
      "source": [
        "t = ('my', 'name', 'is', 'mr', 'tuple')\n",
        "t\n",
        "list(t)\n"
      ],
      "execution_count": null,
      "outputs": []
    },
    {
      "cell_type": "code",
      "metadata": {
        "id": "bEsfonrsDFj3",
        "colab_type": "code",
        "colab": {}
      },
      "source": [
        "a[1]"
      ],
      "execution_count": null,
      "outputs": []
    },
    {
      "cell_type": "code",
      "metadata": {
        "id": "chGMeYTWDG1P",
        "colab_type": "code",
        "colab": {}
      },
      "source": [
        "a[1]"
      ],
      "execution_count": null,
      "outputs": []
    },
    {
      "cell_type": "code",
      "metadata": {
        "id": "QifhJaM2DIBK",
        "colab_type": "code",
        "colab": {}
      },
      "source": [
        "a[-1]"
      ],
      "execution_count": null,
      "outputs": []
    },
    {
      "cell_type": "code",
      "metadata": {
        "id": "qsQOHoh5SP33",
        "colab_type": "code",
        "colab": {}
      },
      "source": [
        "a.append('mango')"
      ],
      "execution_count": null,
      "outputs": []
    },
    {
      "cell_type": "markdown",
      "metadata": {
        "id": "f_8W2mUCEEUa",
        "colab_type": "text"
      },
      "source": [
        "## Dictionary"
      ]
    },
    {
      "cell_type": "code",
      "metadata": {
        "id": "5xH4p4NgDJDF",
        "colab_type": "code",
        "colab": {}
      },
      "source": [
        "a = {'France'  : 'Paris', \n",
        "     'Germany' : 'Berlin', \n",
        "     'Italy'   : 'Roman'}"
      ],
      "execution_count": null,
      "outputs": []
    },
    {
      "cell_type": "code",
      "metadata": {
        "id": "fJJik_moEReQ",
        "colab_type": "code",
        "colab": {}
      },
      "source": [
        "a['Germany']"
      ],
      "execution_count": null,
      "outputs": []
    },
    {
      "cell_type": "markdown",
      "metadata": {
        "id": "g6g6fh8fEjjG",
        "colab_type": "text"
      },
      "source": [
        "## Set"
      ]
    },
    {
      "cell_type": "code",
      "metadata": {
        "id": "gQq_3eo-ET5T",
        "colab_type": "code",
        "colab": {}
      },
      "source": [
        "a = {2,3,4}\n",
        "a"
      ],
      "execution_count": null,
      "outputs": []
    },
    {
      "cell_type": "code",
      "metadata": {
        "id": "U12NnuF0E9sH",
        "colab_type": "code",
        "colab": {}
      },
      "source": [
        "# Exercise\n",
        "# Enter your answer in Google Classroom Quiz\n",
        "\n",
        "a = {2,3,4}\n",
        "b = {3,2,2,4,4}\n",
        "b"
      ],
      "execution_count": null,
      "outputs": []
    },
    {
      "cell_type": "code",
      "metadata": {
        "id": "vuthFdZHGyBR",
        "colab_type": "code",
        "colab": {}
      },
      "source": [
        "a == b\n"
      ],
      "execution_count": null,
      "outputs": []
    },
    {
      "cell_type": "code",
      "metadata": {
        "id": "h90kntw9Fa54",
        "colab_type": "code",
        "colab": {}
      },
      "source": [
        "sent = \"Peter reads a book on a table\"\n",
        "words = sent.split()\n",
        "words"
      ],
      "execution_count": null,
      "outputs": []
    },
    {
      "cell_type": "code",
      "metadata": {
        "id": "dLUOdDfJF0Ti",
        "colab_type": "code",
        "colab": {}
      },
      "source": [
        "vocab = set(words)\n",
        "vocab"
      ],
      "execution_count": null,
      "outputs": []
    },
    {
      "cell_type": "code",
      "metadata": {
        "id": "DQjrKz6CF7PK",
        "colab_type": "code",
        "colab": {}
      },
      "source": [
        "len(vocab)"
      ],
      "execution_count": null,
      "outputs": []
    },
    {
      "cell_type": "markdown",
      "metadata": {
        "id": "jQrXptZkRcfP",
        "colab_type": "text"
      },
      "source": [
        "# Topic 3 Operators"
      ]
    },
    {
      "cell_type": "code",
      "metadata": {
        "id": "jgIAr5NiF_VO",
        "colab_type": "code",
        "colab": {}
      },
      "source": [
        "# Arithmetic Operators  Modulus\n",
        "\n",
        "4%3"
      ],
      "execution_count": null,
      "outputs": []
    },
    {
      "cell_type": "code",
      "metadata": {
        "id": "iQHQz6sDRiQk",
        "colab_type": "code",
        "colab": {}
      },
      "source": [
        "# Compound Operators\n",
        "\n",
        "a = 1\n",
        "#a = a + 2\n",
        "a += 2\n",
        "a"
      ],
      "execution_count": null,
      "outputs": []
    },
    {
      "cell_type": "code",
      "metadata": {
        "id": "fbcAzU-XJqfA",
        "colab_type": "code",
        "colab": {}
      },
      "source": [
        "a+=2\n",
        "a"
      ],
      "execution_count": null,
      "outputs": []
    },
    {
      "cell_type": "code",
      "metadata": {
        "id": "FpV67dCNR8Nr",
        "colab_type": "code",
        "colab": {}
      },
      "source": [
        "# Comparison Operators\n",
        "3>2"
      ],
      "execution_count": null,
      "outputs": []
    },
    {
      "cell_type": "code",
      "metadata": {
        "id": "sLs1uR3pSMDO",
        "colab_type": "code",
        "colab": {}
      },
      "source": [
        "3==2"
      ],
      "execution_count": null,
      "outputs": []
    },
    {
      "cell_type": "code",
      "metadata": {
        "id": "uqQt2iCpSPbZ",
        "colab_type": "code",
        "colab": {}
      },
      "source": [
        "3!=2"
      ],
      "execution_count": null,
      "outputs": []
    },
    {
      "cell_type": "code",
      "metadata": {
        "id": "Wn7cUuHoSWrv",
        "colab_type": "code",
        "colab": {}
      },
      "source": [
        "# Membership Operators\n",
        "\n",
        "a = ['apple','orange','banana','durian']\n",
        "'apple' in a"
      ],
      "execution_count": null,
      "outputs": []
    },
    {
      "cell_type": "code",
      "metadata": {
        "id": "-Z1bsWkiSgN8",
        "colab_type": "code",
        "colab": {}
      },
      "source": [
        "'mango' in a"
      ],
      "execution_count": null,
      "outputs": []
    },
    {
      "cell_type": "code",
      "metadata": {
        "id": "YRJRZH3uSjAQ",
        "colab_type": "code",
        "colab": {}
      },
      "source": [
        "# Logical Operators\n",
        "\n",
        "True or False"
      ],
      "execution_count": null,
      "outputs": []
    },
    {
      "cell_type": "code",
      "metadata": {
        "id": "CoymIqjoSr_s",
        "colab_type": "code",
        "colab": {}
      },
      "source": [
        "True and False"
      ],
      "execution_count": null,
      "outputs": []
    },
    {
      "cell_type": "code",
      "metadata": {
        "id": "ns83RqGaSvai",
        "colab_type": "code",
        "colab": {}
      },
      "source": [
        "# Exericse\n",
        "# Enter your answer in Google Classroom Quiz\n",
        "\n",
        "a = 1; b = 2;\n",
        "(a == 1) or not(b > 3)"
      ],
      "execution_count": null,
      "outputs": []
    },
    {
      "cell_type": "code",
      "metadata": {
        "id": "K7LN8izOUJp-",
        "colab_type": "code",
        "colab": {}
      },
      "source": [
        "(a == 1)"
      ],
      "execution_count": null,
      "outputs": []
    },
    {
      "cell_type": "code",
      "metadata": {
        "id": "HAJ85vXjUZnT",
        "colab_type": "code",
        "colab": {}
      },
      "source": [
        "b > 3"
      ],
      "execution_count": null,
      "outputs": []
    },
    {
      "cell_type": "code",
      "metadata": {
        "id": "wo9NhbMtUb0w",
        "colab_type": "code",
        "colab": {}
      },
      "source": [
        "not(b > 3)"
      ],
      "execution_count": null,
      "outputs": []
    },
    {
      "cell_type": "code",
      "metadata": {
        "id": "VzjmgTZBUgv0",
        "colab_type": "code",
        "colab": {}
      },
      "source": [
        "True or True"
      ],
      "execution_count": null,
      "outputs": []
    },
    {
      "cell_type": "markdown",
      "metadata": {
        "id": "vOmj5r0XU4uu",
        "colab_type": "text"
      },
      "source": [
        "# Topic 4 Control Structures, Loop and Comprehension"
      ]
    },
    {
      "cell_type": "markdown",
      "metadata": {
        "id": "98b0URw3V-Uz",
        "colab_type": "text"
      },
      "source": [
        "## Conditional"
      ]
    },
    {
      "cell_type": "code",
      "metadata": {
        "id": "eE9WZsbQUlMa",
        "colab_type": "code",
        "colab": {}
      },
      "source": [
        "# Conditional\n",
        "\n",
        "a = 3\n",
        "b = 3\n",
        "if (a<b):\n",
        "   print('a is small than b')\n",
        "   print()\n",
        "elif (a>b):\n",
        "    print('a is larger than b')\n",
        "else:\n",
        "    print('a is same as b')"
      ],
      "execution_count": null,
      "outputs": []
    },
    {
      "cell_type": "code",
      "metadata": {
        "id": "1Ddfgr-yVpse",
        "colab_type": "code",
        "colab": {}
      },
      "source": [
        "# Exercise\n",
        "grade = input('What is your grade :' )\n",
        "grade = grade.upper()\n",
        "if grade=='A':\n",
        "    print('Excellent!')\n",
        "elif grade == 'B':\n",
        "    print('Well Done')\n",
        "elif grade=='C':\n",
        "    print('Work harder')\n",
        "else:\n",
        "    print(\"Sorry I don't know your grade\")"
      ],
      "execution_count": null,
      "outputs": []
    },
    {
      "cell_type": "markdown",
      "metadata": {
        "id": "-vL5s19wa7Fy",
        "colab_type": "text"
      },
      "source": [
        "## Ternary Operator"
      ]
    },
    {
      "cell_type": "code",
      "metadata": {
        "id": "Hn059abcYkLM",
        "colab_type": "code",
        "colab": {}
      },
      "source": [
        "# Ternary Operator\n",
        "\n",
        "order = 10\n",
        "discount = 25 if order>100 else 0\n",
        "discount"
      ],
      "execution_count": null,
      "outputs": []
    },
    {
      "cell_type": "code",
      "metadata": {
        "id": "t-3qdqbfbLz9",
        "colab_type": "code",
        "colab": {}
      },
      "source": [
        "# Exercise\n",
        "# Enter your answer in Google Classroom Quiz\n",
        "\n",
        "a = 5\n",
        "b = 3\n",
        "c = a if a>b else b\n",
        "c"
      ],
      "execution_count": null,
      "outputs": []
    },
    {
      "cell_type": "markdown",
      "metadata": {
        "id": "F4usVvO8cp4S",
        "colab_type": "text"
      },
      "source": [
        "## While Loop"
      ]
    },
    {
      "cell_type": "code",
      "metadata": {
        "id": "kBBJHUyBcfSh",
        "colab_type": "code",
        "colab": {}
      },
      "source": [
        "# While loop\n",
        "a = 1\n",
        "while (a<5):\n",
        "    print(a)\n",
        "    a += 1\n",
        "    print(\"this is inside the while loop\")\n",
        "print(\"this is outside the while loop\")"
      ],
      "execution_count": null,
      "outputs": []
    },
    {
      "cell_type": "code",
      "metadata": {
        "id": "5QpEG7vqdA8X",
        "colab_type": "code",
        "colab": {}
      },
      "source": [
        "# Exercise\n",
        "a,b=0,1\n",
        "while (b<100):\n",
        "    a,b = b,a+b\n",
        "    print(b)\n"
      ],
      "execution_count": null,
      "outputs": []
    },
    {
      "cell_type": "code",
      "metadata": {
        "id": "_rXD7MNtfrwS",
        "colab_type": "code",
        "colab": {}
      },
      "source": [
        "# Exercise\n",
        "# Enter your answer in Google Classroom Quiz\n",
        "\n",
        "a,b=0,1\n",
        "while (b<100):\n",
        "    a = b\n",
        "    b = a +b\n",
        "    print(b)"
      ],
      "execution_count": null,
      "outputs": []
    },
    {
      "cell_type": "markdown",
      "metadata": {
        "id": "12PaTj4EhyMN",
        "colab_type": "text"
      },
      "source": [
        "## For Loop"
      ]
    },
    {
      "cell_type": "code",
      "metadata": {
        "id": "6X2Y6L-Zg4rV",
        "colab_type": "code",
        "colab": {}
      },
      "source": [
        "# For loop\n",
        "a = ['apple','orange','banana','durian']\n",
        "\n",
        "for i in a:\n",
        "    print(i)"
      ],
      "execution_count": null,
      "outputs": []
    },
    {
      "cell_type": "code",
      "metadata": {
        "id": "QDDzr3Klh-os",
        "colab_type": "code",
        "colab": {}
      },
      "source": [
        "for i in range(1,30,4):\n",
        "    print(i)"
      ],
      "execution_count": null,
      "outputs": []
    },
    {
      "cell_type": "code",
      "metadata": {
        "id": "8xBazBXFiLH9",
        "colab_type": "code",
        "colab": {}
      },
      "source": [
        "# Exercise\n",
        "# Enter your answer in Google Classroom Quiz\n",
        "\n",
        "a = range(2,12,2)\n",
        "list(a)"
      ],
      "execution_count": null,
      "outputs": []
    },
    {
      "cell_type": "code",
      "metadata": {
        "id": "oxJjT4w4jRAo",
        "colab_type": "code",
        "colab": {}
      },
      "source": [
        "# Exercise\n",
        "\n",
        "a = []\n",
        "\n",
        "for i in range(1,11):\n",
        "    a.append(i*i)\n",
        "print(a)"
      ],
      "execution_count": null,
      "outputs": []
    },
    {
      "cell_type": "markdown",
      "metadata": {
        "id": "8qkUBXU_t2Zk",
        "colab_type": "text"
      },
      "source": [
        "## Enumerate"
      ]
    },
    {
      "cell_type": "code",
      "metadata": {
        "id": "yISTQSWkl5Hc",
        "colab_type": "code",
        "colab": {}
      },
      "source": [
        "# Enumerate over Multiple Sequences\n",
        "\n",
        "person = ['Alfred','Ally','Belinda']\n",
        "height = [170,160,155]\n",
        "\n",
        "for i,name in enumerate(person):\n",
        "    h = height[i]\n",
        "    print(\"{} height is {}cm\".format(name,h))"
      ],
      "execution_count": null,
      "outputs": []
    },
    {
      "cell_type": "markdown",
      "metadata": {
        "id": "1gD3UdC5tx3c",
        "colab_type": "text"
      },
      "source": [
        "## Zip"
      ]
    },
    {
      "cell_type": "code",
      "metadata": {
        "id": "qhitU0smpwgw",
        "colab_type": "code",
        "colab": {}
      },
      "source": [
        "#Zip\n",
        "person = ['Alfred','Ally','Belinda']\n",
        "height = [170,160,155]\n",
        "\n",
        "c = zip(person,height)\n",
        "print(c)\n",
        "for name,h in c:\n",
        "    print(\"{} height is {}cm\".format(name,h))"
      ],
      "execution_count": null,
      "outputs": []
    },
    {
      "cell_type": "code",
      "metadata": {
        "id": "CrUrQlpevhkj",
        "colab_type": "code",
        "colab": {}
      },
      "source": [
        "list(c)"
      ],
      "execution_count": null,
      "outputs": []
    },
    {
      "cell_type": "code",
      "metadata": {
        "id": "NQscqBRSqp8a",
        "colab_type": "code",
        "colab": {}
      },
      "source": [
        "# Exercise\n",
        "\n",
        "person = ['Alfred','Ally','Belinda']\n",
        "height = [170,160,155]\n",
        "weight = [60,55,45]\n",
        "\n",
        "c = zip(person,height,weight)\n",
        "for name,h,w in c:\n",
        "    print(\"{} height is {}cm and weight is {}kg\".format(name,h,w))"
      ],
      "execution_count": null,
      "outputs": []
    },
    {
      "cell_type": "markdown",
      "metadata": {
        "id": "ZDsco65MuO7U",
        "colab_type": "text"
      },
      "source": [
        "## Break and Continue"
      ]
    },
    {
      "cell_type": "code",
      "metadata": {
        "id": "OYkRWjKLtpqC",
        "colab_type": "code",
        "colab": {}
      },
      "source": [
        "#Break\n",
        "\n",
        "for i in range(10):\n",
        "    if i==4:break\n",
        "    print(i)"
      ],
      "execution_count": null,
      "outputs": []
    },
    {
      "cell_type": "code",
      "metadata": {
        "id": "u66yOOQYvK_B",
        "colab_type": "code",
        "colab": {}
      },
      "source": [
        "#Continue\n",
        "\n",
        "for i in range(10):\n",
        "    if i==4:continue\n",
        "    print(i)"
      ],
      "execution_count": null,
      "outputs": []
    },
    {
      "cell_type": "markdown",
      "metadata": {
        "id": "LOdjPHaaw7Iw",
        "colab_type": "text"
      },
      "source": [
        "## List Comprehension"
      ]
    },
    {
      "cell_type": "code",
      "metadata": {
        "id": "ErsreUScvXqz",
        "colab_type": "code",
        "colab": {}
      },
      "source": [
        "# List Comprehension\n",
        "a = [i*i for i in range(1,11)]\n",
        "a"
      ],
      "execution_count": null,
      "outputs": []
    },
    {
      "cell_type": "code",
      "metadata": {
        "id": "zGOuGCq0v65b",
        "colab_type": "code",
        "colab": {}
      },
      "source": [
        "a = [i*i for i in range(1,11) if i%2==0]\n",
        "a"
      ],
      "execution_count": null,
      "outputs": []
    },
    {
      "cell_type": "code",
      "metadata": {
        "id": "rU6t0IeMwR-K",
        "colab_type": "code",
        "colab": {}
      },
      "source": [
        "a = [i*i for i in range(1,11) if i%2 !=0]\n",
        "a"
      ],
      "execution_count": null,
      "outputs": []
    },
    {
      "cell_type": "code",
      "metadata": {
        "id": "Ax2JCpnjwzUS",
        "colab_type": "code",
        "colab": {}
      },
      "source": [
        "# Exercise\n",
        "a = [i*i for i in range(1,19) if i%3!=0 and i%5!=0]\n",
        "a"
      ],
      "execution_count": null,
      "outputs": []
    },
    {
      "cell_type": "code",
      "metadata": {
        "id": "YEELcCi5z2II",
        "colab_type": "code",
        "colab": {}
      },
      "source": [
        "a = (i*i for i in range(1,19))\n",
        "a"
      ],
      "execution_count": null,
      "outputs": []
    },
    {
      "cell_type": "code",
      "metadata": {
        "id": "OaU5kjVx0pef",
        "colab_type": "code",
        "colab": {}
      },
      "source": [
        "tuple(i*i for i in (1, 2, 3))"
      ],
      "execution_count": null,
      "outputs": []
    },
    {
      "cell_type": "markdown",
      "metadata": {
        "id": "R4b-vmg3zwSZ",
        "colab_type": "text"
      },
      "source": [
        "## Set Comprehension"
      ]
    },
    {
      "cell_type": "code",
      "metadata": {
        "id": "2sPP08VfwjwJ",
        "colab_type": "code",
        "colab": {}
      },
      "source": [
        "a = {i*i for i in range(1,11)}\n",
        "a"
      ],
      "execution_count": null,
      "outputs": []
    },
    {
      "cell_type": "markdown",
      "metadata": {
        "id": "hDphvqJA0NGj",
        "colab_type": "text"
      },
      "source": [
        "## Dict Comprehension"
      ]
    },
    {
      "cell_type": "code",
      "metadata": {
        "id": "on8P31oOz3Om",
        "colab_type": "code",
        "colab": {}
      },
      "source": [
        "a = {i:i*i for i in range(1,11)}\n",
        "a"
      ],
      "execution_count": null,
      "outputs": []
    },
    {
      "cell_type": "code",
      "metadata": {
        "id": "i0CEo_d00KDT",
        "colab_type": "code",
        "colab": {}
      },
      "source": [
        "a[3]"
      ],
      "execution_count": null,
      "outputs": []
    },
    {
      "cell_type": "code",
      "metadata": {
        "id": "Ng5AVBFh0Yhi",
        "colab_type": "code",
        "colab": {}
      },
      "source": [
        "# Exercise\n",
        "\n",
        "a = \"Today is a good weather\"\n",
        "w = a.split()\n",
        "print(w)\n",
        "\n",
        "letter = [i[0] for i in w]\n",
        "letter = [counter[-1] for counter in w]\n",
        "letter"
      ],
      "execution_count": null,
      "outputs": []
    },
    {
      "cell_type": "code",
      "metadata": {
        "id": "ueXI_rJFPQ-1",
        "colab_type": "code",
        "colab": {}
      },
      "source": [
        "tuple(range(10,2,-1))"
      ],
      "execution_count": null,
      "outputs": []
    },
    {
      "cell_type": "code",
      "metadata": {
        "id": "4jviOM_xQJF8",
        "colab_type": "code",
        "colab": {}
      },
      "source": [
        "a=[1,2]\n",
        "b=[3,4] \n",
        "c=zip(b,a)\n",
        " \n",
        "print(c)\n",
        "list(c)\n"
      ],
      "execution_count": null,
      "outputs": []
    },
    {
      "cell_type": "code",
      "metadata": {
        "id": "2nHhM8XiRH6q",
        "colab_type": "code",
        "colab": {}
      },
      "source": [
        "a=10\n",
        "\n",
        "while(a>5):  \n",
        "  print(a)\n",
        "  a+= 1\n",
        "  \n",
        "\n"
      ],
      "execution_count": null,
      "outputs": []
    },
    {
      "cell_type": "code",
      "metadata": {
        "id": "Msnv1ypASWG4",
        "colab_type": "code",
        "colab": {
          "base_uri": "https://localhost:8080/",
          "height": 35
        },
        "outputId": "c455ee04-9913-4319-cb91-ee29b2d28503"
      },
      "source": [
        " def f(y,x=3):return x*y; \n",
        "\n",
        " f(4)\n"
      ],
      "execution_count": null,
      "outputs": [
        {
          "output_type": "execute_result",
          "data": {
            "text/plain": [
              "12"
            ]
          },
          "metadata": {
            "tags": []
          },
          "execution_count": 20
        }
      ]
    },
    {
      "cell_type": "markdown",
      "metadata": {
        "id": "ZzAiN7P93Xs4",
        "colab_type": "text"
      },
      "source": [
        "# Function"
      ]
    },
    {
      "cell_type": "code",
      "metadata": {
        "id": "VMjjCcCg1yUp",
        "colab_type": "code",
        "colab": {}
      },
      "source": [
        "def s(x):\n",
        "  return x*x"
      ],
      "execution_count": null,
      "outputs": []
    },
    {
      "cell_type": "code",
      "metadata": {
        "id": "GJWg5yHN57m6",
        "colab_type": "code",
        "colab": {
          "base_uri": "https://localhost:8080/",
          "height": 35
        },
        "outputId": "86605f94-c3f5-40a3-ec48-155dc182617f"
      },
      "source": [
        "s(3)"
      ],
      "execution_count": null,
      "outputs": [
        {
          "output_type": "execute_result",
          "data": {
            "text/plain": [
              "9"
            ]
          },
          "metadata": {
            "tags": []
          },
          "execution_count": 29
        }
      ]
    },
    {
      "cell_type": "code",
      "metadata": {
        "id": "_5FMoE6y59sS",
        "colab_type": "code",
        "colab": {
          "base_uri": "https://localhost:8080/",
          "height": 35
        },
        "outputId": "d6fd9322-8ae9-47d6-ac53-ca0b29164dc9"
      },
      "source": [
        "f(5)"
      ],
      "execution_count": null,
      "outputs": [
        {
          "output_type": "execute_result",
          "data": {
            "text/plain": [
              "25"
            ]
          },
          "metadata": {
            "tags": []
          },
          "execution_count": 25
        }
      ]
    },
    {
      "cell_type": "code",
      "metadata": {
        "id": "afJj1oBD6AOm",
        "colab_type": "code",
        "colab": {}
      },
      "source": [
        "def fare(dist):\n",
        "    dist = float(dist)\n",
        "    book=2.0\n",
        "    start=3.0\n",
        "    cost=1.0\n",
        "    calculatefare = book + start + (dist*cost)\n",
        "    return calculatefare\n",
        "    "
      ],
      "execution_count": null,
      "outputs": []
    },
    {
      "cell_type": "code",
      "metadata": {
        "id": "WJjzjSdU7pDC",
        "colab_type": "code",
        "colab": {
          "base_uri": "https://localhost:8080/",
          "height": 52
        },
        "outputId": "2fd45979-2135-4abc-b006-fe58a5153217"
      },
      "source": [
        "\n",
        "distance = input(\"Please enter distance = \")\n",
        "\n",
        "print(fare(distance))"
      ],
      "execution_count": null,
      "outputs": [
        {
          "output_type": "stream",
          "text": [
            "Please enter distance = 3\n",
            "8.0\n"
          ],
          "name": "stdout"
        }
      ]
    },
    {
      "cell_type": "markdown",
      "metadata": {
        "id": "mCeWZftpVFH5",
        "colab_type": "text"
      },
      "source": [
        "## Mutlple Outputs"
      ]
    },
    {
      "cell_type": "code",
      "metadata": {
        "id": "VEuGt6eF7r0m",
        "colab_type": "code",
        "colab": {}
      },
      "source": [
        "def f(x):\n",
        "    return x*x,2*x"
      ],
      "execution_count": null,
      "outputs": []
    },
    {
      "cell_type": "code",
      "metadata": {
        "id": "JoknEzbg75xh",
        "colab_type": "code",
        "colab": {
          "base_uri": "https://localhost:8080/",
          "height": 35
        },
        "outputId": "e5c56dd0-2e9e-442a-bf09-4b94916a4eab"
      },
      "source": [
        "f(5)"
      ],
      "execution_count": null,
      "outputs": [
        {
          "output_type": "stream",
          "text": [
            "hello\n"
          ],
          "name": "stdout"
        }
      ]
    },
    {
      "cell_type": "code",
      "metadata": {
        "id": "i5EB4gvV-Urs",
        "colab_type": "code",
        "colab": {}
      },
      "source": [
        "# Exercise\n",
        "\n",
        "def grocery(f_order):\n",
        "    f_discount = 25 if f_order > 200 else 0\n",
        "    f_disc_amt = f_discount*f_order/100\n",
        "    f_tax = 0.07*(f_order - f_disc_amt)\n",
        "    return f_disc_amt, f_tax\n"
      ],
      "execution_count": null,
      "outputs": []
    },
    {
      "cell_type": "code",
      "metadata": {
        "id": "3y4ja-K9Ban5",
        "colab_type": "code",
        "colab": {
          "base_uri": "https://localhost:8080/",
          "height": 69
        },
        "outputId": "71d9d9f9-8701-4afb-fc59-02bfad1a8d51"
      },
      "source": [
        "order = input('How much is your order = ')\n",
        "order = float(order)\n",
        "\n",
        "discount,tax = grocery(order)\n",
        "\n",
        "print('The discount is ${}'.format(discount))\n",
        "print('The tax is ${}'.format(round(tax,2)))"
      ],
      "execution_count": null,
      "outputs": [
        {
          "output_type": "stream",
          "text": [
            "How much is your order = 3\n",
            "The discount is $0.0\n",
            "The tax is $0.21\n"
          ],
          "name": "stdout"
        }
      ]
    },
    {
      "cell_type": "markdown",
      "metadata": {
        "id": "xVsgS0exV8CG",
        "colab_type": "text"
      },
      "source": [
        "## Multiple Arguments"
      ]
    },
    {
      "cell_type": "code",
      "metadata": {
        "id": "a3EhxW9rBmjZ",
        "colab_type": "code",
        "colab": {}
      },
      "source": [
        "def f(x,y):\n",
        "    return x*y"
      ],
      "execution_count": null,
      "outputs": []
    },
    {
      "cell_type": "code",
      "metadata": {
        "id": "Tn5zzRqCEam5",
        "colab_type": "code",
        "colab": {}
      },
      "source": [
        "f(2,3)"
      ],
      "execution_count": null,
      "outputs": []
    },
    {
      "cell_type": "code",
      "metadata": {
        "id": "GF9yN_gEEdQ9",
        "colab_type": "code",
        "colab": {}
      },
      "source": [
        "f(2)"
      ],
      "execution_count": null,
      "outputs": []
    },
    {
      "cell_type": "markdown",
      "metadata": {
        "id": "8d_R1QEiWEdA",
        "colab_type": "text"
      },
      "source": [
        "## Default Argument"
      ]
    },
    {
      "cell_type": "code",
      "metadata": {
        "id": "w_6RLxgSEmCp",
        "colab_type": "code",
        "colab": {}
      },
      "source": [
        "def f(x,y=3):\n",
        "    return x*y"
      ],
      "execution_count": null,
      "outputs": []
    },
    {
      "cell_type": "code",
      "metadata": {
        "id": "qXCSf5rYEtvN",
        "colab_type": "code",
        "colab": {
          "base_uri": "https://localhost:8080/",
          "height": 35
        },
        "outputId": "826c550a-3109-4ecb-c12b-d450d0ea38ac"
      },
      "source": [
        "f(2)"
      ],
      "execution_count": null,
      "outputs": [
        {
          "output_type": "execute_result",
          "data": {
            "text/plain": [
              "6"
            ]
          },
          "metadata": {
            "tags": []
          },
          "execution_count": 84
        }
      ]
    },
    {
      "cell_type": "code",
      "metadata": {
        "id": "gwLloVffExZx",
        "colab_type": "code",
        "colab": {}
      },
      "source": [
        "def f(x=3,y=3):\n",
        "    return x*y"
      ],
      "execution_count": null,
      "outputs": []
    },
    {
      "cell_type": "code",
      "metadata": {
        "id": "pMR_OsBsE8rF",
        "colab_type": "code",
        "colab": {}
      },
      "source": [
        "f()"
      ],
      "execution_count": null,
      "outputs": []
    },
    {
      "cell_type": "code",
      "metadata": {
        "id": "H8cnwItpFATi",
        "colab_type": "code",
        "colab": {}
      },
      "source": [
        "f(y=5)"
      ],
      "execution_count": null,
      "outputs": []
    },
    {
      "cell_type": "markdown",
      "metadata": {
        "id": "GF6XlLwIWNNN",
        "colab_type": "text"
      },
      "source": [
        "## Variable Argument"
      ]
    },
    {
      "cell_type": "code",
      "metadata": {
        "id": "R2pWIop9FEjP",
        "colab_type": "code",
        "colab": {}
      },
      "source": [
        "def sum(a,*b):\n",
        "    sum = a\n",
        "    for i in b:\n",
        "        print(i)\n",
        "        sum = sum + i\n",
        "    return sum"
      ],
      "execution_count": null,
      "outputs": []
    },
    {
      "cell_type": "code",
      "metadata": {
        "id": "nK3BDxUvFdZ9",
        "colab_type": "code",
        "colab": {
          "base_uri": "https://localhost:8080/",
          "height": 69
        },
        "outputId": "04bbca49-7978-4aed-c5c4-e9a461cd8c1e"
      },
      "source": [
        "sum(2,3,4)"
      ],
      "execution_count": null,
      "outputs": [
        {
          "output_type": "stream",
          "text": [
            "3\n",
            "4\n"
          ],
          "name": "stdout"
        },
        {
          "output_type": "execute_result",
          "data": {
            "text/plain": [
              "9"
            ]
          },
          "metadata": {
            "tags": []
          },
          "execution_count": 105
        }
      ]
    },
    {
      "cell_type": "code",
      "metadata": {
        "id": "s9cmTvnxFff6",
        "colab_type": "code",
        "colab": {}
      },
      "source": [
        "# Exercise\n",
        "\n",
        "def min(a,*b):\n",
        "    m = a\n",
        "    for i in b:\n",
        "        if i<m: m=i\n",
        "    return m"
      ],
      "execution_count": null,
      "outputs": []
    },
    {
      "cell_type": "code",
      "metadata": {
        "id": "qZKPDuX4IbCF",
        "colab_type": "code",
        "colab": {}
      },
      "source": [
        "min(7,4,8,9,10)"
      ],
      "execution_count": null,
      "outputs": []
    },
    {
      "cell_type": "markdown",
      "metadata": {
        "id": "SxBroH_N4l7Q",
        "colab_type": "text"
      },
      "source": [
        "## Lambda Function"
      ]
    },
    {
      "cell_type": "code",
      "metadata": {
        "id": "ocEHK7xWIebs",
        "colab_type": "code",
        "colab": {}
      },
      "source": [
        "def f(x):\n",
        "    return x*x\n"
      ],
      "execution_count": null,
      "outputs": []
    },
    {
      "cell_type": "code",
      "metadata": {
        "id": "UvGnInAOpaTW",
        "colab_type": "code",
        "colab": {}
      },
      "source": [
        "a = lambda x:x*x"
      ],
      "execution_count": null,
      "outputs": []
    },
    {
      "cell_type": "code",
      "metadata": {
        "id": "MOieFiFOyDOh",
        "colab_type": "code",
        "colab": {
          "base_uri": "https://localhost:8080/",
          "height": 35
        },
        "outputId": "c3d24c57-9c15-4a9c-d509-0a2bffd200ab"
      },
      "source": [
        "print(a)"
      ],
      "execution_count": null,
      "outputs": [
        {
          "output_type": "stream",
          "text": [
            "<function <lambda> at 0x7f6a27604b70>\n"
          ],
          "name": "stdout"
        }
      ]
    },
    {
      "cell_type": "code",
      "metadata": {
        "id": "Mwiq-ugZzSSD",
        "colab_type": "code",
        "colab": {}
      },
      "source": [
        "# Exercise\n",
        "\n",
        "f = lambda f_x,f_y: 10*f_x+f_y\n",
        "\n",
        "def g(g_x,g_y=0):\n",
        "    return lambda f_x,f_y: 10*f_x+f_y\n"
      ],
      "execution_count": null,
      "outputs": []
    },
    {
      "cell_type": "code",
      "metadata": {
        "id": "LhsEWo9S0uFr",
        "colab_type": "code",
        "colab": {
          "base_uri": "https://localhost:8080/",
          "height": 35
        },
        "outputId": "4bd971d1-0d11-4a70-a561-aa64aa704e89"
      },
      "source": [
        "x=4\n",
        "y=0\n",
        "\n",
        "g(f,x)"
      ],
      "execution_count": null,
      "outputs": [
        {
          "output_type": "execute_result",
          "data": {
            "text/plain": [
              "40"
            ]
          },
          "metadata": {
            "tags": []
          },
          "execution_count": 120
        }
      ]
    },
    {
      "cell_type": "markdown",
      "metadata": {
        "id": "LAH9rbHtWVf3",
        "colab_type": "text"
      },
      "source": [
        "## Map"
      ]
    },
    {
      "cell_type": "code",
      "metadata": {
        "id": "RYjJ6li005TV",
        "colab_type": "code",
        "colab": {
          "base_uri": "https://localhost:8080/",
          "height": 35
        },
        "outputId": "319a777a-3a32-4579-c866-afabc0e5fc5b"
      },
      "source": [
        "a = [1,2,3,4]\n",
        "\n",
        "b = map(lambda x:2*x, a)\n",
        "list(b)"
      ],
      "execution_count": null,
      "outputs": [
        {
          "output_type": "execute_result",
          "data": {
            "text/plain": [
              "[2, 4, 6, 8]"
            ]
          },
          "metadata": {
            "tags": []
          },
          "execution_count": 123
        }
      ]
    },
    {
      "cell_type": "code",
      "metadata": {
        "id": "EPHqJ3Z11Ye7",
        "colab_type": "code",
        "colab": {}
      },
      "source": [
        "# Exercise\n",
        "\n",
        "f = lambda x,y:10*x+y\n",
        "x = [0,1,2,3]\n",
        "y = [2,4,6,8]\n"
      ],
      "execution_count": null,
      "outputs": []
    },
    {
      "cell_type": "code",
      "metadata": {
        "id": "8QzyCygu4H9x",
        "colab_type": "code",
        "colab": {
          "base_uri": "https://localhost:8080/",
          "height": 35
        },
        "outputId": "a769d794-0049-42a9-bd8a-8ba895d1ec4f"
      },
      "source": [
        "b = map(f,x,y)\n",
        "list(b)"
      ],
      "execution_count": null,
      "outputs": [
        {
          "output_type": "execute_result",
          "data": {
            "text/plain": [
              "[2, 14, 26, 38]"
            ]
          },
          "metadata": {
            "tags": []
          },
          "execution_count": 126
        }
      ]
    },
    {
      "cell_type": "markdown",
      "metadata": {
        "id": "6HnBRerQ6p_-",
        "colab_type": "text"
      },
      "source": [
        "## Filter"
      ]
    },
    {
      "cell_type": "code",
      "metadata": {
        "id": "sgWRwY4N4K2-",
        "colab_type": "code",
        "colab": {
          "base_uri": "https://localhost:8080/",
          "height": 35
        },
        "outputId": "29f6006f-acec-4fb7-84ac-3f13514da75e"
      },
      "source": [
        "a = [1,2,3,4,5,6,7,8]\n",
        "\n",
        "b = filter(lambda x:x>3,a)\n",
        "list(b)"
      ],
      "execution_count": null,
      "outputs": [
        {
          "output_type": "execute_result",
          "data": {
            "text/plain": [
              "[4, 5, 6, 7, 8]"
            ]
          },
          "metadata": {
            "tags": []
          },
          "execution_count": 128
        }
      ]
    },
    {
      "cell_type": "code",
      "metadata": {
        "id": "3_pkTkKd4-_E",
        "colab_type": "code",
        "colab": {}
      },
      "source": [
        "# Exercise\n",
        "x = [0,1,-4, 2,-6,3]\n",
        "\n",
        "b = filter(lambda x:x>=0,x)\n",
        "list(b)"
      ],
      "execution_count": null,
      "outputs": []
    },
    {
      "cell_type": "markdown",
      "metadata": {
        "id": "cNMFXRHl7bou",
        "colab_type": "text"
      },
      "source": [
        "# Topic 6 Modules and Packages"
      ]
    },
    {
      "cell_type": "code",
      "metadata": {
        "id": "EViZ78gG6enc",
        "colab_type": "code",
        "colab": {}
      },
      "source": [
        "import math"
      ],
      "execution_count": null,
      "outputs": []
    },
    {
      "cell_type": "code",
      "metadata": {
        "id": "vBEZtFZU7odJ",
        "colab_type": "code",
        "colab": {
          "base_uri": "https://localhost:8080/",
          "height": 35
        },
        "outputId": "89649be2-6b50-4cd0-f78f-605153a9cba2"
      },
      "source": [
        "math.sin(0.5)"
      ],
      "execution_count": null,
      "outputs": [
        {
          "output_type": "execute_result",
          "data": {
            "text/plain": [
              "0.479425538604203"
            ]
          },
          "metadata": {
            "tags": []
          },
          "execution_count": 2
        }
      ]
    },
    {
      "cell_type": "code",
      "metadata": {
        "id": "wCcIOx6U7uRC",
        "colab_type": "code",
        "colab": {
          "base_uri": "https://localhost:8080/",
          "height": 35
        },
        "outputId": "06c5a6fe-ff67-429c-85e2-8db414113f70"
      },
      "source": [
        "math.pi"
      ],
      "execution_count": null,
      "outputs": [
        {
          "output_type": "execute_result",
          "data": {
            "text/plain": [
              "3.141592653589793"
            ]
          },
          "metadata": {
            "tags": []
          },
          "execution_count": 3
        }
      ]
    },
    {
      "cell_type": "code",
      "metadata": {
        "id": "sYrneig47yE-",
        "colab_type": "code",
        "colab": {
          "base_uri": "https://localhost:8080/",
          "height": 35
        },
        "outputId": "f2188a8c-908d-4d3b-a040-7c30e7180e94"
      },
      "source": [
        "import math as m\n",
        "\n",
        "m.sin(0.5)"
      ],
      "execution_count": null,
      "outputs": [
        {
          "output_type": "execute_result",
          "data": {
            "text/plain": [
              "0.479425538604203"
            ]
          },
          "metadata": {
            "tags": []
          },
          "execution_count": 4
        }
      ]
    },
    {
      "cell_type": "code",
      "metadata": {
        "id": "55mStyaN8Jra",
        "colab_type": "code",
        "colab": {}
      },
      "source": [
        "from math import *\n",
        "\n",
        "sin(0.5)"
      ],
      "execution_count": null,
      "outputs": []
    },
    {
      "cell_type": "code",
      "metadata": {
        "id": "fnboycpy8Rd9",
        "colab_type": "code",
        "colab": {}
      },
      "source": [
        "from math import sin,pi\n",
        "\n",
        "sin(pi/2)"
      ],
      "execution_count": null,
      "outputs": []
    },
    {
      "cell_type": "code",
      "metadata": {
        "id": "gOjMlCeD8cjU",
        "colab_type": "code",
        "colab": {}
      },
      "source": [
        "import time\n",
        "\n",
        "print(sin(pi/2))\n",
        "time.sleep(10)\n",
        "print(cos(pi/2))"
      ],
      "execution_count": null,
      "outputs": []
    },
    {
      "cell_type": "code",
      "metadata": {
        "id": "x-NuJacV86CI",
        "colab_type": "code",
        "colab": {}
      },
      "source": [
        "import random"
      ],
      "execution_count": null,
      "outputs": []
    },
    {
      "cell_type": "code",
      "metadata": {
        "id": "PU0xvjTc9zjj",
        "colab_type": "code",
        "colab": {
          "base_uri": "https://localhost:8080/",
          "height": 35
        },
        "outputId": "c4e4f8ba-7848-46a3-ac5b-b3ff8c027363"
      },
      "source": [
        "die = random.choice([1,2,3,4,5,6])\n",
        "die"
      ],
      "execution_count": null,
      "outputs": [
        {
          "output_type": "execute_result",
          "data": {
            "text/plain": [
              "5"
            ]
          },
          "metadata": {
            "tags": []
          },
          "execution_count": 7
        }
      ]
    },
    {
      "cell_type": "code",
      "metadata": {
        "id": "hIZtxtlH92Pb",
        "colab_type": "code",
        "colab": {}
      },
      "source": [
        "import urllib.request\n",
        "with urllib.request.urlopen('http://python.org/') as f:\n",
        "   html = f.read()"
      ],
      "execution_count": null,
      "outputs": []
    },
    {
      "cell_type": "code",
      "metadata": {
        "id": "SHtx1JxA-Pk5",
        "colab_type": "code",
        "colab": {}
      },
      "source": [
        "print(html)"
      ],
      "execution_count": null,
      "outputs": []
    },
    {
      "cell_type": "markdown",
      "metadata": {
        "id": "hxuq2dzNN0u1",
        "colab_type": "text"
      },
      "source": [
        "## Numpy Demo"
      ]
    },
    {
      "cell_type": "code",
      "metadata": {
        "id": "J9IdbhHxEVYw",
        "colab_type": "code",
        "colab": {}
      },
      "source": [
        "import numpy as np"
      ],
      "execution_count": null,
      "outputs": []
    },
    {
      "cell_type": "code",
      "metadata": {
        "id": "ImKt6RTFJpwD",
        "colab_type": "code",
        "colab": {
          "base_uri": "https://localhost:8080/",
          "height": 35
        },
        "outputId": "f2b0c6df-7c6a-46da-f4bf-093975288646"
      },
      "source": [
        "a = [3,4,5,6]\n",
        "b = [6,5,4,3]\n",
        "a+b\n",
        "#a-b"
      ],
      "execution_count": null,
      "outputs": [
        {
          "output_type": "execute_result",
          "data": {
            "text/plain": [
              "[3, 4, 5, 6, 6, 5, 4, 3]"
            ]
          },
          "metadata": {
            "tags": []
          },
          "execution_count": 10
        }
      ]
    },
    {
      "cell_type": "code",
      "metadata": {
        "id": "j5GtrKYEKN1O",
        "colab_type": "code",
        "colab": {
          "base_uri": "https://localhost:8080/",
          "height": 35
        },
        "outputId": "ef3e963a-0ad9-4d40-8dc9-065660426c21"
      },
      "source": [
        "a1 = np.array(a)\n",
        "b1 = np.array(b)\n",
        "a1+b1\n",
        "#a1-b1"
      ],
      "execution_count": null,
      "outputs": [
        {
          "output_type": "execute_result",
          "data": {
            "text/plain": [
              "array([9, 9, 9, 9])"
            ]
          },
          "metadata": {
            "tags": []
          },
          "execution_count": 12
        }
      ]
    },
    {
      "cell_type": "markdown",
      "metadata": {
        "id": "CLpTBrw_Npvf",
        "colab_type": "text"
      },
      "source": [
        "## Matplotlib Demo"
      ]
    },
    {
      "cell_type": "code",
      "metadata": {
        "id": "C-M1lVjFKXs3",
        "colab_type": "code",
        "colab": {
          "base_uri": "https://localhost:8080/",
          "height": 283
        },
        "outputId": "c106dc2a-23af-4eb6-dcde-a96e9d02cdfa"
      },
      "source": [
        "import matplotlib.pyplot as plt\n",
        "\n",
        "x = np.linspace(0,4*np.pi,200)\n",
        "y = np.sin(x)\n",
        "plt.plot(x,y)"
      ],
      "execution_count": null,
      "outputs": [
        {
          "output_type": "execute_result",
          "data": {
            "text/plain": [
              "[<matplotlib.lines.Line2D at 0x7fb6aaf54470>]"
            ]
          },
          "metadata": {
            "tags": []
          },
          "execution_count": 13
        },
        {
          "output_type": "display_data",
          "data": {
            "image/png": "[encoded data removed]",
            "text/plain": [
              "<Figure size 432x288 with 1 Axes>"
            ]
          },
          "metadata": {
            "tags": [],
            "needs_background": "light"
          }
        }
      ]
    },
    {
      "cell_type": "code",
      "metadata": {
        "id": "Y3tACf9PPJjs",
        "colab_type": "code",
        "colab": {
          "base_uri": "https://localhost:8080/",
          "height": 452
        },
        "outputId": "4da71fa8-bac3-4cf2-be8b-96ad627e0634"
      },
      "source": [
        "import matplotlib.pyplot as plt; plt.rcdefaults()\n",
        "import numpy as np\n",
        "import matplotlib.pyplot as plt\n",
        "\n",
        "objects = ('Python', 'C++', 'Java', 'Perl', 'Scala', 'Lisp')\n",
        "y_pos = np.arange(len(objects))\n",
        "performance = [10,8,6,4,2,1]\n",
        "\n",
        "plt.bar(y_pos, performance, align='center', alpha=0.5)\n",
        "plt.xticks(y_pos, objects)\n",
        "plt.ylabel('Usage')\n",
        "plt.title('Programming language usage')\n",
        "\n",
        "plt.show()"
      ],
      "execution_count": null,
      "outputs": [
        {
          "output_type": "display_data",
          "data": {
            "image/png": "[encoded data removed]",
            "text/plain": [
              "<Figure size 640x480 with 1 Axes>"
            ]
          },
          "metadata": {
            "tags": []
          }
        }
      ]
    },
    {
      "cell_type": "code",
      "metadata": {
        "id": "8zoxIJw9Lf8C",
        "colab_type": "code",
        "colab": {}
      },
      "source": [
        "- Write a Python function to compute taxi value\n",
        "        - booking fee is $3.0\n",
        "        - starting fee is $2.0\n",
        "        - cost per km is $2 for first 5km\n",
        "        - cost per km is $1.50 from 5km to 10 km\n",
        "        - cost per km is $1.00 after 10km\n",
        "        - if the age is > 60 years old, give 10% discount\n",
        "- Display the result as \"<name>, your tax fare is  is <fare  value in 1 decimal place\"\n",
        "Example "
      ],
      "execution_count": null,
      "outputs": []
    },
    {
      "cell_type": "markdown",
      "metadata": {
        "id": "Hxd7Ul_fZoF5",
        "colab_type": "text"
      },
      "source": [
        "# Practice Session"
      ]
    },
    {
      "cell_type": "code",
      "metadata": {
        "id": "Oni59tI_U0IZ",
        "colab_type": "code",
        "colab": {}
      },
      "source": [
        "def fare():\n",
        "\n",
        "    name = input('Your name = ')\n",
        "    d = input('Distance travelled = ')\n",
        "    d = float(d)\n",
        "    age = input('Your age = ')\n",
        "    age = int(age)\n",
        "\n",
        "    if d<5: cost=2.0*d\n",
        "    if d>=5 and d<10: cost=2.0*5+1.5*(d-5)\n",
        "    if d>=10: cost= 2.0*5+1.5*5+1.0*(d-10)\n",
        "        \n",
        "    book=3.0\n",
        "    start=2.0\n",
        "    fare=book+start+cost\n",
        "    \n",
        "    if age>=70: fare=0.9*fare\n",
        "        \n",
        "    fare=round(fare,1)\n",
        "    print('{}, your taxi fare is ${}'.format(name.capitalize(), fare))\n",
        "    return\n",
        "  "
      ],
      "execution_count": null,
      "outputs": []
    },
    {
      "cell_type": "code",
      "metadata": {
        "id": "EE--7q0eZH5N",
        "colab_type": "code",
        "colab": {
          "base_uri": "https://localhost:8080/",
          "height": 323
        },
        "outputId": "be7bd056-64b9-4a40-b0e2-a4445fe3a14f"
      },
      "source": [
        "fare()\n"
      ],
      "execution_count": null,
      "outputs": [
        {
          "output_type": "stream",
          "text": [
            "Your name = aaa\n",
            "Distance travelled = dfasd\n"
          ],
          "name": "stdout"
        },
        {
          "output_type": "error",
          "ename": "ValueError",
          "evalue": "ignored",
          "traceback": [
            "\u001b[0;31m---------------------------------------------------------------------------\u001b[0m",
            "\u001b[0;31mValueError\u001b[0m                                Traceback (most recent call last)",
            "\u001b[0;32m<ipython-input-38-15d9a6aec1e3>\u001b[0m in \u001b[0;36m<module>\u001b[0;34m()\u001b[0m\n\u001b[0;32m----> 1\u001b[0;31m \u001b[0mfare\u001b[0m\u001b[0;34m(\u001b[0m\u001b[0;34m)\u001b[0m\u001b[0;34m\u001b[0m\u001b[0;34m\u001b[0m\u001b[0m\n\u001b[0m",
            "\u001b[0;32m<ipython-input-36-510ff66e4ecb>\u001b[0m in \u001b[0;36mfare\u001b[0;34m()\u001b[0m\n\u001b[1;32m      3\u001b[0m     \u001b[0mname\u001b[0m \u001b[0;34m=\u001b[0m \u001b[0minput\u001b[0m\u001b[0;34m(\u001b[0m\u001b[0;34m'Your name = '\u001b[0m\u001b[0;34m)\u001b[0m\u001b[0;34m\u001b[0m\u001b[0;34m\u001b[0m\u001b[0m\n\u001b[1;32m      4\u001b[0m     \u001b[0md\u001b[0m \u001b[0;34m=\u001b[0m \u001b[0minput\u001b[0m\u001b[0;34m(\u001b[0m\u001b[0;34m'Distance travelled = '\u001b[0m\u001b[0;34m)\u001b[0m\u001b[0;34m\u001b[0m\u001b[0;34m\u001b[0m\u001b[0m\n\u001b[0;32m----> 5\u001b[0;31m     \u001b[0md\u001b[0m \u001b[0;34m=\u001b[0m \u001b[0mfloat\u001b[0m\u001b[0;34m(\u001b[0m\u001b[0md\u001b[0m\u001b[0;34m)\u001b[0m\u001b[0;34m\u001b[0m\u001b[0;34m\u001b[0m\u001b[0m\n\u001b[0m\u001b[1;32m      6\u001b[0m     \u001b[0mage\u001b[0m \u001b[0;34m=\u001b[0m \u001b[0minput\u001b[0m\u001b[0;34m(\u001b[0m\u001b[0;34m'Your age = '\u001b[0m\u001b[0;34m)\u001b[0m\u001b[0;34m\u001b[0m\u001b[0;34m\u001b[0m\u001b[0m\n\u001b[1;32m      7\u001b[0m     \u001b[0mage\u001b[0m \u001b[0;34m=\u001b[0m \u001b[0mint\u001b[0m\u001b[0;34m(\u001b[0m\u001b[0mage\u001b[0m\u001b[0;34m)\u001b[0m\u001b[0;34m\u001b[0m\u001b[0;34m\u001b[0m\u001b[0m\n",
            "\u001b[0;31mValueError\u001b[0m: could not convert string to float: 'dfasd'"
          ]
        }
      ]
    },
    {
      "cell_type": "code",
      "metadata": {
        "id": "ZnU4RPYQc1nW",
        "colab_type": "code",
        "colab": {
          "base_uri": "https://localhost:8080/",
          "height": 69
        },
        "outputId": "bb389f23-5b44-468e-c3bc-68c1931f64fb"
      },
      "source": [
        "try:\n",
        "    fare()\n",
        "except:\n",
        "   print (\"Error!\")"
      ],
      "execution_count": null,
      "outputs": [
        {
          "output_type": "stream",
          "text": [
            "Your name = aaaa\n",
            "Distance travelled = dfadfasdf\n",
            "Error!\n"
          ],
          "name": "stdout"
        }
      ]
    },
    {
      "cell_type": "code",
      "metadata": {
        "id": "Mg_6tPBVZUeq",
        "colab_type": "code",
        "colab": {}
      },
      "source": [
        ""
      ],
      "execution_count": null,
      "outputs": []
    }
  ]
}