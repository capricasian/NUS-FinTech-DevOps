{
 "cells": [
  {
   "cell_type": "code",
   "execution_count": 3,
   "metadata": {
    "colab": {
     "base_uri": "https://localhost:8080/",
     "height": 68
    },
    "colab_type": "code",
    "id": "OBLyLzhsZluD",
    "outputId": "8d58b1ff-08e7-4598-d6af-06a648e60df0"
   },
   "outputs": [
    {
     "name": "stdout",
     "output_type": "stream",
     "text": [
      "welcome\n",
      "good effort\n",
      "test piece\n"
     ]
    }
   ],
   "source": [
    "print(\"welcome\")\n",
    "print(\"good effort\")\n",
    "print('test piece')"
   ]
  },
  {
   "cell_type": "code",
   "execution_count": 5,
   "metadata": {
    "colab": {
     "base_uri": "https://localhost:8080/",
     "height": 34
    },
    "colab_type": "code",
    "id": "0fFN0HtqZssm",
    "outputId": "28340529-7797-4ab0-995f-8227fb0087be"
   },
   "outputs": [
    {
     "name": "stdout",
     "output_type": "stream",
     "text": [
      "hello world\n"
     ]
    }
   ],
   "source": [
    "# comment\n",
    "# another comment\n",
    "print(\"hello world\")"
   ]
  },
  {
   "cell_type": "code",
   "execution_count": 7,
   "metadata": {
    "colab": {
     "base_uri": "https://localhost:8080/",
     "height": 51
    },
    "colab_type": "code",
    "id": "VhwH2z9Iaa3S",
    "outputId": "ea0de5dd-2928-4219-b77d-be4d5fda0fce"
   },
   "outputs": [
    {
     "name": "stdout",
     "output_type": "stream",
     "text": [
      "welcome X\n",
      "good effort\n"
     ]
    }
   ],
   "source": [
    "# Author: Prof X\n",
    "# Last revision date: 2020-07-16\n",
    "print(\"welcome X\")\n",
    "print(\"good effort\") # really simple"
   ]
  },
  {
   "cell_type": "code",
   "execution_count": 11,
   "metadata": {
    "colab": {
     "base_uri": "https://localhost:8080/",
     "height": 34
    },
    "colab_type": "code",
    "id": "JYMlg3rIatlO",
    "outputId": "27de0f6c-2800-45a9-a959-3627d17d7d4e"
   },
   "outputs": [
    {
     "name": "stdout",
     "output_type": "stream",
     "text": [
      "3\n"
     ]
    }
   ],
   "source": [
    "a=1\n",
    "b=2\n",
    "print(a+b)"
   ]
  },
  {
   "cell_type": "code",
   "execution_count": 14,
   "metadata": {
    "colab": {
     "base_uri": "https://localhost:8080/",
     "height": 34
    },
    "colab_type": "code",
    "id": "UETkqqnwb7vV",
    "outputId": "3de74ae9-e24d-415f-8d8c-e3c71b1623a8"
   },
   "outputs": [
    {
     "name": "stdout",
     "output_type": "stream",
     "text": [
      "2 3\n"
     ]
    }
   ],
   "source": [
    "a,b = 1,2\n",
    "a,b = b,a+b\n",
    "print(a,b)"
   ]
  },
  {
   "cell_type": "code",
   "execution_count": 20,
   "metadata": {
    "colab": {
     "base_uri": "https://localhost:8080/",
     "height": 68
    },
    "colab_type": "code",
    "id": "fmkZbaACdozn",
    "outputId": "ed100eab-f7ac-404c-b296-2c5e666927d2"
   },
   "outputs": [
    {
     "name": "stdout",
     "output_type": "stream",
     "text": [
      "7 -2 3.14159\n",
      "-2 3.14159 7\n",
      "<class 'int'> <class 'int'> <class 'float'>\n"
     ]
    }
   ],
   "source": [
    "a,b,c = 7,-2,3.14159\n",
    "print(a,b,c)\n",
    "print(b,c,a)\n",
    "print(type(a),type(b),type(c)) # enquire on data type"
   ]
  },
  {
   "cell_type": "code",
   "execution_count": 33,
   "metadata": {
    "colab": {
     "base_uri": "https://localhost:8080/",
     "height": 51
    },
    "colab_type": "code",
    "id": "HVT5JIUwd_0D",
    "outputId": "35ce7c65-89bb-4250-feca-394b1639fa79"
   },
   "outputs": [
    {
     "name": "stdout",
     "output_type": "stream",
     "text": [
      "3.46 + 4.00 = 7.46 \n",
      " 3.46 +  4.00 =  7.46 \n"
     ]
    }
   ],
   "source": [
    "a=3.4567; b=4; c=a+b\n",
    "# print(\"{} + {} = {} \".format(a,b,c)) # braces are placeholders\n",
    "# print(\"{1} + {0} = {2}\".format(a,b,c))\n",
    "# print(\"{:.2f} + {:.2f} = {:.2f} \".format(a,b,c))\n",
    "print(\"{0:.2f} + {1:.2f} = {2:.2f} \".format(a,b,c))\n",
    "print(\"{0:5.2f} + {1:5.2f} = {2:5.2f} \".format(a,b,c)) # second parameter number of characters"
   ]
  },
  {
   "cell_type": "code",
   "execution_count": 37,
   "metadata": {
    "colab": {
     "base_uri": "https://localhost:8080/",
     "height": 34
    },
    "colab_type": "code",
    "id": "u1BoaDaMj9i2",
    "outputId": "219ac1eb-1bcd-4cb5-d089-78a1fff6bd07"
   },
   "outputs": [
    {
     "name": "stdout",
     "output_type": "stream",
     "text": [
      "5.55 + 6.67 + 4.4 = 17\n"
     ]
    }
   ],
   "source": [
    "a=4.444\n",
    "b=5.555\n",
    "c=6.6666\n",
    "d=a+b+c\n",
    "print(\"{1:.2f} + {2:.2f} + {0:.1f} = {3:.0f}\".format(a,b,c,d))"
   ]
  },
  {
   "cell_type": "code",
   "execution_count": 45,
   "metadata": {
    "colab": {
     "base_uri": "https://localhost:8080/",
     "height": 119
    },
    "colab_type": "code",
    "id": "xIxPKPCEmRU8",
    "outputId": "fa62d35a-e246-40e0-d7f9-2b0a6177dfcd"
   },
   "outputs": [
    {
     "name": "stdout",
     "output_type": "stream",
     "text": [
      "Hello World!\n",
      "<class 'str'>\n",
      "HELLO WORLD!\n",
      "hello world!\n",
      "Hello world!\n",
      "Hello Alfred!\n"
     ]
    }
   ],
   "source": [
    "a='Hello';b='World!'\n",
    "c=a+\" \"+b #concatenation\n",
    "print(c)\n",
    "print(type(c))\n",
    "print(c.upper())\n",
    "print(c.lower())\n",
    "print(c.capitalize())\n",
    "print(c.replace('World','Alfred'))"
   ]
  },
  {
   "cell_type": "code",
   "execution_count": 49,
   "metadata": {
    "colab": {
     "base_uri": "https://localhost:8080/",
     "height": 51
    },
    "colab_type": "code",
    "id": "vYoQVpU0msF0",
    "outputId": "917f70f6-d9e1-480f-dbef-a55accae764c"
   },
   "outputs": [
    {
     "name": "stdout",
     "output_type": "stream",
     "text": [
      "My name is Alfred and my height is 168cm.\n",
      "My name is 168cm and my height is Alfred.\n"
     ]
    }
   ],
   "source": [
    "name=\"Alfred\"\n",
    "height=\"168cm\"\n",
    "print(\"My name is {} and my height is {}.\".format(name,height))\n",
    "print(\"My name is {1} and my height is {0}.\".format(name,height))"
   ]
  },
  {
   "cell_type": "code",
   "execution_count": 51,
   "metadata": {
    "colab": {
     "base_uri": "https://localhost:8080/",
     "height": 34
    },
    "colab_type": "code",
    "id": "UUcWm48joXlw",
    "outputId": "41836736-5092-4555-a4fb-e091ca851785"
   },
   "outputs": [
    {
     "name": "stdout",
     "output_type": "stream",
     "text": [
      "The capital of FRANCE is Paris.\n"
     ]
    }
   ],
   "source": [
    "country=\"france\"\n",
    "capital=\"paris\"\n",
    "print(\"The capital of {} is {}.\".format(country.upper(),capital.capitalize()))"
   ]
  },
  {
   "cell_type": "code",
   "execution_count": 55,
   "metadata": {
    "colab": {
     "base_uri": "https://localhost:8080/",
     "height": 34
    },
    "colab_type": "code",
    "id": "SkgvINn4pcOp",
    "outputId": "6d397bf6-7432-4895-b14d-e02317eac13a"
   },
   "outputs": [
    {
     "name": "stdout",
     "output_type": "stream",
     "text": [
      "Hell oWorld\n"
     ]
    }
   ],
   "source": [
    "a='   Hell o  '.strip()\n",
    "b='World'\n",
    "print(a+b)"
   ]
  },
  {
   "cell_type": "code",
   "execution_count": 58,
   "metadata": {
    "colab": {
     "base_uri": "https://localhost:8080/",
     "height": 51
    },
    "colab_type": "code",
    "id": "RnN8EsCcqNr-",
    "outputId": "7f8df3d1-f2fc-4ea1-da4a-e92d0528f5bf"
   },
   "outputs": [
    {
     "name": "stdout",
     "output_type": "stream",
     "text": [
      "['Today', 'is', 'a', 'sunny', 'day']\n",
      "<class 'list'>\n"
     ]
    }
   ],
   "source": [
    "a='Today is a sunny day'\n",
    "b=a.split()\n",
    "print(b) # prints a list\n",
    "print(type(b))"
   ]
  },
  {
   "cell_type": "code",
   "execution_count": 60,
   "metadata": {
    "colab": {
     "base_uri": "https://localhost:8080/",
     "height": 34
    },
    "colab_type": "code",
    "id": "sftj3EzjqzhN",
    "outputId": "d2ac13dc-f389-4379-b05d-80281978b801"
   },
   "outputs": [
    {
     "name": "stdout",
     "output_type": "stream",
     "text": [
      "['The answer ', ' 5']\n"
     ]
    }
   ],
   "source": [
    "a='The answer = 5'\n",
    "b=a.split(\"=\")\n",
    "print(b)"
   ]
  },
  {
   "cell_type": "code",
   "execution_count": 65,
   "metadata": {
    "colab": {
     "base_uri": "https://localhost:8080/",
     "height": 51
    },
    "colab_type": "code",
    "id": "AGSBRN1irGWC",
    "outputId": "818b44c7-693f-4ab7-fd5f-52ab95084580"
   },
   "outputs": [
    {
     "name": "stdout",
     "output_type": "stream",
     "text": [
      "['The ', ' answer ', ' 5']\n",
      "The = answer = 5\n"
     ]
    }
   ],
   "source": [
    "a='Today is a sunny day'\n",
    "b=a.split()\n",
    "\n",
    "a='The = answer = 5'\n",
    "b=a.split(\"=\")\n",
    "print(b)\n",
    "\n",
    "c=\"=\".join(b)\n",
    "print(c)"
   ]
  },
  {
   "cell_type": "code",
   "execution_count": 70,
   "metadata": {
    "colab": {
     "base_uri": "https://localhost:8080/",
     "height": 51
    },
    "colab_type": "code",
    "id": "B7lHSgVhsgrn",
    "outputId": "c88016a3-278b-482c-9a2a-98eb23a35153"
   },
   "outputs": [
    {
     "name": "stdout",
     "output_type": "stream",
     "text": [
      "['abc', 'def.com']\n",
      "abc/def.com\n"
     ]
    }
   ],
   "source": [
    "a='abc@def.com'\n",
    "b=a.split(\"@\")\n",
    "print(b)\n",
    "c=\"/\".join(b)\n",
    "print(c)"
   ]
  },
  {
   "cell_type": "code",
   "execution_count": 85,
   "metadata": {
    "colab": {
     "base_uri": "https://localhost:8080/",
     "height": 136
    },
    "colab_type": "code",
    "id": "i4rxR4aztFPi",
    "outputId": "30f06976-726d-433c-f4be-eca1370c13df"
   },
   "outputs": [
    {
     "name": "stdout",
     "output_type": "stream",
     "text": [
      "['durian', 'mango'] ['apple', 'durian']\n",
      "['durian', 'mango', 'banana']\n",
      "['apple', 'durian']\n",
      "banana\n",
      "['apple', 'durian', 'mango']\n",
      "['apple', 'durian']\n",
      "['apple', 'durian', 'mango', 'banana']\n"
     ]
    }
   ],
   "source": [
    "f=['apple','durian','mango','banana']\n",
    "print(f[1:3],f[0:2])\n",
    "print(f[1:])\n",
    "print(f[:2])\n",
    "print(f[-1])\n",
    "print(f[:-1])\n",
    "print(f[:-2])\n",
    "print(f[:])"
   ]
  },
  {
   "cell_type": "code",
   "execution_count": 87,
   "metadata": {
    "colab": {
     "base_uri": "https://localhost:8080/",
     "height": 34
    },
    "colab_type": "code",
    "id": "RUhMBAfpw5nc",
    "outputId": "0e4c34c7-fdfc-4cef-e526-b437f4390479"
   },
   "outputs": [
    {
     "data": {
      "text/plain": [
       "3"
      ]
     },
     "execution_count": 87,
     "metadata": {
      "tags": []
     },
     "output_type": "execute_result"
    }
   ],
   "source": [
    "f=['apple','durian','mango','banana']\n",
    "f.index('banana')"
   ]
  },
  {
   "cell_type": "code",
   "execution_count": 90,
   "metadata": {
    "colab": {
     "base_uri": "https://localhost:8080/",
     "height": 34
    },
    "colab_type": "code",
    "id": "zkM1kgmrxgrn",
    "outputId": "edc52463-f545-4950-e24e-b4c8e2c3ea11"
   },
   "outputs": [
    {
     "name": "stdout",
     "output_type": "stream",
     "text": [
      "['apple', 'durian', 'mango', 'banana', 'berry']\n"
     ]
    }
   ],
   "source": [
    "f=['apple','durian','mango','banana']\n",
    "f.append('berry')\n",
    "print(f)"
   ]
  },
  {
   "cell_type": "code",
   "execution_count": 92,
   "metadata": {
    "colab": {
     "base_uri": "https://localhost:8080/",
     "height": 34
    },
    "colab_type": "code",
    "id": "4RSmzdqKyY7F",
    "outputId": "d82017e6-0578-4435-857f-d2da61c3cbf4"
   },
   "outputs": [
    {
     "name": "stdout",
     "output_type": "stream",
     "text": [
      "['apple', 'durian', 'orange', 'orange', 'mango', 'banana', 'berry']\n"
     ]
    }
   ],
   "source": [
    "f.insert(2,'orange')\n",
    "print(f)"
   ]
  },
  {
   "cell_type": "code",
   "execution_count": 94,
   "metadata": {
    "colab": {
     "base_uri": "https://localhost:8080/",
     "height": 34
    },
    "colab_type": "code",
    "id": "-6B_jtJhyqYN",
    "outputId": "c286ac6f-82d6-4a87-98df-ae598a72a4f7"
   },
   "outputs": [
    {
     "name": "stdout",
     "output_type": "stream",
     "text": [
      "['apple', 'durian', 'mango']\n"
     ]
    }
   ],
   "source": [
    "f=['apple','durian','mango','banana']\n",
    "f.remove('banana')\n",
    "print(f)"
   ]
  },
  {
   "cell_type": "code",
   "execution_count": 96,
   "metadata": {
    "colab": {
     "base_uri": "https://localhost:8080/",
     "height": 34
    },
    "colab_type": "code",
    "id": "ChuoT3w4y8Oz",
    "outputId": "20fb2de8-9a16-4538-c27f-30a4e9d94933"
   },
   "outputs": [
    {
     "name": "stdout",
     "output_type": "stream",
     "text": [
      "['apple', 'durian', 'mango']\n"
     ]
    }
   ],
   "source": [
    "f=['apple','durian','mango','banana']\n",
    "f.pop()\n",
    "print(f)"
   ]
  },
  {
   "cell_type": "code",
   "execution_count": 98,
   "metadata": {
    "colab": {
     "base_uri": "https://localhost:8080/",
     "height": 34
    },
    "colab_type": "code",
    "id": "qeF6_aw9zFdZ",
    "outputId": "ef4db060-f8de-43f0-a790-9740d676d116"
   },
   "outputs": [
    {
     "name": "stdout",
     "output_type": "stream",
     "text": [
      "['apple', 'mango', 'banana']\n"
     ]
    }
   ],
   "source": [
    "f=['apple','durian','mango','banana']\n",
    "f.pop(1)\n",
    "print(f)"
   ]
  },
  {
   "cell_type": "code",
   "execution_count": 107,
   "metadata": {
    "colab": {
     "base_uri": "https://localhost:8080/",
     "height": 68
    },
    "colab_type": "code",
    "id": "EDoTOF6UzYpg",
    "outputId": "8260ca92-177c-463b-97d6-d059aa91efff"
   },
   "outputs": [
    {
     "name": "stdout",
     "output_type": "stream",
     "text": [
      "['apple', 'orange', 'banana']\n",
      "['apple', 'orange', 'banana', 'durian']\n",
      "['apple', 'orange', 'banana']\n"
     ]
    }
   ],
   "source": [
    "a=['apple','orange','banana','durian']\n",
    "b=a.copy()\n",
    "c=a\n",
    "c.pop()\n",
    "print(a);print(b);print(c)\n",
    "# every time I don't want to mess up my list, take a copy of that list"
   ]
  },
  {
   "cell_type": "code",
   "execution_count": 108,
   "metadata": {
    "colab": {
     "base_uri": "https://localhost:8080/",
     "height": 68
    },
    "colab_type": "code",
    "id": "fKedRuznDNsR",
    "outputId": "fd6392c3-b676-46c0-f750-30f4544040b6"
   },
   "outputs": [
    {
     "name": "stdout",
     "output_type": "stream",
     "text": [
      "[2, 4, 6, 8] [2, 4, 6, 8] [2, 4, 6, 8]\n",
      "[2, 4, 6] [2, 4, 6] [2, 4, 6, 8]\n",
      "139971044635912 139971044635912 139971046205320\n"
     ]
    }
   ],
   "source": [
    "a=[2,4,6,8]\n",
    "b=a # b is a reference of a\n",
    "z=a.copy()\n",
    "print(a,b,z)\n",
    "b.pop()\n",
    "print(a,b,z)\n",
    "print(id(a),id(b),id(z))"
   ]
  },
  {
   "cell_type": "code",
   "execution_count": 114,
   "metadata": {
    "colab": {
     "base_uri": "https://localhost:8080/",
     "height": 85
    },
    "colab_type": "code",
    "id": "5LaO-4AfEuUF",
    "outputId": "897356e4-dfe4-4f2d-ecb7-5ddd99681393"
   },
   "outputs": [
    {
     "name": "stdout",
     "output_type": "stream",
     "text": [
      "[-2, 0, 5, 45, 77]\n",
      "[77, 45, 5, 0, -2]\n",
      "[5, -2, 77, 0, 45] [-2, 0, 5, 45, 77]\n",
      "None\n"
     ]
    }
   ],
   "source": [
    "a=[5,-2,77,0,45]\n",
    "a.sort()\n",
    "print(a)\n",
    "a.sort(reverse=True)\n",
    "print(a)\n",
    "a=[5,-2,77,0,45]\n",
    "b=sorted(a)\n",
    "print(a,b)\n",
    "print(a.reverse())"
   ]
  },
  {
   "cell_type": "code",
   "execution_count": 119,
   "metadata": {
    "colab": {
     "base_uri": "https://localhost:8080/",
     "height": 85
    },
    "colab_type": "code",
    "id": "uClw80kKGyXc",
    "outputId": "0ecd7783-19ec-4bf9-914a-fdf0ef9de830"
   },
   "outputs": [
    {
     "name": "stdout",
     "output_type": "stream",
     "text": [
      "sum = 9\n",
      "min = -3\n",
      "len = 7\n",
      "count = 3\n"
     ]
    }
   ],
   "source": [
    "a=[1,2,3,4,-3,1,1]\n",
    "print(\"sum =\",sum(a))\n",
    "print(\"min =\",min(a))\n",
    "print(\"len =\",len(a))\n",
    "print(\"count =\",a.count(1))"
   ]
  },
  {
   "cell_type": "code",
   "execution_count": 121,
   "metadata": {
    "colab": {
     "base_uri": "https://localhost:8080/",
     "height": 85
    },
    "colab_type": "code",
    "id": "wLlErNj-19xm",
    "outputId": "ec571d8c-398c-4d3b-8ec5-4293eb320637"
   },
   "outputs": [
    {
     "name": "stdout",
     "output_type": "stream",
     "text": [
      "['A', 'C', 'C', 'A', 'T', 'T', 'G', 'A', 'C', 'A']\n",
      "['A', 'C', 'C', 'A', 'T', 'T', 'A', 'C', 'A']\n",
      "['A', 'C', 'C', 'A', 'A', 'T', 'T', 'A', 'C', 'A']\n",
      "['A', 'C', 'A', 'T', 'T', 'A', 'A', 'C', 'C', 'A']\n"
     ]
    }
   ],
   "source": [
    "letters=['A','C','C','A','T','T','G','A','C','A']\n",
    "letters2=letters.copy()\n",
    "print(letters2)\n",
    "letters2.remove('G')\n",
    "print(letters2)\n",
    "letters2.insert(3,'A')\n",
    "print(letters2)\n",
    "letters2.reverse()\n",
    "print(letters2)"
   ]
  },
  {
   "cell_type": "code",
   "execution_count": 128,
   "metadata": {
    "colab": {},
    "colab_type": "code",
    "id": "R6o-TEqJHsaa"
   },
   "outputs": [],
   "source": [
    "capitals={'France':'Paris','Germany':'Berlin','Italy':'Rome'}"
   ]
  },
  {
   "cell_type": "code",
   "execution_count": 130,
   "metadata": {
    "colab": {
     "base_uri": "https://localhost:8080/",
     "height": 34
    },
    "colab_type": "code",
    "id": "Gadz3zl9Mb9a",
    "outputId": "85ce77f3-b57b-4b7f-cc06-1e171a9ab1b8"
   },
   "outputs": [
    {
     "name": "stdout",
     "output_type": "stream",
     "text": [
      "True\n"
     ]
    }
   ],
   "source": [
    "a={2,3,4}\n",
    "b={3,2,2,4,4}\n",
    "print(a==b)"
   ]
  },
  {
   "cell_type": "code",
   "execution_count": 133,
   "metadata": {
    "colab": {
     "base_uri": "https://localhost:8080/",
     "height": 51
    },
    "colab_type": "code",
    "id": "sZwC405fNI_o",
    "outputId": "632f7b81-abfc-447b-d72f-b1d459284154"
   },
   "outputs": [
    {
     "name": "stdout",
     "output_type": "stream",
     "text": [
      "{2, 3, 4}\n",
      "[2, 3, 4]\n"
     ]
    }
   ],
   "source": [
    "b=[3,2,2,4,4]\n",
    "c=set(b) # convert b into a set\n",
    "print(c)\n",
    "d=list(c)\n",
    "print(d)"
   ]
  },
  {
   "cell_type": "code",
   "execution_count": 139,
   "metadata": {
    "colab": {
     "base_uri": "https://localhost:8080/",
     "height": 34
    },
    "colab_type": "code",
    "id": "IgMr2WIxN4F8",
    "outputId": "27fb88a3-c76b-4e7b-e986-f4c98e0f6a8e"
   },
   "outputs": [
    {
     "name": "stdout",
     "output_type": "stream",
     "text": [
      "6\n"
     ]
    }
   ],
   "source": [
    "sent=\"Peter reads a book on a table\"\n",
    "new=sent.split()\n",
    "new=set(new)\n",
    "new=list(new)\n",
    "print(len(new))"
   ]
  },
  {
   "cell_type": "code",
   "execution_count": 141,
   "metadata": {
    "colab": {
     "base_uri": "https://localhost:8080/",
     "height": 34
    },
    "colab_type": "code",
    "id": "tJtq7VvVPVd1",
    "outputId": "7f869dbe-c6e7-427b-e04c-7dc7b401d775"
   },
   "outputs": [
    {
     "name": "stdout",
     "output_type": "stream",
     "text": [
      "6\n"
     ]
    }
   ],
   "source": [
    "sent=\"Peter reads a book on a table\"\n",
    "words=sent.split()\n",
    "vocab=set(words)\n",
    "print(len(vocab))"
   ]
  },
  {
   "cell_type": "code",
   "execution_count": 143,
   "metadata": {
    "colab": {
     "base_uri": "https://localhost:8080/",
     "height": 34
    },
    "colab_type": "code",
    "id": "pEYnzMlfPj7k",
    "outputId": "511a9b83-e20a-47da-f77e-a0978116e0f7"
   },
   "outputs": [
    {
     "name": "stdout",
     "output_type": "stream",
     "text": [
      "5\n"
     ]
    }
   ],
   "source": [
    "print(17//3) # floor division"
   ]
  },
  {
   "cell_type": "code",
   "execution_count": 146,
   "metadata": {
    "colab": {
     "base_uri": "https://localhost:8080/",
     "height": 34
    },
    "colab_type": "code",
    "id": "8LPTMR-LRzfu",
    "outputId": "91c77845-e5c3-4c53-ddb6-3df7acb6d715"
   },
   "outputs": [
    {
     "name": "stdout",
     "output_type": "stream",
     "text": [
      "11\n"
     ]
    }
   ],
   "source": [
    "i=1\n",
    "i += 10\n",
    "print(i)"
   ]
  },
  {
   "cell_type": "code",
   "execution_count": 148,
   "metadata": {
    "colab": {
     "base_uri": "https://localhost:8080/",
     "height": 34
    },
    "colab_type": "code",
    "id": "3TSUaVrwSPbc",
    "outputId": "8b8a02a2-5a96-48a3-facb-661e8458e5d5"
   },
   "outputs": [
    {
     "name": "stdout",
     "output_type": "stream",
     "text": [
      "2\n"
     ]
    }
   ],
   "source": [
    "i=1\n",
    "i+=1 # common way of coding i = i +1\n",
    "print(i)"
   ]
  },
  {
   "cell_type": "code",
   "execution_count": 150,
   "metadata": {
    "colab": {
     "base_uri": "https://localhost:8080/",
     "height": 34
    },
    "colab_type": "code",
    "id": "FyVwekZaSXXk",
    "outputId": "6cd46e78-3849-4de2-d83a-cdfa9501f4d8"
   },
   "outputs": [
    {
     "name": "stdout",
     "output_type": "stream",
     "text": [
      "True\n"
     ]
    }
   ],
   "source": [
    "a=7;b=10\n",
    "print(a!=b)"
   ]
  },
  {
   "cell_type": "code",
   "execution_count": 152,
   "metadata": {
    "colab": {
     "base_uri": "https://localhost:8080/",
     "height": 34
    },
    "colab_type": "code",
    "id": "eAnHHzgxTFSe",
    "outputId": "dad32d0d-3fb3-4cde-c2dd-f274c5b54eda"
   },
   "outputs": [
    {
     "data": {
      "text/plain": [
       "False"
      ]
     },
     "execution_count": 152,
     "metadata": {
      "tags": []
     },
     "output_type": "execute_result"
    }
   ],
   "source": [
    "a=['apple','orange','banana','durian']\n",
    "'apple' in a\n",
    "'mango' in a"
   ]
  },
  {
   "cell_type": "code",
   "execution_count": 153,
   "metadata": {
    "colab": {
     "base_uri": "https://localhost:8080/",
     "height": 34
    },
    "colab_type": "code",
    "id": "a86nKAEXTT73",
    "outputId": "b4defb69-2eeb-4b90-c6b6-85862226b66e"
   },
   "outputs": [
    {
     "name": "stdout",
     "output_type": "stream",
     "text": [
      "True\n"
     ]
    }
   ],
   "source": [
    "a=['apple','orange','banana','durian']\n",
    "print('mango' not in a)"
   ]
  },
  {
   "cell_type": "code",
   "execution_count": 155,
   "metadata": {
    "colab": {
     "base_uri": "https://localhost:8080/",
     "height": 34
    },
    "colab_type": "code",
    "id": "BpxbwlxNTlcN",
    "outputId": "e5c22ce8-8b2c-409c-9316-f059ff1536ac"
   },
   "outputs": [
    {
     "name": "stdout",
     "output_type": "stream",
     "text": [
      "True\n"
     ]
    }
   ],
   "source": [
    "weekend = {'sat','sun'}\n",
    "print('mon' not in weekend)"
   ]
  },
  {
   "cell_type": "code",
   "execution_count": 157,
   "metadata": {
    "colab": {
     "base_uri": "https://localhost:8080/",
     "height": 51
    },
    "colab_type": "code",
    "id": "5sWmDNDyUDbb",
    "outputId": "134660b1-8873-4741-8ea6-7e17727e98a1"
   },
   "outputs": [
    {
     "name": "stdout",
     "output_type": "stream",
     "text": [
      "True\n",
      "True\n"
     ]
    }
   ],
   "source": [
    "a=1; b=2\n",
    "print(a==1); print(not(b>3))"
   ]
  },
  {
   "cell_type": "code",
   "execution_count": 164,
   "metadata": {
    "colab": {
     "base_uri": "https://localhost:8080/",
     "height": 68
    },
    "colab_type": "code",
    "id": "yTEF9aoCVeVJ",
    "outputId": "cbd14010-be28-495f-e0d6-34133e87aecf"
   },
   "outputs": [
    {
     "name": "stdout",
     "output_type": "stream",
     "text": [
      "a=b\n",
      "hello\n",
      "done\n"
     ]
    }
   ],
   "source": [
    "a,b=13,13\n",
    "if a<b:\n",
    "    print('a<b')\n",
    "elif a>b:\n",
    "    print('a>b')\n",
    "else:\n",
    "    print('a=b')\n",
    "    print('hello')\n",
    "print('done')"
   ]
  },
  {
   "cell_type": "code",
   "execution_count": 170,
   "metadata": {
    "colab": {
     "base_uri": "https://localhost:8080/",
     "height": 85
    },
    "colab_type": "code",
    "id": "40mK7VtPXAJy",
    "outputId": "e96e830d-c547-4c0b-d09b-ae531539494e"
   },
   "outputs": [
    {
     "name": "stdout",
     "output_type": "stream",
     "text": [
      "Enter fist number:55\n",
      "Enter second number:77\n",
      "<class 'int'> <class 'float'>\n",
      "a<b\n"
     ]
    }
   ],
   "source": [
    "a=input('Enter fist number:') # treats all inputs as strings\n",
    "b=input('Enter second number:')\n",
    "a=int(a)\n",
    "b=float(b)\n",
    "print(type(a),type(b))\n",
    "if a<b:\n",
    "    print('a<b')\n",
    "elif a>b:\n",
    "    print('a>b')\n",
    "else:\n",
    "    print('a=b')"
   ]
  },
  {
   "cell_type": "code",
   "execution_count": 176,
   "metadata": {
    "colab": {
     "base_uri": "https://localhost:8080/",
     "height": 51
    },
    "colab_type": "code",
    "id": "fmbI30rDZoEp",
    "outputId": "1b713154-43ea-48b7-a7cc-152e9b72302f"
   },
   "outputs": [
    {
     "name": "stdout",
     "output_type": "stream",
     "text": [
      "What is your grade:90.1\n",
      "Excellent\n"
     ]
    }
   ],
   "source": [
    "grade=input('What is your grade:')\n",
    "grade=float(grade)\n",
    "if grade>90:\n",
    "    print('Excellent')\n",
    "elif grade>75:\n",
    "    print('Well done')\n",
    "elif grade>60:\n",
    "    print('Work harder')\n",
    "else:\n",
    "    print(\"I don't know your grade\")"
   ]
  },
  {
   "cell_type": "code",
   "execution_count": 179,
   "metadata": {
    "colab": {
     "base_uri": "https://localhost:8080/",
     "height": 51
    },
    "colab_type": "code",
    "id": "Ud-qiPtAa6UJ",
    "outputId": "1e977062-893c-4cf1-b257-ef3cf77b0834"
   },
   "outputs": [
    {
     "name": "stdout",
     "output_type": "stream",
     "text": [
      "What is your grade:a\n",
      "Excellent\n"
     ]
    }
   ],
   "source": [
    "grade=input('What is your grade:')\n",
    "grade=grade.upper()\n",
    "if grade=='A':\n",
    "    print('Excellent')\n",
    "elif grade=='B':\n",
    "    print('Well done')\n",
    "elif grade==\"c\":\n",
    "    print('Work harder')\n",
    "else:\n",
    "    print(\"I don't know your grade\")"
   ]
  },
  {
   "cell_type": "code",
   "execution_count": 181,
   "metadata": {
    "colab": {
     "base_uri": "https://localhost:8080/",
     "height": 34
    },
    "colab_type": "code",
    "id": "m5_I1PG7bZk9",
    "outputId": "ccb6ff08-dd29-4cf9-a886-84d1042ce931"
   },
   "outputs": [
    {
     "name": "stdout",
     "output_type": "stream",
     "text": [
      "3.14\n"
     ]
    }
   ],
   "source": [
    "p=3.14159\n",
    "x=round(p,2)\n",
    "print(x)"
   ]
  },
  {
   "cell_type": "code",
   "execution_count": 183,
   "metadata": {
    "colab": {
     "base_uri": "https://localhost:8080/",
     "height": 34
    },
    "colab_type": "code",
    "id": "QehpNqe1bvyd",
    "outputId": "385f948c-a091-4542-ef4b-40f8c28ffbc5"
   },
   "outputs": [
    {
     "name": "stdout",
     "output_type": "stream",
     "text": [
      "25\n"
     ]
    }
   ],
   "source": [
    "order=200\n",
    "if order > 100:\n",
    "    discount = 25\n",
    "else:\n",
    "    discount = 0\n",
    "print(discount)"
   ]
  },
  {
   "cell_type": "code",
   "execution_count": 186,
   "metadata": {
    "colab": {
     "base_uri": "https://localhost:8080/",
     "height": 34
    },
    "colab_type": "code",
    "id": "q7xjw8TicO3w",
    "outputId": "659235aa-6cc4-4a03-f026-a41cc85da8f4"
   },
   "outputs": [
    {
     "name": "stdout",
     "output_type": "stream",
     "text": [
      "25\n"
     ]
    }
   ],
   "source": [
    "order = 200\n",
    "discount = 25 if order > 100 else 0\n",
    "print(discount)"
   ]
  },
  {
   "cell_type": "code",
   "execution_count": 188,
   "metadata": {
    "colab": {
     "base_uri": "https://localhost:8080/",
     "height": 34
    },
    "colab_type": "code",
    "id": "SUAVnmyHcpTR",
    "outputId": "c66fd76a-1a8d-4331-fe00-fd761deb41d8"
   },
   "outputs": [
    {
     "name": "stdout",
     "output_type": "stream",
     "text": [
      "5\n"
     ]
    }
   ],
   "source": [
    "a=3; b=5\n",
    "c=a if a>b else b\n",
    "print(c)"
   ]
  },
  {
   "cell_type": "code",
   "execution_count": 189,
   "metadata": {
    "colab": {
     "base_uri": "https://localhost:8080/",
     "height": 170
    },
    "colab_type": "code",
    "id": "zJAcy11Fc4oQ",
    "outputId": "3e42e5b8-c1c1-4b36-a23e-971a99705fb9"
   },
   "outputs": [
    {
     "name": "stdout",
     "output_type": "stream",
     "text": [
      "1\n",
      "2\n",
      "3\n",
      "4\n",
      "5\n",
      "6\n",
      "7\n",
      "8\n",
      "9\n"
     ]
    }
   ],
   "source": [
    "a=1\n",
    "while a<10:\n",
    "    print(a)\n",
    "    a += 1"
   ]
  },
  {
   "cell_type": "code",
   "execution_count": 190,
   "metadata": {
    "colab": {
     "base_uri": "https://localhost:8080/",
     "height": 85
    },
    "colab_type": "code",
    "id": "7T2InK8YdSVV",
    "outputId": "9fcdde6f-af36-4355-fb53-b6794af0eb28"
   },
   "outputs": [
    {
     "name": "stdout",
     "output_type": "stream",
     "text": [
      "what is your message?this is the message\n",
      "this is the message\n",
      "what is your message?quit\n",
      "quit\n"
     ]
    }
   ],
   "source": [
    "msg=''\n",
    "while msg != 'quit':\n",
    "    msg = input('what is your message?')\n",
    "    print(msg)"
   ]
  },
  {
   "cell_type": "code",
   "execution_count": 199,
   "metadata": {
    "colab": {
     "base_uri": "https://localhost:8080/",
     "height": 204
    },
    "colab_type": "code",
    "id": "C-2z8ypTfASU",
    "outputId": "2f1300c2-d709-4696-f597-b75f4bfb8cae"
   },
   "outputs": [
    {
     "name": "stdout",
     "output_type": "stream",
     "text": [
      "1\n",
      "1\n",
      "2\n",
      "3\n",
      "5\n",
      "8\n",
      "13\n",
      "21\n",
      "34\n",
      "55\n",
      "89\n"
     ]
    }
   ],
   "source": [
    "# fibonacci sequence\n",
    "a,b = 1,1\n",
    "while a < 100:\n",
    "    print(a)\n",
    "    a,b = b,a+b\n",
    "   "
   ]
  },
  {
   "cell_type": "code",
   "execution_count": 202,
   "metadata": {
    "colab": {
     "base_uri": "https://localhost:8080/",
     "height": 204
    },
    "colab_type": "code",
    "id": "j17hZh0eiz4S",
    "outputId": "6986552e-35da-4188-b731-f71cff20ddd6"
   },
   "outputs": [
    {
     "name": "stdout",
     "output_type": "stream",
     "text": [
      "1\n",
      "1\n",
      "2\n",
      "3\n",
      "5\n",
      "8\n",
      "13\n",
      "21\n",
      "34\n",
      "55\n",
      "89\n"
     ]
    }
   ],
   "source": [
    "# another method\n",
    "a,b = 0,1\n",
    "while b < 100:\n",
    "    print(b)\n",
    "    a,b = b,a+b"
   ]
  },
  {
   "cell_type": "code",
   "execution_count": 205,
   "metadata": {
    "colab": {
     "base_uri": "https://localhost:8080/",
     "height": 68
    },
    "colab_type": "code",
    "id": "Z3p-p-1QemAo",
    "outputId": "d1590361-5560-40e7-a1a9-cbb0a5afb7bc"
   },
   "outputs": [
    {
     "name": "stdout",
     "output_type": "stream",
     "text": [
      "3\n",
      "4\n",
      "5\n"
     ]
    }
   ],
   "source": [
    "a=(3,4,5)\n",
    "for i in a:\n",
    "    print(i)"
   ]
  },
  {
   "cell_type": "code",
   "execution_count": 207,
   "metadata": {
    "colab": {
     "base_uri": "https://localhost:8080/",
     "height": 85
    },
    "colab_type": "code",
    "id": "a4sEZ3mOpDuj",
    "outputId": "8112220e-0d64-4554-d453-1fd74247f4d6"
   },
   "outputs": [
    {
     "name": "stdout",
     "output_type": "stream",
     "text": [
      "apple\n",
      "orange\n",
      "banana\n",
      "durian\n"
     ]
    }
   ],
   "source": [
    "# common coding convention\n",
    "fruits = ['apple','orange','banana','durian']\n",
    "for fruit in fruits:\n",
    "    print(fruit)"
   ]
  },
  {
   "cell_type": "code",
   "execution_count": 209,
   "metadata": {
    "colab": {
     "base_uri": "https://localhost:8080/",
     "height": 102
    },
    "colab_type": "code",
    "id": "q2PsCOu-pwd_",
    "outputId": "df6596ba-578b-46e8-d120-e76a099e9a46"
   },
   "outputs": [
    {
     "name": "stdout",
     "output_type": "stream",
     "text": [
      "1\n",
      "3\n",
      "5\n",
      "7\n",
      "9\n"
     ]
    }
   ],
   "source": [
    "for i in range(1,10,2):\n",
    "    print(i)"
   ]
  },
  {
   "cell_type": "code",
   "execution_count": 212,
   "metadata": {
    "colab": {
     "base_uri": "https://localhost:8080/",
     "height": 34
    },
    "colab_type": "code",
    "id": "dqs6bSY8qQ7n",
    "outputId": "be39794c-c6fc-41bc-9eeb-05f6a7c3ed6d"
   },
   "outputs": [
    {
     "name": "stdout",
     "output_type": "stream",
     "text": [
      "[1, 3, 5, 7, 9]\n"
     ]
    }
   ],
   "source": [
    "a=[]\n",
    "for i in range(1,10,2):\n",
    "    a.append(i)\n",
    "print(a)"
   ]
  },
  {
   "cell_type": "code",
   "execution_count": 213,
   "metadata": {
    "colab": {
     "base_uri": "https://localhost:8080/",
     "height": 34
    },
    "colab_type": "code",
    "id": "PyRGfQ5Tq873",
    "outputId": "6e2b6ac8-6a99-4f26-ced1-e6bd560088aa"
   },
   "outputs": [
    {
     "name": "stdout",
     "output_type": "stream",
     "text": [
      "[10, 8, 6, 4, 2, 0, -2, -4]\n"
     ]
    }
   ],
   "source": [
    "a=[]\n",
    "for i in range(10,-5,-2):\n",
    "    a.append(i)\n",
    "print(a)"
   ]
  },
  {
   "cell_type": "code",
   "execution_count": 222,
   "metadata": {
    "colab": {
     "base_uri": "https://localhost:8080/",
     "height": 34
    },
    "colab_type": "code",
    "id": "7ZrxIMUWrRTk",
    "outputId": "4750baf5-f8f2-4896-c9c4-6e46080d45b0"
   },
   "outputs": [
    {
     "data": {
      "text/plain": [
       "[2, 4, 6, 8, 10]"
      ]
     },
     "execution_count": 222,
     "metadata": {
      "tags": []
     },
     "output_type": "execute_result"
    }
   ],
   "source": [
    "a=range(2,12,2)\n",
    "list(a)"
   ]
  },
  {
   "cell_type": "code",
   "execution_count": 228,
   "metadata": {
    "colab": {
     "base_uri": "https://localhost:8080/",
     "height": 34
    },
    "colab_type": "code",
    "id": "nqR24gPLsRVB",
    "outputId": "46144ecc-b962-4547-b337-bb326e0e7c93"
   },
   "outputs": [
    {
     "name": "stdout",
     "output_type": "stream",
     "text": [
      "[1, 4, 9, 16, 25, 36, 49, 64, 81, 100]\n"
     ]
    }
   ],
   "source": [
    "lis=[]\n",
    "for i in range(1,11):\n",
    "    # n = i * i\n",
    "    lis.append(i*i)\n",
    "print(lis)"
   ]
  },
  {
   "cell_type": "code",
   "execution_count": 230,
   "metadata": {
    "colab": {
     "base_uri": "https://localhost:8080/",
     "height": 68
    },
    "colab_type": "code",
    "id": "T8YiEByEtJV9",
    "outputId": "3aa79bf0-65b5-4ddc-8fe7-2613160fa504"
   },
   "outputs": [
    {
     "name": "stdout",
     "output_type": "stream",
     "text": [
      "(0, 'Alfred')\n",
      "(1, 'Ally')\n",
      "(2, 'Belinda')\n"
     ]
    }
   ],
   "source": [
    "person=['Alfred','Ally','Belinda']\n",
    "height=[170,160,155]\n",
    "for name in enumerate(person):\n",
    "    print(name)"
   ]
  },
  {
   "cell_type": "code",
   "execution_count": 232,
   "metadata": {
    "colab": {
     "base_uri": "https://localhost:8080/",
     "height": 68
    },
    "colab_type": "code",
    "id": "tDik3N2RucVv",
    "outputId": "41552736-1df4-45bf-e9dd-cc847b2b6f1e"
   },
   "outputs": [
    {
     "name": "stdout",
     "output_type": "stream",
     "text": [
      "0 Alfred\n",
      "1 Ally\n",
      "2 Belinda\n"
     ]
    }
   ],
   "source": [
    "person=['Alfred','Ally','Belinda']\n",
    "height=[170,160,155]\n",
    "for i, name in enumerate(person):\n",
    "    print(i, name)"
   ]
  },
  {
   "cell_type": "code",
   "execution_count": 233,
   "metadata": {
    "colab": {
     "base_uri": "https://localhost:8080/",
     "height": 68
    },
    "colab_type": "code",
    "id": "xTHAh6DSvAvn",
    "outputId": "c2361510-d5c0-421e-eba8-0c360fb33a8d"
   },
   "outputs": [
    {
     "name": "stdout",
     "output_type": "stream",
     "text": [
      "Alfred ht is 170 cm\n",
      "Ally ht is 160 cm\n",
      "Belinda ht is 155 cm\n"
     ]
    }
   ],
   "source": [
    "person=['Alfred','Ally','Belinda']\n",
    "height=[170,160,155]\n",
    "for i, name in enumerate(person):\n",
    "    print(\"{} ht is {} cm\".format(name,height[i]))"
   ]
  },
  {
   "cell_type": "code",
   "execution_count": 235,
   "metadata": {
    "colab": {
     "base_uri": "https://localhost:8080/",
     "height": 68
    },
    "colab_type": "code",
    "id": "KCK5infgvr8K",
    "outputId": "495c8b1d-5b03-4479-fd1a-544a3c56403e"
   },
   "outputs": [
    {
     "name": "stdout",
     "output_type": "stream",
     "text": [
      "Alfred 170\n",
      "Ally 160\n",
      "Belinda 155\n"
     ]
    }
   ],
   "source": [
    "# zip method\n",
    "person=['Alfred','Ally','Belinda']\n",
    "height=[170,160,155]\n",
    "c=zip(person,height)\n",
    "for i,j in c:\n",
    "    print(i,j)"
   ]
  },
  {
   "cell_type": "code",
   "execution_count": 237,
   "metadata": {
    "colab": {
     "base_uri": "https://localhost:8080/",
     "height": 68
    },
    "colab_type": "code",
    "id": "e-mitUZHw0Ld",
    "outputId": "235b52f2-a719-4dee-bb20-eefaa0d7be10"
   },
   "outputs": [
    {
     "name": "stdout",
     "output_type": "stream",
     "text": [
      "Ally height is 170cm and weight is 60kg\n",
      "Belinda height is 159cm and weight is 55kg\n",
      "Jane height is 161cm and weight is 45kg\n"
     ]
    }
   ],
   "source": [
    "name=['Ally','Belinda','Jane']\n",
    "height=[170,159,161]\n",
    "weight=[60,55,45]\n",
    "zipped=zip(name,height,weight)\n",
    "for i,j,k in zipped:\n",
    "    print(\"{} height is {}cm and weight is {}kg\".format(i,j,k))"
   ]
  },
  {
   "cell_type": "code",
   "execution_count": 239,
   "metadata": {
    "colab": {
     "base_uri": "https://localhost:8080/",
     "height": 102
    },
    "colab_type": "code",
    "id": "7g0geV8uxzrS",
    "outputId": "a2393287-6d5f-4482-f684-c17b7b3c7865"
   },
   "outputs": [
    {
     "name": "stdout",
     "output_type": "stream",
     "text": [
      "0\n",
      "1\n",
      "2\n",
      "3\n",
      "done\n"
     ]
    }
   ],
   "source": [
    "#  break will break out of the closest enclosing loop\n",
    "for i in range(10):\n",
    "    if i==4: break\n",
    "    print(i)\n",
    "print(\"done\")"
   ]
  },
  {
   "cell_type": "code",
   "execution_count": 240,
   "metadata": {
    "colab": {
     "base_uri": "https://localhost:8080/",
     "height": 187
    },
    "colab_type": "code",
    "id": "oVKPTXjayoXI",
    "outputId": "2b1315a0-b89c-4590-d879-bd6e01693462"
   },
   "outputs": [
    {
     "name": "stdout",
     "output_type": "stream",
     "text": [
      "0\n",
      "1\n",
      "2\n",
      "3\n",
      "5\n",
      "6\n",
      "7\n",
      "8\n",
      "9\n",
      "done\n"
     ]
    }
   ],
   "source": [
    "# continue when executed will go to top of the closest enclosing loop\n",
    "for i in range(10):\n",
    "    if i==4: continue\n",
    "    print(i)\n",
    "print(\"done\")"
   ]
  },
  {
   "cell_type": "code",
   "execution_count": null,
   "metadata": {
    "colab": {},
    "colab_type": "code",
    "id": "brK6CWuEzgo9"
   },
   "outputs": [],
   "source": [
    "# illustrate use of break and continue\n",
    "\n",
    "banned_users = ['eve', 'fred', 'gary', 'helen']\n",
    "prompt = \"\\nAdd a player to your team.\"\n",
    "prompt += \"\\nEnter 'quit' when you're done. \"\n",
    "players = []\n",
    "\n",
    "while True:\n",
    "    player = input(prompt)\n",
    "    if player == 'quit':\n",
    "        break\n",
    "    elif player in banned_users:\n",
    "        print(player + \" is banned!\")\n",
    "        continue\n",
    "    else:\n",
    "        players.append(player)\n",
    "\n",
    "print(\"\\nYour team:\")\n",
    "    for player in players:\n",
    "    print(player)"
   ]
  },
  {
   "cell_type": "code",
   "execution_count": null,
   "metadata": {
    "colab": {},
    "colab_type": "code",
    "id": "CGAW7pNY2CGV"
   },
   "outputs": [],
   "source": [
    "\n"
   ]
  },
  {
   "cell_type": "code",
   "execution_count": 242,
   "metadata": {
    "colab": {
     "base_uri": "https://localhost:8080/",
     "height": 34
    },
    "colab_type": "code",
    "id": "Vbb06CYc2Xgk",
    "outputId": "18259def-cf6d-42bd-ddd9-9f59a5ac75d7"
   },
   "outputs": [
    {
     "name": "stdout",
     "output_type": "stream",
     "text": [
      "[1, 4, 9, 16, 25, 36, 49, 64, 81, 100]\n"
     ]
    }
   ],
   "source": [
    "# comprehensions\n",
    "a = [i*i for i in range(1,11)]\n",
    "print(a)"
   ]
  },
  {
   "cell_type": "code",
   "execution_count": 243,
   "metadata": {
    "colab": {
     "base_uri": "https://localhost:8080/",
     "height": 34
    },
    "colab_type": "code",
    "id": "lLxrgFUE2r7M",
    "outputId": "3cc54ec1-57e0-423d-a361-69cd716e1289"
   },
   "outputs": [
    {
     "name": "stdout",
     "output_type": "stream",
     "text": [
      "[1, 4, 9, 16, 25, 36, 49, 64, 81, 100]\n"
     ]
    }
   ],
   "source": [
    "# traditional code\n",
    "a=[]\n",
    "for i in range(1,11):\n",
    "    a.append(i*i)\n",
    "print(a)"
   ]
  },
  {
   "cell_type": "code",
   "execution_count": 244,
   "metadata": {
    "colab": {
     "base_uri": "https://localhost:8080/",
     "height": 34
    },
    "colab_type": "code",
    "id": "Y-Br8zZ33Oyt",
    "outputId": "d12d48c1-b753-4bff-d4cd-2e0214bd41fd"
   },
   "outputs": [
    {
     "data": {
      "text/plain": [
       "[1, 4, 9, 16, 25, 36, 49, 64, 81, 100]"
      ]
     },
     "execution_count": 244,
     "metadata": {
      "tags": []
     },
     "output_type": "execute_result"
    }
   ],
   "source": [
    "# adaptation of above\n",
    "[i*i for i in range(1,11)]"
   ]
  },
  {
   "cell_type": "code",
   "execution_count": 245,
   "metadata": {
    "colab": {
     "base_uri": "https://localhost:8080/",
     "height": 34
    },
    "colab_type": "code",
    "id": "VrDa8DYp3gS4",
    "outputId": "75877797-480c-49b2-d723-5b3414a6c574"
   },
   "outputs": [
    {
     "data": {
      "text/plain": [
       "[4, 16, 36, 64, 100]"
      ]
     },
     "execution_count": 245,
     "metadata": {
      "tags": []
     },
     "output_type": "execute_result"
    }
   ],
   "source": [
    "# another example of comprehensions\n",
    "[i*i for i in range(1,11) if i%2==0]"
   ]
  },
  {
   "cell_type": "code",
   "execution_count": 253,
   "metadata": {
    "colab": {
     "base_uri": "https://localhost:8080/",
     "height": 34
    },
    "colab_type": "code",
    "id": "44jxkxiN33x0",
    "outputId": "e38e73ce-06d8-4a9d-a5a3-7eee67bc3501"
   },
   "outputs": [
    {
     "data": {
      "text/plain": [
       "[1, 4, 16, 49, 64, 121, 169, 196, 256, 289]"
      ]
     },
     "execution_count": 253,
     "metadata": {
      "tags": []
     },
     "output_type": "execute_result"
    }
   ],
   "source": [
    "# Exercise\n",
    "[i*i for i in range(1,19) if not (i%3==0 or i%5==0)]"
   ]
  },
  {
   "cell_type": "code",
   "execution_count": 256,
   "metadata": {
    "colab": {
     "base_uri": "https://localhost:8080/",
     "height": 34
    },
    "colab_type": "code",
    "id": "4ZGo8faD4hg-",
    "outputId": "cc3ba94a-d742-400f-8b2d-bbf8812bd2e5"
   },
   "outputs": [
    {
     "data": {
      "text/plain": [
       "[1, 4, 16, 49, 64, 121, 169, 196, 256, 289]"
      ]
     },
     "execution_count": 256,
     "metadata": {
      "tags": []
     },
     "output_type": "execute_result"
    }
   ],
   "source": [
    "# Exercise, another method\n",
    "[i*i for i in range(1,19) if (i%3!=0 and i%5!=0)]"
   ]
  },
  {
   "cell_type": "code",
   "execution_count": 4,
   "metadata": {
    "colab": {},
    "colab_type": "code",
    "id": "c_0bgrn56EkS"
   },
   "outputs": [
    {
     "name": "stdout",
     "output_type": "stream",
     "text": [
      "[1, 4, 16, 49, 64, 121, 169, 196, 256, 289]\n"
     ]
    }
   ],
   "source": [
    "# Exercise, yet another method (my solution)\n",
    "\n",
    "n=1\n",
    "i=1\n",
    "lis=[]\n",
    "while n < 11:\n",
    "    sq = i*i\n",
    "    if sq%3!=0 and sq%5!=0:\n",
    "        lis.append(sq)\n",
    "        n += 1\n",
    "        i += 1\n",
    "    else:\n",
    "        i += 1\n",
    "print(lis)"
   ]
  },
  {
   "cell_type": "code",
   "execution_count": 12,
   "metadata": {},
   "outputs": [
    {
     "data": {
      "text/plain": [
       "21.05"
      ]
     },
     "execution_count": 12,
     "metadata": {},
     "output_type": "execute_result"
    }
   ],
   "source": [
    "# fare calculator\n",
    "\n",
    "def fare_calc(dist):\n",
    "    dist = float(dist)\n",
    "    fee_booking=3\n",
    "    fee_starting=2\n",
    "    cost_per_km=1.5\n",
    "    fare=fee_booking + fee_starting + dist * cost_per_km\n",
    "    fare=round(fare,2)\n",
    "    return fare\n",
    "\n",
    "fare_calc(10.7)"
   ]
  },
  {
   "cell_type": "code",
   "execution_count": 21,
   "metadata": {},
   "outputs": [
    {
     "name": "stdout",
     "output_type": "stream",
     "text": [
      "Enter order amount in $210\n"
     ]
    },
    {
     "data": {
      "text/plain": [
       "(157.5, 11.03)"
      ]
     },
     "execution_count": 21,
     "metadata": {},
     "output_type": "execute_result"
    }
   ],
   "source": [
    "# challenge: multiple return\n",
    "\n",
    "\n",
    "def receipt():\n",
    "    order=input(\"Enter order amount in $\")\n",
    "    order=float(order)\n",
    "    if order >200:\n",
    "        discount=25\n",
    "    else:\n",
    "        discount=0\n",
    "    disc_amt = discount * order / 100\n",
    "    disc_amt = round(disc_amt,2)\n",
    "    tax = 0.07 * (order - disc_amt)\n",
    "    tax = round(tax,2)\n",
    "    return (order - disc_amt),tax\n",
    "\n",
    "receipt()"
   ]
  },
  {
   "cell_type": "code",
   "execution_count": 28,
   "metadata": {},
   "outputs": [
    {
     "data": {
      "text/plain": [
       "4"
      ]
     },
     "execution_count": 28,
     "metadata": {},
     "output_type": "execute_result"
    }
   ],
   "source": [
    "def fmin(lis):\n",
    "    return min(lis)\n",
    "\n",
    "fmin([5,4,7])"
   ]
  },
  {
   "cell_type": "code",
   "execution_count": 2,
   "metadata": {},
   "outputs": [
    {
     "data": {
      "text/plain": [
       "[(3, 1), (4, 2)]"
      ]
     },
     "execution_count": 2,
     "metadata": {},
     "output_type": "execute_result"
    }
   ],
   "source": [
    "a=[1,2];b=[3,4];c=zip(b,a)\n",
    "list(c)"
   ]
  },
  {
   "cell_type": "code",
   "execution_count": 3,
   "metadata": {},
   "outputs": [
    {
     "data": {
      "text/plain": [
       "16"
      ]
     },
     "execution_count": 3,
     "metadata": {},
     "output_type": "execute_result"
    }
   ],
   "source": [
    "# basic function syntax\n",
    "def f(x):\n",
    "    return x*x\n",
    "f(4)"
   ]
  },
  {
   "cell_type": "code",
   "execution_count": 4,
   "metadata": {},
   "outputs": [
    {
     "name": "stdout",
     "output_type": "stream",
     "text": [
      "temperature in F: 212\n",
      "temperature in C: 100.0\n"
     ]
    }
   ],
   "source": [
    "# another example\n",
    "def f_to_c(t):\n",
    "    c = (t-32) * (5/9)\n",
    "    return c\n",
    "\n",
    "temp_f = float(input(\"temperature in F: \"))\n",
    "temp_c = f_to_c(temp_f)\n",
    "print(\"temperature in C:\",temp_c)"
   ]
  },
  {
   "cell_type": "code",
   "execution_count": 5,
   "metadata": {},
   "outputs": [
    {
     "name": "stdout",
     "output_type": "stream",
     "text": [
      "Distance travelled in km is:20\n"
     ]
    },
    {
     "data": {
      "text/plain": [
       "35.0"
      ]
     },
     "execution_count": 5,
     "metadata": {},
     "output_type": "execute_result"
    }
   ],
   "source": [
    "# In-class exercise\n",
    "def taxi_fare(dist = input(\"Distance travelled in km is:\")): \n",
    "    dist = float(dist)\n",
    "    booking_fee = 3\n",
    "    starting_pr = 2\n",
    "    cost_per_km = 1.5\n",
    "    fare = booking_fee + starting_pr + (cost_per_km * dist)\n",
    "    return fare\n",
    "\n",
    "taxi_fare()"
   ]
  },
  {
   "cell_type": "code",
   "execution_count": 10,
   "metadata": {},
   "outputs": [
    {
     "name": "stdout",
     "output_type": "stream",
     "text": [
      "25\n"
     ]
    }
   ],
   "source": [
    "#Solution to above\n",
    "def cal_taxifare(dist):\n",
    "    booking_fee = 2\n",
    "    start_fare = 3\n",
    "    cost_per_km = 1\n",
    "    fare = booking_fee + start_fare + dist * cost_per_km\n",
    "    return fare\n",
    "\n",
    "fare = cal_taxifare(20)\n",
    "print(fare)"
   ]
  },
  {
   "cell_type": "code",
   "execution_count": 12,
   "metadata": {},
   "outputs": [
    {
     "name": "stdout",
     "output_type": "stream",
     "text": [
      "25 125\n"
     ]
    }
   ],
   "source": [
    "def f(x):\n",
    "    return x**2, x**3\n",
    "\n",
    "a,b = f(5)\n",
    "print(a,b)"
   ]
  },
  {
   "cell_type": "code",
   "execution_count": 3,
   "metadata": {},
   "outputs": [
    {
     "name": "stdout",
     "output_type": "stream",
     "text": [
      "Enter order amount in $220\n"
     ]
    },
    {
     "data": {
      "text/plain": [
       "(55.0, 11.55)"
      ]
     },
     "execution_count": 3,
     "metadata": {},
     "output_type": "execute_result"
    }
   ],
   "source": [
    "# in-class exercise\n",
    "\n",
    "def calc(order):\n",
    "    order=float(order)\n",
    "    if order > 200:\n",
    "        discount = 25\n",
    "    else:\n",
    "        discount = 0\n",
    "    disc_amt = discount * order / 100\n",
    "    tax = 0.07 * (order - disc_amt)\n",
    "    return disc_amt,tax\n",
    "\n",
    "order=input(\"Enter order amount in $\")\n",
    "calc(order)\n"
   ]
  },
  {
   "cell_type": "code",
   "execution_count": 1,
   "metadata": {},
   "outputs": [
    {
     "name": "stdout",
     "output_type": "stream",
     "text": [
      "How much is your order200.01\n",
      "The discount is $50.00\n",
      "The tax is $10.50\n"
     ]
    }
   ],
   "source": [
    "# solution to above\n",
    "def grocery(order):\n",
    "    discount = 25 if order > 200 else 0\n",
    "    disc_amt = discount * order / 100\n",
    "    tax = 0.07 * (order - disc_amt)\n",
    "    return disc_amt,tax\n",
    "\n",
    "order = input(\"How much is your order\")\n",
    "order = float(order)\n",
    "discount,tax = grocery(order)\n",
    "print(\"The discount is ${:.2f}\".format(discount))\n",
    "print(\"The tax is ${:.2f}\".format(tax))"
   ]
  },
  {
   "cell_type": "code",
   "execution_count": null,
   "metadata": {},
   "outputs": [],
   "source": [
    "# another solution\n",
    "def grocery():\n",
    "    order = input(\"How much is your order\")\n",
    "    order = float(order)\n",
    "    discount = 25 if order > 200 else 0\n",
    "    disc_amt = discount * order / 100\n",
    "    tax = 0.07 * (order - disc_amt)\n",
    "    print(\"The discount is ${:.2f}\".format(discount))\n",
    "    print(\"The tax is ${:.2f}\".format(tax))\n",
    "\n",
    "grocery()\n"
   ]
  },
  {
   "cell_type": "code",
   "execution_count": 3,
   "metadata": {},
   "outputs": [
    {
     "data": {
      "text/plain": [
       "7"
      ]
     },
     "execution_count": 3,
     "metadata": {},
     "output_type": "execute_result"
    }
   ],
   "source": [
    "def f(x,y=2):\n",
    "    return x+y\n",
    "\n",
    "f(5)"
   ]
  },
  {
   "cell_type": "code",
   "execution_count": 4,
   "metadata": {},
   "outputs": [
    {
     "data": {
      "text/plain": [
       "15"
      ]
     },
     "execution_count": 4,
     "metadata": {},
     "output_type": "execute_result"
    }
   ],
   "source": [
    "def f(a=3,b=5):\n",
    "    return a*b\n",
    "\n",
    "f()"
   ]
  },
  {
   "cell_type": "code",
   "execution_count": 6,
   "metadata": {},
   "outputs": [
    {
     "name": "stdout",
     "output_type": "stream",
     "text": [
      "Adding 2\n",
      "Adding 3\n",
      "Adding 4\n",
      "Adding -2\n",
      "8\n"
     ]
    }
   ],
   "source": [
    "def sum(a,*b):\n",
    "    s=a\n",
    "    for i in b:\n",
    "        print(\"Adding\",i)\n",
    "        s=s+i\n",
    "    return s\n",
    "\n",
    "print(sum(1,2,3,4,-2))"
   ]
  },
  {
   "cell_type": "code",
   "execution_count": 7,
   "metadata": {},
   "outputs": [
    {
     "name": "stdout",
     "output_type": "stream",
     "text": [
      "8\n"
     ]
    }
   ],
   "source": [
    "#alternative to above\n",
    "def sum(*b):\n",
    "    s=0\n",
    "    for i in b:\n",
    "        s=s+i\n",
    "    return s\n",
    "\n",
    "print(sum(1,2,3,4,-2))"
   ]
  },
  {
   "cell_type": "code",
   "execution_count": 9,
   "metadata": {},
   "outputs": [
    {
     "name": "stdout",
     "output_type": "stream",
     "text": [
      "2\n"
     ]
    }
   ],
   "source": [
    "def minval(*x):\n",
    "    return min(x)\n",
    "\n",
    "print(minval(3,4,7,8,2,9))"
   ]
  },
  {
   "cell_type": "code",
   "execution_count": 16,
   "metadata": {},
   "outputs": [
    {
     "name": "stdout",
     "output_type": "stream",
     "text": [
      "-3\n"
     ]
    }
   ],
   "source": [
    "# defining a min func\n",
    "def minval(a,*b):\n",
    "    min=a\n",
    "    for i in b:\n",
    "        if i<min:\n",
    "            min=i\n",
    "    return min\n",
    "\n",
    "print(minval(3,4,7,8,2,9,-3))"
   ]
  },
  {
   "cell_type": "code",
   "execution_count": 17,
   "metadata": {},
   "outputs": [
    {
     "name": "stdout",
     "output_type": "stream",
     "text": [
      "9\n"
     ]
    }
   ],
   "source": [
    "# lamba functions\n",
    "# f = lambda x: x*x\n",
    "\n",
    "f = lambda x: x*x\n",
    "print(f(3))"
   ]
  },
  {
   "cell_type": "code",
   "execution_count": 19,
   "metadata": {},
   "outputs": [
    {
     "data": {
      "text/plain": [
       "40"
      ]
     },
     "execution_count": 19,
     "metadata": {},
     "output_type": "execute_result"
    }
   ],
   "source": [
    "f = lambda x,y: 10*x + y\n",
    "def g(f,x,y=0):\n",
    "    return f(x,y)\n",
    "\n",
    "g(f,4)\n"
   ]
  },
  {
   "cell_type": "code",
   "execution_count": 20,
   "metadata": {},
   "outputs": [
    {
     "name": "stdout",
     "output_type": "stream",
     "text": [
      "<class 'map'>\n"
     ]
    }
   ],
   "source": [
    "# map function\n",
    "a=[2,3,4]\n",
    "b=map(lambda x:x*x,a)\n",
    "print(type(b))"
   ]
  },
  {
   "cell_type": "code",
   "execution_count": 21,
   "metadata": {},
   "outputs": [
    {
     "name": "stdout",
     "output_type": "stream",
     "text": [
      "<class 'map'>\n",
      "<map object at 0x000001D7B78C1148>\n"
     ]
    }
   ],
   "source": [
    "# map function\n",
    "a=[2,3,4]\n",
    "b=map(lambda x:x*x,a)\n",
    "print(type(b))\n",
    "print(b)"
   ]
  },
  {
   "cell_type": "code",
   "execution_count": 23,
   "metadata": {},
   "outputs": [
    {
     "name": "stdout",
     "output_type": "stream",
     "text": [
      "<class 'map'>\n",
      "[4, 9, 16]\n"
     ]
    }
   ],
   "source": [
    "# map function\n",
    "a=[2,3,4]\n",
    "b=map(lambda x:x*x,a)\n",
    "print(type(b))\n",
    "print(list(b))"
   ]
  },
  {
   "cell_type": "code",
   "execution_count": 25,
   "metadata": {},
   "outputs": [
    {
     "data": {
      "text/plain": [
       "[2, 14, 26, 38]"
      ]
     },
     "execution_count": 25,
     "metadata": {},
     "output_type": "execute_result"
    }
   ],
   "source": [
    "# map function\n",
    "f=lambda x,y:10*x+y\n",
    "x=[0,1,2,3]\n",
    "y=[2,4,6,8]\n",
    "b=map(f,x,y)\n",
    "list(b)"
   ]
  },
  {
   "cell_type": "code",
   "execution_count": 26,
   "metadata": {},
   "outputs": [
    {
     "name": "stdout",
     "output_type": "stream",
     "text": [
      "[4, 5, 6]\n"
     ]
    }
   ],
   "source": [
    "# filter function\n",
    "a=[2,3,4,5,6]\n",
    "b=filter(lambda x:x>3,a)\n",
    "print(list(b))"
   ]
  },
  {
   "cell_type": "code",
   "execution_count": 28,
   "metadata": {},
   "outputs": [
    {
     "name": "stdout",
     "output_type": "stream",
     "text": [
      "[0, 1, 2, 3]\n"
     ]
    }
   ],
   "source": [
    "#In-class exercise\n",
    "x=[0,1,-4,2,-6,3]\n",
    "y=filter(lambda y:y>=0,x)\n",
    "print(list(y))"
   ]
  },
  {
   "cell_type": "code",
   "execution_count": 30,
   "metadata": {},
   "outputs": [
    {
     "data": {
      "text/plain": [
       "0.479425538604203"
      ]
     },
     "execution_count": 30,
     "metadata": {},
     "output_type": "execute_result"
    }
   ],
   "source": [
    "import math\n",
    "math.sin(.5)"
   ]
  },
  {
   "cell_type": "code",
   "execution_count": 35,
   "metadata": {},
   "outputs": [
    {
     "data": {
      "text/plain": [
       "0.479425538604203"
      ]
     },
     "execution_count": 35,
     "metadata": {},
     "output_type": "execute_result"
    }
   ],
   "source": [
    "#most common\n",
    "import math as m\n",
    "m.sin(.5)"
   ]
  },
  {
   "cell_type": "code",
   "execution_count": 38,
   "metadata": {},
   "outputs": [
    {
     "data": {
      "text/plain": [
       "1.0"
      ]
     },
     "execution_count": 38,
     "metadata": {},
     "output_type": "execute_result"
    }
   ],
   "source": [
    "from math import sin,pi,cos\n",
    "sin(pi/2)"
   ]
  },
  {
   "cell_type": "code",
   "execution_count": 39,
   "metadata": {},
   "outputs": [
    {
     "name": "stdout",
     "output_type": "stream",
     "text": [
      "1.0\n",
      "6.123233995736766e-17\n"
     ]
    }
   ],
   "source": [
    "# time module\n",
    "import time\n",
    "print(sin(pi/2))\n",
    "time.sleep(5)\n",
    "print(cos(pi/2))\n"
   ]
  },
  {
   "cell_type": "code",
   "execution_count": 43,
   "metadata": {},
   "outputs": [
    {
     "name": "stdout",
     "output_type": "stream",
     "text": [
      "3\n"
     ]
    }
   ],
   "source": [
    "import random\n",
    "die=random.choice([1,2,3,4,5,6])\n",
    "print(die)"
   ]
  },
  {
   "cell_type": "code",
   "execution_count": 44,
   "metadata": {},
   "outputs": [
    {
     "name": "stdout",
     "output_type": "stream",
     "text": [
      "b'<!doctype html>\\n<!--[if lt IE 7]>   <html class=\"no-js ie6 lt-ie7 lt-ie8 lt-ie9\">   <![endif]-->\\n<!--[if IE 7]>      <html class=\"no-js ie7 lt-ie8 lt-ie9\">          <![endif]-->\\n<!--[if IE 8]>      <html class=\"no-js ie8 lt-ie9\">                 <![endif]-->\\n<!--[if gt IE 8]><!--><html class=\"no-js\" lang=\"en\" dir=\"ltr\">  <!--<![endif]-->\\n\\n<head>\\n    <meta charset=\"utf-8\">\\n    <meta http-equiv=\"X-UA-Compatible\" content=\"IE=edge\">\\n\\n    <link rel=\"prefetch\" href=\"//ajax.googleapis.com/ajax/libs/jquery/1.8.2/jquery.min.js\">\\n\\n    <meta name=\"application-name\" content=\"Python.org\">\\n    <meta name=\"msapplication-tooltip\" content=\"The official home of the Python Programming Language\">\\n    <meta name=\"apple-mobile-web-app-title\" content=\"Python.org\">\\n    <meta name=\"apple-mobile-web-app-capable\" content=\"yes\">\\n    <meta name=\"apple-mobile-web-app-status-bar-style\" content=\"black\">\\n\\n    <meta name=\"viewport\" content=\"width=device-width, initial-scale=1.0\">\\n    <meta name=\"HandheldFriendly\" content=\"True\">\\n    <meta name=\"format-detection\" content=\"telephone=no\">\\n    <meta http-equiv=\"cleartype\" content=\"on\">\\n    <meta http-equiv=\"imagetoolbar\" content=\"false\">\\n\\n    <script src=\"/static/js/libs/modernizr.js\"></script>\\n\\n    <link href=\"/static/stylesheets/style.30afed881237.css\" rel=\"stylesheet\" type=\"text/css\" title=\"default\" />\\n    <link href=\"/static/stylesheets/mq.eef77a5d2257.css\" rel=\"stylesheet\" type=\"text/css\" media=\"not print, braille, embossed, speech, tty\" />\\n    \\n\\n    <!--[if (lte IE 8)&(!IEMobile)]>\\n    <link href=\"/static/stylesheets/no-mq.7946159eb289.css\" rel=\"stylesheet\" type=\"text/css\" media=\"screen\" />\\n    \\n    \\n    <![endif]-->\\n\\n    \\n    <link rel=\"icon\" type=\"image/x-icon\" href=\"/static/favicon.ico\">\\n    <link rel=\"apple-touch-icon-precomposed\" sizes=\"144x144\" href=\"/static/apple-touch-icon-144x144-precomposed.png\">\\n    <link rel=\"apple-touch-icon-precomposed\" sizes=\"114x114\" href=\"/static/apple-touch-icon-114x114-precomposed.png\">\\n    <link rel=\"apple-touch-icon-precomposed\" sizes=\"72x72\" href=\"/static/apple-touch-icon-72x72-precomposed.png\">\\n    <link rel=\"apple-touch-icon-precomposed\" href=\"/static/apple-touch-icon-precomposed.png\">\\n    <link rel=\"apple-touch-icon\" href=\"/static/apple-touch-icon-precomposed.png\">\\n\\n    \\n    <meta name=\"msapplication-TileImage\" content=\"/static/metro-icon-144x144-precomposed.png\"><!-- white shape -->\\n    <meta name=\"msapplication-TileColor\" content=\"#3673a5\"><!-- python blue -->\\n    <meta name=\"msapplication-navbutton-color\" content=\"#3673a5\">\\n\\n    <title>Welcome to Python.org</title>\\n\\n    <meta name=\"description\" content=\"The official home of the Python Programming Language\">\\n    <meta name=\"keywords\" content=\"Python programming language object oriented web free open source software license documentation download community\">\\n\\n    \\n    <meta property=\"og:type\" content=\"website\">\\n    <meta property=\"og:site_name\" content=\"Python.org\">\\n    <meta property=\"og:title\" content=\"Welcome to Python.org\">\\n    <meta property=\"og:description\" content=\"The official home of the Python Programming Language\">\\n    \\n    <meta property=\"og:image\" content=\"https://www.python.org/static/opengraph-icon-200x200.png\">\\n    <meta property=\"og:image:secure_url\" content=\"https://www.python.org/static/opengraph-icon-200x200.png\">\\n    \\n    <meta property=\"og:url\" content=\"https://www.python.org/\">\\n\\n    <link rel=\"author\" href=\"/static/humans.txt\">\\n\\n    <link rel=\"alternate\" type=\"application/rss+xml\" title=\"Python Enhancement Proposals\"\\n          href=\"https://www.python.org/dev/peps/peps.rss/\">\\n    <link rel=\"alternate\" type=\"application/rss+xml\" title=\"Python Job Opportunities\"\\n          href=\"https://www.python.org/jobs/feed/rss/\">\\n    <link rel=\"alternate\" type=\"application/rss+xml\" title=\"Python Software Foundation News\"\\n          href=\"https://feeds.feedburner.com/PythonSoftwareFoundationNews\">\\n    <link rel=\"alternate\" type=\"application/rss+xml\" title=\"Python Insider\"\\n          href=\"https://feeds.feedburner.com/PythonInsider\">\\n\\n    \\n\\n    \\n    <script type=\"application/ld+json\">\\n     {\\n       \"@context\": \"https://schema.org\",\\n       \"@type\": \"WebSite\",\\n       \"url\": \"https://www.python.org/\",\\n       \"potentialAction\": {\\n         \"@type\": \"SearchAction\",\\n         \"target\": \"https://www.python.org/search/?q={search_term_string}\",\\n         \"query-input\": \"required name=search_term_string\"\\n       }\\n     }\\n    </script>\\n\\n    \\n    <script type=\"text/javascript\">\\n    var _gaq = _gaq || [];\\n    _gaq.push([\\'_setAccount\\', \\'UA-39055973-1\\']);\\n    _gaq.push([\\'_trackPageview\\']);\\n\\n    (function() {\\n        var ga = document.createElement(\\'script\\'); ga.type = \\'text/javascript\\'; ga.async = true;\\n        ga.src = (\\'https:\\' == document.location.protocol ? \\'https://ssl\\' : \\'http://www\\') + \\'.google-analytics.com/ga.js\\';\\n        var s = document.getElementsByTagName(\\'script\\')[0]; s.parentNode.insertBefore(ga, s);\\n    })();\\n    </script>\\n    \\n</head>\\n\\n<body class=\"python home\" id=\"homepage\">\\n\\n    <div id=\"touchnav-wrapper\">\\n\\n        <div id=\"nojs\" class=\"do-not-print\">\\n            <p><strong>Notice:</strong> While Javascript is not essential for this website, your interaction with the content will be limited. Please turn Javascript on for the full experience. </p>\\n        </div>\\n\\n        <!--[if lte IE 8]>\\n        <div id=\"oldie-warning\" class=\"do-not-print\">\\n            <p>\\n                <strong>Notice:</strong> Your browser is <em>ancient</em>. Please\\n                <a href=\"http://browsehappy.com/\">upgrade to a different browser</a> to experience a better web.\\n            </p>\\n        </div>\\n        <![endif]-->\\n\\n        <!-- Sister Site Links -->\\n        <div id=\"top\" class=\"top-bar do-not-print\">\\n\\n            <nav class=\"meta-navigation container\" role=\"navigation\">\\n\\n                \\n                <div class=\"skip-link screen-reader-text\">\\n                    <a href=\"#content\" title=\"Skip to content\">Skip to content</a>\\n                </div>\\n\\n                \\n                <a id=\"close-python-network\" class=\"jump-link\" href=\"#python-network\" aria-hidden=\"true\">\\n                    <span aria-hidden=\"true\" class=\"icon-arrow-down\"><span>&#9660;</span></span> Close\\n                </a>\\n\\n                \\n\\n<ul class=\"menu\" role=\"tree\">\\n    \\n    <li class=\"python-meta current_item selectedcurrent_branch selected\">\\n        <a href=\"/\" title=\"The Python Programming Language\" class=\"current_item selectedcurrent_branch selected\">Python</a>\\n    </li>\\n    \\n    <li class=\"psf-meta \">\\n        <a href=\"/psf-landing/\" title=\"The Python Software Foundation\" >PSF</a>\\n    </li>\\n    \\n    <li class=\"docs-meta \">\\n        <a href=\"https://docs.python.org\" title=\"Python Documentation\" >Docs</a>\\n    </li>\\n    \\n    <li class=\"pypi-meta \">\\n        <a href=\"https://pypi.org/\" title=\"Python Package Index\" >PyPI</a>\\n    </li>\\n    \\n    <li class=\"jobs-meta \">\\n        <a href=\"/jobs/\" title=\"Python Job Board\" >Jobs</a>\\n    </li>\\n    \\n    <li class=\"shop-meta \">\\n        <a href=\"/community-landing/\"  >Community</a>\\n    </li>\\n    \\n</ul>\\n\\n\\n                <a id=\"python-network\" class=\"jump-link\" href=\"#top\" aria-hidden=\"true\">\\n                    <span aria-hidden=\"true\" class=\"icon-arrow-up\"><span>&#9650;</span></span> The Python Network\\n                </a>\\n\\n            </nav>\\n\\n        </div>\\n\\n        <!-- Header elements -->\\n        <header class=\"main-header\" role=\"banner\">\\n            <div class=\"container\">\\n\\n                <h1 class=\"site-headline\">\\n                    <a href=\"/\"><img class=\"python-logo\" src=\"/static/img/python-logo.png\" alt=\"python&trade;\"></a>\\n                </h1>\\n\\n                <div class=\"options-bar-container do-not-print\">\\n                    <a href=\"https://psfmember.org/civicrm/contribute/transact?reset=1&id=2\" class=\"donate-button\">Donate</a>\\n                    <div class=\"options-bar\">\\n                        \\n                        <a id=\"site-map-link\" class=\"jump-to-menu\" href=\"#site-map\"><span class=\"menu-icon\">&equiv;</span> Menu</a><form class=\"search-the-site\" action=\"/search/\" method=\"get\">\\n                            <fieldset title=\"Search Python.org\">\\n\\n                                <span aria-hidden=\"true\" class=\"icon-search\"></span>\\n\\n                                <label class=\"screen-reader-text\" for=\"id-search-field\">Search This Site</label>\\n                                <input id=\"id-search-field\" name=\"q\" type=\"search\" role=\"textbox\" class=\"search-field\" placeholder=\"Search\" value=\"\" tabindex=\"1\">\\n\\n                                <button type=\"submit\" name=\"submit\" id=\"submit\" class=\"search-button\" title=\"Submit this Search\" tabindex=\"3\">\\n                                    GO\\n                                </button>\\n\\n                                \\n                                <!--[if IE]><input type=\"text\" style=\"display: none;\" disabled=\"disabled\" size=\"1\" tabindex=\"4\"><![endif]-->\\n\\n                            </fieldset>\\n                        </form><span class=\"breaker\"></span><div class=\"adjust-font-size\" aria-hidden=\"true\">\\n                            <ul class=\"navigation menu\" aria-label=\"Adjust Text Size on Page\">\\n                                <li class=\"tier-1 last\" aria-haspopup=\"true\">\\n                                    <a href=\"#\" class=\"action-trigger\"><strong><small>A</small> A</strong></a>\\n                                    <ul class=\"subnav menu\">\\n                                        <li class=\"tier-2 element-1\" role=\"treeitem\"><a class=\"text-shrink\" title=\"Make Text Smaller\" href=\"javascript:;\">Smaller</a></li>\\n                                        <li class=\"tier-2 element-2\" role=\"treeitem\"><a class=\"text-grow\" title=\"Make Text Larger\" href=\"javascript:;\">Larger</a></li>\\n                                        <li class=\"tier-2 element-3\" role=\"treeitem\"><a class=\"text-reset\" title=\"Reset any font size changes I have made\" href=\"javascript:;\">Reset</a></li>\\n                                    </ul>\\n                                </li>\\n                            </ul>\\n                        </div><div class=\"winkwink-nudgenudge\">\\n                            <ul class=\"navigation menu\" aria-label=\"Social Media Navigation\">\\n                                <li class=\"tier-1 last\" aria-haspopup=\"true\">\\n                                    <a href=\"#\" class=\"action-trigger\">Socialize</a>\\n                                    <ul class=\"subnav menu\">\\n                                        <li class=\"tier-2 element-1\" role=\"treeitem\"><a href=\"https://www.facebook.com/pythonlang?fref=ts\"><span aria-hidden=\"true\" class=\"icon-facebook\"></span>Facebook</a></li>\\n                                        <li class=\"tier-2 element-2\" role=\"treeitem\"><a href=\"https://twitter.com/ThePSF\"><span aria-hidden=\"true\" class=\"icon-twitter\"></span>Twitter</a></li>\\n                                        <li class=\"tier-2 element-3\" role=\"treeitem\"><a href=\"/community/irc/\"><span aria-hidden=\"true\" class=\"icon-freenode\"></span>Chat on IRC</a></li>\\n                                    </ul>\\n                                </li>\\n                            </ul>\\n                        </div>\\n                        <span data-html-include=\"/authenticated\"></span>\\n                    </div><!-- end options-bar -->\\n                </div>\\n\\n                <nav id=\"mainnav\" class=\"python-navigation main-navigation do-not-print\" role=\"navigation\">\\n                    \\n                        \\n<ul class=\"navigation menu\" role=\"menubar\" aria-label=\"Main Navigation\">\\n  \\n    \\n    \\n    <li id=\"about\" class=\"tier-1 element-1  \" aria-haspopup=\"true\">\\n        <a href=\"/about/\" title=\"\" class=\"\">About</a>\\n        \\n            \\n\\n<ul class=\"subnav menu\" role=\"menu\" aria-hidden=\"true\">\\n    \\n        <li class=\"tier-2 element-1\" role=\"treeitem\"><a href=\"/about/apps/\" title=\"\">Applications</a></li>\\n    \\n        <li class=\"tier-2 element-2\" role=\"treeitem\"><a href=\"/about/quotes/\" title=\"\">Quotes</a></li>\\n    \\n        <li class=\"tier-2 element-3\" role=\"treeitem\"><a href=\"/about/gettingstarted/\" title=\"\">Getting Started</a></li>\\n    \\n        <li class=\"tier-2 element-4\" role=\"treeitem\"><a href=\"/about/help/\" title=\"\">Help</a></li>\\n    \\n        <li class=\"tier-2 element-5\" role=\"treeitem\"><a href=\"http://brochure.getpython.info/\" title=\"\">Python Brochure</a></li>\\n    \\n</ul>\\n\\n        \\n    </li>\\n    \\n    \\n    \\n    <li id=\"downloads\" class=\"tier-1 element-2  \" aria-haspopup=\"true\">\\n        <a href=\"/downloads/\" title=\"\" class=\"\">Downloads</a>\\n        \\n            \\n\\n<ul class=\"subnav menu\" role=\"menu\" aria-hidden=\"true\">\\n    \\n        <li class=\"tier-2 element-1\" role=\"treeitem\"><a href=\"/downloads/\" title=\"\">All releases</a></li>\\n    \\n        <li class=\"tier-2 element-2\" role=\"treeitem\"><a href=\"/downloads/source/\" title=\"\">Source code</a></li>\\n    \\n        <li class=\"tier-2 element-3\" role=\"treeitem\"><a href=\"/downloads/windows/\" title=\"\">Windows</a></li>\\n    \\n        <li class=\"tier-2 element-4\" role=\"treeitem\"><a href=\"/downloads/mac-osx/\" title=\"\">Mac OS X</a></li>\\n    \\n        <li class=\"tier-2 element-5\" role=\"treeitem\"><a href=\"/download/other/\" title=\"\">Other Platforms</a></li>\\n    \\n        <li class=\"tier-2 element-6\" role=\"treeitem\"><a href=\"https://docs.python.org/3/license.html\" title=\"\">License</a></li>\\n    \\n        <li class=\"tier-2 element-7\" role=\"treeitem\"><a href=\"/download/alternatives\" title=\"\">Alternative Implementations</a></li>\\n    \\n</ul>\\n\\n        \\n    </li>\\n    \\n    \\n    \\n    <li id=\"documentation\" class=\"tier-1 element-3  \" aria-haspopup=\"true\">\\n        <a href=\"/doc/\" title=\"\" class=\"\">Documentation</a>\\n        \\n            \\n\\n<ul class=\"subnav menu\" role=\"menu\" aria-hidden=\"true\">\\n    \\n        <li class=\"tier-2 element-1\" role=\"treeitem\"><a href=\"/doc/\" title=\"\">Docs</a></li>\\n    \\n        <li class=\"tier-2 element-2\" role=\"treeitem\"><a href=\"/doc/av\" title=\"\">Audio/Visual Talks</a></li>\\n    \\n        <li class=\"tier-2 element-3\" role=\"treeitem\"><a href=\"https://wiki.python.org/moin/BeginnersGuide\" title=\"\">Beginner&#39;s Guide</a></li>\\n    \\n        <li class=\"tier-2 element-4\" role=\"treeitem\"><a href=\"https://devguide.python.org/\" title=\"\">Developer&#39;s Guide</a></li>\\n    \\n        <li class=\"tier-2 element-5\" role=\"treeitem\"><a href=\"https://docs.python.org/faq/\" title=\"\">FAQ</a></li>\\n    \\n        <li class=\"tier-2 element-6\" role=\"treeitem\"><a href=\"http://wiki.python.org/moin/Languages\" title=\"\">Non-English Docs</a></li>\\n    \\n        <li class=\"tier-2 element-7\" role=\"treeitem\"><a href=\"http://python.org/dev/peps/\" title=\"\">PEP Index</a></li>\\n    \\n        <li class=\"tier-2 element-8\" role=\"treeitem\"><a href=\"https://wiki.python.org/moin/PythonBooks\" title=\"\">Python Books</a></li>\\n    \\n        <li class=\"tier-2 element-9\" role=\"treeitem\"><a href=\"/doc/essays/\" title=\"\">Python Essays</a></li>\\n    \\n</ul>\\n\\n        \\n    </li>\\n    \\n    \\n    \\n    <li id=\"community\" class=\"tier-1 element-4  \" aria-haspopup=\"true\">\\n        <a href=\"/community/\" title=\"\" class=\"\">Community</a>\\n        \\n            \\n\\n<ul class=\"subnav menu\" role=\"menu\" aria-hidden=\"true\">\\n    \\n        <li class=\"tier-2 element-1\" role=\"treeitem\"><a href=\"/community/survey\" title=\"\">Community Survey</a></li>\\n    \\n        <li class=\"tier-2 element-2\" role=\"treeitem\"><a href=\"/community/diversity/\" title=\"\">Diversity</a></li>\\n    \\n        <li class=\"tier-2 element-3\" role=\"treeitem\"><a href=\"/community/lists/\" title=\"\">Mailing Lists</a></li>\\n    \\n        <li class=\"tier-2 element-4\" role=\"treeitem\"><a href=\"/community/irc/\" title=\"\">IRC</a></li>\\n    \\n        <li class=\"tier-2 element-5\" role=\"treeitem\"><a href=\"/community/forums/\" title=\"\">Forums</a></li>\\n    \\n        <li class=\"tier-2 element-6\" role=\"treeitem\"><a href=\"/psf/annual-report/2020/\" title=\"\">PSF Annual Impact Report</a></li>\\n    \\n        <li class=\"tier-2 element-7\" role=\"treeitem\"><a href=\"/community/workshops/\" title=\"\">Python Conferences</a></li>\\n    \\n        <li class=\"tier-2 element-8\" role=\"treeitem\"><a href=\"/community/sigs/\" title=\"\">Special Interest Groups</a></li>\\n    \\n        <li class=\"tier-2 element-9\" role=\"treeitem\"><a href=\"/community/logos/\" title=\"\">Python Logo</a></li>\\n    \\n        <li class=\"tier-2 element-10\" role=\"treeitem\"><a href=\"https://wiki.python.org/moin/\" title=\"\">Python Wiki</a></li>\\n    \\n        <li class=\"tier-2 element-11\" role=\"treeitem\"><a href=\"/community/merchandise/\" title=\"\">Merchandise</a></li>\\n    \\n        <li class=\"tier-2 element-12\" role=\"treeitem\"><a href=\"/community/awards\" title=\"\">Community Awards</a></li>\\n    \\n        <li class=\"tier-2 element-13\" role=\"treeitem\"><a href=\"/psf/conduct/\" title=\"\">Code of Conduct</a></li>\\n    \\n</ul>\\n\\n        \\n    </li>\\n    \\n    \\n    \\n    <li id=\"success-stories\" class=\"tier-1 element-5  \" aria-haspopup=\"true\">\\n        <a href=\"/success-stories/\" title=\"success-stories\" class=\"\">Success Stories</a>\\n        \\n            \\n\\n<ul class=\"subnav menu\" role=\"menu\" aria-hidden=\"true\">\\n    \\n        <li class=\"tier-2 element-1\" role=\"treeitem\"><a href=\"/success-stories/category/arts/\" title=\"\">Arts</a></li>\\n    \\n        <li class=\"tier-2 element-2\" role=\"treeitem\"><a href=\"/success-stories/category/business/\" title=\"\">Business</a></li>\\n    \\n        <li class=\"tier-2 element-3\" role=\"treeitem\"><a href=\"/success-stories/category/education/\" title=\"\">Education</a></li>\\n    \\n        <li class=\"tier-2 element-4\" role=\"treeitem\"><a href=\"/success-stories/category/engineering/\" title=\"\">Engineering</a></li>\\n    \\n        <li class=\"tier-2 element-5\" role=\"treeitem\"><a href=\"/success-stories/category/government/\" title=\"\">Government</a></li>\\n    \\n        <li class=\"tier-2 element-6\" role=\"treeitem\"><a href=\"/success-stories/category/scientific/\" title=\"\">Scientific</a></li>\\n    \\n        <li class=\"tier-2 element-7\" role=\"treeitem\"><a href=\"/success-stories/category/software-development/\" title=\"\">Software Development</a></li>\\n    \\n</ul>\\n\\n        \\n    </li>\\n    \\n    \\n    \\n    <li id=\"news\" class=\"tier-1 element-6  \" aria-haspopup=\"true\">\\n        <a href=\"/blogs/\" title=\"News from around the Python world\" class=\"\">News</a>\\n        \\n            \\n\\n<ul class=\"subnav menu\" role=\"menu\" aria-hidden=\"true\">\\n    \\n        <li class=\"tier-2 element-1\" role=\"treeitem\"><a href=\"/blogs/\" title=\"Python Insider Blog Posts\">Python News</a></li>\\n    \\n        <li class=\"tier-2 element-2\" role=\"treeitem\"><a href=\"/psf/newsletter/\" title=\"Python Software Foundation Newsletter\">PSF Newsletter</a></li>\\n    \\n        <li class=\"tier-2 element-3\" role=\"treeitem\"><a href=\"http://planetpython.org/\" title=\"Planet Python\">Community News</a></li>\\n    \\n        <li class=\"tier-2 element-4\" role=\"treeitem\"><a href=\"http://pyfound.blogspot.com/\" title=\"PSF Blog\">PSF News</a></li>\\n    \\n        <li class=\"tier-2 element-5\" role=\"treeitem\"><a href=\"http://pycon.blogspot.com/\" title=\"PyCon Blog\">PyCon News</a></li>\\n    \\n</ul>\\n\\n        \\n    </li>\\n    \\n    \\n    \\n    <li id=\"events\" class=\"tier-1 element-7  \" aria-haspopup=\"true\">\\n        <a href=\"/events/\" title=\"\" class=\"\">Events</a>\\n        \\n            \\n\\n<ul class=\"subnav menu\" role=\"menu\" aria-hidden=\"true\">\\n    \\n        <li class=\"tier-2 element-1\" role=\"treeitem\"><a href=\"/events/python-events\" title=\"\">Python Events</a></li>\\n    \\n        <li class=\"tier-2 element-2\" role=\"treeitem\"><a href=\"/events/python-user-group/\" title=\"\">User Group Events</a></li>\\n    \\n        <li class=\"tier-2 element-3\" role=\"treeitem\"><a href=\"/events/python-events/past/\" title=\"\">Python Events Archive</a></li>\\n    \\n        <li class=\"tier-2 element-4\" role=\"treeitem\"><a href=\"/events/python-user-group/past/\" title=\"\">User Group Events Archive</a></li>\\n    \\n        <li class=\"tier-2 element-5\" role=\"treeitem\"><a href=\"https://wiki.python.org/moin/PythonEventsCalendar#Submitting_an_Event\" title=\"\">Submit an Event</a></li>\\n    \\n</ul>\\n\\n        \\n    </li>\\n    \\n    \\n    \\n    \\n  \\n</ul>\\n\\n                    \\n                </nav>\\n\\n                <div class=\"header-banner \"> <!-- for optional \"do-not-print\" class -->\\n                    \\n        <div id=\"dive-into-python\" class=\"flex-slideshow slideshow\">\\n\\n            <ul class=\"launch-shell menu\" id=\"launch-shell\">\\n                <li>\\n                    <a class=\"button prompt\" id=\"start-shell\" data-shell-container=\"#dive-into-python\" href=\"/shell/\">&gt;_\\n                        <span class=\"message\">Launch Interactive Shell</span>\\n                    </a>\\n                </li>\\n            </ul>\\n\\n            <ul class=\"slides menu\">\\n                \\n                <li>\\n                    <div class=\"slide-code\"><pre><code><span class=\"comment\"># Python 3: Fibonacci series up to n</span>\\r\\n>>> def fib(n):\\r\\n>>>     a, b = 0, 1\\r\\n>>>     while a &lt; n:\\r\\n>>>         print(a, end=\\' \\')\\r\\n>>>         a, b = b, a+b\\r\\n>>>     print()\\r\\n>>> fib(1000)\\r\\n<span class=\"output\">0 1 1 2 3 5 8 13 21 34 55 89 144 233 377 610 987</span></code></pre></div>\\n                    <div class=\"slide-copy\"><h1>Functions Defined</h1>\\r\\n<p>The core of extensible programming is defining functions. Python allows mandatory and optional arguments, keyword arguments, and even arbitrary argument lists. <a href=\"//docs.python.org/3/tutorial/controlflow.html#defining-functions\">More about defining functions in Python&nbsp;3</a></p></div>\\n                </li>\\n                \\n                <li>\\n                    <div class=\"slide-code\"><pre><code><span class=\"comment\"># Python 3: List comprehensions</span>\\r\\n>>> fruits = [\\'Banana\\', \\'Apple\\', \\'Lime\\']\\r\\n>>> loud_fruits = [fruit.upper() for fruit in fruits]\\r\\n>>> print(loud_fruits)\\r\\n<span class=\"output\">[\\'BANANA\\', \\'APPLE\\', \\'LIME\\']</span>\\r\\n\\r\\n<span class=\"comment\"># List and the enumerate function</span>\\r\\n>>> list(enumerate(fruits))\\r\\n<span class=\"output\">[(0, \\'Banana\\'), (1, \\'Apple\\'), (2, \\'Lime\\')]</span></code></pre></div>\\n                    <div class=\"slide-copy\"><h1>Compound Data Types</h1>\\r\\n<p>Lists (known as arrays in other languages) are one of the compound data types that Python understands. Lists can be indexed, sliced and manipulated with other built-in functions. <a href=\"//docs.python.org/3/tutorial/introduction.html#lists\">More about lists in Python&nbsp;3</a></p></div>\\n                </li>\\n                \\n                <li>\\n                    <div class=\"slide-code\"><pre><code><span class=\"comment\"># Python 3: Simple arithmetic</span>\\r\\n>>> 1 / 2\\r\\n<span class=\"output\">0.5</span>\\r\\n>>> 2 ** 3\\r\\n<span class=\"output\">8</span>\\r\\n>>> 17 / 3  <span class=\"comment\"># classic division returns a float</span>\\r\\n<span class=\"output\">5.666666666666667</span>\\r\\n>>> 17 // 3  <span class=\"comment\"># floor division</span>\\r\\n<span class=\"output\">5</span></code></pre></div>\\n                    <div class=\"slide-copy\"><h1>Intuitive Interpretation</h1>\\r\\n<p>Calculations are simple with Python, and expression syntax is straightforward: the operators <code>+</code>, <code>-</code>, <code>*</code> and <code>/</code> work as expected; parentheses <code>()</code> can be used for grouping. <a href=\"http://docs.python.org/3/tutorial/introduction.html#using-python-as-a-calculator\">More about simple math functions in Python&nbsp;3</a>.</p></div>\\n                </li>\\n                \\n                <li>\\n                    <div class=\"slide-code\"><pre><code><span class=\"comment\"># Python 3: Simple output (with Unicode)</span>\\r\\n>>> print(\"Hello, I\\'m Python!\")\\r\\n<span class=\"output\">Hello, I\\'m Python!</span>\\r\\n\\r\\n<span class=\"comment\"># Input, assignment</span>\\r\\n>>> name = input(\\'What is your name?\\\\n\\')\\r\\n>>> print(\\'Hi, %s.\\' % name)\\r\\n<span class=\"output\">What is your name?\\r\\nPython\\r\\nHi, Python.</span></code></pre></div>\\n                    <div class=\"slide-copy\"><h1>Quick &amp; Easy to Learn</h1>\\r\\n<p>Experienced programmers in any other language can pick up Python very quickly, and beginners find the clean syntax and indentation structure easy to learn. <a href=\"//docs.python.org/3/tutorial/\">Whet your appetite</a> with our Python&nbsp;3 overview.</p>\\r\\n                   </div>\\n                </li>\\n                \\n                <li>\\n                    <div class=\"slide-code\"><pre><code><span class=\"comment\"># For loop on a list</span>\\r\\n>>> numbers = [2, 4, 6, 8]\\r\\n>>> product = 1\\r\\n>>> for number in numbers:\\r\\n...    product = product * number\\r\\n... \\r\\n>>> print(\\'The product is:\\', product)\\r\\n<span class=\"output\">The product is: 384</span></code></pre></div>\\n                    <div class=\"slide-copy\"><h1>All the Flow You&rsquo;d Expect</h1>\\r\\n<p>Python knows the usual control flow statements that other languages speak &mdash; <code>if</code>, <code>for</code>, <code>while</code> and <code>range</code> &mdash; with some of its own twists, of course. <a href=\"//docs.python.org/3/tutorial/controlflow.html\">More control flow tools in Python&nbsp;3</a></p></div>\\n                </li>\\n                \\n            </ul>\\n        </div>\\n\\n\\n                </div>\\n\\n                \\n        <div class=\"introduction\">\\n            <p>Python is a programming language that lets you work quickly <span class=\"breaker\"></span>and integrate systems more effectively. <a class=\"readmore\" href=\"/doc/\">Learn More</a></p>\\n        </div>\\n\\n\\n             </div><!-- end .container -->\\n        </header>\\n\\n        <div id=\"content\" class=\"content-wrapper\">\\n            <!-- Main Content Column -->\\n            <div class=\"container\">\\n\\n                <section class=\"main-content \" role=\"main\">\\n\\n                    \\n                    \\n\\n                    \\n\\n                    \\n\\n                \\n\\n                <div class=\"row\">\\n\\n                    <div class=\"small-widget get-started-widget\">\\n                        <h2 class=\"widget-title\"><span aria-hidden=\"true\" class=\"icon-get-started\"></span>Get Started</h2>\\r\\n<p>Whether you\\'re new to programming or an experienced developer, it\\'s easy to learn and use Python.</p>\\r\\n<p><a href=\"/about/gettingstarted/\">Start with our Beginner&rsquo;s Guide</a></p>\\n                    </div>\\n\\n                    <div class=\"small-widget download-widget\">\\n                        <h2 class=\"widget-title\"><span aria-hidden=\"true\" class=\"icon-download\"></span>Download</h2>\\n<p>Python source code and installers are available for download for all versions!</p>\\n<p>Latest: <a href=\"/downloads/release/python-384/\">Python 3.8.4</a></p>\\n                    </div>\\n\\n                    <div class=\"small-widget documentation-widget\">\\n                        <h2 class=\"widget-title\"><span aria-hidden=\"true\" class=\"icon-documentation\"></span>Docs</h2>\\r\\n<p>Documentation for Python\\'s standard library, along with tutorials and guides, are available online.</p>\\r\\n<p><a href=\"https://docs.python.org\">docs.python.org</a></p>\\n                    </div>\\n\\n                    <div class=\"small-widget jobs-widget last\">\\n                        <h2 class=\"widget-title\"><span aria-hidden=\"true\" class=\"icon-jobs\"></span>Jobs</h2>\\r\\n<p>Looking for work or have a Python related position that you\\'re trying to hire for? Our <strong>relaunched community-run job board</strong> is the place to go.</p>\\r\\n<p><a href=\"//jobs.python.org\">jobs.python.org</a></p>\\n                    </div>\\n\\n                </div>\\n\\n                <div class=\"list-widgets row\">\\n\\n                    <div class=\"medium-widget blog-widget\">\\n                        \\n                        <div class=\"shrubbery\">\\n                        \\n                            <h2 class=\"widget-title\"><span aria-hidden=\"true\" class=\"icon-news\"></span>Latest News</h2>\\n                            <p class=\"give-me-more\"><a href=\"https://blog.python.org\" title=\"More News\">More</a></p>\\n                            \\n                            <ul class=\"menu\">\\n                                \\n                                \\n                                <li>\\n<time datetime=\"2020-07-16T14:57:16.000003+00:00\"><span class=\"say-no-more\">2020-</span>07-16</time>\\n <a href=\"https://mailchi.mp/python/python-software-foundation-may2020-newsletter-566148\">Python Software Foundation - July 2020 Newsletter</a></li>\\n                                \\n                                <li>\\n<time datetime=\"2020-07-13T22:23:00+00:00\"><span class=\"say-no-more\">2020-</span>07-13</time>\\n <a href=\"http://feedproxy.google.com/~r/PythonSoftwareFoundationNews/~3/ajy0RSDt9zE/pip-team-midyear-report.html\">Pip team midyear report</a></li>\\n                                \\n                                <li>\\n<time datetime=\"2020-07-13T21:06:00+00:00\"><span class=\"say-no-more\">2020-</span>07-13</time>\\n <a href=\"http://feedproxy.google.com/~r/PythonInsider/~3/axwqVdRQ-7I/python-384-is-now-available.html\">Python 3.8.4 is now available</a></li>\\n                                \\n                                <li>\\n<time datetime=\"2020-07-03T23:41:00.000004+00:00\"><span class=\"say-no-more\">2020-</span>07-03</time>\\n <a href=\"http://feedproxy.google.com/~r/PythonInsider/~3/gnNNy4s6QP4/python-390b4-is-now-ready-for-testing.html\">Python 3.9.0b4 is now ready for testing</a></li>\\n                                \\n                                <li>\\n<time datetime=\"2020-07-01T22:21:00.000002+00:00\"><span class=\"say-no-more\">2020-</span>07-01</time>\\n <a href=\"http://feedproxy.google.com/~r/PythonSoftwareFoundationNews/~3/lVuq8z0cNNM/announcing-psf-project-funding-working.html\">Announcing the PSF Project Funding Working Group</a></li>\\n                                \\n                            </ul>\\n                        </div><!-- end .shrubbery -->\\n\\n                    </div>\\n\\n                    <div class=\"medium-widget event-widget last\">\\n                        \\n                        <div class=\"shrubbery\">\\n                        \\n                            <h2 class=\"widget-title\"><span aria-hidden=\"true\" class=\"icon-calendar\"></span>Upcoming Events</h2>\\n                            <p class=\"give-me-more\"><a href=\"/events/calendars/\" title=\"More Events\">More</a></p>\\n                            \\n                            <ul class=\"menu\">\\n                                \\n                                \\n                                \\n                                <li>\\n<time datetime=\"2020-07-20T00:00:00+00:00\"><span class=\"say-no-more\">2020-</span>07-20</time>\\n <a href=\"/events/python-events/875/\">EuroPython 2020 (in-person: canceled, considering going virtual)</a></li>\\n                                \\n                                \\n                                \\n                                <li>\\n<time datetime=\"2020-07-23T00:00:00+00:00\"><span class=\"say-no-more\">2020-</span>07-23</time>\\n <a href=\"/events/python-events/966/\">EuroPython 2020 Online</a></li>\\n                                \\n                                \\n                                \\n                                <li>\\n<time datetime=\"2020-07-27T00:00:00+00:00\"><span class=\"say-no-more\">2020-</span>07-27</time>\\n <a href=\"/events/python-events/868/\">EuroSciPy 2020 (canceled)</a></li>\\n                                \\n                                \\n                                \\n                                <li>\\n<time datetime=\"2020-08-28T00:00:00+00:00\"><span class=\"say-no-more\">2020-</span>08-28</time>\\n <a href=\"/events/python-events/951/\">PyCon JP 2020</a></li>\\n                                \\n                                \\n                                \\n                                <li>\\n<time datetime=\"2020-09-05T00:00:00+00:00\"><span class=\"say-no-more\">2020-</span>09-05</time>\\n <a href=\"/events/python-events/963/\">PyCon TW 2020</a></li>\\n                                \\n                                \\n                            </ul>\\n                        </div>\\n\\n                    </div>\\n\\n                </div>\\n\\n                <div class=\"row\">\\n\\n                    <div class=\"medium-widget success-stories-widget\">\\n                        \\n\\n\\n\\n                        <div class=\"shrubbery\">\\n                            \\n\\n                            <h2 class=\"widget-title\"><span aria-hidden=\"true\" class=\"icon-success-stories\"></span>Success Stories</h2>\\n                            <p class=\"give-me-more\"><a href=\"/success-stories/\" title=\"More Success Stories\">More</a></p>\\n\\n                            \\n                            <div class=\"success-story-item\" id=\"success-story-836\">\\n\\n                            <blockquote>\\n                                <a href=\"/success-stories/python-seo-link-analyzer/\">&quot;Python is all about automating repetitive tasks, leaving more time for your other SEO efforts.&quot;</a>\\n                            </blockquote>\\n\\n                            <table cellpadding=\"0\" cellspacing=\"0\" border=\"0\" width=\"100%\" class=\"quote-from\">\\n                                <tbody>\\n                                    <tr>\\n                                        \\n                                        <td><p><a href=\"/success-stories/python-seo-link-analyzer/\">Using Python scripts to analyse SEO and broken links on your site</a> <em>by Marnix de Munck</em></p></td>\\n                                    </tr>\\n                                </tbody>\\n                            </table>\\n                            </div>\\n                            \\n\\n                        </div><!-- end .shrubbery -->\\n\\n                    </div>\\n\\n                    <div class=\"medium-widget applications-widget last\">\\n                        <div class=\"shrubbery\">\\n                            <h2 class=\"widget-title\"><span aria-hidden=\"true\" class=\"icon-python\"></span>Use Python for&hellip;</h2>\\r\\n<p class=\"give-me-more\"><a href=\"/about/apps\" title=\"More Applications\">More</a></p>\\r\\n\\r\\n<ul class=\"menu\">\\r\\n    <li><b>Web Development</b>:\\r\\n        <span class=\"tag-wrapper\"><a class=\"tag\" href=\"http://www.djangoproject.com/\">Django</a>, <a class=\"tag\" href=\"http://www.pylonsproject.org/\">Pyramid</a>, <a class=\"tag\" href=\"http://bottlepy.org\">Bottle</a>, <a class=\"tag\" href=\"http://tornadoweb.org\">Tornado</a>, <a href=\"http://flask.pocoo.org/\" class=\"tag\">Flask</a>, <a class=\"tag\" href=\"http://www.web2py.com/\">web2py</a></span></li>\\r\\n    <li><b>GUI Development</b>:\\r\\n        <span class=\"tag-wrapper\"><a class=\"tag\" href=\"http://wiki.python.org/moin/TkInter\">tkInter</a>, <a class=\"tag\" href=\"https://wiki.gnome.org/Projects/PyGObject\">PyGObject</a>, <a class=\"tag\" href=\"http://www.riverbankcomputing.co.uk/software/pyqt/intro\">PyQt</a>, <a class=\"tag\" href=\"https://wiki.qt.io/PySide\">PySide</a>, <a class=\"tag\" href=\"https://kivy.org/\">Kivy</a>, <a class=\"tag\" href=\"http://www.wxpython.org/\">wxPython</a></span></li>\\r\\n    <li><b>Scientific and Numeric</b>:\\r\\n        <span class=\"tag-wrapper\">\\r\\n<a class=\"tag\" href=\"http://www.scipy.org\">SciPy</a>, <a class=\"tag\" href=\"http://pandas.pydata.org/\">Pandas</a>, <a href=\"http://ipython.org\" class=\"tag\">IPython</a></span></li>\\r\\n    <li><b>Software Development</b>:\\r\\n        <span class=\"tag-wrapper\"><a class=\"tag\" href=\"http://buildbot.net/\">Buildbot</a>, <a class=\"tag\" href=\"http://trac.edgewall.org/\">Trac</a>, <a class=\"tag\" href=\"http://roundup.sourceforge.net/\">Roundup</a></span></li>\\r\\n    <li><b>System Administration</b>:\\r\\n        <span class=\"tag-wrapper\"><a class=\"tag\" href=\"http://www.ansible.com\">Ansible</a>, <a class=\"tag\" href=\"http://www.saltstack.com\">Salt</a>, <a class=\"tag\" href=\"https://www.openstack.org\">OpenStack</a></span></li>\\r\\n</ul>\\r\\n\\n                        </div><!-- end .shrubbery -->\\n                    </div>\\n\\n                </div>\\n\\n                \\n                <div class=\"pep-widget\">\\n\\n                    <h2 class=\"widget-title\">\\n                        <span class=\"prompt\">&gt;&gt;&gt;</span> <a href=\"/dev/peps/\">Python Enhancement Proposals<span class=\"say-no-more\"> (PEPs)</span></a>: The future of Python<span class=\"say-no-more\"> is discussed here.</span>\\n                        <a aria-hidden=\"true\" class=\"rss-link\" href=\"/dev/peps/peps.rss\"><span class=\"icon-feed\"></span> RSS</a>\\n                    </h2>\\n\\n\\n                    \\n                    \\n                </div>\\n\\n                                <div class=\"psf-widget\">\\n\\n                    <div class=\"python-logo\"></div>\\n                    \\n                    <h2 class=\"widget-title\">\\r\\n    <span class=\"prompt\">&gt;&gt;&gt;</span> <a href=\"/psf/\">Python Software Foundation</a>\\r\\n</h2>\\r\\n<p>The mission of the Python Software Foundation is to promote, protect, and advance the Python programming language, and to support and facilitate the growth of a diverse and international community of Python programmers. <a class=\"readmore\" href=\"/psf/\">Learn more</a> </p>\\r\\n<p class=\"click-these\">\\r\\n    <a class=\"button\" href=\"/users/membership/\">Become a Member</a>\\r\\n    <a class=\"button\" href=\"/psf/donations/\">Donate to the PSF</a>\\r\\n</p>\\n                </div>\\n\\n\\n\\n\\n                </section>\\n\\n                \\n                \\n\\n                \\n                \\n\\n\\n            </div><!-- end .container -->\\n        </div><!-- end #content .content-wrapper -->\\n\\n        <!-- Footer and social media list -->\\n        <footer id=\"site-map\" class=\"main-footer\" role=\"contentinfo\">\\n            <div class=\"main-footer-links\">\\n                <div class=\"container\">\\n\\n                    \\n                    <a id=\"back-to-top-1\" class=\"jump-link\" href=\"#python-network\"><span aria-hidden=\"true\" class=\"icon-arrow-up\"><span>&#9650;</span></span> Back to Top</a>\\n\\n                    \\n\\n<ul class=\"sitemap navigation menu do-not-print\" role=\"tree\" id=\"container\">\\n    \\n    <li class=\"tier-1 element-1\">\\n        <a href=\"/about/\" >About</a>\\n        \\n            \\n\\n<ul class=\"subnav menu\">\\n    \\n        <li class=\"tier-2 element-1\" role=\"treeitem\"><a href=\"/about/apps/\" title=\"\">Applications</a></li>\\n    \\n        <li class=\"tier-2 element-2\" role=\"treeitem\"><a href=\"/about/quotes/\" title=\"\">Quotes</a></li>\\n    \\n        <li class=\"tier-2 element-3\" role=\"treeitem\"><a href=\"/about/gettingstarted/\" title=\"\">Getting Started</a></li>\\n    \\n        <li class=\"tier-2 element-4\" role=\"treeitem\"><a href=\"/about/help/\" title=\"\">Help</a></li>\\n    \\n        <li class=\"tier-2 element-5\" role=\"treeitem\"><a href=\"http://brochure.getpython.info/\" title=\"\">Python Brochure</a></li>\\n    \\n</ul>\\n\\n        \\n    </li>\\n    \\n    <li class=\"tier-1 element-2\">\\n        <a href=\"/downloads/\" >Downloads</a>\\n        \\n            \\n\\n<ul class=\"subnav menu\">\\n    \\n        <li class=\"tier-2 element-1\" role=\"treeitem\"><a href=\"/downloads/\" title=\"\">All releases</a></li>\\n    \\n        <li class=\"tier-2 element-2\" role=\"treeitem\"><a href=\"/downloads/source/\" title=\"\">Source code</a></li>\\n    \\n        <li class=\"tier-2 element-3\" role=\"treeitem\"><a href=\"/downloads/windows/\" title=\"\">Windows</a></li>\\n    \\n        <li class=\"tier-2 element-4\" role=\"treeitem\"><a href=\"/downloads/mac-osx/\" title=\"\">Mac OS X</a></li>\\n    \\n        <li class=\"tier-2 element-5\" role=\"treeitem\"><a href=\"/download/other/\" title=\"\">Other Platforms</a></li>\\n    \\n        <li class=\"tier-2 element-6\" role=\"treeitem\"><a href=\"https://docs.python.org/3/license.html\" title=\"\">License</a></li>\\n    \\n        <li class=\"tier-2 element-7\" role=\"treeitem\"><a href=\"/download/alternatives\" title=\"\">Alternative Implementations</a></li>\\n    \\n</ul>\\n\\n        \\n    </li>\\n    \\n    <li class=\"tier-1 element-3\">\\n        <a href=\"/doc/\" >Documentation</a>\\n        \\n            \\n\\n<ul class=\"subnav menu\">\\n    \\n        <li class=\"tier-2 element-1\" role=\"treeitem\"><a href=\"/doc/\" title=\"\">Docs</a></li>\\n    \\n        <li class=\"tier-2 element-2\" role=\"treeitem\"><a href=\"/doc/av\" title=\"\">Audio/Visual Talks</a></li>\\n    \\n        <li class=\"tier-2 element-3\" role=\"treeitem\"><a href=\"https://wiki.python.org/moin/BeginnersGuide\" title=\"\">Beginner&#39;s Guide</a></li>\\n    \\n        <li class=\"tier-2 element-4\" role=\"treeitem\"><a href=\"https://devguide.python.org/\" title=\"\">Developer&#39;s Guide</a></li>\\n    \\n        <li class=\"tier-2 element-5\" role=\"treeitem\"><a href=\"https://docs.python.org/faq/\" title=\"\">FAQ</a></li>\\n    \\n        <li class=\"tier-2 element-6\" role=\"treeitem\"><a href=\"http://wiki.python.org/moin/Languages\" title=\"\">Non-English Docs</a></li>\\n    \\n        <li class=\"tier-2 element-7\" role=\"treeitem\"><a href=\"http://python.org/dev/peps/\" title=\"\">PEP Index</a></li>\\n    \\n        <li class=\"tier-2 element-8\" role=\"treeitem\"><a href=\"https://wiki.python.org/moin/PythonBooks\" title=\"\">Python Books</a></li>\\n    \\n        <li class=\"tier-2 element-9\" role=\"treeitem\"><a href=\"/doc/essays/\" title=\"\">Python Essays</a></li>\\n    \\n</ul>\\n\\n        \\n    </li>\\n    \\n    <li class=\"tier-1 element-4\">\\n        <a href=\"/community/\" >Community</a>\\n        \\n            \\n\\n<ul class=\"subnav menu\">\\n    \\n        <li class=\"tier-2 element-1\" role=\"treeitem\"><a href=\"/community/survey\" title=\"\">Community Survey</a></li>\\n    \\n        <li class=\"tier-2 element-2\" role=\"treeitem\"><a href=\"/community/diversity/\" title=\"\">Diversity</a></li>\\n    \\n        <li class=\"tier-2 element-3\" role=\"treeitem\"><a href=\"/community/lists/\" title=\"\">Mailing Lists</a></li>\\n    \\n        <li class=\"tier-2 element-4\" role=\"treeitem\"><a href=\"/community/irc/\" title=\"\">IRC</a></li>\\n    \\n        <li class=\"tier-2 element-5\" role=\"treeitem\"><a href=\"/community/forums/\" title=\"\">Forums</a></li>\\n    \\n        <li class=\"tier-2 element-6\" role=\"treeitem\"><a href=\"/psf/annual-report/2020/\" title=\"\">PSF Annual Impact Report</a></li>\\n    \\n        <li class=\"tier-2 element-7\" role=\"treeitem\"><a href=\"/community/workshops/\" title=\"\">Python Conferences</a></li>\\n    \\n        <li class=\"tier-2 element-8\" role=\"treeitem\"><a href=\"/community/sigs/\" title=\"\">Special Interest Groups</a></li>\\n    \\n        <li class=\"tier-2 element-9\" role=\"treeitem\"><a href=\"/community/logos/\" title=\"\">Python Logo</a></li>\\n    \\n        <li class=\"tier-2 element-10\" role=\"treeitem\"><a href=\"https://wiki.python.org/moin/\" title=\"\">Python Wiki</a></li>\\n    \\n        <li class=\"tier-2 element-11\" role=\"treeitem\"><a href=\"/community/merchandise/\" title=\"\">Merchandise</a></li>\\n    \\n        <li class=\"tier-2 element-12\" role=\"treeitem\"><a href=\"/community/awards\" title=\"\">Community Awards</a></li>\\n    \\n        <li class=\"tier-2 element-13\" role=\"treeitem\"><a href=\"/psf/conduct/\" title=\"\">Code of Conduct</a></li>\\n    \\n</ul>\\n\\n        \\n    </li>\\n    \\n    <li class=\"tier-1 element-5\">\\n        <a href=\"/success-stories/\" title=\"success-stories\">Success Stories</a>\\n        \\n            \\n\\n<ul class=\"subnav menu\">\\n    \\n        <li class=\"tier-2 element-1\" role=\"treeitem\"><a href=\"/success-stories/category/arts/\" title=\"\">Arts</a></li>\\n    \\n        <li class=\"tier-2 element-2\" role=\"treeitem\"><a href=\"/success-stories/category/business/\" title=\"\">Business</a></li>\\n    \\n        <li class=\"tier-2 element-3\" role=\"treeitem\"><a href=\"/success-stories/category/education/\" title=\"\">Education</a></li>\\n    \\n        <li class=\"tier-2 element-4\" role=\"treeitem\"><a href=\"/success-stories/category/engineering/\" title=\"\">Engineering</a></li>\\n    \\n        <li class=\"tier-2 element-5\" role=\"treeitem\"><a href=\"/success-stories/category/government/\" title=\"\">Government</a></li>\\n    \\n        <li class=\"tier-2 element-6\" role=\"treeitem\"><a href=\"/success-stories/category/scientific/\" title=\"\">Scientific</a></li>\\n    \\n        <li class=\"tier-2 element-7\" role=\"treeitem\"><a href=\"/success-stories/category/software-development/\" title=\"\">Software Development</a></li>\\n    \\n</ul>\\n\\n        \\n    </li>\\n    \\n    <li class=\"tier-1 element-6\">\\n        <a href=\"/blogs/\" title=\"News from around the Python world\">News</a>\\n        \\n            \\n\\n<ul class=\"subnav menu\">\\n    \\n        <li class=\"tier-2 element-1\" role=\"treeitem\"><a href=\"/blogs/\" title=\"Python Insider Blog Posts\">Python News</a></li>\\n    \\n        <li class=\"tier-2 element-2\" role=\"treeitem\"><a href=\"/psf/newsletter/\" title=\"Python Software Foundation Newsletter\">PSF Newsletter</a></li>\\n    \\n        <li class=\"tier-2 element-3\" role=\"treeitem\"><a href=\"http://planetpython.org/\" title=\"Planet Python\">Community News</a></li>\\n    \\n        <li class=\"tier-2 element-4\" role=\"treeitem\"><a href=\"http://pyfound.blogspot.com/\" title=\"PSF Blog\">PSF News</a></li>\\n    \\n        <li class=\"tier-2 element-5\" role=\"treeitem\"><a href=\"http://pycon.blogspot.com/\" title=\"PyCon Blog\">PyCon News</a></li>\\n    \\n</ul>\\n\\n        \\n    </li>\\n    \\n    <li class=\"tier-1 element-7\">\\n        <a href=\"/events/\" >Events</a>\\n        \\n            \\n\\n<ul class=\"subnav menu\">\\n    \\n        <li class=\"tier-2 element-1\" role=\"treeitem\"><a href=\"/events/python-events\" title=\"\">Python Events</a></li>\\n    \\n        <li class=\"tier-2 element-2\" role=\"treeitem\"><a href=\"/events/python-user-group/\" title=\"\">User Group Events</a></li>\\n    \\n        <li class=\"tier-2 element-3\" role=\"treeitem\"><a href=\"/events/python-events/past/\" title=\"\">Python Events Archive</a></li>\\n    \\n        <li class=\"tier-2 element-4\" role=\"treeitem\"><a href=\"/events/python-user-group/past/\" title=\"\">User Group Events Archive</a></li>\\n    \\n        <li class=\"tier-2 element-5\" role=\"treeitem\"><a href=\"https://wiki.python.org/moin/PythonEventsCalendar#Submitting_an_Event\" title=\"\">Submit an Event</a></li>\\n    \\n</ul>\\n\\n        \\n    </li>\\n    \\n    <li class=\"tier-1 element-8\">\\n        <a href=\"/dev/\" >Contributing</a>\\n        \\n            \\n\\n<ul class=\"subnav menu\">\\n    \\n        <li class=\"tier-2 element-1\" role=\"treeitem\"><a href=\"https://devguide.python.org/\" title=\"\">Developer&#39;s Guide</a></li>\\n    \\n        <li class=\"tier-2 element-2\" role=\"treeitem\"><a href=\"https://bugs.python.org/\" title=\"\">Issue Tracker</a></li>\\n    \\n        <li class=\"tier-2 element-3\" role=\"treeitem\"><a href=\"https://mail.python.org/mailman/listinfo/python-dev\" title=\"\">python-dev list</a></li>\\n    \\n        <li class=\"tier-2 element-4\" role=\"treeitem\"><a href=\"/dev/core-mentorship/\" title=\"\">Core Mentorship</a></li>\\n    \\n        <li class=\"tier-2 element-5\" role=\"treeitem\"><a href=\"/dev/security/\" title=\"\">Report a Security Issue</a></li>\\n    \\n</ul>\\n\\n        \\n    </li>\\n    \\n</ul>\\n\\n\\n                    <a id=\"back-to-top-2\" class=\"jump-link\" href=\"#python-network\"><span aria-hidden=\"true\" class=\"icon-arrow-up\"><span>&#9650;</span></span> Back to Top</a>\\n                    \\n\\n                </div><!-- end .container -->\\n            </div> <!-- end .main-footer-links -->\\n\\n            <div class=\"site-base\">\\n                <div class=\"container\">\\n                    \\n                    <ul class=\"footer-links navigation menu do-not-print\" role=\"tree\">\\n                        <li class=\"tier-1 element-1\"><a href=\"/about/help/\">Help &amp; <span class=\"say-no-more\">General</span> Contact</a></li>\\n                        <li class=\"tier-1 element-2\"><a href=\"/community/diversity/\">Diversity <span class=\"say-no-more\">Initiatives</span></a></li>\\n                        <li class=\"tier-1 element-3\"><a href=\"https://github.com/python/pythondotorg/issues\">Submit Website Bug</a></li>\\n                        <li class=\"tier-1 element-4\">\\n                            <a href=\"https://status.python.org/\">Status <span class=\"python-status-indicator-default\" id=\"python-status-indicator\"></span></a>\\n                        </li>\\n                    </ul>\\n\\n                    <div class=\"copyright\">\\n                        <p><small>\\n                            <span class=\"pre\">Copyright &copy;2001-2020.</span>\\n                            &nbsp;<span class=\"pre\"><a href=\"/psf-landing/\">Python Software Foundation</a></span>\\n                            &nbsp;<span class=\"pre\"><a href=\"/about/legal/\">Legal Statements</a></span>\\n                            &nbsp;<span class=\"pre\"><a href=\"/privacy/\">Privacy Policy</a></span>\\n                            &nbsp;<span class=\"pre\"><a href=\"/psf/sponsorship/sponsors/#heroku\">Powered by Heroku</a></span>\\n                        </small></p>\\n                    </div>\\n\\n                </div><!-- end .container -->\\n            </div><!-- end .site-base -->\\n\\n        </footer>\\n\\n    </div><!-- end #touchnav-wrapper -->\\n\\n    \\n    <script src=\"//ajax.googleapis.com/ajax/libs/jquery/1.8.2/jquery.min.js\"></script>\\n    <script>window.jQuery || document.write(\\'<script src=\"/static/js/libs/jquery-1.8.2.min.js\"><\\\\/script>\\')</script>\\n\\n    <script src=\"/static/js/libs/masonry.pkgd.min.js\"></script>\\n    <script src=\"/static/js/libs/html-includes.js\"></script>\\n\\n    <script type=\"text/javascript\" src=\"/static/js/main-min.a3326162e3f0.js\" charset=\"utf-8\"></script>\\n    \\n\\n    <!--[if lte IE 7]>\\n    <script type=\"text/javascript\" src=\"/static/js/plugins/IE8-min.98b6ab00aab8.js\" charset=\"utf-8\"></script>\\n    \\n    \\n    <![endif]-->\\n\\n    <!--[if lte IE 8]>\\n    <script type=\"text/javascript\" src=\"/static/js/plugins/getComputedStyle-min.c3860be1d290.js\" charset=\"utf-8\"></script>\\n    \\n    \\n    <![endif]-->\\n\\n    \\n\\n    \\n    \\n\\n</body>\\n</html>\\n'\n"
     ]
    }
   ],
   "source": [
    "# beginning of web scraping\n",
    "\n",
    "import urllib.request\n",
    "with urllib.request.urlopen('http://python.org/') as f:\n",
    "    html=f.read()\n",
    "print(html)"
   ]
  },
  {
   "cell_type": "code",
   "execution_count": 46,
   "metadata": {},
   "outputs": [],
   "source": [
    "# third-party packages\n",
    "import numpy as np\n",
    "import matplotlib.pyplot as plt"
   ]
  },
  {
   "cell_type": "code",
   "execution_count": 47,
   "metadata": {},
   "outputs": [
    {
     "name": "stdout",
     "output_type": "stream",
     "text": [
      "[3, 4, 5, 6, 6, 5, 4, 3]\n"
     ]
    }
   ],
   "source": [
    "# results in concatenation\n",
    "a=[3,4,5,6]\n",
    "b=[6,5,4,3]\n",
    "print(a+b)"
   ]
  },
  {
   "cell_type": "code",
   "execution_count": 48,
   "metadata": {},
   "outputs": [
    {
     "name": "stdout",
     "output_type": "stream",
     "text": [
      "[9 9 9 9]\n"
     ]
    }
   ],
   "source": [
    "a1=np.array(a)\n",
    "b1=np.array(b)\n",
    "print(a1+b1)"
   ]
  },
  {
   "cell_type": "code",
   "execution_count": 50,
   "metadata": {},
   "outputs": [
    {
     "data": {
      "image/png": "[encoded data removed]",
      "text/plain": [
       "<Figure size 432x288 with 1 Axes>"
      ]
     },
     "metadata": {
      "needs_background": "light"
     },
     "output_type": "display_data"
    }
   ],
   "source": [
    "x=np.linspace(0,4*np.pi,200)\n",
    "y=np.sin(x)\n",
    "plt.plot(x,y)\n",
    "plt.show()"
   ]
  },
  {
   "cell_type": "code",
   "execution_count": 68,
   "metadata": {},
   "outputs": [
    {
     "name": "stdout",
     "output_type": "stream",
     "text": [
      "Please enter your age:2\n",
      "Please enter day of week:thu\n",
      "Entrance fee is: $0.00\n",
      "GST amount is: $0.00\n"
     ]
    }
   ],
   "source": [
    "# Practise Session 2\n",
    "\n",
    "def calc():\n",
    "\n",
    "    age=input(\"Please enter your age:\")\n",
    "    age=int(age)\n",
    "    day=input(\"Please enter day of week:\")\n",
    "    day=day.upper()\n",
    "\n",
    "    # days of week\n",
    "    if day in (\"MON\",\"TUE\",\"WED\",\"THU\",\"FRI\"):\n",
    "        disc_senior = 0.5\n",
    "    else:\n",
    "        disc_senior = 0\n",
    "    if day in (\"SAT\",\"SUN\"):\n",
    "        disc_child = 0.5\n",
    "    else:\n",
    "        disc_child = 0\n",
    "    if day == \"WED\":\n",
    "        disc_adult = 0.25\n",
    "    else:\n",
    "        disc_adult = 0\n",
    "        \n",
    "    #age\n",
    "    if age <4:\n",
    "        fee_entry = 0\n",
    "    elif age <=12:\n",
    "        fee_entry = 5\n",
    "        fee_entry = fee_entry *(1 - disc_child)\n",
    "    elif age <=65:\n",
    "        fee_entry = 10\n",
    "        fee_entry = fee_entry * (1 - disc_adult)\n",
    "    else:\n",
    "        fee_entry = 7.5\n",
    "        fee_entry = fee_entry * (1 - disc_senior)\n",
    "    \n",
    "    GST = 0.07 * fee_entry\n",
    "    return fee_entry, GST\n",
    "\n",
    "fee_entry, GST = calc()\n",
    "\n",
    "print(\"Entrance fee is: ${:.2f}\".format(fee_entry))\n",
    "print(\"GST amount is: ${:.2f}\".format(GST))\n"
   ]
  },
  {
   "cell_type": "code",
   "execution_count": 69,
   "metadata": {},
   "outputs": [
    {
     "name": "stdout",
     "output_type": "stream",
     "text": [
      "10\n"
     ]
    }
   ],
   "source": [
    "a,b = 4,6\n",
    "a,b = b,a+b\n",
    "print(b)"
   ]
  },
  {
   "cell_type": "code",
   "execution_count": 71,
   "metadata": {},
   "outputs": [
    {
     "name": "stdout",
     "output_type": "stream",
     "text": [
      "hello\n"
     ]
    }
   ],
   "source": [
    "a='Hello'\n",
    "b=a.capitalize().lower()\n",
    "print(b)"
   ]
  },
  {
   "cell_type": "code",
   "execution_count": 72,
   "metadata": {},
   "outputs": [
    {
     "data": {
      "text/plain": [
       "True"
      ]
     },
     "execution_count": 72,
     "metadata": {},
     "output_type": "execute_result"
    }
   ],
   "source": [
    "a=1;b=2\n",
    "not(b==3)"
   ]
  },
  {
   "cell_type": "code",
   "execution_count": 73,
   "metadata": {},
   "outputs": [
    {
     "data": {
      "text/plain": [
       "[6, 4]"
      ]
     },
     "execution_count": 73,
     "metadata": {},
     "output_type": "execute_result"
    }
   ],
   "source": [
    "a=range(6,3,-2)\n",
    "list(a)"
   ]
  },
  {
   "cell_type": "code",
   "execution_count": 74,
   "metadata": {},
   "outputs": [
    {
     "name": "stdout",
     "output_type": "stream",
     "text": [
      "31\n"
     ]
    }
   ],
   "source": [
    "a,b,c=1,1,1\n",
    "while b<10:\n",
    "    a,b,c=b,c,a+b+c\n",
    "print(c)"
   ]
  },
  {
   "cell_type": "code",
   "execution_count": 76,
   "metadata": {},
   "outputs": [
    {
     "data": {
      "text/plain": [
       "[(1, 1), (2, 4), (3, 9)]"
      ]
     },
     "execution_count": 76,
     "metadata": {},
     "output_type": "execute_result"
    }
   ],
   "source": [
    "a=[1,2,3]\n",
    "b=[i**2 for i in a]\n",
    "c=zip(a,b)\n",
    "list(c)"
   ]
  },
  {
   "cell_type": "code",
   "execution_count": 77,
   "metadata": {},
   "outputs": [
    {
     "data": {
      "text/plain": [
       "18"
      ]
     },
     "execution_count": 77,
     "metadata": {},
     "output_type": "execute_result"
    }
   ],
   "source": [
    "def f(a=3,b=5):\n",
    "    return a*b\n",
    "f(b=6)"
   ]
  },
  {
   "cell_type": "code",
   "execution_count": 78,
   "metadata": {},
   "outputs": [
    {
     "data": {
      "text/plain": [
       "16"
      ]
     },
     "execution_count": 78,
     "metadata": {},
     "output_type": "execute_result"
    }
   ],
   "source": [
    "f=lambda x:x*x\n",
    "def g(f,x):\n",
    "    return f(x)\n",
    "g(f,4)"
   ]
  },
  {
   "cell_type": "code",
   "execution_count": 79,
   "metadata": {},
   "outputs": [
    {
     "data": {
      "text/plain": [
       "[6, 9, 12]"
      ]
     },
     "execution_count": 79,
     "metadata": {},
     "output_type": "execute_result"
    }
   ],
   "source": [
    "a=[2,3,4]\n",
    "f = lambda x:3*x\n",
    "b = map(f,a)\n",
    "list(b)"
   ]
  },
  {
   "cell_type": "code",
   "execution_count": null,
   "metadata": {},
   "outputs": [],
   "source": []
  },
  {
   "cell_type": "code",
   "execution_count": 7,
   "metadata": {},
   "outputs": [
    {
     "name": "stdout",
     "output_type": "stream",
     "text": [
      "Please enter your name:alfred\n",
      "Please enter your age:55\n",
      "Please enter distance travelled:20.6\n",
      "Alfred your taxi fare is $33.1\n"
     ]
    }
   ],
   "source": [
    "# Practice Session\n",
    "\n",
    "name=input('Please enter your name:')\n",
    "age=input(\"Please enter your age:\")\n",
    "distance=input(\"Please enter distance travelled:\")\n",
    "name=name.capitalize()\n",
    "age=float(age)\n",
    "distance=float(distance)\n",
    "fee_booking=3\n",
    "fee_starting=2\n",
    "cost_per_km_first5=2\n",
    "cost_per_km_next5=1.5\n",
    "cost_per_km_beyond10=1\n",
    "\n",
    "if distance <=5:\n",
    "    cost = cost_per_km_first5 * distance\n",
    "elif distance <=10:\n",
    "    cost = (cost_per_km_first5 * 5) + (cost_per_km_next5 * (distance - 5))\n",
    "else:\n",
    "    cost = (cost_per_km_first5 * 5) + (cost_per_km_next5 * 5) +(cost_per_km_beyond10 * (distance -10))\n",
    "\n",
    "if age >60:\n",
    "    discount = 0.1\n",
    "else:\n",
    "    discount = 0\n",
    "\n",
    "cost = cost + fee_booking + fee_starting\n",
    "cost = cost * (1 - discount)\n",
    "\n",
    "print(\"{} your taxi fare is ${:.1f}\".format(name,cost))\n"
   ]
  },
  {
   "cell_type": "code",
   "execution_count": 4,
   "metadata": {},
   "outputs": [
    {
     "name": "stdout",
     "output_type": "stream",
     "text": [
      "ZONE_N,ZONE_C,SUBZONE_N,SUB_ZONE_C,AGE0-4,AGE5-9,AGE10-14,AGE15-19,AGE20-24,AGE25-29,AGE30-34,AGE35-39,AGE40-44,AGE45-49,AGE50-54,AGE55-59,AGE60-64,AGE65-69,AGE70-74,AGE75-79,AGE80-84,AGE85\n",
      "\n",
      "ANG MO KIO,AM,ANG MO KIO TOWN CENTRE,AMSZ01,200,290,320,280,260,310,320,370,460,450,370,310,280,280,160,150,70,60\n",
      "\n",
      "ANG MO KIO,AM,CHENG SAN,AMSZ02,1130,1090,1140,1270,1450,1840,1970,2320,2220,2170,2250,2130,2240,2070,1210,930,530,390\n",
      "\n",
      "ANG MO KIO,AM,CHONG BOON,AMSZ03,860,910,1040,1300,1390,1750,1730,1940,1960,1880,2170,2130,2160,2010,1430,1100,570,430\n",
      "\n",
      "ANG MO KIO,AM,KEBUN BAHRU,AMSZ06,690,810,980,1110,1280,1480,1290,1500,1670,1730,1870,1820,1780,1670,1120,900,510,410\n",
      "\n",
      "ANG MO KIO,AM,SEMBAWANG HILLS,AMSZ07,200,320,410,520,550,510,300,300,460,520,540,550,450,420,260,220,140,140\n",
      "\n",
      "ANG MO KIO,AM,SHANGRILA,AMSZ05,560,650,740,820,1030,1050,980,1090,1210,1250,1440,1410,1350,1120,790,640,370,320\n",
      "\n",
      "ANG MO KIO,AM,TAGORE,AMSZ08,280,340,430,520,660,700,400,430,550,570,650,730,650,460,260,210,150,130\n",
      "\n",
      "ANG MO KIO,AM,TOWNSVILLE,AMSZ04,950,1030,940,870,1120,1450,1450,1840,1830,1530,1570,1760,1710,1590,1120,970,540,440\n",
      "\n",
      "ANG MO KIO,AM,YIO CHU KANG,AMSZ10,0,0,0,0,0,0,0,0,0,0,0,0,0,0,0,0,0,0\n",
      "\n",
      "ANG MO KIO,AM,YIO CHU KANG EAST,AMSZ12,150,150,210,260,330,320,220,230,260,290,310,340,330,260,150,100,70,60\n",
      "\n",
      "ANG MO KIO,AM,YIO CHU KANG NORTH,AMSZ11,0,0,0,0,0,0,0,0,0,0,0,0,0,0,0,0,0,0\n",
      "\n",
      "ANG MO KIO,AM,YIO CHU KANG WEST,AMSZ09,910,1130,1380,1520,1530,1740,1500,1820,2020,2000,2040,2040,2000,1760,940,690,380,290\n",
      "\n",
      "BEDOK,BD,BAYSHORE,BDSZ08,390,480,480,410,340,320,360,670,880,770,630,420,390,310,180,110,70,110\n",
      "\n",
      "BEDOK,BD,BEDOK NORTH,BDSZ04,2960,3440,3680,4690,5310,5880,4880,5790,6230,6080,6870,7060,6440,5660,3560,2530,1500,1260\n",
      "\n",
      "BEDOK,BD,BEDOK RESERVOIR,BDSZ02,1250,1420,1520,1610,1570,1790,1880,2060,2270,2120,2000,1940,1790,1380,660,470,250,210\n",
      "\n",
      "BEDOK,BD,BEDOK SOUTH,BDSZ06,1750,1950,2310,2660,3160,3530,2830,3030,3360,3610,3830,4080,3720,3350,2140,1720,1050,910\n",
      "\n",
      "BEDOK,BD,FRANKEL,BDSZ05,1590,2020,1920,1820,1970,2060,1870,2550,3240,2910,2440,2180,2090,1900,1110,880,660,690\n",
      "\n",
      "BEDOK,BD,KAKI BUKIT,BDSZ01,1340,1490,1800,2380,3060,3470,2660,2460,2540,2620,3100,3720,3320,2500,1280,850,460,400\n",
      "\n",
      "BEDOK,BD,KEMBANGAN,BDSZ03,1530,1440,1640,1980,2370,3090,2700,2590,2590,2680,2910,3270,3110,2600,1590,1190,730,690\n",
      "\n",
      "BEDOK,BD,SIGLAP,BDSZ07,180,270,280,340,390,420,330,420,510,520,490,490,440,510,400,300,210,130\n",
      "\n",
      "BISHAN,BS,BISHAN EAST,BSSZ03,990,1230,1360,1410,1790,2650,1850,1880,2150,2120,2120,2470,2360,1930,1030,830,460,340\n",
      "\n",
      "BISHAN,BS,MARYMOUNT,BSSZ02,1250,1460,1690,1890,2430,2490,1720,2030,2310,2280,2660,2590,2150,1560,880,610,340,330\n",
      "\n",
      "BISHAN,BS,UPPER THOMSON,BSSZ01,1000,1380,1510,1740,2040,2220,1560,1780,2190,2380,2460,2540,2410,1940,1220,990,660,630\n",
      "\n",
      "BOON LAY,BL,LIU FANG,BLSZ02,0,0,0,0,0,0,0,0,0,0,0,0,0,0,0,0,0,0\n",
      "\n",
      "BOON LAY,BL,SAMULUN,BLSZ03,0,0,0,0,0,0,0,0,0,0,0,0,0,0,0,0,0,0\n",
      "\n",
      "BOON LAY,BL,SHIPYARD,BLSZ04,0,0,0,0,0,0,0,0,0,0,0,0,0,0,0,0,0,0\n",
      "\n",
      "BOON LAY,BL,TUKANG,BLSZ01,0,0,0,0,0,0,0,0,0,0,0,0,0,0,0,0,0,0\n",
      "\n",
      "BUKIT BATOK,BK,BRICKWORKS,BKSZ03,0,0,0,0,0,0,0,0,0,0,0,0,0,0,0,0,0,0\n",
      "\n",
      "BUKIT BATOK,BK,BUKIT BATOK CENTRAL,BKSZ07,910,1170,1270,1470,1570,2140,1660,1700,1840,1940,1990,2130,2020,1420,760,540,320,270\n",
      "\n",
      "BUKIT BATOK,BK,BUKIT BATOK EAST,BKSZ08,390,540,660,770,890,1100,990,950,1050,1020,1110,1300,1220,830,420,300,170,130\n",
      "\n",
      "BUKIT BATOK,BK,BUKIT BATOK SOUTH,BKSZ09,550,620,770,1010,1170,1220,980,920,930,1120,1260,1290,990,580,260,180,100,70\n",
      "\n",
      "BUKIT BATOK,BK,BUKIT BATOK WEST,BKSZ06,650,770,830,920,1000,1240,1240,1140,1180,1160,1200,1300,1200,880,420,280,180,150\n",
      "\n",
      "BUKIT BATOK,BK,GOMBAK,BKSZ01,480,630,550,560,610,650,690,920,910,750,750,660,620,530,310,240,140,110\n",
      "\n",
      "BUKIT BATOK,BK,GUILIN,BKSZ04,530,620,740,800,900,920,900,970,1160,1170,1180,1020,860,630,340,280,140,160\n",
      "\n",
      "BUKIT BATOK,BK,HILLVIEW,BKSZ05,640,760,1100,1490,1590,1330,940,1010,1380,1700,1940,1650,1250,900,440,320,170,170\n",
      "\n",
      "BUKIT BATOK,BK,HONG KAH NORTH,BKSZ02,950,1190,1380,1730,1960,2350,1840,1860,1920,2060,2300,2600,2190,1410,740,500,260,210\n",
      "\n",
      "BUKIT MERAH,BM,ALEXANDRA HILL,BMSZ07,500,580,670,790,880,1050,850,840,980,980,1150,1210,1180,1160,670,580,390,380\n",
      "\n",
      "BUKIT MERAH,BM,ALEXANDRA NORTH,BMSZ06,80,60,50,60,40,60,80,120,130,100,90,40,50,30,20,10,10,10\n",
      "\n",
      "BUKIT MERAH,BM,BUKIT HO SWEE,BMSZ09,670,640,530,630,700,990,1070,1160,1080,990,1210,1290,1270,1130,770,680,430,430\n",
      "\n",
      "BUKIT MERAH,BM,BUKIT MERAH,BMSZ02,40,60,60,60,70,70,80,80,70,90,90,80,80,90,70,50,30,20\n",
      "\n",
      "BUKIT MERAH,BM,CITY TERMINALS,BMSZ17,0,0,0,0,0,0,0,0,0,0,0,0,0,0,0,0,0,0\n",
      "\n",
      "BUKIT MERAH,BM,DEPOT ROAD,BMSZ12,330,380,290,260,280,290,430,540,640,490,420,330,330,340,230,170,90,80\n",
      "\n",
      "BUKIT MERAH,BM,EVERTON PARK,BMSZ16,370,350,400,370,360,560,540,680,780,710,560,590,670,650,400,370,210,190\n",
      "\n",
      "BUKIT MERAH,BM,HENDERSON HILL,BMSZ08,430,520,480,570,640,750,660,720,810,870,890,950,880,830,630,580,390,280\n",
      "\n",
      "BUKIT MERAH,BM,KAMPONG TIONG BAHRU,BMSZ11,300,340,420,420,490,610,570,570,700,750,770,820,840,790,530,460,280,180\n",
      "\n",
      "BUKIT MERAH,BM,MARITIME SQUARE,BMSZ01,180,200,150,130,90,110,180,330,330,300,260,170,130,100,50,30,20,20\n",
      "\n",
      "BUKIT MERAH,BM,REDHILL,BMSZ03,630,790,560,540,580,750,740,1090,1130,920,870,930,710,610,410,380,260,290\n",
      "\n",
      "BUKIT MERAH,BM,SINGAPORE GENERAL HOSPITAL,BMSZ05,0,0,0,0,0,0,0,0,0,0,0,0,0,0,0,0,0,0\n",
      "\n",
      "BUKIT MERAH,BM,TELOK BLANGAH DRIVE,BMSZ13,800,640,690,730,740,1090,1160,1390,1310,1220,1180,1180,1080,1160,760,680,390,300\n",
      "\n",
      "BUKIT MERAH,BM,TELOK BLANGAH RISE,BMSZ15,410,420,530,560,720,830,710,920,1020,930,910,970,1130,1160,740,580,300,240\n",
      "\n",
      "BUKIT MERAH,BM,TELOK BLANGAH WAY,BMSZ14,380,460,400,410,460,530,520,740,810,770,810,850,810,730,520,450,270,240\n",
      "\n",
      "BUKIT MERAH,BM,TIONG BAHRU,BMSZ10,810,640,470,450,450,790,1120,1280,1170,860,790,760,880,780,560,490,240,320\n",
      "\n",
      "BUKIT MERAH,BM,TIONG BAHRU STATION,BMSZ04,810,950,830,720,750,1070,1080,1390,1430,1310,1110,1110,940,850,570,610,360,300\n",
      "\n",
      "BUKIT PANJANG,BP,BANGKIT,BPSZ04,740,870,1080,1440,1830,2070,1390,1310,1570,1630,2170,2270,1770,1210,750,550,330,270\n",
      "\n",
      "BUKIT PANJANG,BP,DAIRY FARM,BPSZ06,280,360,430,460,470,510,410,450,540,590,530,500,400,250,140,90,50,60\n",
      "\n",
      "BUKIT PANJANG,BP,FAJAR,BPSZ03,1910,1790,1650,1680,1960,2520,2450,2310,2160,1950,2150,2000,1640,1140,620,430,240,180\n",
      "\n",
      "BUKIT PANJANG,BP,JELEBU,BPSZ05,1040,1330,1720,2270,2560,2780,1850,1860,2310,2570,2840,2970,2320,1580,890,610,380,260\n",
      "\n",
      "BUKIT PANJANG,BP,NATURE RESERVE,BPSZ07,170,200,240,280,270,270,200,250,300,370,360,310,240,180,90,70,40,30\n",
      "\n",
      "BUKIT PANJANG,BP,SAUJANA,BPSZ02,1820,1540,1520,1690,1780,2150,2490,2120,1940,1930,1860,1940,1550,990,430,280,170,180\n",
      "\n",
      "BUKIT PANJANG,BP,SENJA,BPSZ01,1660,1450,1320,1320,1090,1340,2040,1920,1910,1530,1330,1280,1090,760,400,290,150,150\n",
      "\n",
      "BUKIT TIMAH,BT,ANAK BUKIT,BTSZ01,760,1070,1250,1340,1660,1770,1200,1190,1510,1700,1690,1770,1650,1300,820,630,370,300\n",
      "\n",
      "BUKIT TIMAH,BT,CORONATION ROAD,BTSZ06,290,490,380,360,360,370,270,400,550,580,470,370,320,340,260,210,130,110\n",
      "\n",
      "BUKIT TIMAH,BT,FARRER COURT,BTSZ08,350,430,370,340,270,320,360,490,570,560,430,380,290,310,180,150,120,100\n",
      "\n",
      "BUKIT TIMAH,BT,HILLCREST,BTSZ05,410,680,590,610,490,420,380,600,820,870,750,600,470,400,320,260,160,170\n",
      "\n",
      "BUKIT TIMAH,BT,HOLLAND ROAD,BTSZ03,470,760,790,730,620,510,480,650,1020,1070,790,670,580,470,300,270,150,130\n",
      "\n",
      "BUKIT TIMAH,BT,LEEDON PARK,BTSZ07,300,320,360,380,370,370,330,430,540,630,530,420,400,360,290,160,90,100\n",
      "\n",
      "BUKIT TIMAH,BT,SWISS CLUB,BTSZ02,230,330,360,380,350,360,300,350,420,490,440,360,390,260,200,130,110,130\n",
      "\n",
      "BUKIT TIMAH,BT,ULU PANDAN,BTSZ04,410,640,660,620,700,680,500,610,880,910,840,760,750,730,420,310,190,140\n",
      "\n",
      "CENTRAL WATER CATCHMENT,CC,CENTRAL WATER CATCHMENT,CCSZ01,0,0,0,0,0,0,0,0,0,0,0,0,0,0,0,0,0,0\n",
      "\n",
      "CHANGI,CH,CHANGI AIRPORT,CHSZ03,0,0,0,0,0,0,0,0,0,0,0,0,0,0,0,0,0,0\n",
      "\n",
      "CHANGI,CH,CHANGI POINT,CHSZ01,20,20,30,40,30,40,30,30,60,60,60,70,80,60,30,30,20,30\n",
      "\n",
      "CHANGI,CH,CHANGI WEST,CHSZ02,130,170,140,100,80,60,120,180,190,110,70,40,20,30,10,20,10,0\n",
      "\n",
      "CHANGI BAY,CB,CHANGI BAY,CBSZ01,0,0,0,0,0,0,0,0,0,0,0,0,0,0,0,0,0,0\n",
      "\n",
      "CHOA CHU KANG,CK,CHOA CHU KANG CENTRAL,CKSZ03,780,1020,1280,1590,2000,1630,1230,1410,1600,1840,2180,1730,1230,800,450,340,190,130\n",
      "\n",
      "CHOA CHU KANG,CK,CHOA CHU KANG NORTH,CKSZ05,1060,1430,2080,3260,3790,2410,1700,1670,2060,3140,3790,2750,1820,1070,550,440,260,210\n",
      "\n",
      "CHOA CHU KANG,CK,KEAT HONG,CKSZ02,2380,1660,1570,1900,2230,3340,2850,2210,1960,2090,2260,1720,1260,810,440,300,210,160\n",
      "\n",
      "CHOA CHU KANG,CK,PENG SIANG,CKSZ04,1730,1680,1840,2310,2890,2820,2780,2480,2350,2520,2960,2640,2070,1460,660,440,290,260\n",
      "\n",
      "CHOA CHU KANG,CK,TECK WHYE,CKSZ01,870,980,1210,1720,2330,2300,1580,1430,1600,1850,2470,2310,1920,1350,770,590,350,260\n",
      "\n",
      "CHOA CHU KANG,CK,YEW TEE,CKSZ06,1800,2500,2790,3230,3250,2840,2540,3440,3770,3870,3620,3210,2350,1370,690,510,290,230\n",
      "\n",
      "CLEMENTI,CL,CLEMENTI CENTRAL,CLSZ06,480,630,650,650,690,770,770,1000,1110,1050,990,930,930,950,580,450,280,210\n",
      "\n",
      "CLEMENTI,CL,CLEMENTI NORTH,CLSZ04,1370,1260,1170,1320,1380,1930,2400,2460,2440,2180,2220,1930,2150,2280,1470,1140,650,600\n",
      "\n",
      "CLEMENTI,CL,CLEMENTI WEST,CLSZ08,590,750,780,850,850,1000,960,1260,1330,1320,1310,1230,1320,1130,650,460,240,170\n",
      "\n",
      "CLEMENTI,CL,CLEMENTI WOODS,CLSZ07,870,790,760,810,810,1030,1220,1260,1210,1150,1230,1120,1110,1090,690,530,280,220\n",
      "\n",
      "CLEMENTI,CL,FABER,CLSZ03,180,330,300,310,280,340,270,320,370,390,350,330,270,230,150,110,60,40\n",
      "\n",
      "CLEMENTI,CL,PANDAN,CLSZ09,0,0,0,0,0,0,0,0,0,0,0,0,0,0,0,0,0,0\n",
      "\n",
      "CLEMENTI,CL,SUNSET WAY,CLSZ02,210,240,280,340,400,430,370,360,410,450,520,450,510,490,270,200,110,80\n",
      "\n",
      "CLEMENTI,CL,TOH TUCK,CLSZ01,0,0,0,0,0,0,0,0,0,0,0,0,0,0,0,0,0,0\n",
      "\n",
      "CLEMENTI,CL,WEST COAST,CLSZ05,310,460,450,360,340,310,260,470,690,560,450,360,290,300,200,110,60,50\n",
      "\n",
      "DOWNTOWN CORE,DT,ANSON,DTSZ10,0,0,0,0,0,0,0,0,0,0,0,0,0,0,0,0,0,0\n",
      "\n",
      "DOWNTOWN CORE,DT,BAYFRONT SUBZONE,DTSZ12,0,0,0,0,0,0,0,0,0,0,0,0,0,0,0,0,0,0\n",
      "\n",
      "DOWNTOWN CORE,DT,BUGIS,DTSZ01,10,20,20,30,40,50,60,60,70,70,70,50,60,80,40,40,20,30\n",
      "\n",
      "DOWNTOWN CORE,DT,CECIL,DTSZ08,20,10,10,10,10,10,30,30,40,20,10,10,10,10,0,0,0,0\n",
      "\n",
      "DOWNTOWN CORE,DT,CENTRAL SUBZONE,DTSZ11,40,20,20,20,20,50,60,90,80,70,40,50,30,20,10,0,0,0\n",
      "\n",
      "DOWNTOWN CORE,DT,CITY HALL,DTSZ02,0,0,0,0,0,0,0,0,0,0,0,0,0,0,0,0,0,0\n",
      "\n",
      "DOWNTOWN CORE,DT,CLIFFORD PIER,DTSZ06,0,0,0,0,0,0,0,0,0,0,0,0,0,0,0,0,0,0\n",
      "\n",
      "DOWNTOWN CORE,DT,MARINA CENTRE,DTSZ03,0,0,0,0,0,0,0,0,0,0,0,0,0,0,0,0,0,0\n",
      "\n",
      "DOWNTOWN CORE,DT,MAXWELL,DTSZ07,0,0,0,0,0,0,0,0,0,0,0,0,0,0,0,0,0,0\n",
      "\n",
      "DOWNTOWN CORE,DT,PHILLIP,DTSZ04,0,0,0,0,0,0,0,0,0,0,0,0,0,0,0,0,0,0\n",
      "\n",
      "DOWNTOWN CORE,DT,RAFFLES PLACE,DTSZ05,0,0,0,0,0,0,0,0,0,0,0,0,0,0,0,0,0,0\n",
      "\n",
      "DOWNTOWN CORE,DT,TANJONG PAGAR,DTSZ09,30,10,10,10,20,40,80,90,70,50,50,30,30,20,10,0,10,40\n",
      "\n",
      "GEYLANG,GL,ALJUNIED,GLSZ04,1360,1680,1680,1850,2200,2860,2740,2850,3340,3080,3140,3250,3030,2480,1490,1310,830,820\n",
      "\n",
      "GEYLANG,GL,GEYLANG EAST,GLSZ05,1350,1490,1450,1590,1900,2340,2060,2560,2550,2300,2330,2380,2370,2090,1300,940,620,520\n",
      "\n",
      "GEYLANG,GL,KALLANG WAY,GLSZ01,0,0,0,0,0,0,0,0,0,0,0,0,0,0,0,0,0,0\n",
      "\n",
      "GEYLANG,GL,KAMPONG UBI,GLSZ03,440,490,620,700,950,1230,900,890,830,830,970,1200,1060,700,370,220,110,90\n",
      "\n",
      "GEYLANG,GL,MACPHERSON,GLSZ02,1130,1060,1270,1510,1780,2090,1900,1760,1890,2140,2430,2510,2150,1650,1080,1080,680,570\n",
      "\n",
      "HOUGANG,HG,DEFU INDUSTRIAL PARK,HGSZ09,0,0,0,0,0,0,0,0,0,0,0,0,0,0,0,0,0,0\n",
      "\n",
      "HOUGANG,HG,HOUGANG CENTRAL,HGSZ01,120,170,240,320,390,430,270,270,280,390,420,450,350,250,140,110,90,70\n",
      "\n",
      "HOUGANG,HG,HOUGANG EAST,HGSZ03,1430,1050,1040,1320,1810,2380,2300,2000,1680,1530,1980,2090,1640,1130,630,410,230,200\n",
      "\n",
      "HOUGANG,HG,HOUGANG WEST,HGSZ04,1360,1580,1890,2610,3720,4310,3090,2860,2950,3220,4240,4810,4090,2890,1580,1050,630,480\n",
      "\n",
      "HOUGANG,HG,KANGKAR,HGSZ02,1560,1360,1490,1700,1760,2230,2510,2160,2410,2250,2340,2320,2120,1570,930,760,430,310\n",
      "\n",
      "HOUGANG,HG,KOVAN,HGSZ06,970,1170,1340,1640,1880,2130,1490,1630,2010,2000,1950,2110,1940,1400,820,680,340,390\n",
      "\n",
      "HOUGANG,HG,LORONG AH SOO,HGSZ07,1030,1210,1550,1880,2090,2370,2070,2160,2480,2420,2720,2690,2670,2150,1350,1040,600,510\n",
      "\n",
      "HOUGANG,HG,LORONG HALUS,HGSZ10,0,0,0,0,0,0,0,0,0,0,0,0,0,0,0,0,0,0\n",
      "\n",
      "HOUGANG,HG,TAI SENG,HGSZ08,460,660,730,900,1040,1060,830,810,960,1060,1150,1200,1110,860,470,440,300,270\n",
      "\n",
      "HOUGANG,HG,TRAFALGAR,HGSZ05,1720,2150,2420,2990,3270,3050,2640,2890,3380,3550,3960,3900,3150,2170,1170,810,470,430\n",
      "\n",
      "JURONG EAST,JE,INTERNATIONAL BUSINESS PARK,JESZ06,0,0,0,0,0,0,0,0,0,0,0,0,0,0,0,0,0,0\n",
      "\n",
      "JURONG EAST,JE,JURONG GATEWAY,JESZ05,10,10,20,20,10,20,30,20,30,30,20,10,10,0,0,0,0,0\n",
      "\n",
      "JURONG EAST,JE,JURONG PORT,JESZ09,0,0,0,0,0,0,0,0,0,0,0,0,0,0,0,0,0,0\n",
      "\n",
      "JURONG EAST,JE,JURONG RIVER,JESZ07,0,0,0,0,0,0,0,0,0,0,0,0,0,0,0,0,0,0\n",
      "\n",
      "JURONG EAST,JE,LAKESIDE,JESZ04,30,30,30,30,50,70,80,60,70,80,60,60,70,90,50,50,20,10\n",
      "\n",
      "JURONG EAST,JE,PENJURU CRESCENT,JESZ10,0,0,0,0,0,0,0,0,0,0,0,0,0,0,0,0,0,0\n",
      "\n",
      "JURONG EAST,JE,TEBAN GARDENS,JESZ08,1000,960,940,1060,1130,1420,1500,1510,1470,1350,1410,1410,1440,1420,810,490,250,200\n",
      "\n",
      "JURONG EAST,JE,TOH GUAN,JESZ03,580,710,830,1000,1170,1400,1050,1120,1150,1210,1270,1440,1290,800,350,240,140,120\n",
      "\n",
      "JURONG EAST,JE,YUHUA EAST,JESZ02,820,960,1240,1420,1630,2020,1820,1880,1940,1950,2000,2140,2190,1810,1040,730,390,350\n",
      "\n",
      "JURONG EAST,JE,YUHUA WEST,JESZ01,760,860,1030,1250,1340,1670,1300,1290,1510,1540,1570,1700,1650,1280,630,530,270,240\n",
      "\n",
      "JURONG WEST,JW,BOON LAY PLACE,JWSZ02,1790,1800,1660,1850,1940,2140,2610,2340,2280,2340,2290,2090,1680,1390,830,570,300,210\n",
      "\n",
      "JURONG WEST,JW,CHIN BEE,JWSZ05,0,0,0,0,0,0,0,0,0,0,0,0,0,0,0,0,0,0\n",
      "\n",
      "JURONG WEST,JW,HONG KAH,JWSZ03,1990,2390,2890,3330,3570,4330,3720,4010,4310,4260,4210,4270,4480,3460,1900,1230,630,460\n",
      "\n",
      "JURONG WEST,JW,JURONG WEST CENTRAL,JWSZ09,3500,4580,4470,4020,3760,4930,5260,6940,6660,5490,4520,4340,3920,2630,1200,720,390,300\n",
      "\n",
      "JURONG WEST,JW,KIAN TECK,JWSZ06,0,0,0,0,0,0,0,0,0,0,0,0,0,0,0,0,0,0\n",
      "\n",
      "JURONG WEST,JW,SAFTI,JWSZ07,0,0,0,0,0,0,0,0,0,0,0,0,0,0,0,0,0,0\n",
      "\n",
      "JURONG WEST,JW,TAMAN JURONG,JWSZ04,1970,2030,2130,2530,2680,2660,2740,2980,2840,3170,2970,2630,2250,1690,890,620,360,260\n",
      "\n",
      "JURONG WEST,JW,WENYA,JWSZ01,590,740,630,440,360,470,740,1090,880,660,480,430,390,300,150,110,60,60\n",
      "\n",
      "JURONG WEST,JW,YUNNAN,JWSZ08,2420,3140,3970,5010,6310,5770,4170,4850,5190,5400,6300,5320,4350,3140,1560,950,510,380\n",
      "\n",
      "KALLANG,KL,BENDEMEER,KLSZ01,1640,1560,1410,1460,1640,2410,2680,3090,2910,2600,2330,2520,2500,2260,1380,1170,700,610\n",
      "\n",
      "KALLANG,KL,BOON KENG,KLSZ03,510,460,470,550,610,820,860,900,890,930,920,1010,930,850,540,510,290,280\n",
      "\n",
      "KALLANG,KL,CRAWFORD,KLSZ09,280,290,300,350,410,500,470,490,560,650,750,920,810,820,580,540,330,300\n",
      "\n",
      "KALLANG,KL,GEYLANG BAHRU,KLSZ02,380,450,540,630,680,730,670,830,980,1000,1080,1020,910,780,550,500,320,280\n",
      "\n",
      "KALLANG,KL,KALLANG BAHRU,KLSZ08,0,0,0,0,0,0,0,0,0,0,0,0,0,0,0,0,0,0\n",
      "\n",
      "KALLANG,KL,KAMPONG BUGIS,KLSZ04,20,20,30,40,60,80,70,60,70,40,60,70,100,70,30,20,10,10\n",
      "\n",
      "KALLANG,KL,KAMPONG JAVA,KLSZ07,390,490,480,500,550,690,660,780,950,900,810,790,750,760,490,410,230,230\n",
      "\n",
      "KALLANG,KL,LAVENDER,KLSZ06,370,450,470,440,500,660,620,710,830,810,790,800,730,680,400,360,200,170\n",
      "\n",
      "KALLANG,KL,TANJONG RHU,KLSZ05,520,640,640,610,520,500,620,940,1240,1120,920,740,690,510,340,250,140,130\n",
      "\n",
      "LIM CHU KANG,LK,LIM CHU KANG,LKSZ01,0,10,10,10,10,0,10,0,10,10,10,10,10,10,10,0,0,0\n",
      "\n",
      "MANDAI,MD,MANDAI EAST,MDSZ02,0,0,0,0,0,0,0,0,0,0,0,0,0,0,0,0,0,0\n",
      "\n",
      "MANDAI,MD,MANDAI ESTATE,MDSZ03,90,110,150,160,160,150,130,150,180,180,170,150,110,80,60,40,20,20\n",
      "\n",
      "MANDAI,MD,MANDAI WEST,MDSZ01,0,0,0,0,0,0,0,0,0,0,0,0,0,0,0,0,0,0\n",
      "\n",
      "MARINA EAST,ME,MARINA EAST,MESZ01,0,0,0,0,0,0,0,0,0,0,0,0,0,0,0,0,0,0\n",
      "\n",
      "MARINA SOUTH,MS,MARINA SOUTH,MSSZ01,0,0,0,0,0,0,0,0,0,0,0,0,0,0,0,0,0,0\n",
      "\n",
      "MARINE PARADE,MP,EAST COAST,MPSZ04,0,0,0,0,0,0,0,0,0,0,0,0,0,0,0,0,0,0\n",
      "\n",
      "MARINE PARADE,MP,KATONG,MPSZ02,420,500,500,500,540,560,550,770,920,820,690,680,560,500,320,250,180,180\n",
      "\n",
      "MARINE PARADE,MP,MARINA EAST (MP),MPSZ05,0,0,0,0,0,0,0,0,0,0,0,0,0,0,0,0,0,0\n",
      "\n",
      "MARINE PARADE,MP,MARINE PARADE,MPSZ03,1210,1500,1450,1400,1430,1470,1400,2030,2430,2310,2070,1960,1780,1650,1280,1270,780,680\n",
      "\n",
      "MARINE PARADE,MP,MOUNTBATTEN,MPSZ01,500,560,580,610,610,650,600,800,890,910,790,730,640,590,370,210,180,170\n",
      "\n",
      "MUSEUM,MU,BRAS BASAH,MUSZ03,0,0,0,0,0,0,0,0,0,0,0,0,0,0,0,0,0,0\n",
      "\n",
      "MUSEUM,MU,DHOBY GHAUT,MUSZ01,10,10,0,0,0,10,20,40,30,20,20,10,10,10,0,0,0,0\n",
      "\n",
      "MUSEUM,MU,FORT CANNING,MUSZ02,10,10,10,10,10,10,10,10,30,20,20,10,10,0,10,0,0,0\n",
      "\n",
      "NEWTON,NT,CAIRNHILL,NTSZ04,180,250,180,150,180,190,200,290,360,360,280,240,180,210,100,70,60,60\n",
      "\n",
      "NEWTON,NT,GOODWOOD PARK,NTSZ02,60,100,80,50,50,50,40,100,130,100,90,50,60,40,20,10,10,30\n",
      "\n",
      "NEWTON,NT,ISTANA NEGARA,NTSZ06,0,0,0,0,0,0,0,0,0,0,0,0,0,0,0,0,0,0\n",
      "\n",
      "NEWTON,NT,MONK'S HILL,NTSZ05,30,60,50,50,60,50,40,60,100,100,80,60,50,40,30,40,10,20\n",
      "\n",
      "NEWTON,NT,NEWTON CIRCUS,NTSZ03,20,20,10,10,10,10,10,30,20,30,20,20,10,10,10,0,0,10\n",
      "\n",
      "NEWTON,NT,ORANGE GROVE,NTSZ01,60,90,70,50,70,80,60,110,140,140,150,120,120,110,70,40,20,20\n",
      "\n",
      "NORTHEASTERN ISLANDS,NE,NORTHEASTERN ISLANDS,NESZ01,0,0,0,0,0,0,0,0,0,0,0,0,0,0,0,0,0,0\n",
      "\n",
      "NOVENA,NV,BALESTIER,NVSZ01,1330,1520,1510,1500,1720,2160,2080,2460,2840,2650,2540,2360,2120,1820,1300,1130,730,700\n",
      "\n",
      "NOVENA,NV,DUNEARN,NVSZ04,130,220,240,270,270,220,170,200,280,330,340,280,250,240,170,120,90,100\n",
      "\n",
      "NOVENA,NV,MALCOLM,NVSZ03,110,200,190,160,140,150,110,140,260,220,210,210,160,160,100,70,50,70\n",
      "\n",
      "NOVENA,NV,MOULMEIN,NVSZ02,560,830,530,440,380,430,500,870,1060,810,650,480,410,320,210,170,120,100\n",
      "\n",
      "NOVENA,NV,MOUNT PLEASANT,NVSZ05,20,30,30,50,50,50,40,40,20,40,70,60,50,40,30,10,20,10\n",
      "\n",
      "ORCHARD,OR,BOULEVARD,ORSZ02,20,30,10,20,10,30,30,30,40,40,40,30,40,30,20,10,10,10\n",
      "\n",
      "ORCHARD,OR,SOMERSET,ORSZ03,10,10,0,10,0,0,10,10,10,10,10,10,10,0,10,0,0,0\n",
      "\n",
      "ORCHARD,OR,TANGLIN,ORSZ01,20,30,20,20,20,20,20,30,30,40,40,40,20,30,20,10,0,10\n",
      "\n",
      "OUTRAM,OT,CHINA SQUARE,OTSZ04,40,30,30,40,70,80,100,90,110,100,110,130,160,160,100,90,40,40\n",
      "\n",
      "OUTRAM,OT,CHINATOWN,OTSZ03,700,740,430,340,390,630,730,1270,1170,800,740,710,630,660,430,370,260,320\n",
      "\n",
      "OUTRAM,OT,PEARL'S HILL,OTSZ01,260,260,260,260,290,430,380,370,430,490,630,710,760,690,480,460,230,300\n",
      "\n",
      "OUTRAM,OT,PEOPLE'S PARK,OTSZ02,10,0,0,10,10,30,40,30,30,40,20,20,20,20,10,10,10,10\n",
      "\n",
      "PASIR RIS,PR,FLORA DRIVE,PRSZ08,630,740,880,1010,1080,950,820,1100,1340,1270,1310,1100,850,540,330,260,160,170\n",
      "\n",
      "PASIR RIS,PR,LOYANG EAST,PRSZ07,60,70,120,150,190,170,100,110,140,170,170,220,190,120,70,40,30,30\n",
      "\n",
      "PASIR RIS,PR,LOYANG WEST,PRSZ06,0,0,0,0,0,0,0,0,0,0,10,0,10,20,20,30,40,70\n",
      "\n",
      "PASIR RIS,PR,PASIR RIS CENTRAL,PRSZ03,1600,1410,1490,2000,2540,2370,2180,1980,1980,2160,2740,2360,1540,950,540,390,260,190\n",
      "\n",
      "PASIR RIS,PR,PASIR RIS DRIVE,PRSZ05,1800,2450,3060,4470,6080,4950,2740,3110,3490,4200,6070,5190,3700,2510,1240,870,540,490\n",
      "\n",
      "PASIR RIS,PR,PASIR RIS PARK,PRSZ04,440,550,440,460,370,350,490,790,790,640,570,310,190,120,80,50,20,20\n",
      "\n",
      "PASIR RIS,PR,PASIR RIS WAFER FAB PARK,PRSZ01,0,0,0,0,0,0,0,0,0,0,0,0,0,0,0,0,0,0\n",
      "\n",
      "PASIR RIS,PR,PASIR RIS WEST,PRSZ02,1320,1750,2190,3080,3720,2440,1840,2170,2640,3260,3940,2790,1840,1130,600,480,320,250\n",
      "\n",
      "PAYA LEBAR,PL,AIRPORT ROAD,PLSZ04,0,0,0,0,0,0,0,0,0,0,0,0,0,0,0,0,0,0\n",
      "\n",
      "PAYA LEBAR,PL,PAYA LEBAR EAST,PLSZ02,0,0,0,0,0,0,0,0,0,0,0,0,0,0,0,0,0,0\n",
      "\n",
      "PAYA LEBAR,PL,PAYA LEBAR NORTH,PLSZ01,0,0,0,0,0,0,0,0,0,0,0,0,0,0,0,0,0,0\n",
      "\n",
      "PAYA LEBAR,PL,PAYA LEBAR WEST,PLSZ03,0,0,0,0,0,0,0,0,0,0,0,0,0,0,0,0,0,0\n",
      "\n",
      "PAYA LEBAR,PL,PLAB,PLSZ05,0,0,0,0,0,0,0,0,0,0,0,0,0,0,0,0,0,0\n",
      "\n",
      "PIONEER,PN,BENOI SECTOR,PNSZ03,0,0,0,0,0,0,0,0,0,0,0,0,0,0,0,0,0,0\n",
      "\n",
      "PIONEER,PN,GUL BASIN,PNSZ04,0,0,0,0,0,0,0,0,0,0,0,0,0,0,0,0,0,0\n",
      "\n",
      "PIONEER,PN,GUL CIRCLE,PNSZ02,0,0,0,0,0,0,0,0,0,0,0,0,0,0,0,0,0,0\n",
      "\n",
      "PIONEER,PN,JOO KOON,PNSZ01,0,0,0,0,0,0,0,0,0,0,0,0,0,0,0,0,0,0\n",
      "\n",
      "PIONEER,PN,PIONEER SECTOR,PNSZ05,0,0,0,0,0,0,0,0,0,0,0,0,0,0,0,0,0,0\n",
      "\n",
      "PUNGGOL,PG,CONEY ISLAND,PGSZ07,0,0,0,0,0,0,0,0,0,0,0,0,0,0,0,0,0,0\n",
      "\n",
      "PUNGGOL,PG,MATILDA,PGSZ03,5630,3740,2100,1600,1330,2230,6590,5970,3890,2400,1830,1500,1300,1110,590,370,190,140\n",
      "\n",
      "PUNGGOL,PG,NORTHSHORE,PGSZ01,10,10,20,20,30,20,10,10,30,20,40,20,20,10,10,10,0,10\n",
      "\n",
      "PUNGGOL,PG,PUNGGOL CANAL,PGSZ06,0,0,0,0,0,0,0,0,0,0,0,0,0,0,0,0,0,0\n",
      "\n",
      "PUNGGOL,PG,PUNGGOL FIELD,PGSZ04,3020,3970,3830,3000,2250,2450,3230,4880,5720,4190,3170,2650,2180,1640,950,640,360,300\n",
      "\n",
      "PUNGGOL,PG,PUNGGOL TOWN CENTRE,PGSZ02,2200,1270,590,410,330,1090,2780,2250,1070,700,530,350,350,290,140,110,60,50\n",
      "\n",
      "PUNGGOL,PG,WATERWAY EAST,PGSZ05,5120,3550,2220,1490,1240,2570,6090,5550,3720,2290,1880,1430,1260,1100,600,400,200,160\n",
      "\n",
      "QUEENSTOWN,QT,COMMONWEALTH,QTSZ03,260,260,300,330,330,530,450,530,580,580,660,590,550,500,340,390,300,230\n",
      "\n",
      "QUEENSTOWN,QT,DOVER,QTSZ10,470,680,650,630,660,710,620,920,1000,970,920,830,670,690,480,410,240,180\n",
      "\n",
      "QUEENSTOWN,QT,GHIM MOH,QTSZ01,520,520,490,540,620,700,810,820,840,850,830,740,720,810,660,600,400,270\n",
      "\n",
      "QUEENSTOWN,QT,HOLLAND DRIVE,QTSZ02,460,420,460,560,600,850,810,960,1110,1090,1010,960,920,990,760,790,470,370\n",
      "\n",
      "QUEENSTOWN,QT,KENT RIDGE,QTSZ12,20,40,60,40,50,80,70,60,80,80,90,70,70,70,40,20,10,10\n",
      "\n",
      "QUEENSTOWN,QT,MARGARET DRIVE,QTSZ05,1360,900,570,540,530,780,1710,1690,1240,900,830,710,700,680,410,370,240,170\n",
      "\n",
      "QUEENSTOWN,QT,MEI CHIN,QTSZ06,540,650,760,900,1020,1100,970,980,1150,1270,1410,1310,1210,910,590,680,420,390\n",
      "\n",
      "QUEENSTOWN,QT,NATIONAL UNIVERSITY OF S'PORE,QTSZ11,10,10,10,10,60,50,10,10,20,10,10,10,10,0,0,0,0,0\n",
      "\n",
      "QUEENSTOWN,QT,ONE NORTH,QTSZ08,40,40,30,20,30,30,40,70,90,80,50,30,20,20,10,0,0,0\n",
      "\n",
      "QUEENSTOWN,QT,PASIR PANJANG 1,QTSZ13,200,210,220,240,250,320,290,370,400,370,340,290,260,210,130,80,40,40\n",
      "\n",
      "QUEENSTOWN,QT,PASIR PANJANG 2,QTSZ14,120,130,150,200,250,250,210,220,240,240,280,260,320,230,110,70,30,30\n",
      "\n",
      "QUEENSTOWN,QT,PORT,QTSZ15,0,0,0,10,10,10,10,10,0,10,10,20,10,10,10,0,0,0\n",
      "\n",
      "QUEENSTOWN,QT,QUEENSWAY,QTSZ07,10,0,10,20,20,20,20,20,30,30,30,10,20,20,10,10,0,0\n",
      "\n",
      "QUEENSTOWN,QT,SINGAPORE POLYTECHNIC,QTSZ09,10,10,10,10,10,10,10,20,20,10,10,10,10,0,0,0,0,0\n",
      "\n",
      "QUEENSTOWN,QT,TANGLIN HALT,QTSZ04,530,510,460,470,480,770,850,980,1040,940,940,860,780,820,610,560,420,340\n",
      "\n",
      "RIVER VALLEY,RV,INSTITUTION HILL,RVSZ05,240,240,200,140,130,180,260,370,440,330,230,160,170,170,80,70,30,30\n",
      "\n",
      "RIVER VALLEY,RV,LEONIE HILL,RVSZ03,120,160,160,140,130,150,160,270,330,340,210,180,140,110,90,30,20,30\n",
      "\n",
      "RIVER VALLEY,RV,ONE TREE HILL,RVSZ01,80,90,90,110,110,100,100,110,150,190,180,150,120,110,90,50,30,40\n",
      "\n",
      "RIVER VALLEY,RV,OXLEY,RVSZ04,50,60,70,60,70,80,90,120,130,140,110,90,90,80,70,50,30,40\n",
      "\n",
      "RIVER VALLEY,RV,PATERSON,RVSZ02,10,10,20,10,10,10,20,20,20,30,20,20,10,10,0,10,0,0\n",
      "\n",
      "ROCHOR,RC,BENCOOLEN,RCSZ09,50,50,40,50,60,80,110,90,110,110,110,130,100,100,50,50,50,50\n",
      "\n",
      "ROCHOR,RC,FARRER PARK,RCSZ01,90,140,130,130,140,170,180,270,270,240,210,210,230,170,120,80,60,100\n",
      "\n",
      "ROCHOR,RC,KAMPONG GLAM,RCSZ05,10,10,10,0,10,10,10,10,20,10,10,10,10,10,0,10,10,30\n",
      "\n",
      "ROCHOR,RC,LITTLE INDIA,RCSZ02,100,110,130,180,180,240,190,270,280,260,280,310,280,280,170,170,90,110\n",
      "\n",
      "ROCHOR,RC,MACKENZIE,RCSZ06,10,10,10,10,0,0,20,20,20,10,10,10,10,0,0,0,0,0\n",
      "\n",
      "ROCHOR,RC,MOUNT EMILY,RCSZ07,60,60,70,40,30,60,100,180,180,110,80,60,60,50,20,10,10,20\n",
      "\n",
      "ROCHOR,RC,ROCHOR CANAL,RCSZ04,0,0,0,0,0,0,0,0,0,0,0,0,0,0,0,0,0,0\n",
      "\n",
      "ROCHOR,RC,SELEGIE,RCSZ08,10,10,10,10,10,10,10,30,30,10,20,20,20,10,10,10,10,10\n",
      "\n",
      "ROCHOR,RC,SUNGEI ROAD,RCSZ03,90,80,110,110,120,140,140,130,150,150,190,180,140,170,130,100,80,40\n",
      "\n",
      "ROCHOR,RC,VICTORIA,RCSZ10,50,50,50,60,80,130,130,140,150,120,160,170,170,180,130,80,70,60\n",
      "\n",
      "SELETAR,SL,PULAU PUNGGOL BARAT,SLSZ02,0,0,0,0,0,0,0,0,0,0,0,0,0,0,0,0,0,0\n",
      "\n",
      "SELETAR,SL,PULAU PUNGGOL TIMOR,SLSZ03,0,0,0,0,0,0,0,0,0,0,0,0,0,0,0,0,0,0\n",
      "\n",
      "SELETAR,SL,SELETAR,SLSZ04,10,10,10,20,10,0,0,10,40,30,20,10,20,0,0,0,0,0\n",
      "\n",
      "SELETAR,SL,SELETAR AEROSPACE PARK,SLSZ01,0,0,0,0,0,0,0,0,0,0,0,0,0,0,0,0,0,0\n",
      "\n",
      "SEMBAWANG,SB,ADMIRALTY,SBSZ05,950,1020,1010,890,710,950,1210,1340,1460,1150,990,900,670,470,310,210,140,100\n",
      "\n",
      "SEMBAWANG,SB,SEMBAWANG CENTRAL,SBSZ03,1450,1880,1920,2120,1910,2140,2100,2500,2810,2600,2380,2120,1580,970,500,390,230,200\n",
      "\n",
      "SEMBAWANG,SB,SEMBAWANG EAST,SBSZ01,150,100,90,70,70,220,190,120,160,110,100,70,50,40,30,20,0,10\n",
      "\n",
      "SEMBAWANG,SB,SEMBAWANG NORTH,SBSZ04,1500,1910,1930,1760,1500,1690,2030,2610,2590,2260,1960,1800,1440,880,490,330,170,140\n",
      "\n",
      "SEMBAWANG,SB,SEMBAWANG SPRINGS,SBSZ02,190,290,370,380,340,320,230,330,480,500,450,300,260,180,160,110,90,110\n",
      "\n",
      "SEMBAWANG,SB,SEMBAWANG STRAITS,SBSZ06,80,110,100,120,150,120,80,110,150,150,160,140,100,70,50,30,20,20\n",
      "\n",
      "SEMBAWANG,SB,SENOKO NORTH,SBSZ08,0,0,0,0,0,0,0,0,0,0,0,0,0,0,0,0,0,0\n",
      "\n",
      "SEMBAWANG,SB,SENOKO SOUTH,SBSZ09,0,0,0,0,0,0,0,0,0,0,0,0,0,0,0,0,0,0\n",
      "\n",
      "SEMBAWANG,SB,THE WHARVES,SBSZ07,0,0,0,0,0,0,0,0,0,0,0,0,0,0,0,0,0,0\n",
      "\n",
      "SENGKANG,SE,ANCHORVALE,SESZ04,3320,3000,2690,2100,1610,2600,4160,3930,4090,2900,2140,2170,1770,1280,720,500,210,200\n",
      "\n",
      "SENGKANG,SE,COMPASSVALE,SESZ05,2170,1820,1220,700,620,1220,2520,3060,2280,1190,930,810,800,650,370,260,120,70\n",
      "\n",
      "SENGKANG,SE,FERNVALE,SESZ06,5490,4230,2730,2170,1810,2960,6340,6160,4460,3070,2590,2190,1830,1480,880,650,370,360\n",
      "\n",
      "SENGKANG,SE,LORONG HALUS NORTH,SESZ01,0,0,0,0,0,0,0,0,0,0,0,0,0,0,0,0,0,0\n",
      "\n",
      "SENGKANG,SE,RIVERVALE,SESZ02,3090,3560,3890,4240,4140,4290,4340,4800,5410,5020,4680,4670,3730,2470,1320,870,470,420\n",
      "\n",
      "SENGKANG,SE,SENGKANG TOWN CENTRE,SESZ03,3590,3800,3570,3880,3730,4640,5180,5640,5070,4790,4540,4140,3220,2120,1160,800,490,430\n",
      "\n",
      "SENGKANG,SE,SENGKANG WEST,SESZ07,0,0,0,0,0,0,0,0,0,0,0,0,0,0,0,0,0,0\n",
      "\n",
      "SERANGOON,SG,LORONG CHUAN,SGSZ05,320,420,500,620,650,630,390,450,610,700,750,710,560,390,250,200,140,150\n",
      "\n",
      "SERANGOON,SG,SELETAR HILLS,SGSZ01,510,610,700,950,1100,1140,670,770,930,1010,1130,1150,1070,890,520,410,250,220\n",
      "\n",
      "SERANGOON,SG,SERANGOON CENTRAL,SGSZ06,780,890,1080,1310,1550,2260,1820,1540,1780,1840,1850,2330,2380,1760,960,770,410,350\n",
      "\n",
      "SERANGOON,SG,SERANGOON GARDEN,SGSZ04,1120,1400,1680,2160,2620,2950,2280,2200,2480,2620,2900,3300,3340,2680,1620,1190,810,780\n",
      "\n",
      "SERANGOON,SG,SERANGOON NORTH,SGSZ03,550,750,920,1190,1500,1250,960,1100,1110,1290,1580,1410,1270,800,410,290,160,130\n",
      "\n",
      "SERANGOON,SG,SERANGOON NORTH IND ESTATE,SGSZ02,0,0,0,0,0,0,0,0,0,0,0,0,0,0,0,0,0,0\n",
      "\n",
      "SERANGOON,SG,UPPER PAYA LEBAR,SGSZ07,560,700,720,860,1100,1490,1010,1090,1110,1110,1190,1460,1330,1020,550,460,250,230\n",
      "\n",
      "SIMPANG,SM,PULAU SELETAR,SMSZ04,0,0,0,0,0,0,0,0,0,0,0,0,0,0,0,0,0,0\n",
      "\n",
      "SIMPANG,SM,SIMPANG NORTH,SMSZ01,0,0,0,0,0,0,0,0,0,0,0,0,0,0,0,0,0,0\n",
      "\n",
      "SIMPANG,SM,SIMPANG SOUTH,SMSZ03,0,0,0,0,0,0,0,0,0,0,0,0,0,0,0,0,0,0\n",
      "\n",
      "SIMPANG,SM,TANJONG IRAU,SMSZ02,0,0,0,0,0,0,0,0,0,0,0,0,0,0,0,0,0,0\n",
      "\n",
      "SINGAPORE RIVER,SR,BOAT QUAY,SRSZ03,10,0,10,0,0,0,10,10,20,10,10,10,10,10,10,10,0,10\n",
      "\n",
      "SINGAPORE RIVER,SR,CLARKE QUAY,SRSZ02,10,0,0,10,0,10,10,20,10,20,10,10,0,0,0,0,0,10\n",
      "\n",
      "SINGAPORE RIVER,SR,ROBERTSON QUAY,SRSZ01,210,200,130,90,90,100,170,360,370,330,170,130,100,80,50,40,10,10\n",
      "\n",
      "SOUTHERN ISLANDS,SI,SENTOSA,SISZ01,110,100,90,100,80,80,80,150,170,220,190,140,90,50,20,10,10,0\n",
      "\n",
      "SOUTHERN ISLANDS,SI,SOUTHERN GROUP,SISZ02,0,0,0,0,0,0,0,0,0,0,0,0,0,0,0,0,0,0\n",
      "\n",
      "STRAITS VIEW,SV,STRAITS VIEW,SVSZ01,0,0,0,0,0,0,0,0,0,0,0,0,0,0,0,0,0,0\n",
      "\n",
      "SUNGEI KADUT,SK,GALI BATU,SKSZ03,0,0,0,0,0,0,0,0,0,0,0,0,0,0,0,0,0,0\n",
      "\n",
      "SUNGEI KADUT,SK,KRANJI,SKSZ01,0,0,0,0,0,0,0,0,0,0,0,0,0,0,0,0,0,0\n",
      "\n",
      "SUNGEI KADUT,SK,PANG SUA,SKSZ04,0,0,0,0,0,0,0,0,0,0,0,0,0,0,0,0,0,0\n",
      "\n",
      "SUNGEI KADUT,SK,RESERVOIR VIEW,SKSZ05,0,0,0,0,0,0,0,0,0,0,0,0,0,0,0,0,0,0\n",
      "\n",
      "SUNGEI KADUT,SK,TURF CLUB,SKSZ02,30,30,20,40,50,50,40,40,40,60,50,50,40,50,30,30,20,10\n",
      "\n",
      "TAMPINES,TM,SIMEI,TMSZ04,1760,1980,2060,2560,3040,3240,2560,3180,3210,3050,3290,3550,2880,2100,1040,780,460,450\n",
      "\n",
      "TAMPINES,TM,TAMPINES EAST,TMSZ02,5710,5890,6350,8350,11040,11330,9390,9170,8690,9450,11490,12140,10640,7180,3640,2650,1610,1320\n",
      "\n",
      "TAMPINES,TM,TAMPINES NORTH,TMSZ01,0,0,0,0,0,0,0,0,0,0,0,0,0,0,0,0,0,0\n",
      "\n",
      "TAMPINES,TM,TAMPINES WEST,TMSZ03,3710,3740,3910,4940,6030,6840,5710,5480,5440,5600,6350,6800,5870,3960,2010,1380,840,670\n",
      "\n",
      "TAMPINES,TM,XILIN,TMSZ05,40,60,80,150,190,150,90,70,110,120,230,200,140,80,40,20,20,10\n",
      "\n",
      "TANGLIN,TN,CHATSWORTH,TNSZ02,350,410,330,280,260,270,440,620,720,690,480,380,310,290,190,140,70,70\n",
      "\n",
      "TANGLIN,TN,NASSIM,TNSZ01,500,750,580,490,430,430,410,710,920,830,760,600,520,490,270,190,110,130\n",
      "\n",
      "TANGLIN,TN,RIDOUT,TNSZ03,70,70,80,70,80,80,70,90,110,120,90,100,100,80,60,30,30,30\n",
      "\n",
      "TANGLIN,TN,TYERSALL,TNSZ04,160,210,190,220,200,200,180,230,290,330,320,280,240,190,130,110,60,60\n",
      "\n",
      "TENGAH,TH,TENGAH,THSZ01,0,0,0,0,0,0,0,0,0,0,0,0,0,0,0,0,0,0\n",
      "\n",
      "TOA PAYOH,TP,BIDADARI,TPSZ10,0,0,0,0,0,0,0,0,0,0,0,0,0,0,0,0,0,0\n",
      "\n",
      "TOA PAYOH,TP,BOON TECK,TPSZ04,500,580,660,750,870,910,720,790,920,1010,1150,1220,1150,870,740,680,430,390\n",
      "\n",
      "TOA PAYOH,TP,BRADDELL,TPSZ03,390,440,510,540,670,690,610,670,720,800,820,800,780,630,420,440,230,250\n",
      "\n",
      "TOA PAYOH,TP,JOO SENG,TPSZ12,300,380,340,350,420,560,500,590,660,560,540,570,530,430,280,250,150,140\n",
      "\n",
      "TOA PAYOH,TP,KIM KEAT,TPSZ07,240,310,310,380,540,670,510,550,570,610,650,770,690,590,400,330,190,150\n",
      "\n",
      "TOA PAYOH,TP,LORONG 8 TOA PAYOH,TPSZ05,210,270,280,390,490,500,420,450,560,590,610,690,560,570,380,390,230,190\n",
      "\n",
      "TOA PAYOH,TP,PEI CHUN,TPSZ06,350,460,550,630,610,630,570,710,890,970,980,910,790,670,510,510,290,220\n",
      "\n",
      "TOA PAYOH,TP,POTONG PASIR,TPSZ09,400,460,480,510,620,830,790,830,960,930,890,950,1090,990,560,390,220,160\n",
      "\n",
      "TOA PAYOH,TP,SENNETT,TPSZ11,180,220,240,280,310,360,280,330,350,310,340,390,380,310,220,170,110,180\n",
      "\n",
      "TOA PAYOH,TP,TOA PAYOH CENTRAL,TPSZ02,1550,1610,1430,1410,1650,1720,1970,2550,2640,2340,2180,2090,1760,1530,1070,1040,620,550\n",
      "\n",
      "TOA PAYOH,TP,TOA PAYOH WEST,TPSZ01,380,450,480,580,650,870,750,840,1030,960,1040,1050,920,870,660,690,380,330\n",
      "\n",
      "TOA PAYOH,TP,WOODLEIGH,TPSZ08,120,150,160,140,160,160,150,200,230,230,170,170,160,110,50,30,20,20\n",
      "\n",
      "TUAS,TS,TENGEH,TSSZ01,0,0,0,0,0,0,0,0,0,0,0,0,0,0,0,0,0,0\n",
      "\n",
      "TUAS,TS,TUAS BAY,TSSZ04,0,0,0,0,0,0,0,0,0,0,0,0,0,0,0,0,0,0\n",
      "\n",
      "TUAS,TS,TUAS NORTH,TSSZ03,0,0,0,0,0,0,0,0,0,0,0,0,0,0,0,0,0,0\n",
      "\n",
      "TUAS,TS,TUAS PROMENADE,TSSZ02,0,0,0,0,0,0,0,0,0,0,0,0,0,0,0,0,0,0\n",
      "\n",
      "TUAS,TS,TUAS VIEW,TSSZ05,0,0,0,0,0,0,0,0,0,0,0,0,0,0,0,0,0,0\n",
      "\n",
      "TUAS,TS,TUAS VIEW EXTENSION,TSSZ06,0,0,0,0,0,0,0,0,0,0,0,0,0,0,0,0,0,0\n",
      "\n",
      "WESTERN ISLANDS,WI,JURONG ISLAND AND BUKOM,WISZ01,0,0,0,0,0,0,0,0,0,0,0,0,0,0,0,0,0,0\n",
      "\n",
      "WESTERN ISLANDS,WI,SEMAKAU,WISZ02,0,0,0,0,0,0,0,0,0,0,0,0,0,0,0,0,0,0\n",
      "\n",
      "WESTERN ISLANDS,WI,SUDONG,WISZ03,0,0,0,0,0,0,0,0,0,0,0,0,0,0,0,0,0,0\n",
      "\n",
      "WESTERN WATER CATCHMENT,WC,WESTERN WATER CATCHMENT,WCSZ01,40,40,30,40,50,40,60,70,80,60,50,60,50,10,10,10,10,20\n",
      "\n",
      "WOODLANDS,WD,GREENWOOD PARK,WDSZ07,0,0,0,0,0,0,0,0,0,0,0,0,0,0,0,0,0,0\n",
      "\n",
      "WOODLANDS,WD,MIDVIEW,WDSZ02,1830,1840,2170,3260,3610,3050,2600,2330,2390,3190,3450,2600,1820,1080,600,490,270,230\n",
      "\n",
      "WOODLANDS,WD,NORTH COAST,WDSZ09,440,460,600,870,1110,1070,820,840,840,1000,1240,1210,990,800,500,340,200,120\n",
      "\n",
      "WOODLANDS,WD,SENOKO WEST,WDSZ08,0,0,0,0,0,0,0,0,0,0,0,0,0,0,0,0,0,0\n",
      "\n",
      "WOODLANDS,WD,WOODGROVE,WDSZ05,1240,1580,2060,3000,3620,2920,2060,2210,2530,3230,3480,2710,2050,1220,630,460,310,260\n",
      "\n",
      "WOODLANDS,WD,WOODLANDS EAST,WDSZ03,4590,5320,6330,7520,7330,6820,6510,7320,8090,8420,7950,6500,4500,2790,1390,1010,550,420\n",
      "\n",
      "WOODLANDS,WD,WOODLANDS REGIONAL CENTRE,WDSZ01,0,0,0,0,0,0,0,0,0,0,0,0,0,0,0,0,0,0\n",
      "\n",
      "WOODLANDS,WD,WOODLANDS SOUTH,WDSZ04,2250,2740,2750,3070,2630,2530,2980,3490,3380,3370,2790,2330,1730,1240,700,440,230,160\n",
      "\n",
      "WOODLANDS,WD,WOODLANDS WEST,WDSZ06,1310,1380,1510,2120,2790,2650,2140,1960,1990,2320,2850,2840,2370,1570,920,740,410,280\n",
      "\n",
      "YISHUN,YS,KHATIB,YSSZ08,330,380,420,530,790,1020,690,670,680,710,970,1090,870,660,330,220,130,100\n",
      "\n",
      "YISHUN,YS,LOWER SELETAR,YSSZ05,1320,750,620,500,460,1200,1440,970,810,670,490,410,260,200,110,60,40,30\n",
      "\n",
      "YISHUN,YS,NEE SOON,YSSZ07,40,50,50,50,50,60,50,50,90,80,90,70,60,40,30,20,20,10\n",
      "\n",
      "YISHUN,YS,NORTHLAND,YSSZ02,1130,1270,1500,1860,2250,2550,2050,2070,2140,2220,2520,2850,2170,1530,740,580,280,220\n",
      "\n",
      "YISHUN,YS,SPRINGLEAF,YSSZ06,140,160,250,270,350,360,180,220,260,270,300,370,300,270,190,100,40,50\n",
      "\n",
      "YISHUN,YS,YISHUN CENTRAL,YSSZ01,50,50,40,80,140,130,90,100,80,70,130,140,130,80,60,30,20,10\n",
      "\n",
      "YISHUN,YS,YISHUN EAST,YSSZ03,5040,3800,2760,3080,3390,4500,6540,5610,4210,3560,4050,3690,2940,2030,1030,660,410,260\n",
      "\n",
      "YISHUN,YS,YISHUN SOUTH,YSSZ04,1350,1530,1830,2130,2800,3500,2530,2560,2770,2750,3320,3440,2940,2040,1090,820,460,390\n",
      "\n",
      "YISHUN,YS,YISHUN WEST,YSSZ09,2170,2430,2800,3370,3650,4460,3880,4190,4450,4480,4990,4890,4310,3010,1770,1290,740,590\n",
      "\n"
     ]
    }
   ],
   "source": [
    "# Reading Files\n",
    "f = open(\"AgeGroup2017.csv\",\"r\")\n",
    "# if f.mode == \"r\":\n",
    "#      contents = f.read()\n",
    "#      print(contents)\n",
    "\n",
    "for lin in f:\n",
    "    print(lin)\n",
    "f.close()"
   ]
  },
  {
   "cell_type": "code",
   "execution_count": 6,
   "metadata": {},
   "outputs": [
    {
     "name": "stdout",
     "output_type": "stream",
     "text": [
      "Row ID,Order ID,Order Date,Order Priority,Order Quantity,Sales,Discount,Ship Mode,Profit,Unit Price,Shipping Cost,Customer Name,Province,Region,Customer Segment,Product Category,Product Sub-Category,Product Name,Product Container,Product Base Margin,Ship Date\n",
      "\n",
      "8263,59074,8/12/2010,Low,37,589.63,0.03,Regular Air,70.8,14.98,8.99,Jack Lebron,British Columbia,West,Corporate,Furniture,Office Furnishings,\"GE 4 Foot Flourescent Tube, 40 Watt\",Small Pack,0.39,8/14/2010\n",
      "\n",
      "8292,59233,8/20/2010,High,3,336.84,0.08,Delivery Truck,-160.46,100.98,35.84,Jack Lebron,British Columbia,West,Corporate,Furniture,Bookcases,\"Bush Westfield Collection Bookcases, Fully Assembled\",Jumbo Box,0.62,8/22/2010\n",
      "\n",
      "8293,59233,8/20/2010,High,30,397.17,0.1,Express Air,7.69,14.34,5,Jack Lebron,British Columbia,West,Corporate,Furniture,Office Furnishings,Nu-Dell Leatherette Frames,Small Pack,0.49,8/20/2010\n",
      "\n",
      "8316,59425,5/17/2012,Medium,24,2094.12,0,Regular Air,717.12,83.1,6.13,Giulietta Baptist,British Columbia,West,Home Office,Technology,Computer Peripherals,\"Micro Innovations Micro Digital Wireless Keyboard and Mouse, Gray\",Small Box,0.45,5/19/2012\n",
      "\n",
      "8317,59425,5/17/2012,Medium,46,1714.02,0.04,Regular Air,741.27,37.94,5.08,Giulietta Baptist,British Columbia,West,Home Office,Office Supplies,Paper,\"Snap-A-Way® Black Print Carbonless Ruled Speed Letter, Triplicate\",Wrap Bag,0.38,5/20/2012\n",
      "\n",
      "8360,59750,7/9/2010,Low,34,223.59,0.04,Regular Air,-66.05,6.48,5.74,Jim Sink,British Columbia,West,Corporate,Office Supplies,Paper,Xerox 1994,Small Box,0.37,7/13/2010\n",
      "\n",
      "7,35,10/22/2011,Not Specified,30,288.56,0.03,Regular Air,60.72,9.11,2.25,Julie Creighton,British Columbia,West,Corporate,Office Supplies,Pens & Art Supplies,Dixon Ticonderoga Core-Lock Colored Pencils,Wrap Bag,0.52,10/23/2011\n",
      "\n",
      "8,35,10/22/2011,Not Specified,14,1892.848,0.01,Regular Air,48.99,155.99,8.99,Julie Creighton,British Columbia,West,Corporate,Technology,Telephones and Communication,CF 688,Small Box,0.58,10/24/2011\n",
      "\n",
      "51,294,7/15/2010,Medium,35,6375.28,0.06,Regular Air,489.02,193.17,19.99,Sanjit Chand,British Columbia,West,Home Office,Office Supplies,Storage & Organization,Fellowes Staxonsteel® Drawer Files,Small Box,0.71,7/16/2010\n",
      "\n",
      "76,450,3/4/2011,Not Specified,29,1000.78,0.05,Express Air,109.33,34.58,8.99,Matt Collins,British Columbia,West,Consumer,Office Supplies,Pens & Art Supplies,Panasonic KP-350BK Electric Pencil Sharpener with Auto Stop,Small Pack,0.56,3/5/2011\n",
      "\n",
      "77,450,3/4/2011,Not Specified,35,543.72,0.05,Regular Air,-211.13,15.7,11.25,Matt Collins,British Columbia,West,Consumer,Office Supplies,Storage & Organization,Hanging Personal Folder File,Small Box,0.6,3/6/2011\n",
      "\n",
      "164,1028,1/5/2009,High,6,165.75,0.03,Regular Air,-28.46,28.48,1.99,Matt Collins,British Columbia,West,Consumer,Technology,Computer Peripherals,\"Memorex 4.7GB DVD+RW, 3/Pack\",Small Pack,0.4,1/6/2009\n",
      "\n",
      "165,1028,1/5/2009,High,11,2021.147,0.01,Regular Air,-60.39,205.99,5.99,Matt Collins,British Columbia,West,Consumer,Technology,Telephones and Communication,3285,Small Box,0.59,1/7/2009\n",
      "\n",
      "199,1314,5/12/2009,Medium,4,42.58,0,Regular Air,-7.61,9.27,4.39,Justin Knight,British Columbia,West,Corporate,Office Supplies,Paper,\"Wirebound Message Books, Four 2 3/4\"\" x 5\"\" Forms per Page, 600 Sets per Book\",Wrap Bag,0.38,5/14/2009\n",
      "\n",
      "333,2279,2/22/2010,Medium,49,4577.18,0,Delivery Truck,205.83,90.98,30,Rob Haberlin,British Columbia,West,Corporate,Furniture,Chairs & Chairmats,Office Star - Task Chair with Contemporary Loop Arms,Jumbo Drum,0.61,2/23/2010\n",
      "\n",
      "334,2279,2/22/2010,Medium,39,845.9,0.04,Regular Air,52.53,20.98,5.42,Rob Haberlin,British Columbia,West,Corporate,Office Supplies,Storage & Organization,Acco Perma® 3000 Stacking Storage Drawers,Small Box,0.66,2/24/2010\n",
      "\n",
      "353,2465,6/23/2011,Critical,28,1082.45,0.04,Regular Air,271.87,39.48,1.99,Rob Haberlin,British Columbia,West,Consumer,Technology,Computer Peripherals,\"80 Minute CD-R Spindle, 100/Pack - Staples\",Small Pack,0.54,6/25/2011\n",
      "\n",
      "361,2530,3/20/2009,Medium,9,23.46,0.06,Regular Air,4.58,2.61,0.5,Rob Haberlin,British Columbia,West,Corporate,Office Supplies,Labels,Avery 479,Small Box,0.39,3/22/2009\n",
      "\n",
      "431,2883,1/22/2011,Low,34,2154.34,0.1,Regular Air,177.66,64.98,6.88,Rob Haberlin,British Columbia,West,Consumer,Office Supplies,Storage & Organization,Fellowes Bankers Box™ Staxonsteel® Drawer File/Stacking System,Small Box,0.73,1/24/2011\n",
      "\n",
      "485,3362,7/28/2011,Low,40,1699.52,0.04,Regular Air,734.75,40.98,1.99,Christina Vanderzanden,British Columbia,West,Small Business,Technology,Computer Peripherals,\"Imation Printable White 80 Minute CD-R Spindle, 50/Pack\",Small Pack,0.44,8/1/2011\n",
      "\n",
      "486,3362,7/28/2011,Low,50,760.85,0.03,Regular Air,-109.1,15.14,4.53,Christina Vanderzanden,British Columbia,West,Small Business,Office Supplies,Storage & Organization,Eldon® Gobal File Keepers,Small Box,0.81,8/6/2011\n",
      "\n",
      "739,5318,4/3/2010,High,8,1042.25,0.08,Regular Air,195.16,131.12,0.99,Matt Collins,British Columbia,West,Consumer,Office Supplies,Appliances,Kensington 7 Outlet MasterPiece® HOMEOFFICE Power Control Center,Small Box,0.55,4/5/2010\n",
      "\n",
      "740,5318,4/3/2010,High,29,5010.7415,0.03,Express Air,1196.37,200.99,4.2,Matt Collins,British Columbia,West,Consumer,Technology,Telephones and Communication,2160i,Small Box,0.59,4/4/2010\n",
      "\n",
      "835,5988,11/21/2010,Not Specified,40,19109.61,0.1,Express Air,-379.29,499.99,24.49,Sanjit Chand,British Columbia,West,Home Office,Technology,Copiers and Fax,Sharp AL-1530CS Digital Copier,Large Box,0.36,11/22/2010\n",
      "\n",
      "851,6115,9/11/2010,Medium,25,409.08,0.1,Regular Air,78.86,17.78,5.03,Matt Collins,British Columbia,West,Consumer,Furniture,Office Furnishings,\"Seth Thomas 13 1/2\"\" Wall Clock\",Small Box,0.54,9/12/2010\n",
      "\n",
      "882,6337,8/31/2011,Not Specified,48,3397.72,0.01,Regular Air,-912.08,70.71,37.58,Justin Knight,British Columbia,West,Corporate,Furniture,Office Furnishings,\"Tenex Carpeted, Granite-Look or Clear Contemporary Contour Shape Chair Mats\",Wrap Bag,0.78,9/2/2011\n",
      "\n",
      "883,6337,8/31/2011,Not Specified,1,449.42,0.07,Delivery Truck,-261.61,376.13,85.63,Justin Knight,British Columbia,West,Corporate,Furniture,Tables,Bretford Rectangular Conference Table Tops,Jumbo Box,0.74,9/1/2011\n",
      "\n",
      "895,6434,6/7/2009,High,13,59.58,0.07,Regular Air,14.49,4.76,0.88,Rob Haberlin,British Columbia,West,Corporate,Office Supplies,Paper,Wirebound Voice Message Log Book,Wrap Bag,0.39,6/7/2009\n",
      "\n",
      "989,7136,3/22/2009,High,17,642.9,0.07,Regular Air,88.72,39.48,1.99,Lena Cacioppo,British Columbia,West,Home Office,Technology,Computer Peripherals,\"80 Minute CD-R Spindle, 100/Pack - Staples\",Small Pack,0.54,3/24/2009\n",
      "\n",
      "990,7136,3/22/2009,High,9,47.28,0,Regular Air,17.05,4.91,0.5,Lena Cacioppo,British Columbia,West,Home Office,Office Supplies,Labels,Avery 493,Small Box,0.36,3/24/2009\n",
      "\n",
      "1029,7489,9/30/2010,Critical,38,6900.13,0.01,Delivery Truck,552.97,180.98,23.58,Kimberly Carter,British Columbia,West,Home Office,Furniture,Bookcases,O'Sullivan Manor Hill 2-Door Library in Brianna Oak,Jumbo Box,0.74,10/3/2010\n",
      "\n",
      "1083,7968,9/15/2010,Low,10,1449.21,0.06,Delivery Truck,-270,150.98,30,Gene Hale,British Columbia,West,Consumer,Furniture,Chairs & Chairmats,Novimex Swivel Fabric Task Chair,Jumbo Drum,0.74,9/15/2010\n",
      "\n",
      "1122,8227,1/10/2010,Not Specified,32,162.25,0.05,Express Air,-43.21,4.77,2.39,Christina Vanderzanden,British Columbia,West,Small Business,Technology,Computer Peripherals,\"Imation Primaris 3.5\"\" 2HD Unformatted Diskettes, 10/Pack\",Small Pack,0.72,1/11/2010\n",
      "\n",
      "1255,9123,6/26/2010,Critical,27,384.9,0.07,Express Air,-108.28,14.03,9.37,Matt Collins,British Columbia,West,Consumer,Office Supplies,Storage & Organization,Project Tote Personal File,Small Box,0.56,6/27/2010\n",
      "\n",
      "1339,9792,7/23/2011,Low,14,84.09,0.02,Regular Air,-73.14,5.4,7.78,Sally Knutson,British Columbia,West,Consumer,Office Supplies,Binders and Binder Accessories,3M Organizer Strips,Small Box,0.37,7/23/2011\n",
      "\n",
      "1352,9860,10/10/2010,Critical,43,319.69,0,Regular Air,-73.66,7.28,3.52,Kimberly Carter,British Columbia,West,Home Office,Technology,Computer Peripherals,\"Imation 3.5\"\" DS-HD Macintosh Formatted Diskettes, 10/Pack\",Small Pack,0.68,10/11/2010\n",
      "\n",
      "1423,10310,2/5/2009,Low,48,139.86,0.07,Regular Air,9.59,2.88,1.01,Christina Vanderzanden,British Columbia,West,Small Business,Office Supplies,Pens & Art Supplies,\"Sanford Colorific Colored Pencils, 12/Box\",Wrap Bag,0.55,2/9/2009\n",
      "\n",
      "1424,10310,2/5/2009,Low,6,926.585,0.1,Regular Air,-655.42,195.99,3.99,Christina Vanderzanden,British Columbia,West,Small Business,Technology,Telephones and Communication,R380,Small Box,0.58,2/12/2009\n",
      "\n",
      "1436,10369,11/9/2011,Low,4,27.34,0.06,Regular Air,-12.38,5.78,4.96,Kimberly Carter,British Columbia,West,Home Office,Office Supplies,Paper,Xerox 1899,Small Box,0.36,11/11/2011\n",
      "\n",
      "1437,10369,11/9/2011,Low,23,683.68,0,Regular Air,-95.54,28.48,8.99,Kimberly Carter,British Columbia,West,Home Office,Technology,Computer Peripherals,\"Imation IBM Formatted Diskettes, 100/Pack\",Small Pack,0.7,11/14/2011\n",
      "\n",
      "1486,10692,7/26/2009,Low,26,100.41,0.04,Regular Air,-69.91,3.57,4.17,Rob Haberlin,British Columbia,West,Corporate,Office Supplies,Pens & Art Supplies,Barrel Sharpener,Small Pack,0.59,7/28/2009\n",
      "\n",
      "1487,10692,7/26/2009,Low,48,8101.9875,0.05,Regular Air,2369.84,200.99,4.2,Rob Haberlin,British Columbia,West,Corporate,Technology,Telephones and Communication,2160i,Small Box,0.59,7/30/2009\n",
      "\n",
      "1488,10692,7/26/2009,Low,8,1313.811,0.07,Regular Air,-457.16,195.99,8.99,Rob Haberlin,British Columbia,West,Corporate,Technology,Telephones and Communication,A1228,Small Box,0.58,7/26/2009\n",
      "\n",
      "1596,11553,4/18/2009,Medium,28,1350.34,0.1,Express Air,-517.17,52.99,19.99,Justin Knight,British Columbia,West,Corporate,Office Supplies,Storage & Organization,\"Gould Plastics 9-Pocket Panel Bin, 18-3/8w x 5-1/4d x 20-1/2h, Black\",Small Box,0.81,4/19/2009\n",
      "\n",
      "1597,11553,4/18/2009,Medium,8,861.26,0.07,Delivery Truck,-429.86,100.98,57.38,Justin Knight,British Columbia,West,Corporate,Furniture,Bookcases,\"Bush Westfield Collection Bookcases, Dark Cherry Finish, Fully Assembled\",Jumbo Box,0.78,4/21/2009\n",
      "\n",
      "1598,11553,4/18/2009,Medium,20,1531.411,0.03,Regular Air,365.42,85.99,0.99,Justin Knight,British Columbia,West,Corporate,Technology,Telephones and Communication,Accessory34,Wrap Bag,0.55,4/20/2009\n",
      "\n",
      "1626,11776,2/24/2012,Low,40,57.24,0.04,Express Air,-14.1,1.26,0.7,Christina Vanderzanden,British Columbia,West,Small Business,Office Supplies,Rubber Bands,Bagged Rubber Bands,Wrap Bag,0.81,2/24/2012\n",
      "\n",
      "1631,11782,7/28/2012,Low,46,247.21,0.02,Regular Air,-63.72,4.98,4.75,Marina Lichtenstein,British Columbia,West,Corporate,Office Supplies,Paper,Hammermill CopyPlus Copy Paper (20Lb. and 84 Bright),Small Box,0.36,8/2/2012\n",
      "\n",
      "1632,11782,7/28/2012,Low,27,1541.781,0.07,Regular Air,14.35,66.99,13.99,Marina Lichtenstein,British Columbia,West,Corporate,Technology,Telephones and Communication,\"Panasonic All Digital Answering System with Caller ID*, KX-TM150B\",Medium Box,0.6,8/4/2012\n",
      "\n",
      "1690,12199,12/14/2011,Low,2,19,0.01,Regular Air,-10.73,6.54,5.27,Justin Knight,British Columbia,West,Corporate,Office Supplies,Binders and Binder Accessories,Wilson Jones® Four-Pocket Poly Binders,Small Box,0.36,12/19/2011\n",
      "\n",
      "1691,12199,12/14/2011,Low,50,8289.51,0.01,Regular Air,3051.62,155.06,7.07,Justin Knight,British Columbia,West,Corporate,Office Supplies,Storage & Organization,\"Dual Level, Single-Width Filing Carts\",Small Box,0.59,12/18/2011\n",
      "\n",
      "2004,14275,6/13/2010,Low,20,42.22,0.04,Regular Air,-7.73,2.08,1.49,Gene Hale,British Columbia,West,Consumer,Office Supplies,Binders and Binder Accessories,Economy Binders,Small Box,0.36,6/15/2010\n",
      "\n",
      "2005,14275,6/13/2010,Low,4,653.44,0.06,Delivery Truck,-187.75,160.98,30,Gene Hale,British Columbia,West,Consumer,Furniture,Chairs & Chairmats,Office Star - Mid Back Dual function Ergonomic High Back Chair with 2-Way Adjustable Arms,Jumbo Drum,0.62,6/15/2010\n",
      "\n",
      "2043,14535,10/1/2010,Not Specified,22,245.96,0.03,Regular Air,-33.82,11.29,5.03,Gene Hale,British Columbia,West,Consumer,Office Supplies,Storage & Organization,X-Rack™ File for Hanging Folders,Small Box,0.59,10/2/2010\n",
      "\n",
      "2145,15329,4/27/2012,High,34,1014.87,0.04,Express Air,319.52,29.89,1.99,Rob Haberlin,British Columbia,West,Consumer,Technology,Computer Peripherals,\"Verbatim DVD-RAM, 5.2GB, Rewritable, Type 1, DS\",Small Pack,0.5,4/27/2012\n",
      "\n",
      "2169,15621,9/24/2011,Critical,18,35.51,0.02,Express Air,-13.95,1.68,1.57,Gene Hale,British Columbia,West,Consumer,Office Supplies,Pens & Art Supplies,Newell 323,Wrap Bag,0.59,9/25/2011\n",
      "\n",
      "2170,15621,9/24/2011,Critical,39,1105.66,0.02,Regular Air,-136.2,28.28,13.99,Gene Hale,British Columbia,West,Consumer,Office Supplies,Storage & Organization,Eldon Portable Mobile Manager,Medium Box,0.58,9/24/2011\n",
      "\n",
      "2452,17826,6/30/2012,High,18,78.93,0.04,Regular Air,-88.61,3.89,7.01,Michelle Arnett,British Columbia,West,Home Office,Office Supplies,Binders and Binder Accessories,Avery Binder Labels,Small Box,0.37,7/1/2012\n",
      "\n",
      "2463,17926,11/10/2011,Critical,37,608.33,0.02,Regular Air,-70.04,15.31,8.78,Sally Knutson,British Columbia,West,Consumer,Office Supplies,Storage & Organization,Eldon Jumbo ProFile™ Portable File Boxes Graphite/Black,Small Box,0.57,11/12/2011\n",
      "\n",
      "2513,18247,11/5/2009,Not Specified,20,155.8,0,Regular Air,27.22,7.59,4,Rob Haberlin,British Columbia,West,Corporate,Furniture,Office Furnishings,\"Master Giant Foot® Doorstop, Safety Yellow\",Wrap Bag,0.42,11/6/2009\n",
      "\n",
      "2551,18471,2/19/2009,Not Specified,37,226.65,0,Regular Air,46.41,5.98,0.96,Justin Knight,British Columbia,West,Corporate,Office Supplies,Pens & Art Supplies,Newell 315,Wrap Bag,0.6,2/20/2009\n",
      "\n",
      "2552,18471,2/19/2009,Not Specified,4,10.96,0.02,Regular Air,-8.02,2.08,2.56,Justin Knight,British Columbia,West,Corporate,Office Supplies,\"Scissors, Rulers and Trimmers\",Kleencut® Forged Office Shears by Acme United Corporation,Small Pack,0.55,2/20/2009\n",
      "\n",
      "2553,18471,2/19/2009,Not Specified,29,185.61,0.02,Regular Air,-47.12,5.98,5.46,Justin Knight,British Columbia,West,Corporate,Office Supplies,Paper,Xerox 1983,Small Box,0.36,2/20/2009\n",
      "\n",
      "2745,19813,3/2/2010,Critical,29,1098.506,0.05,Regular Air,218.73,45.99,2.5,Lena Cacioppo,British Columbia,West,Home Office,Technology,Telephones and Communication,T61,Small Box,0.56,3/3/2010\n",
      "\n",
      "2815,20322,6/28/2009,Critical,46,160.27,0.06,Regular Air,-183.36,3.58,5.47,Seth Vernon,British Columbia,West,Home Office,Office Supplies,Binders and Binder Accessories,Avery Poly Binder Pockets,Small Box,0.37,6/30/2009\n",
      "\n",
      "2816,20322,6/28/2009,Critical,46,4601.02,0.09,Delivery Truck,-129.53,100.98,35.84,Seth Vernon,British Columbia,West,Home Office,Furniture,Bookcases,\"Bush Westfield Collection Bookcases, Fully Assembled\",Jumbo Box,0.62,6/28/2009\n",
      "\n",
      "2817,20322,6/28/2009,Critical,15,89.89,0.1,Regular Air,-72.28,5.78,7.96,Seth Vernon,British Columbia,West,Home Office,Office Supplies,Paper,Xerox 196,Small Box,0.36,6/28/2009\n",
      "\n",
      "2830,20422,1/26/2009,High,30,447.33,0.03,Regular Air,115.21,14.34,5,Gene Hale,British Columbia,West,Consumer,Furniture,Office Furnishings,Nu-Dell Leatherette Frames,Small Pack,0.49,1/27/2009\n",
      "\n",
      "2831,20448,8/2/2011,Critical,23,104.82,0.02,Express Air,6.84,3.69,2.5,Luke Weiss,British Columbia,West,Corporate,Office Supplies,Envelopes,Colored Envelopes,Small Box,0.39,8/3/2011\n",
      "\n",
      "3056,21892,7/4/2010,High,6,34.88,0.06,Regular Air,-18.34,4.91,4.97,Justin Knight,British Columbia,West,Corporate,Office Supplies,Binders and Binder Accessories,\"Pressboard Covers with Storage Hooks, 9 1/2\"\" x 11\"\", Light Blue\",Small Box,0.38,7/6/2010\n",
      "\n",
      "3204,22980,10/1/2012,Not Specified,17,224.09,0,Regular Air,-27.92,12.44,6.27,Rob Haberlin,British Columbia,West,Consumer,Office Supplies,Storage & Organization,Eldon Simplefile® Box Office®,Medium Box,0.57,10/2/2012\n",
      "\n",
      "3341,23907,7/14/2011,Not Specified,7,384.2,0.05,Regular Air,-164.46,65.99,2.5,Julie Creighton,British Columbia,West,Corporate,Technology,Telephones and Communication,6190,Small Box,0.55,7/14/2011\n",
      "\n",
      "3362,24064,7/25/2010,Medium,23,6366.52,0.07,Delivery Truck,935.8,297.64,14.7,Sanjit Chand,British Columbia,West,Home Office,Technology,Office Machines,Panasonic KX-P3200 Dot Matrix Printer,Jumbo Drum,0.57,7/28/2010\n",
      "\n",
      "3382,24132,7/6/2009,Low,4,31.01,0.03,Regular Air,-4.49,6.75,2.99,Justin Knight,British Columbia,West,Corporate,Office Supplies,Binders and Binder Accessories,Wilson Jones DublLock® D-Ring Binders,Small Box,0.35,7/11/2009\n",
      "\n",
      "3383,24132,7/6/2009,Low,46,331.83,0.05,Regular Air,-101.25,7.1,6.05,Justin Knight,British Columbia,West,Corporate,Office Supplies,Binders and Binder Accessories,\"Wilson Jones Hanging View Binder, White, 1\"\"\",Small Box,0.39,7/6/2009\n",
      "\n",
      "3384,24132,7/6/2009,Low,22,446.46,0.04,Regular Air,-1.88,20.95,4,Justin Knight,British Columbia,West,Corporate,Technology,Computer Peripherals,\"Fellowes Basic 104-Key Keyboard, Platinum\",Small Box,0.6,7/11/2009\n",
      "\n",
      "3385,24132,7/6/2009,Low,31,1252.89,0.05,Regular Air,339.75,39.06,10.55,Justin Knight,British Columbia,West,Corporate,Office Supplies,Binders and Binder Accessories,Ibico Recycled Linen-Style Covers,Small Box,0.37,7/13/2009\n",
      "\n",
      "3386,24132,7/6/2009,Low,12,47.79,0.04,Regular Air,-57.75,3.52,6.83,Justin Knight,British Columbia,West,Corporate,Office Supplies,Binders and Binder Accessories,Self-Adhesive Ring Binder Labels,Small Box,0.38,7/15/2009\n",
      "\n",
      "3387,24132,7/6/2009,Low,3,63.84,0.02,Regular Air,-47.97,15.51,17.78,Justin Knight,British Columbia,West,Corporate,Office Supplies,Storage & Organization,\"Tenex File Box, Personal Filing Tote with Lid, Black\",Small Box,0.59,7/13/2009\n",
      "\n",
      "3441,24576,12/11/2012,Not Specified,29,531.063,0.03,Regular Air,24.56,20.99,4.81,Luke Weiss,British Columbia,West,Corporate,Technology,Telephones and Communication,1726 Digital Answering Machine,Medium Box,0.58,12/13/2012\n",
      "\n",
      "3442,24576,12/11/2012,Not Specified,10,152.84,0.05,Regular Air,38.02,14.58,7.4,Luke Weiss,British Columbia,West,Corporate,Furniture,Office Furnishings,DAX Clear Channel Poster Frame,Small Box,0.48,12/13/2012\n",
      "\n",
      "3541,25248,12/1/2011,Medium,33,271.14,0.05,Express Air,29.21,8.33,1.99,Christina Vanderzanden,British Columbia,West,Small Business,Technology,Computer Peripherals,\"80 Minute Slim Jewel Case CD-R , 10/Pack - Staples\",Small Pack,0.52,12/3/2011\n",
      "\n",
      "3542,25248,12/1/2011,Medium,26,1150.3,0.1,Regular Air,418.19,48.91,5.81,Christina Vanderzanden,British Columbia,West,Small Business,Office Supplies,Paper,Xerox 1891,Small Box,0.38,12/2/2011\n",
      "\n",
      "3573,25475,4/4/2009,Critical,49,305.96,0.06,Regular Air,-191.49,6.48,7.49,Lena Cacioppo,British Columbia,West,Home Office,Office Supplies,Paper,Xerox 220,Small Box,0.37,4/4/2009\n",
      "\n",
      "3784,26978,6/25/2010,Medium,2,48.84,0.01,Regular Air,-21.2,18.97,9.03,Seth Vernon,British Columbia,West,Home Office,Office Supplies,Paper,Computer Printout Paper with Letter-Trim Perforations,Small Box,0.37,6/26/2010\n",
      "\n",
      "3798,27105,2/16/2011,Not Specified,37,223.74,0.01,Regular Air,39.63,5.98,2.5,Sanjit Chand,British Columbia,West,Home Office,Office Supplies,Envelopes,Wausau Papers Astrobrights® Colored Envelopes,Small Box,0.36,2/17/2011\n",
      "\n",
      "3799,27105,2/16/2011,Not Specified,2,26.82,0,Regular Air,26.21,10.4,5.4,Sanjit Chand,British Columbia,West,Home Office,Furniture,Office Furnishings,\"Executive Impressions 8-1/2\"\" Career Panel/Partition Cubicle Clock\",Small Pack,0.51,2/17/2011\n",
      "\n",
      "3940,28068,8/26/2010,Low,23,631.99,0.08,Regular Air,-43.96,27.48,4,Julie Creighton,British Columbia,West,Corporate,Technology,Computer Peripherals,Belkin MediaBoard 104- Keyboard,Small Box,0.75,8/28/2010\n",
      "\n",
      "4032,28802,11/4/2010,High,23,413.8,0.08,Express Air,51.36,17.67,8.99,Sanjit Chand,British Columbia,West,Home Office,Furniture,Office Furnishings,\"Executive Impressions 12\"\" Wall Clock\",Small Pack,0.47,11/6/2010\n",
      "\n",
      "4033,28802,11/4/2010,High,36,336.25,0,Express Air,25.95,8.34,4.82,Sanjit Chand,British Columbia,West,Home Office,Office Supplies,Paper,Southworth 25% Cotton Antique Laid Paper & Envelopes,Small Box,0.4,11/7/2010\n",
      "\n",
      "4034,28802,11/4/2010,High,22,4001.4685,0.02,Regular Air,884.91,205.99,3,Sanjit Chand,British Columbia,West,Home Office,Technology,Telephones and Communication,6185,Small Box,0.58,11/6/2010\n",
      "\n",
      "4044,28839,4/28/2009,Low,30,102.95,0.06,Express Air,-175.86,3.34,7.49,Anthony Johnson,British Columbia,West,Small Business,Office Supplies,Pens & Art Supplies,\"Eldon Spacemaker® Box, Quick-Snap Lid, Clear\",Wrap Bag,0.54,4/30/2009\n",
      "\n",
      "4111,29252,8/6/2009,Low,9,65.81,0.01,Regular Air,-15.44,6.48,5.19,Anthony Johnson,British Columbia,West,Small Business,Office Supplies,Paper,Xerox 1995,Small Box,0.37,8/10/2009\n",
      "\n",
      "4488,31941,3/18/2009,Medium,32,2564.45,0.01,Express Air,650.73,78.65,13.99,Kimberly Carter,British Columbia,West,Small Business,Office Supplies,Appliances,Honeywell Quietcare HEPA Air Cleaner,Medium Box,0.52,3/19/2009\n",
      "\n",
      "4489,31941,3/18/2009,Medium,7,53.55,0.07,Regular Air,-43.5,6.48,9.68,Kimberly Carter,British Columbia,West,Small Business,Office Supplies,Paper,Xerox 1993,Small Box,0.36,3/20/2009\n",
      "\n",
      "4555,32418,1/5/2009,Not Specified,5,1244.19,0.08,Delivery Truck,-131.31,243.98,43.32,Marina Lichtenstein,British Columbia,West,Corporate,Furniture,Chairs & Chairmats,\"Hon Deluxe Fabric Upholstered Stacking Chairs, Rounded Back\",Jumbo Drum,0.55,1/6/2009\n",
      "\n",
      "4813,34241,10/8/2012,Low,4,207.55,0.08,Regular Air,16.23,52.71,2.5,Sanjit Chand,British Columbia,West,Home Office,Office Supplies,Envelopes,\"Strathmore #10 Envelopes, Ultimate White\",Small Box,0.36,10/8/2012\n",
      "\n",
      "4893,34816,11/5/2010,Not Specified,29,1158.45,0.1,Regular Air,267.16,41.71,4.5,Sally Knutson,British Columbia,West,Corporate,Office Supplies,Appliances,Fellowes 8 Outlet Superior Workstation Surge Protector,Small Box,0.56,11/5/2010\n",
      "\n",
      "4894,34816,11/5/2010,Not Specified,43,2568.71,0.1,Regular Air,590.77,60.98,19.99,Sally Knutson,British Columbia,West,Corporate,Office Supplies,Envelopes,\"Tyvek Interoffice Envelopes, 9 1/2\"\" x 12 1/2\"\", 100/Box\",Small Box,0.38,11/7/2010\n",
      "\n",
      "4917,35011,12/10/2012,Not Specified,14,154.45,0.09,Regular Air,-2.31,10.98,3.37,Luke Weiss,British Columbia,West,Corporate,Office Supplies,\"Scissors, Rulers and Trimmers\",Fiskars® Softgrip Scissors,Small Pack,0.57,12/12/2012\n",
      "\n",
      "5058,36068,2/5/2009,Critical,23,6133.18,0.06,Delivery Truck,1243.17,279.81,23.19,Anthony Johnson,British Columbia,West,Small Business,Office Supplies,Appliances,Sanyo 2.5 Cubic Foot Mid-Size Office Refrigerators,Jumbo Drum,0.59,2/6/2009\n",
      "\n",
      "5196,36930,9/28/2011,Medium,34,2632.4755,0.01,Regular Air,1325.82,85.99,3.3,Michelle Arnett,British Columbia,West,Home Office,Technology,Telephones and Communication,Accessory20,Small Pack,0.37,9/30/2011\n",
      "\n",
      "5245,37315,6/5/2012,Low,43,170.81,0.1,Regular Air,-133.68,4.28,5.17,Luke Weiss,British Columbia,West,Corporate,Office Supplies,Paper,Xerox 1971,Small Box,0.4,6/12/2012\n",
      "\n",
      "5246,37315,6/5/2012,Low,31,4726.595,0.05,Express Air,1176.48,175.99,4.99,Luke Weiss,British Columbia,West,Corporate,Technology,Telephones and Communication,5165,Small Box,0.59,6/12/2012\n",
      "\n",
      "5340,37925,9/26/2010,Medium,46,3780.16,0.1,Delivery Truck,1265.82,90.97,14,Luke Weiss,British Columbia,West,Corporate,Technology,Office Machines,Lexmark Z54se Color Inkjet Printer,Jumbo Drum,0.36,9/27/2010\n",
      "\n",
      "5341,37925,9/26/2010,Medium,31,1784.048,0.05,Regular Air,394.45,65.99,3.99,Luke Weiss,British Columbia,West,Corporate,Technology,Telephones and Communication,StarTAC 7760,Small Box,0.59,9/27/2010\n",
      "\n",
      "5351,38021,1/21/2009,Medium,46,1482.01,0.02,Regular Air,709.33,30.44,1.49,Rob Haberlin,British Columbia,West,Corporate,Office Supplies,Binders and Binder Accessories,\"Premier Elliptical Ring Binder, Black\",Small Box,0.37,1/23/2009\n",
      "\n",
      "5389,38336,10/5/2012,Critical,14,91.75,0.07,Regular Air,2.82,6.75,2.99,Julie Creighton,British Columbia,West,Corporate,Office Supplies,Binders and Binder Accessories,Wilson Jones DublLock® D-Ring Binders,Small Box,0.35,10/6/2012\n",
      "\n",
      "5390,38336,10/5/2012,Critical,31,346.57,0,Regular Air,-116.45,10.97,6.5,Julie Creighton,British Columbia,West,Corporate,Technology,Computer Peripherals,Micro Innovations 104 Keyboard,Small Box,0.64,10/6/2012\n",
      "\n",
      "5430,38565,3/25/2009,Critical,20,234.09,0.01,Express Air,-11.69,10.64,5.16,Justin Knight,British Columbia,West,Corporate,Furniture,Office Furnishings,\"Eldon Expressions Punched Metal & Wood Desk Accessories, Pewter & Cherry\",Small Box,0.57,3/27/2009\n",
      "\n",
      "5615,39783,9/20/2012,Not Specified,19,82.43,0.04,Regular Air,-94.76,4.06,6.89,Sally Knutson,British Columbia,West,Corporate,Office Supplies,Appliances,Eureka Disposable Bags for Sanitaire® Vibra Groomer I® Upright Vac,Small Box,0.6,9/22/2012\n",
      "\n",
      "5616,39783,9/20/2012,Not Specified,31,295.97,0.02,Regular Air,5.02,8.85,5.6,Sally Knutson,British Columbia,West,Corporate,Office Supplies,Binders and Binder Accessories,GBC Standard Plastic Binding Systems Combs,Small Box,0.36,9/22/2012\n",
      "\n",
      "5617,39783,9/20/2012,Not Specified,29,94.5,0.02,Regular Air,39.9,3.15,0.5,Sally Knutson,British Columbia,West,Corporate,Office Supplies,Labels,Avery 520,Small Box,0.37,9/21/2012\n",
      "\n",
      "5997,42500,2/5/2010,Not Specified,39,1836.06,0.04,Regular Air,437.07,48.92,4.5,Michelle Arnett,British Columbia,West,Home Office,Office Supplies,Appliances,\"Fellowes Premier Superior Surge Suppressor, 10-Outlet, With Phone and Remote\",Small Box,0.59,2/7/2010\n",
      "\n",
      "5998,42500,2/5/2010,Not Specified,2,21.03,0.03,Regular Air,-10.48,8.69,2.99,Michelle Arnett,British Columbia,West,Home Office,Office Supplies,Binders and Binder Accessories,\"Cardinal Slant-D® Ring Binder, Heavy Gauge Vinyl\",Small Box,0.39,2/7/2010\n",
      "\n",
      "6233,44162,3/19/2010,High,46,507.64,0.04,Regular Air,42.76,10.98,3.37,Julie Creighton,British Columbia,West,Corporate,Office Supplies,\"Scissors, Rulers and Trimmers\",Fiskars® Softgrip Scissors,Small Pack,0.57,3/20/2010\n",
      "\n",
      "6246,44256,11/19/2011,Low,39,301.36,0.09,Regular Air,48.45,8.01,2.87,Sally Knutson,British Columbia,West,Corporate,Office Supplies,Paper,\"TOPS Money Receipt Book, Consecutively Numbered in Red,\",Wrap Bag,0.4,11/28/2011\n",
      "\n",
      "6247,44256,11/19/2011,Low,17,114.28,0.08,Regular Air,-38.72,6.48,5.84,Sally Knutson,British Columbia,West,Corporate,Office Supplies,Paper,Xerox 226,Small Box,0.37,11/24/2011\n",
      "\n",
      "6248,44256,11/19/2011,Low,49,1889.04,0.1,Express Air,182.15,40.97,8.99,Sally Knutson,British Columbia,West,Corporate,Office Supplies,Pens & Art Supplies,Sanford 52201 APSCO Electric Pencil Sharpener,Small Pack,0.59,11/26/2011\n",
      "\n",
      "6261,44320,4/29/2009,Medium,49,7002.08,0.1,Regular Air,-1640.51,154.13,69,Sally Knutson,British Columbia,West,Corporate,Furniture,Tables,Laminate Occasional Tables,Large Box,0.68,4/30/2009\n",
      "\n",
      "6386,45377,4/3/2011,Low,47,91.43,0.08,Regular Air,-22.9,2.08,1.49,Kimberly Carter,British Columbia,West,Home Office,Office Supplies,Binders and Binder Accessories,Round Ring Binders,Small Box,0.38,4/5/2011\n",
      "\n",
      "6658,47367,4/16/2011,Medium,7,27.99,0.06,Regular Air,-0.17,3.8,1.49,Rob Haberlin,British Columbia,West,Corporate,Office Supplies,Binders and Binder Accessories,Durable Pressboard Binders,Small Box,0.38,4/16/2011\n",
      "\n",
      "6659,47367,4/16/2011,Medium,6,21.07,0.08,Regular Air,2.28,3.69,0.5,Rob Haberlin,British Columbia,West,Corporate,Office Supplies,Labels,Avery 52,Small Box,0.38,4/17/2011\n",
      "\n",
      "6705,47750,6/15/2010,Low,37,102.46,0.08,Regular Air,36.64,2.88,0.5,Sally Knutson,British Columbia,West,Corporate,Office Supplies,Labels,Avery 492,Small Box,0.39,6/20/2010\n",
      "\n",
      "6706,47750,6/15/2010,Low,43,1097.6,0.05,Regular Air,216.12,25.38,8.99,Sally Knutson,British Columbia,West,Corporate,Furniture,Office Furnishings,\"Executive Impressions 13\"\" Chairman Wall Clock\",Small Pack,0.5,6/20/2010\n",
      "\n",
      "6791,48388,8/9/2009,High,3,21.64,0.08,Regular Air,-13.33,5.74,5.01,Marina Lichtenstein,British Columbia,West,Corporate,Office Supplies,Binders and Binder Accessories,Binder Posts,Small Box,0.39,8/11/2009\n",
      "\n",
      "6882,49059,9/20/2009,Medium,48,128,0.09,Regular Air,45.51,2.89,0.5,Christina DeMoss,British Columbia,West,Home Office,Office Supplies,Labels,Avery 498,Small Box,0.38,9/22/2009\n",
      "\n",
      "6883,49059,9/20/2009,Medium,5,252.66,0.02,Regular Air,32.86,48.91,5.81,Christina DeMoss,British Columbia,West,Home Office,Office Supplies,Paper,Xerox 1891,Small Box,0.38,9/21/2009\n",
      "\n",
      "6938,49510,3/20/2012,Critical,16,44.1,0.04,Regular Air,-6.22,2.58,1.3,Luke Weiss,British Columbia,West,Corporate,Office Supplies,Pens & Art Supplies,DIXON Oriole® Pencils,Wrap Bag,0.59,3/21/2012\n",
      "\n",
      "6949,49634,3/23/2012,Not Specified,45,132.31,0.02,Regular Air,10.91,2.88,1.49,Sally Knutson,British Columbia,West,Consumer,Office Supplies,Binders and Binder Accessories,Avery Durable Binders,Small Box,0.36,3/25/2012\n",
      "\n",
      "7035,50210,7/19/2010,Low,47,178.51,0,Regular Air,82.3,3.75,0.5,Michelle Arnett,British Columbia,West,Home Office,Office Supplies,Labels,Avery 510,Small Box,0.37,7/24/2010\n",
      "\n",
      "7036,50210,7/19/2010,Low,15,31.32,0,Regular Air,-30.26,1.86,2.58,Michelle Arnett,British Columbia,West,Home Office,Office Supplies,Rubber Bands,\"Super Bands, 12/Pack\",Wrap Bag,0.82,7/28/2010\n",
      "\n",
      "7079,50503,11/21/2012,Medium,28,1538.8655,0.05,Regular Air,-186.33,65.99,19.99,Sanjit Chand,British Columbia,West,Home Office,Technology,Telephones and Communication,iDEN i95,Small Box,0.59,11/23/2012\n",
      "\n",
      "7120,50816,3/27/2009,High,25,286.07,0.07,Regular Air,-35.94,11.97,4.98,Anthony Johnson,British Columbia,West,Small Business,Office Supplies,Appliances,Staples 6 Outlet Surge,Small Box,0.58,3/29/2009\n",
      "\n",
      "7121,50816,3/27/2009,High,26,733.92,0.03,Regular Air,302.8,28.53,1.49,Anthony Johnson,British Columbia,West,Small Business,Office Supplies,Binders and Binder Accessories,Lock-Up Easel 'Spel-Binder',Small Box,0.38,3/29/2009\n",
      "\n",
      "7122,50816,3/27/2009,High,6,99.11,0.01,Regular Air,-12.46,15.28,1.99,Anthony Johnson,British Columbia,West,Small Business,Technology,Computer Peripherals,\"Memorex 4.7GB DVD+R, 3/Pack\",Small Pack,0.42,3/29/2009\n",
      "\n",
      "7159,51073,5/14/2010,Not Specified,17,2475.08,0,Express Air,958.8,136.98,24.49,Luke Weiss,British Columbia,West,Corporate,Furniture,Office Furnishings,\"3M Polarizing Task Lamp with Clamp Arm, Light Gray\",Large Box,0.59,5/16/2010\n",
      "\n",
      "7160,51073,5/14/2010,Not Specified,49,1610.42,0,Regular Air,813.35,30.93,3.92,Luke Weiss,British Columbia,West,Corporate,Furniture,Office Furnishings,\"Advantus Employee of the Month Certificate Frame, 11 x 13-1/2\",Small Pack,0.44,5/15/2010\n",
      "\n",
      "7235,51584,10/17/2010,Critical,48,5620.2,0.01,Delivery Truck,176.04,110.98,30,Rob Haberlin,British Columbia,West,Corporate,Furniture,Chairs & Chairmats,Office Star Flex Back Scooter Chair with White Frame,Jumbo Drum,0.71,10/18/2010\n",
      "\n",
      "7273,51879,8/24/2010,Not Specified,26,1382.31,0.03,Regular Air,372.26,51.94,19.99,Monica Federle,British Columbia,West,Corporate,Furniture,Office Furnishings,\"Howard Miller 11-1/2\"\" Diameter Ridgewood Wall Clock\",Small Box,0.44,8/26/2010\n",
      "\n",
      "7274,51879,8/24/2010,Not Specified,46,991.36,0.01,Regular Air,212.06,19.98,8.68,Monica Federle,British Columbia,West,Corporate,Office Supplies,Paper,Southworth 25% Cotton Premium Laser Paper and Envelopes,Small Box,0.37,8/25/2010\n",
      "\n",
      "7335,52288,8/10/2011,High,19,1410.44,0.07,Regular Air,545.11,78.69,19.99,Kimberly Carter,British Columbia,West,Home Office,Furniture,Office Furnishings,Howard Miller 12-3/4 Diameter Accuwave DS ™ Wall Clock,Small Box,0.43,8/11/2011\n",
      "\n",
      "7456,53190,9/24/2009,Medium,10,268.18,0.06,Regular Air,74.64,28.53,1.49,Michelle Arnett,British Columbia,West,Home Office,Office Supplies,Binders and Binder Accessories,Lock-Up Easel 'Spel-Binder',Small Box,0.38,9/27/2009\n",
      "\n",
      "7457,53190,9/24/2009,Medium,9,477.054,0.1,Regular Air,-170.53,65.99,3.99,Michelle Arnett,British Columbia,West,Home Office,Technology,Telephones and Communication,StarTAC 7760,Small Box,0.59,9/25/2009\n",
      "\n",
      "7502,53536,10/30/2012,High,35,738.69,0.1,Regular Air,109.16,22.98,7.58,Sanjit Chand,British Columbia,West,Home Office,Furniture,Office Furnishings,\"Seth Thomas 12\"\" Clock w/ Goldtone Case\",Small Box,0.51,11/1/2012\n",
      "\n",
      "7503,53536,10/30/2012,High,5,1015.4,0,Delivery Truck,-234.59,179.29,56.2,Sanjit Chand,British Columbia,West,Home Office,Furniture,Tables,Bevis Round Conference Room Tables and Bases,Jumbo Box,0.71,11/1/2012\n",
      "\n",
      "7506,53572,5/7/2010,Medium,17,184.09,0.07,Regular Air,4.79,11.09,5.25,Marina Lichtenstein,British Columbia,West,Corporate,Office Supplies,Envelopes,#10 Self-Seal White Envelopes,Small Box,0.36,5/8/2010\n",
      "\n",
      "7533,53825,4/9/2011,Low,36,1646.05,0.08,Regular Air,649.8,48.04,7.23,Joy Smith,British Columbia,West,Consumer,Office Supplies,Paper,Xerox 1885,Small Box,0.37,4/11/2011\n",
      "\n",
      "7534,53863,6/3/2010,High,46,7807.45,0.02,Express Air,1660.15,161.55,19.99,Christina DeMoss,British Columbia,West,Home Office,Office Supplies,Storage & Organization,Fellowes Super Stor/Drawer® Files,Small Box,0.66,6/6/2010\n",
      "\n",
      "7565,54119,5/22/2010,Medium,45,261,0.04,Express Air,-43.45,5.81,3.37,Monica Federle,British Columbia,West,Corporate,Office Supplies,Rubber Bands,\"Advantus Push Pins, Aluminum Head\",Wrap Bag,0.54,5/23/2010\n",
      "\n",
      "7566,54119,5/22/2010,Medium,4,127.56,0.05,Regular Air,-41.75,29.74,6.64,Monica Federle,British Columbia,West,Corporate,Office Supplies,Storage & Organization,Acco Perma® 2700 Stacking Storage Drawers,Small Box,0.7,5/25/2010\n",
      "\n",
      "7861,56224,10/25/2012,Medium,35,144.06,0.01,Regular Air,-117.27,3.81,5.44,Michelle Arnett,British Columbia,West,Home Office,Office Supplies,Binders and Binder Accessories,\"Acco Pressboard Covers with Storage Hooks, 14 7/8\"\" x 11\"\", Dark Blue\",Small Box,0.36,10/27/2012\n",
      "\n",
      "7862,56224,10/25/2012,Medium,32,3205.24,0.01,Delivery Truck,-1115.99,95.95,74.35,Michelle Arnett,British Columbia,West,Home Office,Furniture,Chairs & Chairmats,Bevis Steel Folding Chairs,Jumbo Drum,0.57,10/26/2012\n",
      "\n",
      "7863,56224,10/25/2012,Medium,46,339.27,0.1,Regular Air,48.59,7.89,2.82,Michelle Arnett,British Columbia,West,Home Office,Office Supplies,Rubber Bands,\"Staples Vinyl Coated Paper Clips, 800/Box\",Wrap Bag,0.4,10/25/2012\n",
      "\n",
      "7864,56224,10/25/2012,Medium,9,902.024,0.04,Delivery Truck,-153.25,124.49,51.94,Michelle Arnett,British Columbia,West,Home Office,Furniture,Tables,Bevis 36 x 72 Conference Tables,Jumbo Box,0.63,10/26/2012\n",
      "\n",
      "7873,56293,1/5/2010,Not Specified,34,702.79,0.04,Regular Air,-44.81,19.99,11.17,Michelle Arnett,British Columbia,West,Home Office,Furniture,Office Furnishings,Telescoping Adjustable Floor Lamp,Large Box,0.6,1/5/2010\n",
      "\n",
      "7874,56293,1/5/2010,Not Specified,44,712.64,0.06,Regular Air,-27.72,16.91,6.25,Michelle Arnett,British Columbia,West,Home Office,Office Supplies,Storage & Organization,\"Tenex Personal Self-Stacking Standard File Box, Black/Gray\",Small Box,0.58,1/6/2010\n",
      "\n",
      "8116,57959,12/30/2011,Medium,40,239.86,0.04,Regular Air,-32.06,5.81,3.37,Sally Knutson,British Columbia,West,Consumer,Office Supplies,Rubber Bands,\"Advantus Push Pins, Aluminum Head\",Wrap Bag,0.54,12/31/2011\n",
      "\n",
      "8117,57959,12/30/2011,Medium,48,1269.79,0.08,Express Air,-65.33,26.31,5.89,Sally Knutson,British Columbia,West,Consumer,Technology,Computer Peripherals,\"Micro Innovations Micro 3000 Keyboard, Black\",Small Box,0.75,12/31/2011\n",
      "\n",
      "8184,58500,2/14/2011,Low,17,1529.014,0.07,Regular Air,14.01,110.99,8.99,Christina DeMoss,British Columbia,West,Home Office,Technology,Telephones and Communication,LX 677,Small Box,0.57,2/14/2011\n",
      "\n",
      "8335,59584,5/28/2010,Medium,3,336.84,0.08,Delivery Truck,-160.46,100.98,35.84,Joy Smith,British Columbia,West,Consumer,Furniture,Bookcases,\"Bush Westfield Collection Bookcases, Fully Assembled\",Jumbo Box,0.62,5/29/2010\n",
      "\n",
      "8336,59584,5/28/2010,Medium,7,1120.27,0,Regular Air,16.81,150.98,13.99,Joy Smith,British Columbia,West,Consumer,Technology,Office Machines,Canon MP41DH Printing Calculator,Medium Box,0.38,5/28/2010\n",
      "\n",
      "45,261,6/28/2010,Medium,47,5677.609,0.04,Regular Air,1680.79,140.99,4.2,Sonia Sunley,British Columbia,West,Small Business,Technology,Telephones and Communication,7160,Small Box,0.59,6/29/2010\n",
      "\n",
      "143,928,3/1/2011,Low,21,1222.68,0.06,Express Air,300.97,59.98,3.99,Anthony O'Donnell,British Columbia,West,Consumer,Office Supplies,Appliances,Belkin 8 Outlet SurgeMaster II Gold Surge Protector,Small Box,0.57,3/6/2011\n",
      "\n",
      "144,928,3/1/2011,Low,26,390.2,0.02,Express Air,45,14.58,7.4,Anthony O'Donnell,British Columbia,West,Consumer,Furniture,Office Furnishings,DAX Clear Channel Poster Frame,Small Box,0.48,3/3/2011\n",
      "\n",
      "191,1282,2/27/2012,Not Specified,26,892.38,0,Regular Air,366.48,31.78,1.99,Emily Grady,British Columbia,West,Home Office,Technology,Computer Peripherals,\"Memorex 4.7GB DVD-RAM, 3/Pack\",Small Pack,0.42,2/29/2012\n",
      "\n",
      "192,1282,2/27/2012,Not Specified,10,29.41,0.01,Regular Air,-2.06,2.78,1.34,Emily Grady,British Columbia,West,Home Office,Office Supplies,Pens & Art Supplies,Prang Drawing Pencil Set,Wrap Bag,0.45,2/29/2012\n",
      "\n",
      "267,1856,3/19/2012,Not Specified,24,1449.3,0.08,Regular Air,-712.14,60.98,49,Alex Avila,British Columbia,West,Home Office,Office Supplies,Appliances,Euro Pro Shark Stick Mini Vacuum,Large Box,0.59,3/21/2012\n",
      "\n",
      "268,1856,3/19/2012,Not Specified,43,4374.6865,0.05,Regular Air,973.16,125.99,8.08,Alex Avila,British Columbia,West,Home Office,Technology,Telephones and Communication,M3682,Small Box,0.57,3/20/2012\n",
      "\n",
      "269,1856,3/19/2012,Not Specified,44,4283.235,0.1,Regular Air,676.13,125.99,8.8,Alex Avila,British Columbia,West,Home Office,Technology,Telephones and Communication,StarTAC 6500,Small Box,0.59,3/20/2012\n",
      "\n",
      "280,1925,3/4/2012,Critical,7,1874.37,0.08,Regular Air,67.84,276.2,24.49,Brian Moss,British Columbia,West,Corporate,Furniture,Chairs & Chairmats,SAFCO Arco Folding Chair,Large Box,,3/5/2012\n",
      "\n",
      "424,2848,3/9/2012,Critical,35,1476.39,0.06,Express Air,-303.62,43.31,15.9,Emily Grady,British Columbia,West,Home Office,Furniture,Office Furnishings,Eldon Advantage® Chair Mats for Low to Medium Pile Carpets,Medium Box,0.75,3/11/2012\n",
      "\n",
      "425,2848,3/9/2012,Critical,8,863.583,0.04,Regular Air,-264.28,125.99,8.99,Emily Grady,British Columbia,West,Home Office,Technology,Telephones and Communication,SC7868i,Small Box,0.55,3/11/2012\n",
      "\n",
      "767,5504,1/5/2010,High,6,49.55,0.06,Express Air,-20.33,5.78,7.64,Anna Andreadi,British Columbia,West,Small Business,Office Supplies,Paper,HP Office Recycled Paper (20Lb. and 87 Bright),Small Box,0.36,1/7/2010\n",
      "\n",
      "768,5504,1/5/2010,High,15,606.56,0.04,Regular Air,20.23,45.99,4.99,Anna Andreadi,British Columbia,West,Small Business,Technology,Telephones and Communication,KF 788,Small Box,0.56,1/7/2010\n",
      "\n",
      "1153,8390,4/21/2012,Medium,24,715.4,0.08,Regular Air,-99.34,30.98,4,Emily Grady,British Columbia,West,Home Office,Technology,Computer Peripherals,Logitech Internet Navigator Keyboard,Small Box,0.8,4/21/2012\n",
      "\n",
      "1168,8545,6/17/2009,Low,25,113.75,0,Regular Air,-77.34,4.13,5.34,Barbara Fisher,British Columbia,West,Small Business,Office Supplies,Binders and Binder Accessories,ACCOHIDE® Binder by Acco,Small Box,0.38,6/21/2009\n",
      "\n",
      "1169,8545,6/17/2009,Low,24,3081.95,0.1,Delivery Truck,-662.8,130.98,54.74,Barbara Fisher,British Columbia,West,Small Business,Furniture,Bookcases,\"O'Sullivan Elevations Bookcase, Cherry Finish\",Jumbo Box,0.69,6/21/2009\n",
      "\n",
      "1305,9573,6/13/2012,Medium,41,133.23,0,Regular Air,-59.91,3.14,1.92,Emily Grady,British Columbia,West,Home Office,Office Supplies,\"Scissors, Rulers and Trimmers\",Serrated Blade or Curved Handle Hand Letter Openers,Wrap Bag,0.84,6/14/2012\n",
      "\n",
      "1356,9892,7/16/2012,Medium,50,1406.64,0.02,Regular Air,424.36,27.18,8.23,Kelly Williams,British Columbia,West,Corporate,Office Supplies,Envelopes,\"Tyvek ® Top-Opening Peel & Seel Envelopes, Plain White\",Small Box,0.38,7/17/2012\n",
      "\n",
      "1381,10048,5/15/2009,Not Specified,46,3197.45,0.08,Regular Air,97.16,73.98,4,Sonia Sunley,British Columbia,West,Corporate,Technology,Computer Peripherals,Keytronic 105-Key Spanish Keyboard,Small Box,0.77,5/18/2009\n",
      "\n",
      "1382,10048,5/15/2009,Not Specified,21,78.57,0.02,Regular Air,-20.65,3.68,1.32,Sonia Sunley,British Columbia,West,Corporate,Office Supplies,\"Scissors, Rulers and Trimmers\",\"*Staples* vLetter Openers, 2/Pack\",Wrap Bag,0.83,5/17/2009\n",
      "\n",
      "1395,10144,1/2/2011,Critical,16,5403.75,0.08,Delivery Truck,103.83,355.98,58.92,Sonia Sunley,British Columbia,West,Corporate,Furniture,Chairs & Chairmats,Hon 4700 Series Mobuis™ Mid-Back Task Chairs with Adjustable Arms,Jumbo Drum,0.64,1/4/2011\n",
      "\n",
      "1396,10144,1/2/2011,Critical,1,192.49,0.02,Delivery Truck,-98.3,160.98,30,Sonia Sunley,British Columbia,West,Corporate,Furniture,Chairs & Chairmats,Office Star - Mid Back Dual function Ergonomic High Back Chair with 2-Way Adjustable Arms,Jumbo Drum,0.62,1/4/2011\n",
      "\n",
      "1397,10144,1/2/2011,Critical,24,6408.3,0.1,Delivery Truck,539.54,280.98,35.67,Sonia Sunley,British Columbia,West,Corporate,Furniture,Tables,Global Adaptabilities™ Conference Tables,Jumbo Box,0.66,1/2/2011\n",
      "\n",
      "1440,10432,1/5/2012,Low,13,2323.36,0.08,Regular Air,220.39,179.99,19.99,Sonia Sunley,British Columbia,West,Corporate,Technology,Computer Peripherals,Motorola SB4200 Cable Modem,Small Box,0.48,1/12/2012\n",
      "\n",
      "1481,10661,1/23/2009,Not Specified,18,136.41,0,Regular Air,-99.34,6.84,8.37,Jocasta Rupert,British Columbia,West,Consumer,Office Supplies,\"Scissors, Rulers and Trimmers\",\"Acme Design Line 8\"\" Stainless Steel Bent Scissors w/Champagne Handles, 3-1/8\"\" Cut\",Small Pack,0.58,1/24/2009\n",
      "\n",
      "1791,12806,12/24/2011,Not Specified,20,761.23,0,Regular Air,107.93,35.89,14.72,Sonia Sunley,British Columbia,West,Small Business,Office Supplies,Envelopes,Jet-Pak Recycled Peel 'N' Seal Padded Mailers,Small Box,0.4,12/25/2011\n",
      "\n",
      "1837,13158,11/20/2012,Critical,26,187.16,0.01,Regular Air,29.33,6.75,2.99,Kelly Williams,British Columbia,West,Corporate,Office Supplies,Binders and Binder Accessories,Wilson Jones DublLock® D-Ring Binders,Small Box,0.35,11/22/2012\n",
      "\n",
      "1876,13507,12/29/2012,Medium,27,176.1,0.09,Regular Air,-75.71,6.78,6.18,Anna Andreadi,British Columbia,West,Small Business,Office Supplies,Paper,Strathmore Photo Mount Cards,Small Box,0.39,12/30/2012\n",
      "\n",
      "2014,14375,1/31/2010,Medium,7,44.05,0.07,Regular Air,-21.77,5.78,5.67,Rick Duston,British Columbia,West,Corporate,Office Supplies,Paper,Xerox 1978,Small Box,0.36,2/1/2010\n",
      "\n",
      "2049,14627,2/4/2009,Medium,47,671.03,0.07,Regular Air,67.86,14.48,6.46,Sonia Sunley,British Columbia,West,Small Business,Office Supplies,Binders and Binder Accessories,\"GBC White Gloss Covers, Plain Front\",Small Box,0.38,2/5/2009\n",
      "\n",
      "2077,14852,12/24/2011,Medium,9,3800.4,0.03,Express Air,1234.57,420.98,19.99,Angele Hood,British Columbia,West,Consumer,Office Supplies,Binders and Binder Accessories,GBC DocuBind 200 Manual Binding Machine,Small Box,0.35,12/24/2011\n",
      "\n",
      "2256,16230,2/27/2010,Low,2,13.3,0.09,Regular Air,-7.86,7.31,0.49,Sonia Sunley,British Columbia,West,Corporate,Office Supplies,Labels,Self-Adhesive Address Labels for Typewriters by Universal,Small Box,0.38,3/1/2010\n",
      "\n",
      "2257,16230,2/27/2010,Low,27,3379.01,0.06,Delivery Truck,-801.09,130.98,54.74,Sonia Sunley,British Columbia,West,Corporate,Furniture,Bookcases,\"O'Sullivan Elevations Bookcase, Cherry Finish\",Jumbo Box,0.69,3/1/2010\n",
      "\n",
      "2258,16230,2/27/2010,Low,15,687.52,0.08,Regular Air,223.76,48.91,5.81,Sonia Sunley,British Columbia,West,Corporate,Office Supplies,Paper,Xerox 1891,Small Box,0.38,3/6/2010\n",
      "\n",
      "2259,16230,2/27/2010,Low,40,4538.66,0,Regular Air,506.86,111.03,8.64,Sonia Sunley,British Columbia,West,Corporate,Office Supplies,Storage & Organization,Fellowes Recycled Storage Drawers,Small Box,0.78,3/4/2010\n",
      "\n",
      "2635,19074,6/25/2012,Critical,17,3816.59,0.01,Delivery Truck,191.47,208.16,68.02,Sonia Sunley,British Columbia,West,Corporate,Office Supplies,Appliances,\"1.7 Cubic Foot Compact \"\"Cube\"\" Office Refrigerators\",Jumbo Drum,0.58,6/27/2012\n",
      "\n",
      "2801,20194,3/13/2012,High,10,194.29,0.1,Regular Air,68.89,20.24,6.67,Dennis Bolton,British Columbia,West,Consumer,Furniture,Office Furnishings,\"DAX Contemporary Wood Frame with Silver Metal Mat, Desktop, 11 x 14 Size\",Small Pack,0.49,3/15/2012\n",
      "\n",
      "2912,21024,12/28/2010,Medium,34,195.49,0.05,Regular Air,33.8,5.84,1.2,Stewart Carmichael,British Columbia,West,Corporate,Office Supplies,Pens & Art Supplies,Newell 312,Wrap Bag,0.55,12/30/2010\n",
      "\n",
      "2978,21509,7/3/2012,High,13,47.93,0.04,Regular Air,15.82,3.69,0.5,Dennis Bolton,British Columbia,West,Consumer,Office Supplies,Labels,Avery 487,Small Box,0.38,7/5/2012\n",
      "\n",
      "3042,21856,4/5/2012,Not Specified,47,168.55,0.05,Regular Air,71.77,3.69,0.5,Sonia Sunley,British Columbia,West,Corporate,Office Supplies,Labels,Avery 487,Small Box,0.38,4/7/2012\n",
      "\n",
      "3043,21856,4/5/2012,Not Specified,26,77.03,0.08,Regular Air,-47.75,3.14,1.92,Sonia Sunley,British Columbia,West,Corporate,Office Supplies,\"Scissors, Rulers and Trimmers\",Serrated Blade or Curved Handle Hand Letter Openers,Wrap Bag,0.84,4/5/2012\n",
      "\n",
      "3085,22119,7/24/2009,Low,20,939.39,0.07,Regular Air,-122.77,49.43,19.99,Stewart Carmichael,British Columbia,West,Corporate,Office Supplies,Appliances,\"Eureka Hand Vacuum, Bagless\",Small Box,0.57,7/29/2009\n",
      "\n",
      "3141,22534,7/18/2011,Medium,3,279.33,0,Regular Air,-44.18,83.93,19.99,Kelly Williams,British Columbia,West,Corporate,Office Supplies,Envelopes,Airmail Envelopes,Small Box,0.38,7/20/2011\n",
      "\n",
      "3154,22629,4/15/2010,Low,5,365.93,0.05,Regular Air,-243.02,73.98,14.52,Sonia Sunley,British Columbia,West,Small Business,Technology,Computer Peripherals,Keytronic French Keyboard,Small Box,0.65,4/20/2010\n",
      "\n",
      "3208,23011,6/15/2010,Low,1,12.2,0.01,Regular Air,-33.93,10.01,1.99,Kelly Williams,British Columbia,West,Corporate,Technology,Computer Peripherals,TDK 4.7GB DVD-R,Small Pack,0.41,6/22/2010\n",
      "\n",
      "3368,24070,3/15/2011,High,36,170.42,0.1,Regular Air,-98.31,4.91,4.97,Sonia Sunley,British Columbia,West,Corporate,Office Supplies,Binders and Binder Accessories,\"Pressboard Covers with Storage Hooks, 9 1/2\"\" x 11\"\", Light Blue\",Small Box,0.38,3/16/2011\n",
      "\n",
      "3369,24070,3/15/2011,High,3,431.29,0.1,Regular Air,-164.59,140.81,24.49,Sonia Sunley,British Columbia,West,Corporate,Furniture,Chairs & Chairmats,Hon Olson Stacker Stools,Large Box,0.57,3/16/2011\n",
      "\n",
      "3370,24070,3/15/2011,High,48,294.26,0,Express Air,88.8,5.58,0.7,Sonia Sunley,British Columbia,West,Corporate,Office Supplies,Pens & Art Supplies,Newell 314,Wrap Bag,0.6,3/16/2011\n",
      "\n",
      "3474,24737,12/6/2009,High,3,549.92,0.09,Delivery Truck,-210.97,180.98,26.2,Sonia Sunley,British Columbia,West,Small Business,Furniture,Chairs & Chairmats,Global Ergonomic Managers Chair,Jumbo Drum,0.59,12/9/2009\n",
      "\n",
      "3475,24737,12/6/2009,High,26,182.09,0,Regular Air,-28.15,6.48,5.19,Sonia Sunley,British Columbia,West,Small Business,Office Supplies,Paper,Xerox 1995,Small Box,0.37,12/7/2009\n",
      "\n",
      "3691,26373,7/22/2010,Medium,7,285.08,0.08,Regular Air,2.3,40.98,5.33,Anna Andreadi,British Columbia,West,Small Business,Office Supplies,Appliances,Belkin 8 Outlet Surge Protector,Small Box,0.57,7/25/2010\n",
      "\n",
      "3781,26978,6/25/2010,Medium,46,27875.54,0,Regular Air,-635.69,599.99,24.49,Seth Vernon,British Columbia,West,Home Office,Technology,Copiers and Fax,Canon Image Class D660 Copier,Large Box,0.44,6/27/2010\n",
      "\n",
      "3782,26978,6/25/2010,Medium,49,2030.44,0.04,Regular Air,938.26,40.99,5.86,Seth Vernon,British Columbia,West,Home Office,Office Supplies,Paper,Xerox 1919,Small Box,0.36,6/27/2010\n",
      "\n",
      "3783,26978,6/25/2010,Medium,47,695.99,0.09,Express Air,-157.44,15.31,8.78,Seth Vernon,British Columbia,West,Home Office,Office Supplies,Storage & Organization,Eldon Jumbo ProFile™ Portable File Boxes Graphite/Black,Small Box,0.57,6/27/2010\n",
      "\n",
      "3815,27174,10/8/2011,Critical,17,477.5045,0.09,Regular Air,-245.56,35.99,5,Alex Avila,British Columbia,West,Corporate,Technology,Telephones and Communication,Accessory27,Small Box,0.85,10/10/2011\n",
      "\n",
      "3910,27876,9/7/2010,Low,44,777.63,0.03,Regular Air,-70.54,16.99,8.99,Sarah Foster,British Columbia,West,Corporate,Office Supplies,Pens & Art Supplies,Berol Giant Pencil Sharpener,Small Pack,0.56,9/14/2010\n",
      "\n",
      "4005,28582,1/22/2012,Not Specified,40,1500.17,0.06,Express Air,423.87,39.24,1.99,Alex Avila,British Columbia,West,Home Office,Technology,Computer Peripherals,Verbatim DVD-R 4.7GB authoring disc,Small Pack,0.51,1/23/2012\n",
      "\n",
      "4006,28582,1/22/2012,Not Specified,45,377.31,0.02,Regular Air,87.96,8.01,2.87,Alex Avila,British Columbia,West,Home Office,Office Supplies,Paper,\"TOPS Money Receipt Book, Consecutively Numbered in Red,\",Wrap Bag,0.4,1/23/2012\n",
      "\n",
      "4048,28868,4/5/2012,High,30,204.49,0.05,Regular Air,-142.3,6.48,8.73,Anna Andreadi,British Columbia,West,Small Business,Office Supplies,Paper,Xerox 227,Small Box,0.37,4/6/2012\n",
      "\n",
      "4200,29857,12/12/2009,Medium,41,5572.92,0.07,Delivery Truck,-639.47,140.98,36.09,Angele Hood,British Columbia,West,Consumer,Furniture,Bookcases,\"Sauder Forest Hills Library, Woodland Oak Finish\",Jumbo Box,0.77,12/14/2009\n",
      "\n",
      "4209,29921,3/23/2012,Medium,33,3977.97,0.06,Regular Air,1733.47,120.98,9.07,Sonia Sunley,British Columbia,West,Small Business,Office Supplies,Binders and Binder Accessories,GBC VeloBinder Electric Binding Machine,Small Box,0.35,3/25/2012\n",
      "\n",
      "4307,30659,9/13/2011,Critical,45,3116.7715,0.08,Regular Air,-106.51,85.99,0.99,Kelly Williams,British Columbia,West,Corporate,Technology,Telephones and Communication,Accessory4,Wrap Bag,0.85,9/15/2011\n",
      "\n",
      "4308,30660,9/5/2012,Critical,16,986.272,0.02,Regular Air,-647.14,71.37,69,Anna Andreadi,British Columbia,West,Small Business,Furniture,Tables,\"Lesro Sheffield Collection Coffee Table, End Table, Center Table, Corner Table\",Large Box,0.68,9/8/2012\n",
      "\n",
      "4332,30883,8/21/2010,Medium,30,201.37,0.1,Regular Air,59.84,6.98,1.6,Alex Avila,British Columbia,West,Home Office,Office Supplies,Paper,\"Adams Phone Message Book, Professional, 400 Message Capacity, 5 3/6” x 11”\",Wrap Bag,0.38,8/22/2010\n",
      "\n",
      "4619,32871,10/26/2012,High,42,939.77,0,Express Air,9.72,20.97,4,Jim Karlsson,British Columbia,West,Small Business,Technology,Computer Peripherals,Microsoft Internet Keyboard,Small Box,0.77,10/29/2012\n",
      "\n",
      "4718,33600,10/6/2010,Low,42,187.28,0.06,Regular Air,-94.36,4.28,4.79,Sonia Sunley,British Columbia,West,Corporate,Office Supplies,Paper,Xerox 1962,Small Box,0.4,10/8/2010\n",
      "\n",
      "4722,33632,3/13/2010,Critical,8,763.6485,0.06,Regular Air,-277.78,115.99,5.26,Alex Avila,British Columbia,West,Home Office,Technology,Telephones and Communication,636,Small Box,0.57,3/14/2010\n",
      "\n",
      "4727,33665,5/25/2011,Low,45,12457.63,0.08,Delivery Truck,1063.46,284.98,69.55,Lisa DeCherney,British Columbia,West,Corporate,Furniture,Chairs & Chairmats,Global Commerce™ Series High-Back Swivel/Tilt Chairs,Jumbo Drum,0.6,5/30/2011\n",
      "\n",
      "4841,34434,5/9/2011,Not Specified,16,32.35,0.08,Regular Air,-63.19,1.8,4.79,Barbara Fisher,British Columbia,West,Small Business,Office Supplies,Binders and Binder Accessories,Wilson Jones Easy Flow II™ Sheet Lifters,Small Box,0.37,5/10/2011\n",
      "\n",
      "4842,34434,5/9/2011,Not Specified,23,116.56,0.04,Regular Air,50.66,4.98,0.49,Barbara Fisher,British Columbia,West,Small Business,Office Supplies,Labels,Avery White Multi-Purpose Labels,Small Box,0.39,5/11/2011\n",
      "\n",
      "4885,34753,1/18/2010,Not Specified,7,117.062,0.09,Regular Air,-63.7,20.99,0.99,Barbara Fisher,British Columbia,West,Small Business,Technology,Telephones and Communication,Accessory25,Wrap Bag,0.57,1/20/2010\n",
      "\n",
      "4970,35364,12/12/2009,Critical,16,72.08,0.04,Regular Air,-54.75,4.28,5.68,Lisa DeCherney,British Columbia,West,Corporate,Office Supplies,Paper,Xerox 199,Small Box,0.4,12/14/2009\n",
      "\n",
      "4971,35364,12/12/2009,Critical,29,10338.93,0.06,Delivery Truck,-871.52,376.13,85.63,Lisa DeCherney,British Columbia,West,Corporate,Furniture,Tables,Bretford Rectangular Conference Table Tops,Jumbo Box,0.74,12/14/2009\n",
      "\n",
      "4972,35364,12/12/2009,Critical,37,15897.01,0.06,Delivery Truck,455.02,424.21,110.2,Lisa DeCherney,British Columbia,West,Corporate,Furniture,Tables,Bush Advantage Collection® Racetrack Conference Table,Jumbo Box,0.67,12/13/2009\n",
      "\n",
      "4973,35364,12/12/2009,Critical,8,1265.293,0.06,Regular Air,-554.44,195.99,8.99,Lisa DeCherney,British Columbia,West,Corporate,Technology,Telephones and Communication,T28 WORLD,Small Box,0.6,12/14/2009\n",
      "\n",
      "5019,35812,1/22/2010,Critical,24,2722.85,0.08,Delivery Truck,-112.62,113.98,30,Barbara Fisher,British Columbia,West,Small Business,Furniture,Chairs & Chairmats,Hon Comfortask® Task/Swivel Chairs,Jumbo Drum,0.69,1/24/2010\n",
      "\n",
      "5020,35812,1/22/2010,Critical,2,59.93,0.09,Regular Air,-147.81,30.73,4,Barbara Fisher,British Columbia,West,Small Business,Technology,Computer Peripherals,Fellowes 17-key keypad for PS/2 interface,Small Box,0.75,1/24/2010\n",
      "\n",
      "5021,35812,1/22/2010,Critical,19,851.52,0.08,Regular Air,307.64,47.9,5.86,Barbara Fisher,British Columbia,West,Small Business,Office Supplies,Paper,Xerox 1938,Small Box,0.37,1/24/2010\n",
      "\n",
      "5212,37063,12/9/2012,Not Specified,50,919,0,Regular Air,89.6,17.67,8.99,Alex Avila,British Columbia,West,Home Office,Furniture,Office Furnishings,\"Executive Impressions 12\"\" Wall Clock\",Small Pack,0.47,12/10/2012\n",
      "\n",
      "5238,37281,8/28/2009,Medium,25,453.2455,0.05,Regular Air,3.31,20.99,4.81,Roy Skaria,British Columbia,West,Corporate,Technology,Telephones and Communication,1726 Digital Answering Machine,Medium Box,0.58,8/29/2009\n",
      "\n",
      "5315,37798,11/4/2012,High,23,6276.83,0.09,Delivery Truck,813.49,291.73,48.8,Angele Hood,British Columbia,West,Consumer,Furniture,Chairs & Chairmats,Hon 4070 Series Pagoda™ Armless Upholstered Stacking Chairs,Jumbo Drum,0.56,11/4/2012\n",
      "\n",
      "5347,38017,7/20/2010,Low,26,122.51,0.06,Regular Air,45.14,4.98,0.8,Seth Vernon,British Columbia,West,Home Office,Office Supplies,Paper,Rediform S.O.S. Phone Message Books,Wrap Bag,0.36,7/24/2010\n",
      "\n",
      "5348,38017,7/20/2010,Low,27,2846.361,0.08,Regular Air,453.65,125.99,7.69,Seth Vernon,British Columbia,West,Home Office,Technology,Telephones and Communication,StarTAC 3000,Small Box,0.59,7/27/2010\n",
      "\n",
      "5380,38272,11/15/2011,Critical,39,71.04,0.07,Regular Air,-20.65,1.88,1.49,Sarah Foster,British Columbia,West,Corporate,Office Supplies,Binders and Binder Accessories,Staples® General Use 3-Ring Binders,Small Box,0.37,11/17/2011\n",
      "\n",
      "5551,39301,3/22/2009,Medium,16,2232.66,0.1,Express Air,-521.09,152.48,4,Kelly Williams,British Columbia,West,Corporate,Technology,Computer Peripherals,Adesso Programmable 142-Key Keyboard,Small Box,0.79,3/23/2009\n",
      "\n",
      "5562,39367,8/6/2009,Critical,45,177.88,0.07,Regular Air,-146.97,4.13,5.04,Dennis Bolton,British Columbia,West,Small Business,Office Supplies,Binders and Binder Accessories,\"ACCOHIDE® 3-Ring Binder, Blue, 1\"\"\",Small Box,0.38,8/7/2009\n",
      "\n",
      "5563,39367,8/6/2009,Critical,30,139.59,0,Regular Air,5.9,4.48,2.5,Dennis Bolton,British Columbia,West,Small Business,Office Supplies,Envelopes,Ampad #10 Peel & Seel® Holiday Envelopes,Small Box,0.37,8/8/2009\n",
      "\n",
      "5596,39655,3/23/2012,High,35,253.15,0.03,Regular Air,-72.43,7.28,3.52,Roy Skaria,British Columbia,West,Corporate,Technology,Computer Peripherals,\"Imation 3.5\"\" DS-HD Macintosh Formatted Diskettes, 10/Pack\",Small Pack,0.68,3/23/2012\n",
      "\n",
      "5744,40803,4/13/2011,Low,22,83.02,0.08,Regular Air,9.24,3.8,1.49,Jim Karlsson,British Columbia,West,Small Business,Office Supplies,Binders and Binder Accessories,Durable Pressboard Binders,Small Box,0.38,4/18/2011\n",
      "\n",
      "5745,40803,4/13/2011,Low,35,10278.79,0.04,Delivery Truck,1512.07,300.98,64.73,Jim Karlsson,British Columbia,West,Small Business,Furniture,Chairs & Chairmats,\"Global Leather and Oak Executive Chair, Black\",Jumbo Drum,0.56,4/15/2011\n",
      "\n",
      "5747,40806,9/6/2011,Critical,8,53.14,0,Regular Air,-41.26,5.4,7.78,Barbara Fisher,British Columbia,West,Small Business,Office Supplies,Binders and Binder Accessories,3M Organizer Strips,Small Box,0.37,9/7/2011\n",
      "\n",
      "6147,43523,5/23/2012,Medium,50,295.37,0.04,Regular Air,-97.23,5.98,5.46,Anna Andreadi,British Columbia,West,Small Business,Office Supplies,Paper,Xerox 1983,Small Box,0.36,5/25/2012\n",
      "\n",
      "6239,44199,3/4/2012,Low,12,50.69,0.04,Regular Air,-6.33,3.95,2,Seth Vernon,British Columbia,West,Home Office,Office Supplies,Rubber Bands,Advantus Map Pennant Flags and Round Head Tacks,Wrap Bag,0.53,3/8/2012\n",
      "\n",
      "6243,44231,11/3/2009,Not Specified,11,1865.94,0.04,Delivery Truck,116.1,160.98,30,Alex Avila,British Columbia,West,Home Office,Furniture,Chairs & Chairmats,Office Star - Mid Back Dual function Ergonomic High Back Chair with 2-Way Adjustable Arms,Jumbo Drum,0.62,11/5/2009\n",
      "\n",
      "6244,44231,11/3/2009,Not Specified,43,784.72,0.01,Regular Air,-87.96,17.98,4,Alex Avila,British Columbia,West,Home Office,Technology,Computer Peripherals,\"Belkin 107-key enhanced keyboard, USB/PS/2 interface\",Small Box,0.79,11/5/2009\n",
      "\n",
      "6245,44231,11/3/2009,Not Specified,24,2343.076,0.06,Regular Air,311.64,115.99,8.99,Alex Avila,British Columbia,West,Home Office,Technology,Telephones and Communication,5185,Small Box,0.58,11/4/2009\n",
      "\n",
      "6415,45573,8/12/2009,High,5,627.64,0.05,Delivery Truck,-151.46,120.98,30,Sonia Sunley,British Columbia,West,Small Business,Furniture,Chairs & Chairmats,Hon Every-Day® Chair Series Swivel Task Chairs,Jumbo Drum,0.64,8/14/2009\n",
      "\n",
      "6438,45763,7/7/2010,High,25,67.45,0.05,Regular Air,24.28,2.61,0.5,Lisa DeCherney,British Columbia,West,Corporate,Office Supplies,Labels,Avery 494,Small Box,0.39,7/8/2010\n",
      "\n",
      "6761,48165,11/5/2010,High,28,199.94,0.01,Regular Air,-147.27,6.48,9.54,Dennis Bolton,British Columbia,West,Small Business,Office Supplies,Paper,Xerox 1905,Small Box,0.37,11/7/2010\n",
      "\n",
      "6769,48197,5/5/2012,Not Specified,32,1282.49,0.07,Regular Air,154.74,40.97,14.45,Anthony O'Donnell,British Columbia,West,Consumer,Furniture,Office Furnishings,Dana Halogen Swing-Arm Architect Lamp,Large Box,0.57,5/7/2012\n",
      "\n",
      "6808,48484,6/23/2010,Medium,22,346.42,0.05,Regular Air,67.96,16.48,1.99,Barbara Fisher,British Columbia,West,Small Business,Technology,Computer Peripherals,Maxell DVD-RAM Discs,Small Pack,0.42,6/24/2010\n",
      "\n",
      "6809,48484,6/23/2010,Medium,41,773.44,0.08,Express Air,133.83,20.24,6.67,Barbara Fisher,British Columbia,West,Small Business,Furniture,Office Furnishings,\"DAX Contemporary Wood Frame with Silver Metal Mat, Desktop, 11 x 14 Size\",Small Pack,0.49,6/24/2010\n",
      "\n",
      "6810,48484,6/23/2010,Medium,43,881.84,0,Regular Air,153.8,18.97,9.03,Barbara Fisher,British Columbia,West,Small Business,Office Supplies,Paper,Computer Printout Paper with Letter-Trim Perforations,Small Box,0.37,6/25/2010\n",
      "\n",
      "6811,48484,6/23/2010,Medium,50,5067.5725,0.09,Regular Air,1275.91,125.99,8.99,Barbara Fisher,British Columbia,West,Small Business,Technology,Telephones and Communication,StarTAC ST7868,Small Box,0.55,6/25/2010\n",
      "\n",
      "6893,49153,7/28/2012,Medium,31,2245.78,0.05,Delivery Truck,-432.46,70.98,30,Barbara Fisher,British Columbia,West,Small Business,Furniture,Chairs & Chairmats,Novimex Turbo Task Chair,Jumbo Drum,0.73,7/28/2012\n",
      "\n",
      "6926,49412,3/7/2009,Critical,20,9418.14,0.09,Delivery Truck,909.36,517.48,16.63,Dennis Bolton,British Columbia,West,Small Business,Technology,Office Machines,Panasonic KX-P3626 Dot Matrix Printer,Jumbo Box,0.59,3/7/2009\n",
      "\n",
      "6958,49761,1/24/2011,Not Specified,45,1090.6,0.07,Regular Air,300.91,23.99,6.3,Lisa DeCherney,British Columbia,West,Corporate,Technology,Office Machines,TI 36X Solar Scientific Calculator,Medium Box,0.38,1/25/2011\n",
      "\n",
      "7051,50310,8/15/2009,Medium,42,1811.3,0.07,Express Air,520.41,42.98,4.62,Sarah Foster,British Columbia,West,Corporate,Office Supplies,Appliances,Belkin F9M820V08 8 Outlet Surge,Small Box,0.56,8/17/2009\n",
      "\n",
      "7052,50310,8/15/2009,Medium,43,4095.76,0.03,Delivery Truck,-444.14,89.99,42,Sarah Foster,British Columbia,West,Corporate,Furniture,Chairs & Chairmats,\"Global Leather Task Chair, Black\",Jumbo Drum,0.66,8/18/2009\n",
      "\n",
      "7053,50310,8/15/2009,Medium,22,482.37,0.03,Regular Air,34.03,20.95,4,Sarah Foster,British Columbia,West,Corporate,Technology,Computer Peripherals,\"Fellowes Basic 104-Key Keyboard, Platinum\",Small Box,0.6,8/17/2009\n",
      "\n",
      "7158,51072,10/2/2009,Critical,43,7036.11,0,Regular Air,1268.65,161.55,19.99,Anna Andreadi,British Columbia,West,Small Business,Office Supplies,Storage & Organization,Fellowes Super Stor/Drawer® Files,Small Box,0.66,10/4/2009\n",
      "\n",
      "7242,51648,1/1/2012,Low,45,2354.8,0.03,Regular Air,332.97,49.99,19.99,Roy Skaria,British Columbia,West,Corporate,Technology,Computer Peripherals,Zoom V.92 USB External Faxmodem,Small Box,0.41,1/8/2012\n",
      "\n",
      "7243,51648,1/1/2012,Low,50,187.88,0.08,Regular Air,-38.23,3.98,2.97,Roy Skaria,British Columbia,West,Corporate,Office Supplies,Paper,Unpadded Memo Slips,Wrap Bag,0.35,1/6/2012\n",
      "\n",
      "7298,52035,11/27/2009,High,29,20872.16,0.03,Regular Air,-4437.91,699.99,24.49,Roy Skaria,British Columbia,West,Corporate,Technology,Copiers and Fax,Canon PC1060 Personal Laser Copier,Large Box,0.41,11/30/2009\n",
      "\n",
      "7348,52326,8/4/2010,Low,41,152.28,0.06,Regular Air,-154.81,3.81,5.44,Dennis Bolton,British Columbia,West,Consumer,Office Supplies,Binders and Binder Accessories,\"Acco Pressboard Covers with Storage Hooks, 14 7/8\"\" x 11\"\", Dark Blue\",Small Box,0.36,8/8/2010\n",
      "\n",
      "7400,52737,11/8/2010,Not Specified,14,125.54,0.03,Express Air,-15.74,7.68,6.16,Alex Avila,British Columbia,West,Home Office,Office Supplies,Binders and Binder Accessories,GBC VeloBinder Strips,Small Box,0.35,11/9/2010\n",
      "\n",
      "7458,53216,12/4/2012,High,36,228.01,0.06,Regular Air,-185.54,6.48,8.73,Roy Skaria,British Columbia,West,Corporate,Office Supplies,Paper,Xerox 227,Small Box,0.37,12/7/2012\n",
      "\n",
      "7558,54081,3/10/2011,Low,2,57.5,0.02,Regular Air,-83.18,28.48,1.99,Seth Vernon,British Columbia,West,Home Office,Technology,Computer Peripherals,\"Memorex 4.7GB DVD+RW, 3/Pack\",Small Pack,0.4,3/12/2011\n",
      "\n",
      "7624,54560,7/16/2009,Critical,22,604.38,0.09,Regular Air,167.58,28.48,1.99,Barbara Fisher,British Columbia,West,Small Business,Technology,Computer Peripherals,\"Memorex 4.7GB DVD+RW, 3/Pack\",Small Pack,0.4,7/19/2009\n",
      "\n",
      "7625,54560,7/16/2009,Critical,45,2404.599,0.08,Express Air,496.89,65.99,4.99,Barbara Fisher,British Columbia,West,Small Business,Technology,Telephones and Communication,MicroTAC 650,Small Box,0.58,7/18/2009\n",
      "\n",
      "7662,54947,2/22/2009,Not Specified,27,132.36,0.05,Regular Air,-98.35,4.98,4.62,Peter Buhler,British Columbia,West,Consumer,Technology,Computer Peripherals,\"Imation 3.5\"\", DISKETTE 44766 HGHLD3.52HD/FM, 10/Pack\",Small Pack,0.64,2/23/2009\n",
      "\n",
      "7663,54947,2/22/2009,Not Specified,42,1498.46,0.02,Regular Air,565.37,34.23,5.02,Peter Buhler,British Columbia,West,Consumer,Furniture,Office Furnishings,Hand-Finished Solid Wood Document Frame,Small Box,0.55,2/24/2009\n",
      "\n",
      "7694,55170,9/21/2012,Critical,22,985.29,0.04,Express Air,138.37,43.98,8.99,Dennis Bolton,British Columbia,West,Small Business,Office Supplies,Pens & Art Supplies,Boston 1645 Deluxe Heavier-Duty Electric Pencil Sharpener,Small Pack,0.58,9/23/2012\n",
      "\n",
      "7796,55777,11/10/2012,Not Specified,6,323.53,0.06,Regular Air,136.32,51.75,19.99,Roy Skaria,British Columbia,West,Corporate,Furniture,Office Furnishings,\"Howard Miller 13-3/4\"\" Diameter Brushed Chrome Round Wall Clock\",Small Box,0.55,11/11/2012\n",
      "\n",
      "7797,55777,11/10/2012,Not Specified,1,65.7475,0.1,Express Air,-252.48,65.99,3.99,Roy Skaria,British Columbia,West,Corporate,Technology,Telephones and Communication,StarTAC 7760,Small Box,0.59,11/12/2012\n",
      "\n",
      "7830,56001,4/12/2010,Low,17,118.36,0.08,Express Air,-60.65,6.48,7.37,Alex Avila,British Columbia,West,Home Office,Office Supplies,Paper,Xerox 210,Small Box,0.37,4/16/2010\n",
      "\n",
      "7921,56640,8/25/2011,High,2,29.31,0,Regular Air,-12.78,11.48,5.43,Anthony O'Donnell,British Columbia,West,Corporate,Office Supplies,Paper,Personal Creations™ Ink Jet Cards and Labels,Small Box,0.36,8/26/2011\n",
      "\n",
      "7922,56640,8/25/2011,High,11,80.26,0.06,Regular Air,-22.55,6.68,5.66,Anthony O'Donnell,British Columbia,West,Corporate,Office Supplies,Paper,Xerox 1923,Small Box,0.37,8/26/2011\n",
      "\n",
      "8313,59393,11/20/2010,Medium,34,398.76,0.07,Regular Air,0.82,11.58,6.97,Seth Vernon,British Columbia,West,Home Office,Office Supplies,Envelopes,\"Peel & Seel® Recycled Catalog Envelopes, Brown\",Small Box,0.35,11/21/2010\n",
      "\n",
      "8357,59712,6/15/2010,Critical,25,67.58,0.09,Express Air,16.8,2.62,0.8,Sonia Sunley,British Columbia,West,Small Business,Office Supplies,Rubber Bands,Staples Metal Binder Clips,Wrap Bag,0.39,6/17/2010\n",
      "\n",
      "8382,59905,4/14/2012,High,19,159.24,0.09,Regular Air,8.3,8.5,1.99,Daniel Lacy,British Columbia,West,Small Business,Technology,Computer Peripherals,Hewlett-Packard 4.7GB DVD+R Discs,Small Pack,0.49,4/16/2012\n",
      "\n",
      "8383,59905,4/14/2012,High,6,48.77,0,Regular Air,5.95,7.4,1.71,Daniel Lacy,British Columbia,West,Small Business,Office Supplies,Paper,\"It's Hot Message Books with Stickers, 2 3/4\"\" x 5\"\"\",Wrap Bag,0.4,4/16/2012\n",
      "\n",
      "8384,59905,4/14/2012,High,5,26.5,0.01,Express Air,2.61,4.26,1.2,Daniel Lacy,British Columbia,West,Small Business,Office Supplies,Pens & Art Supplies,\"Dixon Prang® Watercolor Pencils, 10-Color Set with Brush\",Wrap Bag,0.44,4/15/2012\n",
      "\n",
      "52,322,3/18/2012,Critical,20,2634.8555,0.08,Regular Air,257.76,155.99,8.08,Giulietta Weimer,British Columbia,West,Corporate,Technology,Telephones and Communication,I888 World Phone,Small Box,0.6,3/20/2012\n",
      "\n",
      "53,322,3/18/2012,Critical,46,281,0.1,Regular Air,-291.59,6.48,10.05,Giulietta Weimer,British Columbia,West,Corporate,Office Supplies,Paper,Xerox 1997,Small Box,0.37,3/20/2012\n",
      "\n",
      "151,962,5/5/2009,Low,33,4064.05,0.06,Regular Air,1408.19,122.99,19.99,Mike Vittorini,British Columbia,West,Small Business,Office Supplies,Binders and Binder Accessories,GBC Therma-A-Bind 250T Electric Binding System,Small Box,0.37,5/7/2009\n",
      "\n",
      "152,962,5/5/2009,Low,47,3213.87,0.08,Delivery Truck,-1069.72,68.81,60,Mike Vittorini,British Columbia,West,Small Business,Office Supplies,Appliances,\"Holmes Replacement Filter for HEPA Air Cleaner, Very Large Room, HEPA Filter\",Jumbo Drum,0.41,5/7/2009\n",
      "\n",
      "185,1221,4/18/2012,Not Specified,1,14.68,0.06,Regular Air,-13.78,8.6,6.19,Lela Donovan,British Columbia,West,Corporate,Office Supplies,Binders and Binder Accessories,Avery Printable Repositionable Plastic Tabs,Small Box,0.38,4/18/2012\n",
      "\n",
      "186,1221,4/18/2012,Not Specified,11,10145.14,0.03,Regular Air,3724.57,896.99,19.99,Lela Donovan,British Columbia,West,Corporate,Office Supplies,Binders and Binder Accessories,GBC DocuBind TL300 Electric Binding System,Small Box,0.38,4/20/2012\n",
      "\n",
      "187,1221,4/18/2012,Not Specified,16,68.45,0.08,Regular Air,-57.88,4.24,5.41,Lela Donovan,British Columbia,West,Corporate,Office Supplies,Binders and Binder Accessories,Storex DuraTech Recycled Plastic Frosted Binders,Small Box,0.35,4/20/2012\n",
      "\n",
      "222,1445,1/9/2011,Medium,3,1326.09,0,Regular Air,-20.55,420.98,19.99,Shahid Shariari,British Columbia,West,Corporate,Office Supplies,Binders and Binder Accessories,GBC DocuBind 200 Manual Binding Machine,Small Box,0.35,1/12/2011\n",
      "\n",
      "223,1445,1/9/2011,Medium,30,339.49,0.08,Regular Air,-74.21,11.97,5.81,Shahid Shariari,British Columbia,West,Corporate,Office Supplies,Pens & Art Supplies,Staples SlimLine Pencil Sharpener,Small Pack,0.6,1/11/2011\n",
      "\n",
      "259,1799,3/6/2009,Not Specified,10,1187.12,0.06,Delivery Truck,-127.3,113.98,30,Trudy Schmidt,British Columbia,West,Small Business,Furniture,Chairs & Chairmats,Hon Comfortask® Task/Swivel Chairs,Jumbo Drum,0.69,3/8/2009\n",
      "\n",
      "260,1799,3/6/2009,Not Specified,16,108.31,0.05,Regular Air,-52.77,6.48,6.86,Trudy Schmidt,British Columbia,West,Small Business,Office Supplies,Paper,Xerox 204,Small Box,0.37,3/8/2009\n",
      "\n",
      "393,2720,6/7/2010,Critical,36,2051.016,0.02,Express Air,483.97,65.99,3.99,Christopher Martinez,British Columbia,West,Small Business,Technology,Telephones and Communication,StarTAC 7760,Small Box,0.59,6/10/2010\n",
      "\n",
      "548,3685,1/16/2012,Medium,29,106.78,0,Regular Air,-98.05,3.28,5,Mike Vittorini,British Columbia,West,Small Business,Office Supplies,Pens & Art Supplies,Newell 35,Wrap Bag,0.56,1/17/2012\n",
      "\n",
      "549,3687,2/2/2010,Critical,25,79.37,0.07,Regular Air,6.14,3.29,1.35,Marc Harrigan,British Columbia,West,Home Office,Office Supplies,Rubber Bands,Acco® Hot Clips™ Clips to Go,Wrap Bag,0.4,2/2/2010\n",
      "\n",
      "574,3907,8/18/2012,Medium,36,218.12,0.02,Regular Air,-1642.65,4.48,49,Christopher Martinez,British Columbia,West,Small Business,Office Supplies,Appliances,Hoover Portapower™ Portable Vacuum,Large Box,0.6,8/18/2012\n",
      "\n",
      "594,4067,10/6/2012,High,16,118.38,0.04,Regular Air,-42.46,7.1,6.05,Shahid Shariari,British Columbia,West,Corporate,Office Supplies,Binders and Binder Accessories,\"Wilson Jones Hanging View Binder, White, 1\"\"\",Small Box,0.39,10/8/2012\n",
      "\n",
      "617,4257,3/24/2011,Medium,45,253.89,0.01,Regular Air,-83.66,5.58,5.3,Liz Price,British Columbia,West,Consumer,Office Supplies,Envelopes,Staples Brown Kraft Recycled Clasp Envelopes,Small Box,0.35,3/26/2011\n",
      "\n",
      "618,4261,10/2/2012,Critical,22,1556.87,0.04,Delivery Truck,-521.42,68.81,60,Lela Donovan,British Columbia,West,Corporate,Office Supplies,Appliances,\"Holmes Replacement Filter for HEPA Air Cleaner, Very Large Room, HEPA Filter\",Jumbo Drum,0.41,10/3/2012\n",
      "\n",
      "619,4261,10/2/2012,Critical,33,195.98,0.08,Regular Air,-71.47,5.98,5.35,Lela Donovan,British Columbia,West,Corporate,Office Supplies,Paper,Xerox 1947,Small Box,0.4,10/4/2012\n",
      "\n",
      "620,4261,10/2/2012,Critical,32,9235.97,0.04,Regular Air,2848.17,300.65,24.49,Lela Donovan,British Columbia,West,Corporate,Office Supplies,Appliances,Honeywell Enviracaire Portable HEPA Air Cleaner for 17' x 22' Room,Large Box,0.52,10/4/2012\n",
      "\n",
      "621,4261,10/2/2012,Critical,48,274.38,0.04,Regular Air,-94.82,5.78,5.37,Lela Donovan,British Columbia,West,Corporate,Office Supplies,Paper,Xerox 1950,Small Box,0.36,10/4/2012\n",
      "\n",
      "622,4294,8/14/2012,Medium,8,17.72,0.02,Regular Air,-15.34,1.74,4.08,Mike Vittorini,British Columbia,West,Small Business,Furniture,Office Furnishings,\"Eldon Regeneration Recycled Desk Accessories, Smoke\",Small Pack,0.53,8/16/2012\n",
      "\n",
      "657,4642,2/26/2011,Critical,9,65.61,0.08,Regular Air,-39.74,7.28,3.52,Shahid Shariari,British Columbia,West,Corporate,Technology,Computer Peripherals,\"Imation 3.5\"\" DS-HD Macintosh Formatted Diskettes, 10/Pack\",Small Pack,0.68,2/27/2011\n",
      "\n",
      "658,4642,2/26/2011,Critical,21,309.62,0,Express Air,-80.2,14.03,9.37,Shahid Shariari,British Columbia,West,Corporate,Office Supplies,Storage & Organization,Project Tote Personal File,Small Box,0.56,2/26/2011\n",
      "\n",
      "695,4864,11/10/2012,Low,16,4901.99,0.04,Regular Air,1724.68,315.98,19.99,Ralph Kennedy,British Columbia,West,Corporate,Office Supplies,Binders and Binder Accessories,GBC ProClick™ 150 Presentation Binding System,Small Box,0.38,11/14/2012\n",
      "\n",
      "710,4996,9/13/2012,Medium,30,4305.79,0,Regular Air,1020.32,142.86,19.99,Rob Dowd,British Columbia,West,Corporate,Office Supplies,Storage & Organization,Letter Size Cart,Small Box,0.56,9/14/2012\n",
      "\n",
      "718,5121,5/10/2012,Not Specified,45,1991.703,0.07,Regular Air,559.11,55.99,1.25,Ralph Kennedy,British Columbia,West,Corporate,Technology,Telephones and Communication,Accessory2,Small Pack,0.55,5/11/2012\n",
      "\n",
      "741,5346,12/25/2010,Critical,34,2932.99,0.07,Regular Air,-1448.83,90.98,56.2,Khloe Miller,British Columbia,West,Home Office,Furniture,Office Furnishings,Eldon ClusterMat Chair Mat with Cordless Antistatic Protection,Medium Box,0.74,12/26/2010\n",
      "\n",
      "742,5346,12/25/2010,Critical,45,9194.8,0.1,Delivery Truck,-1760.57,218.75,69.64,Khloe Miller,British Columbia,West,Home Office,Furniture,Tables,BoxOffice By Design Rectangular and Half-Moon Meeting Room Tables,Jumbo Box,0.77,12/27/2010\n",
      "\n",
      "743,5346,12/25/2010,Critical,17,2285.12,0.08,Delivery Truck,-455.8,140.98,36.09,Khloe Miller,British Columbia,West,Home Office,Furniture,Bookcases,\"Sauder Forest Hills Library, Woodland Oak Finish\",Jumbo Box,0.77,12/27/2010\n",
      "\n",
      "766,5473,3/24/2012,Not Specified,42,355.69,0.09,Regular Air,-149.46,8.74,8.29,Shahid Hopkins,British Columbia,West,Small Business,Office Supplies,Envelopes,\"#10- 4 1/8\"\" x 9 1/2\"\" Recycled Envelopes\",Small Box,0.38,3/26/2012\n",
      "\n",
      "795,5698,5/20/2009,Medium,15,297.05,0.09,Regular Air,-16.89,20.48,6.32,Kristina Nunn,British Columbia,West,Consumer,Office Supplies,Appliances,Kensington 6 Outlet Guardian Standard Surge Protector,Small Box,0.58,5/21/2009\n",
      "\n",
      "796,5698,5/20/2009,Medium,7,108.26,0.06,Regular Air,25.51,15.67,1.39,Kristina Nunn,British Columbia,West,Consumer,Office Supplies,Envelopes,\"#10 White Business Envelopes,4 1/8 x 9 1/2\",Small Box,0.38,5/21/2009\n",
      "\n",
      "855,6144,6/21/2009,Critical,24,67.35,0.07,Regular Air,22.63,2.88,0.5,Ralph Kennedy,British Columbia,West,Corporate,Office Supplies,Labels,Avery 492,Small Box,0.39,6/24/2009\n",
      "\n",
      "856,6144,6/21/2009,Critical,4,1472.31,0.03,Delivery Truck,-223.59,348.21,40.19,Ralph Kennedy,British Columbia,West,Corporate,Furniture,Tables,Bretford CR4500 Series Slim Rectangular Table,Jumbo Box,0.62,6/22/2009\n",
      "\n",
      "888,6374,8/7/2011,Critical,29,857.42,0.07,Express Air,51.18,31.11,3.6,Ricardo Emerson,British Columbia,West,Corporate,Technology,Computer Peripherals,\"Imation 3.5\"\" Diskettes, IBM Format, DS/HD, 10/Box, Neon\",Small Pack,0.64,8/8/2011\n",
      "\n",
      "889,6374,8/7/2011,Critical,1,2.24,0.01,Regular Air,-1.97,1.48,0.7,Ricardo Emerson,British Columbia,West,Corporate,Office Supplies,Rubber Bands,Binder Clips by OIC,Wrap Bag,0.37,8/9/2011\n",
      "\n",
      "992,7169,3/26/2010,Medium,22,446.72,0.05,Regular Air,-39,20.28,14.39,Lela Donovan,British Columbia,West,Corporate,Furniture,Office Furnishings,\"Career Cubicle Clock, 8 1/4\"\", Black\",Small Box,0.47,3/28/2010\n",
      "\n",
      "993,7169,3/26/2010,Medium,30,1580.6005,0.07,Regular Air,303.53,65.99,2.79,Lela Donovan,British Columbia,West,Corporate,Technology,Telephones and Communication,V8162,Small Box,0.56,3/28/2010\n",
      "\n",
      "1013,7427,12/15/2012,Not Specified,47,16002.29,0.09,Regular Air,4604.79,363.25,19.99,Ricardo Emerson,British Columbia,West,Corporate,Office Supplies,Appliances,Hoover WindTunnel™ Plus Canister Vacuum,Small Box,0.57,12/15/2012\n",
      "\n",
      "1014,7427,12/15/2012,Not Specified,9,182.26,0.01,Regular Air,60.61,18.94,1.49,Ricardo Emerson,British Columbia,West,Corporate,Office Supplies,Binders and Binder Accessories,Flexible Leather- Look Classic Collection Ring Binder,Small Box,0.35,12/16/2012\n",
      "\n",
      "1123,8229,12/7/2009,Medium,7,3565.27,0.04,Delivery Truck,-502.81,510.14,14.7,Patrick O'Brill,British Columbia,West,Home Office,Technology,Office Machines,Okidata ML520 Series Dot Matrix Printers,Jumbo Drum,0.56,12/9/2009\n",
      "\n",
      "1124,8229,12/7/2009,Medium,50,241.01,0,Regular Air,-4.69,4.76,3.01,Patrick O'Brill,British Columbia,West,Home Office,Office Supplies,Paper,\"TOPS Voice Message Log Book, Flash Format\",Wrap Bag,0.36,12/9/2009\n",
      "\n",
      "1134,8290,12/9/2009,Critical,32,209.02,0.04,Regular Air,101.8,6.3,0.5,Patrick O'Brill,British Columbia,West,Home Office,Office Supplies,Labels,Avery 48,Small Box,0.39,12/11/2009\n",
      "\n",
      "1167,8515,12/21/2010,Critical,33,729.92,0,Regular Air,99.31,20.95,4,Trudy Schmidt,British Columbia,West,Small Business,Technology,Computer Peripherals,\"Fellowes Basic 104-Key Keyboard, Platinum\",Small Box,0.6,12/22/2010\n",
      "\n",
      "1197,8801,8/10/2012,Low,32,2593.08,0,Express Air,-673.31,79.52,48.2,Thomas Brumley,British Columbia,West,Consumer,Furniture,Office Furnishings,Eldon Cleatmat Plus™ Chair Mats for High Pile Carpets,Medium Box,0.74,8/15/2012\n",
      "\n",
      "1198,8801,8/10/2012,Low,25,2529.396,0.06,Express Air,371.21,125.99,3,Thomas Brumley,British Columbia,West,Consumer,Technology,Telephones and Communication,270c,Small Box,0.59,8/12/2012\n",
      "\n",
      "1221,8992,11/12/2010,High,3,441.43,0.06,Regular Air,-154.45,140.81,24.49,Shahid Shariari,British Columbia,West,Corporate,Furniture,Chairs & Chairmats,Hon Olson Stacker Stools,Large Box,0.57,11/13/2010\n",
      "\n",
      "1222,8992,11/12/2010,High,14,2145.6975,0.08,Regular Air,-176.79,195.99,4.2,Shahid Shariari,British Columbia,West,Corporate,Technology,Telephones and Communication,688,Small Box,0.6,11/14/2010\n",
      "\n",
      "1223,8992,11/12/2010,High,18,1341.963,0,Regular Air,180.78,85.99,2.79,Shahid Shariari,British Columbia,West,Corporate,Technology,Telephones and Communication,6340,Small Box,0.58,11/13/2010\n",
      "\n",
      "1288,9409,5/5/2012,Critical,12,1712.66,0.1,Regular Air,-390.77,152.48,4,Vicky Freymann,British Columbia,West,Home Office,Technology,Computer Peripherals,Adesso Programmable 142-Key Keyboard,Small Box,0.79,5/7/2012\n",
      "\n",
      "1420,10306,7/21/2010,Low,20,310.31,0.02,Regular Air,51.5,14.58,7.4,Lela Donovan,British Columbia,West,Corporate,Furniture,Office Furnishings,DAX Clear Channel Poster Frame,Small Box,0.48,7/21/2010\n",
      "\n",
      "1455,10470,5/4/2012,Critical,35,246.98,0.1,Regular Air,-94.78,7.38,5.21,Khloe Miller,British Columbia,West,Corporate,Furniture,Office Furnishings,\"Eldon® Expressions™ Wood Desk Accessories, Oak\",Small Box,0.56,5/9/2012\n",
      "\n",
      "1497,10819,8/24/2010,Critical,35,233.39,0.06,Regular Air,-197.39,6.48,9.54,Mike Vittorini,British Columbia,West,Small Business,Office Supplies,Paper,Xerox 1905,Small Box,0.37,8/24/2010\n",
      "\n",
      "1509,10916,3/10/2011,Medium,23,135.31,0.06,Regular Air,-49.32,5.74,5.01,Trudy Schmidt,British Columbia,West,Small Business,Office Supplies,Binders and Binder Accessories,Binder Posts,Small Box,0.39,3/10/2011\n",
      "\n",
      "1512,10944,11/12/2011,High,9,181.66,0,Regular Air,-27.47,17.98,8.51,Mike Vittorini,British Columbia,West,Small Business,Technology,Office Machines,Canon P1-DHIII Palm Printing Calculator,Medium Box,0.4,11/14/2011\n",
      "\n",
      "1565,11301,3/22/2012,Medium,29,1194.96,0.04,Regular Air,107.45,39.98,4,Tony Chapman,British Columbia,West,Consumer,Technology,Computer Peripherals,Microsoft Natural Keyboard Elite,Small Box,0.7,3/22/2012\n",
      "\n",
      "1567,11332,11/16/2009,Low,6,184.331,0.07,Regular Air,-89.2,35.99,5.99,Liz Price,British Columbia,West,Corporate,Technology,Telephones and Communication,Accessory41,Wrap Bag,0.38,11/20/2009\n",
      "\n",
      "1568,11332,11/16/2009,Low,23,1223.3795,0.08,Express Air,83.57,65.99,5.92,Liz Price,British Columbia,West,Corporate,Technology,Telephones and Communication,i500plus,Small Box,0.58,11/23/2009\n",
      "\n",
      "1575,11392,9/5/2009,Low,28,128.69,0.04,Regular Air,28.29,4.55,1.49,Sarah Bern,British Columbia,West,Corporate,Office Supplies,Binders and Binder Accessories,Presstex Flexible Ring Binders,Small Box,0.35,9/7/2009\n",
      "\n",
      "1623,11745,7/19/2012,High,17,686.27,0.06,Regular Air,-345.36,40.48,19.99,Mark Cousins,British Columbia,West,Home Office,Technology,Computer Peripherals,Keytronic Designer 104- Key Black Keyboard,Small Box,0.77,7/20/2012\n",
      "\n",
      "1644,11875,8/20/2012,Medium,19,242.63,0,Regular Air,-36.11,12.44,6.27,Shahid Hopkins,British Columbia,West,Small Business,Office Supplies,Storage & Organization,Eldon Simplefile® Box Office®,Medium Box,0.57,8/21/2012\n",
      "\n",
      "1650,11907,8/23/2010,Low,45,4729.85,0.03,Delivery Truck,2014.82,100.97,14,Mark Cousins,British Columbia,West,Home Office,Technology,Office Machines,Hewlett-Packard Deskjet 3820 Color Inkjet Printer,Jumbo Drum,0.37,8/23/2010\n",
      "\n",
      "1681,12129,12/25/2012,Medium,36,4852.05,0,Delivery Truck,-1197.58,122.99,70.2,Giulietta Weimer,British Columbia,West,Corporate,Furniture,Chairs & Chairmats,\"Global High-Back Leather Tilter, Burgundy\",Jumbo Drum,0.74,12/28/2012\n",
      "\n",
      "1753,12579,6/16/2011,Not Specified,5,70.33,0.1,Regular Air,1.07,15.04,1.97,Patrick O'Brill,British Columbia,West,Home Office,Office Supplies,Paper,White GlueTop Scratch Pads,Wrap Bag,0.39,6/16/2011\n",
      "\n",
      "1779,12743,6/23/2010,High,39,677.518,0.09,Regular Air,168.22,20.99,0.99,Mark Cousins,British Columbia,West,Corporate,Technology,Telephones and Communication,Accessory25,Wrap Bag,0.57,6/25/2010\n",
      "\n",
      "1803,12902,10/29/2010,Not Specified,9,302.05,0,Regular Air,-58.81,30.98,6.5,Daniel Byrd,British Columbia,West,Home Office,Technology,Computer Peripherals,Belkin ErgoBoard™ Keyboard,Small Box,0.64,10/31/2010\n",
      "\n",
      "1860,13380,7/15/2009,Critical,24,66.12,0.09,Regular Air,4.85,2.88,0.7,Rob Dowd,British Columbia,West,Corporate,Office Supplies,Pens & Art Supplies,Newell 346,Wrap Bag,0.56,7/15/2009\n",
      "\n",
      "1898,13606,4/26/2009,Not Specified,34,109.86,0.07,Regular Air,19.04,3.38,0.85,Mike Vittorini,British Columbia,West,Small Business,Office Supplies,Pens & Art Supplies,Avery Hi-Liter® Fluorescent Desk Style Markers,Wrap Bag,0.48,4/28/2009\n",
      "\n",
      "1936,13889,9/4/2011,Medium,49,12979.1,0.03,Delivery Truck,2820.44,258.98,54.31,John Murray,British Columbia,West,Small Business,Furniture,Chairs & Chairmats,Global Enterprise™ Series Seating Low-Back Swivel/Tilt Chairs,Jumbo Drum,0.55,9/5/2011\n",
      "\n",
      "1952,13984,9/24/2012,Critical,30,2052.82,0.05,Regular Air,-870.61,70.71,37.58,Khloe Miller,British Columbia,West,Home Office,Furniture,Office Furnishings,\"Tenex Carpeted, Granite-Look or Clear Contemporary Contour Shape Chair Mats\",Wrap Bag,0.78,9/24/2012\n",
      "\n",
      "1953,13986,10/11/2011,High,46,1905.79,0.01,Regular Air,675.65,39.48,1.99,Kristina Nunn,British Columbia,West,Consumer,Technology,Computer Peripherals,\"80 Minute CD-R Spindle, 100/Pack - Staples\",Small Pack,0.54,10/14/2011\n",
      "\n",
      "1995,14240,2/17/2012,High,24,68.88,0,Regular Air,1.31,2.78,1.49,Ralph Kennedy,British Columbia,West,Corporate,Office Supplies,Binders and Binder Accessories,Acco Suede Grain Vinyl Round Ring Binder,Small Box,0.39,2/18/2012\n",
      "\n",
      "2006,14276,6/18/2009,Medium,11,110.79,0.1,Regular Air,-11.13,10.48,2.89,Lela Donovan,British Columbia,West,Corporate,Office Supplies,Pens & Art Supplies,Staples Battery-Operated Desktop Pencil Sharpener,Small Pack,0.6,6/19/2009\n",
      "\n",
      "2029,14471,5/26/2011,Not Specified,44,823.63,0.03,Regular Air,375.02,18.65,3.77,Ralph Kennedy,British Columbia,West,Corporate,Furniture,Office Furnishings,3M Polarizing Light Filter Sleeves,Small Pack,0.39,5/26/2011\n",
      "\n",
      "2030,14471,5/26/2011,Not Specified,42,286.73,0.05,Regular Air,-141.51,6.48,7.49,Ralph Kennedy,British Columbia,West,Corporate,Office Supplies,Paper,Xerox 220,Small Box,0.37,5/28/2011\n",
      "\n",
      "2037,14529,9/20/2010,Low,44,3819.42,0.1,Delivery Truck,-821.87,89.99,42,Lena Hernandez,British Columbia,West,Home Office,Furniture,Chairs & Chairmats,\"Global Leather Task Chair, Black\",Jumbo Drum,0.66,9/24/2010\n",
      "\n",
      "2038,14529,9/20/2010,Low,42,208.78,0.05,Regular Air,24.87,5.08,2.03,Lena Hernandez,British Columbia,West,Home Office,Furniture,Office Furnishings,\"Master Caster Door Stop, Brown\",Wrap Bag,0.51,9/22/2010\n",
      "\n",
      "2087,14948,5/28/2011,Medium,6,647.78,0,Delivery Truck,-144.87,100.98,35.84,Shahid Hopkins,British Columbia,West,Small Business,Furniture,Bookcases,\"Bush Westfield Collection Bookcases, Fully Assembled\",Jumbo Box,0.62,5/29/2011\n",
      "\n",
      "2237,16161,7/28/2012,Medium,49,2692.6895,0.03,Regular Air,768.32,65.99,4.2,Kristina Nunn,British Columbia,West,Consumer,Technology,Telephones and Communication,6162i,Small Box,0.55,7/29/2012\n",
      "\n",
      "2238,16161,7/28/2012,Medium,38,151.19,0.03,Regular Air,60.63,3.78,0.71,Kristina Nunn,British Columbia,West,Consumer,Office Supplies,Rubber Bands,Staples Bulldog Clip,Wrap Bag,0.39,7/30/2012\n",
      "\n",
      "2261,16257,5/5/2012,Not Specified,16,102.73,0.03,Regular Air,16.33,5.98,2.5,Greg Maxwell,British Columbia,West,Home Office,Office Supplies,Envelopes,Wausau Papers Astrobrights® Colored Envelopes,Small Box,0.36,5/6/2012\n",
      "\n",
      "2335,16806,6/17/2010,High,4,167.37,0.1,Regular Air,-132.15,43.22,4,Vicky Freymann,British Columbia,West,Home Office,Technology,Computer Peripherals,\"Fellowes Mobile Numeric Keypad, Graphite\",Small Box,0.64,6/18/2010\n",
      "\n",
      "2336,16806,6/17/2010,High,18,1026.6385,0,Regular Air,-201.05,65.99,19.99,Vicky Freymann,British Columbia,West,Home Office,Technology,Telephones and Communication,iDENi80s,Small Box,0.59,6/19/2010\n",
      "\n",
      "2393,17344,7/19/2010,Critical,40,2405.4575,0.01,Regular Air,571.54,65.99,7.69,Rob Dowd,British Columbia,West,Corporate,Technology,Telephones and Communication,5190,Small Box,0.59,7/21/2010\n",
      "\n",
      "2399,17382,7/4/2011,Not Specified,20,2162.8165,0.01,Regular Air,223.25,125.99,8.99,Lena Hernandez,British Columbia,West,Home Office,Technology,Telephones and Communication,M70,Small Box,0.59,7/5/2011\n",
      "\n",
      "2411,17507,6/12/2012,Medium,27,399.76,0.04,Regular Air,48.13,14.56,3.5,Lela Donovan,British Columbia,West,Corporate,Office Supplies,Appliances,Acco 6 Outlet Guardian Premium Surge Suppressor,Small Box,0.58,6/12/2012\n",
      "\n",
      "2412,17507,6/12/2012,Medium,22,5393.27,0.1,Delivery Truck,353.72,270.97,28.06,Lela Donovan,British Columbia,West,Corporate,Technology,Office Machines,Epson LQ-570e Dot Matrix Printer,Jumbo Drum,0.56,6/14/2012\n",
      "\n",
      "2442,17702,4/13/2012,High,9,264.63,0.02,Express Air,-66.78,27.48,4,Mark Cousins,British Columbia,West,Home Office,Technology,Computer Peripherals,Belkin MediaBoard 104- Keyboard,Small Box,0.75,4/13/2012\n",
      "\n",
      "2453,17831,10/25/2012,Critical,34,239.3,0.06,Regular Air,41.31,6.98,2.83,Ricardo Emerson,British Columbia,West,Corporate,Furniture,Office Furnishings,G.E. Halogen Desk Lamp Bulbs,Small Pack,0.37,10/26/2012\n",
      "\n",
      "2454,17831,10/25/2012,Critical,38,260.41,0,Express Air,-45.75,5.98,5.35,Ricardo Emerson,British Columbia,West,Corporate,Office Supplies,Paper,Xerox 1947,Small Box,0.4,10/28/2012\n",
      "\n",
      "2498,18179,8/1/2009,Not Specified,50,3075.83,0.03,Regular Air,1207.91,60.98,1.99,Liz Price,British Columbia,West,Corporate,Technology,Computer Peripherals,Imation 5.2GB DVD-RAM,Small Pack,0.5,8/1/2009\n",
      "\n",
      "2499,18179,8/1/2009,Not Specified,24,73.37,0.04,Regular Air,16.1,3.08,0.99,Liz Price,British Columbia,West,Corporate,Office Supplies,Labels,Avery 481,Small Box,0.37,8/2/2009\n",
      "\n",
      "2500,18179,8/1/2009,Not Specified,50,527.6,0,Regular Air,221.59,10.31,1.79,Liz Price,British Columbia,West,Corporate,Office Supplies,Paper,\"Speediset Carbonless Redi-Letter® 7\"\" x 8 1/2\"\"\",Wrap Bag,0.38,8/3/2009\n",
      "\n",
      "2629,19044,4/11/2012,Low,32,4800.44,0.08,Regular Air,1912.92,150.98,13.99,Rob Dowd,British Columbia,West,Corporate,Technology,Office Machines,Canon MP41DH Printing Calculator,Medium Box,0.38,4/13/2012\n",
      "\n",
      "2630,19044,4/11/2012,Low,29,271.33,0.07,Regular Air,-191.09,9.71,9.45,Rob Dowd,British Columbia,West,Corporate,Office Supplies,Storage & Organization,Filing/Storage Totes and Swivel Casters,Small Box,0.6,4/18/2012\n",
      "\n",
      "2690,19462,9/20/2011,Medium,2,206.68,0,Regular Air,-156.47,80.98,35,Mark Cousins,British Columbia,West,Home Office,Office Supplies,Storage & Organization,Carina Double Wide Media Storage Towers in Natural & Black,Large Box,0.81,9/21/2011\n",
      "\n",
      "2758,19936,11/13/2012,Critical,19,36.75,0.06,Regular Air,-9.82,1.88,1.49,Giulietta Weimer,British Columbia,West,Home Office,Office Supplies,Binders and Binder Accessories,Staples® General Use 3-Ring Binders,Small Box,0.37,11/14/2012\n",
      "\n",
      "2759,19936,11/13/2012,Critical,41,1115.2,0.09,Regular Air,301.31,29.89,1.99,Giulietta Weimer,British Columbia,West,Home Office,Technology,Computer Peripherals,\"Verbatim DVD-RAM, 5.2GB, Rewritable, Type 1, DS\",Small Pack,0.5,11/14/2012\n",
      "\n",
      "2761,19972,6/16/2012,Critical,6,97.86,0.04,Regular Air,-21.09,14.98,8.99,Liz Price,British Columbia,West,Corporate,Furniture,Office Furnishings,\"GE 4 Foot Flourescent Tube, 40 Watt\",Small Pack,0.39,6/18/2012\n",
      "\n",
      "2777,20038,2/26/2010,Low,42,173.44,0.05,Regular Air,-172.4,4.14,6.6,Sally Knutson,British Columbia,West,Consumer,Furniture,Office Furnishings,Eldon Image Series Black Desk Accessories,Small Box,0.49,2/28/2010\n",
      "\n",
      "2824,20389,8/11/2009,High,31,7477.78,0.09,Delivery Truck,883.29,260.98,41.91,Liz Price,British Columbia,West,Corporate,Furniture,Bookcases,\"Atlantic Metals Mobile 3-Shelf Bookcases, Custom Colors\",Jumbo Box,0.59,8/13/2009\n",
      "\n",
      "2825,20389,8/11/2009,High,24,270.39,0.01,Regular Air,-30.42,10.52,7.94,Liz Price,British Columbia,West,Corporate,Furniture,Office Furnishings,Ultra Door Pull Handle,Small Pack,0.52,8/13/2009\n",
      "\n",
      "2826,20389,8/11/2009,High,30,201.35,0.02,Express Air,-107.37,5.98,7.5,Liz Price,British Columbia,West,Corporate,Office Supplies,Paper,Xerox 1920,Small Box,0.4,8/13/2009\n",
      "\n",
      "2829,20422,1/26/2009,High,5,15.38,0.01,Regular Air,1.61,2.89,0.5,Gene Hale,British Columbia,West,Consumer,Office Supplies,Labels,Avery 498,Small Box,0.38,1/28/2009\n",
      "\n",
      "2864,20676,11/22/2012,Low,22,43.97,0.04,Regular Air,-9.05,1.88,1.49,Shahid Shariari,British Columbia,West,Corporate,Office Supplies,Binders and Binder Accessories,Staples® General Use 3-Ring Binders,Small Box,0.37,11/26/2012\n",
      "\n",
      "2887,20807,7/21/2012,Not Specified,39,6152.52,0.08,Delivery Truck,768.06,160.98,30,Justin Hirsh,British Columbia,West,Consumer,Furniture,Chairs & Chairmats,Office Star - Mid Back Dual function Ergonomic High Back Chair with 2-Way Adjustable Arms,Jumbo Drum,0.62,7/23/2012\n",
      "\n",
      "2890,20838,4/10/2009,Not Specified,5,20.17,0.05,Regular Air,-15.42,3.28,3.97,Shahid Shariari,British Columbia,West,Consumer,Office Supplies,Pens & Art Supplies,Newell 342,Wrap Bag,0.56,4/11/2009\n",
      "\n",
      "2891,20838,4/10/2009,Not Specified,21,235.98,0.03,Regular Air,11.82,10.98,3.37,Shahid Shariari,British Columbia,West,Consumer,Office Supplies,\"Scissors, Rulers and Trimmers\",Fiskars® Softgrip Scissors,Small Pack,0.57,4/11/2009\n",
      "\n",
      "2901,20960,11/18/2011,Low,19,195.96,0.1,Regular Air,-104.82,10.97,6.5,Giulietta Weimer,British Columbia,West,Corporate,Technology,Computer Peripherals,Micro Innovations 104 Keyboard,Small Box,0.64,11/23/2011\n",
      "\n",
      "2902,20961,1/14/2010,Not Specified,34,6607.92,0.06,Regular Air,1462.72,199.99,24.49,Lela Donovan,British Columbia,West,Corporate,Technology,Copiers and Fax,Canon PC-428 Personal Copier,Large Box,0.46,1/16/2010\n",
      "\n",
      "2949,21350,2/24/2011,Medium,30,278.94,0.01,Regular Air,-143.7,9.06,9.86,Ralph Kennedy,British Columbia,West,Corporate,Office Supplies,Paper,Southworth 25% Cotton Linen-Finish Paper & Envelopes,Small Box,0.4,2/25/2011\n",
      "\n",
      "2986,21572,2/13/2009,Critical,42,8549.04,0.03,Regular Air,2861.01,194.3,11.54,Vicky Freymann,British Columbia,West,Home Office,Furniture,Office Furnishings,Electrix Halogen Magnifier Lamp,Large Box,0.59,2/15/2009\n",
      "\n",
      "3014,21671,6/15/2010,High,15,670.94,0.02,Regular Air,87.51,45.19,1.99,Thomas Brumley,British Columbia,West,Consumer,Technology,Computer Peripherals,\"Verbatim DVD-RAM, 9.4GB, Rewritable, Type 1, DS, DataLife Plus\",Small Pack,0.55,6/18/2010\n",
      "\n",
      "3156,22657,10/29/2011,High,36,9544.18,0,Express Air,3392.88,256.99,11.25,Ralph Kennedy,British Columbia,West,Corporate,Technology,Computer Peripherals,Hayes Optima 56K V.90 Internal Voice Modem,Small Box,0.51,10/30/2011\n",
      "\n",
      "3157,22657,10/29/2011,High,8,32.92,0.05,Regular Air,-7.73,3.95,2,Ralph Kennedy,British Columbia,West,Corporate,Office Supplies,Rubber Bands,Advantus Map Pennant Flags and Round Head Tacks,Wrap Bag,0.53,10/30/2011\n",
      "\n",
      "3238,23207,10/22/2010,Critical,11,336.91,0.1,Regular Air,42.5,30.98,8.74,Ralph Kennedy,British Columbia,West,Corporate,Office Supplies,Paper,Xerox 1979,Small Box,0.4,10/23/2010\n",
      "\n",
      "3346,23940,4/8/2011,Medium,20,138.52,0.03,Regular Air,-895.24,4.48,49,Khloe Miller,British Columbia,West,Home Office,Office Supplies,Appliances,Hoover Portapower™ Portable Vacuum,Large Box,0.6,4/9/2011\n",
      "\n",
      "3347,23940,4/8/2011,Medium,11,1735.59,0.02,Delivery Truck,-506.43,150.89,60.2,Khloe Miller,British Columbia,West,Home Office,Furniture,Chairs & Chairmats,\"Global Leather & Oak Executive Chair, Burgundy\",Jumbo Drum,0.77,4/11/2011\n",
      "\n",
      "3425,24450,7/9/2012,Critical,37,443.35,0.02,Regular Air,-21.73,11.97,4.98,Kristina Nunn,British Columbia,West,Consumer,Office Supplies,Appliances,Staples 6 Outlet Surge,Small Box,0.58,7/11/2012\n",
      "\n",
      "3426,24450,7/9/2012,Critical,41,392.61,0.08,Express Air,-100.15,9.48,7.29,Kristina Nunn,British Columbia,West,Consumer,Furniture,Office Furnishings,\"DAX Two-Tone Rosewood/Black Document Frame, Desktop, 5 x 7\",Small Pack,0.45,7/12/2012\n",
      "\n",
      "3427,24450,7/9/2012,Critical,4,30.85,0.03,Regular Air,-12.88,5.98,5.79,Kristina Nunn,British Columbia,West,Consumer,Office Supplies,Paper,Xerox 1903,Small Box,0.36,7/11/2012\n",
      "\n",
      "3446,24580,6/23/2012,High,25,1081.22,0.08,Regular Air,130.8,43.98,8.99,Mark Cousins,British Columbia,West,Corporate,Office Supplies,Pens & Art Supplies,Boston 1645 Deluxe Heavier-Duty Electric Pencil Sharpener,Small Pack,0.58,6/24/2012\n",
      "\n",
      "3447,24580,6/23/2012,High,14,36.41,0.01,Regular Air,-31.45,2.23,4.57,Mark Cousins,British Columbia,West,Corporate,Furniture,Office Furnishings,Eldon Pizzaz™ Desk Accessories,Small Pack,0.41,6/25/2012\n",
      "\n",
      "3488,24833,7/16/2010,Not Specified,45,5205.83,0.08,Delivery Truck,-818.77,124.49,51.94,Sally Knutson,British Columbia,West,Small Business,Furniture,Tables,Bevis 36 x 72 Conference Tables,Jumbo Box,0.63,7/18/2010\n",
      "\n",
      "3498,24933,7/26/2009,Low,32,3416.38,0.01,Delivery Truck,-1142.2,100.98,57.38,Shahid Shariari,British Columbia,West,Consumer,Furniture,Bookcases,\"Bush Westfield Collection Bookcases, Dark Cherry Finish, Fully Assembled\",Jumbo Box,0.78,7/28/2009\n",
      "\n",
      "3499,24933,7/26/2009,Low,14,142.81,0.01,Regular Air,39.64,10.14,2.27,Shahid Shariari,British Columbia,West,Consumer,Office Supplies,Paper,\"Staples Wirebound Steno Books, 6\"\" x 9\"\", 12/Pack\",Wrap Bag,0.36,7/28/2009\n",
      "\n",
      "3514,25031,8/23/2009,High,24,4636.62,0.1,Regular Air,-318.45,209.37,69,Sally Knutson,British Columbia,West,Consumer,Furniture,Tables,Hon 2111 Invitation™ Series Corner Table,Large Box,0.79,8/25/2009\n",
      "\n",
      "3515,25031,8/23/2009,High,20,100.11,0.07,Regular Air,-41.7,4.98,4.7,Sally Knutson,British Columbia,West,Consumer,Office Supplies,Paper,Staples Copy Paper (20Lb. and 84 Bright),Small Box,0.38,8/24/2009\n",
      "\n",
      "3590,25633,8/1/2011,Low,36,5140.08,0.06,Delivery Truck,-582.43,145.98,51.92,Sally Knutson,British Columbia,West,Home Office,Furniture,Tables,Bevis Rectangular Conference Tables,Jumbo Box,0.69,8/6/2011\n",
      "\n",
      "3593,25635,5/29/2012,Critical,14,633.08,0.04,Express Air,145.48,42.98,4.62,Sally Knutson,British Columbia,West,Corporate,Office Supplies,Appliances,Belkin F9M820V08 8 Outlet Surge,Small Box,0.56,5/30/2012\n",
      "\n",
      "3594,25635,5/29/2012,Critical,22,110.42,0.09,Regular Air,-36.6,5.08,3.63,Sally Knutson,British Columbia,West,Corporate,Furniture,Office Furnishings,\"Master Caster Door Stop, Gray\",Wrap Bag,0.51,5/30/2012\n",
      "\n",
      "3618,25830,5/6/2010,Low,5,25.34,0.1,Regular Air,-21.29,4.06,6.89,Justin Hirsh,British Columbia,West,Consumer,Office Supplies,Appliances,Eureka Disposable Bags for Sanitaire® Vibra Groomer I® Upright Vac,Small Box,0.6,5/6/2010\n",
      "\n",
      "3619,25830,5/6/2010,Low,11,178.57,0.05,Regular Air,-37.39,15.28,10.91,Justin Hirsh,British Columbia,West,Consumer,Office Supplies,Binders and Binder Accessories,Recycled Premium Regency Composition Covers,Small Box,0.36,5/11/2010\n",
      "\n",
      "3684,26342,10/18/2009,Low,24,265.35,0.02,Regular Air,-128.69,9.99,11.59,Khloe Miller,British Columbia,West,Home Office,Office Supplies,Paper,Hammermill Color Copier Paper (28Lb. and 96 Bright),Small Box,0.4,10/27/2009\n",
      "\n",
      "3685,26342,10/18/2009,Low,41,1993.94,0.02,Regular Air,931.7,48.04,5.79,Khloe Miller,British Columbia,West,Home Office,Office Supplies,Paper,Xerox 1937,Small Box,0.37,10/23/2009\n",
      "\n",
      "3686,26342,10/18/2009,Low,3,24.73,0.04,Regular Air,-10.77,6.68,4.91,Khloe Miller,British Columbia,West,Home Office,Office Supplies,Paper,Xerox 1986,Small Box,0.37,10/25/2009\n",
      "\n",
      "3687,26368,7/15/2010,Medium,25,1809.0125,0.01,Regular Air,795.05,85.99,2.5,Shahid Shariari,British Columbia,West,Corporate,Technology,Telephones and Communication,Accessory12,Small Box,0.35,7/17/2010\n",
      "\n",
      "3690,26372,7/12/2009,Low,1,31.96,0.01,Regular Air,-74.64,29.89,1.99,Ralph Kennedy,British Columbia,West,Corporate,Technology,Computer Peripherals,\"Verbatim DVD-RAM, 5.2GB, Rewritable, Type 1, DS\",Small Pack,0.5,7/16/2009\n",
      "\n",
      "3743,26756,5/10/2012,Medium,25,767.26,0.07,Regular Air,-29.56,30.97,4,Giulietta Weimer,British Columbia,West,Home Office,Technology,Computer Peripherals,Microsoft Multimedia Keyboard,Small Box,0.74,5/10/2012\n",
      "\n",
      "3744,26756,5/10/2012,Medium,40,253.89,0.09,Regular Air,-103.77,6.48,6.22,Giulietta Weimer,British Columbia,West,Home Office,Office Supplies,Paper,Xerox 1894,Small Box,0.37,5/12/2012\n",
      "\n",
      "3745,26756,5/10/2012,Medium,20,127.9,0.07,Regular Air,-80.41,6.48,7.37,Giulietta Weimer,British Columbia,West,Home Office,Office Supplies,Paper,Xerox 210,Small Box,0.37,5/12/2012\n",
      "\n",
      "3757,26851,7/24/2011,High,44,73.64,0.07,Regular Air,-58.87,1.7,1.99,Heather Jas,British Columbia,West,Corporate,Technology,Computer Peripherals,BASF Silver 74 Minute CD-R,Small Pack,0.51,7/26/2011\n",
      "\n",
      "3787,26981,8/30/2012,Medium,13,603.347,0.08,Regular Air,142.98,55.99,1.25,Vicky Freymann,British Columbia,West,Home Office,Technology,Telephones and Communication,Accessory32,Small Pack,0.35,8/30/2012\n",
      "\n",
      "3788,26981,8/30/2012,Medium,44,770.53,0.04,Regular Air,30.17,16.91,6.25,Vicky Freymann,British Columbia,West,Home Office,Office Supplies,Storage & Organization,\"Tenex Personal Self-Stacking Standard File Box, Black/Gray\",Small Box,0.58,8/31/2012\n",
      "\n",
      "3827,27298,11/19/2011,Low,40,7813.7,0.09,Regular Air,2154.33,199.99,24.49,Philisse Overcash,British Columbia,West,Small Business,Technology,Copiers and Fax,Canon PC-428 Personal Copier,Large Box,0.46,11/23/2011\n",
      "\n",
      "3828,27298,11/19/2011,Low,31,164.92,0.04,Regular Air,-54.36,4.98,4.86,Philisse Overcash,British Columbia,West,Small Business,Office Supplies,Paper,Xerox 190,Small Box,0.38,11/24/2011\n",
      "\n",
      "3834,27330,9/16/2009,Low,8,507.74,0.05,Regular Air,-118.54,55.5,52.2,Mark Cousins,British Columbia,West,Home Office,Furniture,Office Furnishings,Eldon Cleatmat® Chair Mats for Medium Pile Carpets,Medium Box,0.72,9/16/2009\n",
      "\n",
      "3835,27330,9/16/2009,Low,30,12600.99,0.05,Delivery Truck,2963.48,442.14,14.7,Mark Cousins,British Columbia,West,Home Office,Technology,Office Machines,Okidata ML390 Turbo Dot Matrix Printers,Jumbo Drum,0.56,9/25/2009\n",
      "\n",
      "3896,27781,9/15/2011,High,47,181.13,0,Regular Air,-11.39,3.69,2.5,Shahid Hopkins,British Columbia,West,Small Business,Office Supplies,Envelopes,Colored Envelopes,Small Box,0.39,9/17/2011\n",
      "\n",
      "3956,28225,1/22/2009,Critical,9,206.04,0,Regular Air,-49.81,20.28,14.39,Khloe Miller,British Columbia,West,Corporate,Furniture,Office Furnishings,\"Career Cubicle Clock, 8 1/4\"\", Black\",Small Box,0.47,1/22/2009\n",
      "\n",
      "3975,28389,11/3/2009,High,22,668.39,0.07,Regular Air,344.61,30.93,3.92,Mark Cousins,British Columbia,West,Home Office,Furniture,Office Furnishings,\"Advantus Employee of the Month Certificate Frame, 11 x 13-1/2\",Small Pack,0.44,11/4/2009\n",
      "\n",
      "3976,28389,11/3/2009,High,16,4657.35,0.05,Delivery Truck,322.66,297.48,18.06,Mark Cousins,British Columbia,West,Home Office,Technology,Office Machines,Panasonic KX-P3200 Dot Matrix Printer,Jumbo Drum,0.6,11/4/2009\n",
      "\n",
      "3977,28389,11/3/2009,High,7,2097.94,0.07,Delivery Truck,-404.05,296.18,54.12,Mark Cousins,British Columbia,West,Home Office,Furniture,Tables,Hon 94000 Series Round Tables,Jumbo Box,0.76,11/5/2009\n",
      "\n",
      "4054,28898,5/28/2011,Low,44,246,0.1,Regular Air,-207.36,5.78,7.96,Mark Cousins,British Columbia,West,Corporate,Office Supplies,Paper,Xerox 196,Small Box,0.36,5/28/2011\n",
      "\n",
      "4056,28901,6/11/2012,High,23,871.32,0.1,Regular Air,315.16,40.99,5.86,Trudy Schmidt,British Columbia,West,Small Business,Office Supplies,Paper,Xerox 1919,Small Box,0.36,6/12/2012\n",
      "\n",
      "4091,29185,1/20/2010,High,8,468.49,0.03,Regular Air,-6.37,56.96,13.22,Rob Dowd,British Columbia,West,Corporate,Office Supplies,Appliances,\"Conquest™ 14 Commercial Heavy-Duty Upright Vacuum, Collection System, Accessory Kit\",Small Box,0.56,1/21/2010\n",
      "\n",
      "4092,29185,1/20/2010,High,48,446.53,0.04,Express Air,-261.45,8.37,10.16,Rob Dowd,British Columbia,West,Corporate,Furniture,Office Furnishings,Westinghouse Clip-On Gooseneck Lamps,Large Box,0.59,1/22/2010\n",
      "\n",
      "4093,29185,1/20/2010,High,5,217.85,0.02,Express Air,-25.31,40.99,17.48,Rob Dowd,British Columbia,West,Corporate,Office Supplies,Paper,Xerox 1893,Small Box,0.36,1/22/2010\n",
      "\n",
      "4143,29408,5/2/2010,Not Specified,44,4260.73,0.07,Delivery Truck,251.58,119.99,56.14,Neil Knudson,British Columbia,West,Home Office,Technology,Office Machines,Hewlett-Packard 2600DN Business Color Inkjet Printer,Jumbo Box,0.39,5/3/2010\n",
      "\n",
      "4219,29985,7/11/2012,Critical,22,196.75,0.03,Express Air,0.13,7.96,4.95,Khloe Miller,British Columbia,West,Corporate,Furniture,Office Furnishings,Staples Plastic Wall Frames,Small Box,0.41,7/12/2012\n",
      "\n",
      "4220,29986,7/3/2011,Critical,40,1477.39,0.03,Regular Air,641.4,37.7,2.99,Rob Dowd,British Columbia,West,Corporate,Office Supplies,Binders and Binder Accessories,Vinyl Sectional Post Binders,Small Box,0.35,7/3/2011\n",
      "\n",
      "4237,30147,6/17/2012,Not Specified,37,740.14,0.06,Regular Air,29.73,19.98,10.49,Cathy Armstrong,British Columbia,West,Consumer,Furniture,Office Furnishings,12-1/2 Diameter Round Wall Clock,Small Box,0.49,6/19/2012\n",
      "\n",
      "4238,30149,12/12/2010,Medium,8,16.47,0.1,Regular Air,-6.82,2.08,1.49,Mark Cousins,British Columbia,West,Corporate,Office Supplies,Binders and Binder Accessories,Round Ring Binders,Small Box,0.38,12/13/2010\n",
      "\n",
      "4239,30149,12/12/2010,Medium,5,173.62,0.09,Delivery Truck,-88.64,33.94,19.19,Mark Cousins,British Columbia,West,Corporate,Furniture,Chairs & Chairmats,\"Metal Folding Chairs, Beige, 4/Carton\",Jumbo Drum,0.58,12/14/2010\n",
      "\n",
      "4240,30149,12/12/2010,Medium,50,690.97,0.03,Regular Air,-16.94,13.79,8.78,Mark Cousins,British Columbia,West,Corporate,Furniture,Office Furnishings,9-3/4 Diameter Round Wall Clock,Small Box,0.43,12/15/2010\n",
      "\n",
      "4257,30310,4/26/2012,Medium,21,2024.0285,0.1,Regular Air,4.9,125.99,8.8,Thomas Brumley,British Columbia,West,Consumer,Technology,Telephones and Communication,StarTAC 6500,Small Box,0.59,4/28/2012\n",
      "\n",
      "4407,31426,8/5/2009,Low,40,4054.058,0.09,Regular Air,914.19,125.99,2.5,Greg Maxwell,British Columbia,West,Home Office,Technology,Telephones and Communication,i2000,Small Box,0.6,8/9/2009\n",
      "\n",
      "4471,31872,9/6/2010,Low,34,2833.19,0.06,Express Air,1409.87,83.98,5.01,Vicky Freymann,British Columbia,West,Home Office,Office Supplies,Envelopes,Ames Color-File® Green Diamond Border X-ray Mailers,Small Box,0.38,9/10/2010\n",
      "\n",
      "4472,31872,9/6/2010,Low,30,4452.65,0.09,Delivery Truck,-265.12,159.31,60,Vicky Freymann,British Columbia,West,Home Office,Furniture,Tables,Hon Non-Folding Utility Tables,Jumbo Drum,0.55,9/10/2010\n",
      "\n",
      "4477,31874,9/15/2012,High,29,321.95,0.03,Express Air,20.76,10.98,3.37,Shahid Shariari,British Columbia,West,Corporate,Office Supplies,\"Scissors, Rulers and Trimmers\",Fiskars® Softgrip Scissors,Small Pack,0.57,9/15/2012\n",
      "\n",
      "4478,31874,9/15/2012,High,39,13244.04,0.05,Delivery Truck,275.93,348.21,84.84,Shahid Shariari,British Columbia,West,Corporate,Furniture,Tables,Bretford CR4500 Series Slim Rectangular Table,Jumbo Box,0.66,9/15/2012\n",
      "\n",
      "4485,31938,7/27/2011,Medium,13,1193.62,0.08,Delivery Truck,-304.47,89.99,42,Shahid Shariari,British Columbia,West,Consumer,Furniture,Chairs & Chairmats,\"Global Leather Task Chair, Black\",Jumbo Drum,0.66,7/28/2011\n",
      "\n",
      "4486,31938,7/27/2011,Medium,47,363.23,0.05,Regular Air,40.58,7.59,4,Shahid Shariari,British Columbia,West,Consumer,Furniture,Office Furnishings,\"Master Giant Foot® Doorstop, Safety Yellow\",Wrap Bag,0.42,7/29/2011\n",
      "\n",
      "4576,32582,6/25/2009,Not Specified,27,2780.88,0.07,Express Air,595.38,105.34,24.49,Tony Chapman,British Columbia,West,Consumer,Furniture,Office Furnishings,Deflect-o DuraMat Antistatic Studded Beveled Mat for Medium Pile Carpeting,Large Box,0.61,6/26/2009\n",
      "\n",
      "4580,32611,8/27/2009,Medium,16,33.76,0.04,Regular Air,-7.15,2.08,1.49,Neil Knudson,British Columbia,West,Corporate,Office Supplies,Binders and Binder Accessories,Economy Binders,Small Box,0.36,8/29/2009\n",
      "\n",
      "4581,32611,8/27/2009,Medium,19,3537.39,0,Delivery Truck,232.78,180.98,30,Neil Knudson,British Columbia,West,Corporate,Furniture,Chairs & Chairmats,Office Star - Ergonomic Mid Back Chair with 2-Way Adjustable Arms,Jumbo Drum,0.69,8/28/2009\n",
      "\n",
      "4582,32611,8/27/2009,Medium,18,986.24,0.02,Express Air,68.9,53.98,5.5,Neil Knudson,British Columbia,West,Corporate,Technology,Computer Peripherals,Nu-Form 106-Key Ergonomic Keyboard w/ Touchpad,Small Box,0.62,8/28/2009\n",
      "\n",
      "4583,32611,8/27/2009,Medium,15,81.66,0.05,Regular Air,-31.99,4.98,5.02,Neil Knudson,British Columbia,West,Corporate,Office Supplies,Paper,Xerox 1989,Small Box,0.38,8/27/2009\n",
      "\n",
      "4620,32901,1/10/2011,Critical,13,49.74,0,Regular Air,17.7,3.75,0.5,Neil Knudson,British Columbia,West,Corporate,Office Supplies,Labels,Avery 496,Small Box,0.37,1/11/2011\n",
      "\n",
      "4678,33284,3/31/2012,Low,21,480.39,0.01,Regular Air,144.66,22.23,8.99,Lela Donovan,British Columbia,West,Corporate,Furniture,Office Furnishings,\"Executive Impressions 14\"\" Contract Wall Clock with Quartz Movement\",Small Pack,0.41,4/2/2012\n",
      "\n",
      "4680,33287,4/22/2011,Critical,44,11904.55,0,Delivery Truck,3909.33,270.97,28.06,Mike Vittorini,British Columbia,West,Small Business,Technology,Office Machines,Epson LQ-570e Dot Matrix Printer,Jumbo Drum,0.56,4/25/2011\n",
      "\n",
      "4745,33732,8/28/2009,Not Specified,33,332.95,0.05,Regular Air,-28.16,9.65,6.22,Heather Jas,British Columbia,West,Corporate,Furniture,Office Furnishings,\"Eldon Expressions™ Desk Accessory, Wood Pencil Holder, Oak\",Small Box,0.55,8/29/2009\n",
      "\n",
      "4843,34435,8/5/2009,Low,42,447.36,0.01,Regular Air,40.92,10.48,2.89,Justin Hirsh,British Columbia,West,Consumer,Office Supplies,Pens & Art Supplies,Staples Battery-Operated Desktop Pencil Sharpener,Small Pack,0.6,8/7/2009\n",
      "\n",
      "4899,34852,9/5/2012,Low,26,53.93,0.04,Regular Air,-10.95,2.08,1.49,Rob Dowd,British Columbia,West,Corporate,Office Supplies,Binders and Binder Accessories,Round Ring Binders,Small Box,0.38,9/9/2012\n",
      "\n",
      "5001,35649,10/9/2011,Medium,9,43.26,0.1,Regular Air,3.9,4.82,1.49,Justin Hirsh,British Columbia,West,Consumer,Office Supplies,Binders and Binder Accessories,Tuff Stuff™ Recycled Round Ring Binders,Small Box,0.36,10/11/2011\n",
      "\n",
      "5002,35649,10/9/2011,Medium,25,174.03,0.02,Regular Air,-42.37,6.48,5.74,Justin Hirsh,British Columbia,West,Consumer,Office Supplies,Paper,Xerox 1994,Small Box,0.37,10/11/2011\n",
      "\n",
      "5121,36480,8/22/2010,Medium,44,1190.8,0.07,Regular Air,502.49,28.53,1.49,Lela Donovan,British Columbia,West,Corporate,Office Supplies,Binders and Binder Accessories,Lock-Up Easel 'Spel-Binder',Small Box,0.38,8/23/2010\n",
      "\n",
      "5171,36803,8/4/2012,Not Specified,42,121.65,0.05,Regular Air,30.76,2.88,0.99,Ralph Kennedy,British Columbia,West,Corporate,Office Supplies,Labels,Avery 514,Small Box,0.36,8/6/2012\n",
      "\n",
      "5172,36803,8/4/2012,Not Specified,2,19.02,0.05,Express Air,10.73,2.08,5.33,Ralph Kennedy,British Columbia,West,Corporate,Furniture,Office Furnishings,Eldon® Wave Desk Accessories,Small Box,0.43,8/6/2012\n",
      "\n",
      "5173,36803,8/4/2012,Not Specified,2,103.105,0.09,Regular Air,-316.32,65.99,2.5,Ralph Kennedy,British Columbia,West,Corporate,Technology,Telephones and Communication,V8160,Small Box,0.56,8/6/2012\n",
      "\n",
      "5174,36805,12/14/2010,Medium,7,263.8,0,Regular Air,165.33,34.23,5.02,Shahid Shariari,British Columbia,West,Corporate,Furniture,Office Furnishings,Hand-Finished Solid Wood Document Frame,Small Box,0.55,12/16/2010\n",
      "\n",
      "5175,36805,12/14/2010,Medium,28,1546.3965,0.07,Express Air,226.72,65.99,5.26,Shahid Shariari,British Columbia,West,Corporate,Technology,Telephones and Communication,g520,Small Box,0.59,12/16/2010\n",
      "\n",
      "5180,36834,12/24/2009,Low,11,1935.1,0.01,Delivery Truck,-42.96,170.98,35.89,Rob Dowd,British Columbia,West,Corporate,Furniture,Bookcases,\"Rush Hierlooms Collection 1\"\" Thick Stackable Bookcases\",Jumbo Box,0.66,12/26/2009\n",
      "\n",
      "5255,37410,10/12/2010,Medium,45,18775.76,0.03,Delivery Truck,8504.47,400.97,48.26,Chuck Clark,British Columbia,West,Corporate,Technology,Office Machines,Hewlett-Packard Deskjet 1220Cse Color Inkjet Printer,Jumbo Box,0.36,10/14/2010\n",
      "\n",
      "5297,37729,1/15/2009,Not Specified,48,447.89,0,Regular Air,-26.78,8.6,6.19,Giulietta Weimer,British Columbia,West,Corporate,Office Supplies,Binders and Binder Accessories,Avery Printable Repositionable Plastic Tabs,Small Box,0.38,1/15/2009\n",
      "\n",
      "5346,37988,4/5/2011,Not Specified,12,189.19,0.08,Regular Air,-56.71,16.06,8.34,Khloe Miller,British Columbia,West,Home Office,Office Supplies,Storage & Organization,\"Letter/Legal File Tote with Clear Snap-On Lid, Black Granite\",Small Box,0.59,4/5/2011\n",
      "\n",
      "5449,38690,1/20/2012,Low,28,697.5,0.02,Regular Air,169.89,23.99,6.3,Shahid Shariari,British Columbia,West,Corporate,Technology,Office Machines,TI 36X Solar Scientific Calculator,Medium Box,0.38,1/24/2012\n",
      "\n",
      "5457,38758,9/24/2011,Not Specified,7,497.2,0,Regular Air,-219.61,60.98,49,Justin Hirsh,British Columbia,West,Consumer,Office Supplies,Appliances,Euro Pro Shark Stick Mini Vacuum,Large Box,0.59,9/26/2011\n",
      "\n",
      "5554,39332,10/9/2011,Critical,4,198.72,0.01,Express Air,-34.43,40.97,14.45,Khloe Miller,British Columbia,West,Consumer,Furniture,Office Furnishings,Dana Halogen Swing-Arm Architect Lamp,Large Box,0.57,10/10/2011\n",
      "\n",
      "5608,39745,5/4/2011,Not Specified,8,955.29,0.05,Delivery Truck,-286.2,115.99,56.14,Ralph Kennedy,British Columbia,West,Corporate,Technology,Office Machines,Hewlett-Packard Deskjet 5550 Color Inkjet Printer,Jumbo Drum,0.4,5/5/2011\n",
      "\n",
      "5678,40134,10/9/2011,Low,10,109.37,0.1,Regular Air,-21.66,10.89,4.5,Shahid Hopkins,British Columbia,West,Small Business,Office Supplies,Appliances,Belkin 6 Outlet Metallic Surge Strip,Small Box,0.59,10/16/2011\n",
      "\n",
      "5679,40134,10/9/2011,Low,43,1461.1,0.01,Regular Air,674.46,31.78,1.99,Shahid Hopkins,British Columbia,West,Small Business,Technology,Computer Peripherals,\"Memorex 4.7GB DVD-RAM, 3/Pack\",Small Pack,0.42,10/13/2011\n",
      "\n",
      "5680,40134,10/9/2011,Low,1,9.75,0,Regular Air,-6.72,4.98,4.72,Shahid Hopkins,British Columbia,West,Small Business,Office Supplies,Paper,Xerox 1949,Small Box,0.36,10/14/2011\n",
      "\n",
      "5683,40164,4/10/2010,Not Specified,8,184.07,0.04,Regular Air,75.63,22.98,7.58,Chuck Clark,British Columbia,West,Corporate,Furniture,Office Furnishings,\"Seth Thomas 12\"\" Clock w/ Goldtone Case\",Small Box,0.51,4/12/2010\n",
      "\n",
      "5723,40608,8/19/2012,Not Specified,29,573.97,0.05,Regular Air,55.82,18.97,9.54,Bill Eplett,British Columbia,West,Corporate,Office Supplies,Paper,Xerox 1939,Small Box,0.37,8/21/2012\n",
      "\n",
      "5724,40608,8/19/2012,Not Specified,39,223.79,0.01,Regular Air,-89.88,5.28,5.66,Bill Eplett,British Columbia,West,Corporate,Office Supplies,Paper,Xerox 4200 Series MultiUse Premium Copy Paper (20Lb. and 84 Bright),Small Box,0.4,8/20/2012\n",
      "\n",
      "5742,40801,7/1/2012,Not Specified,20,129.16,0.07,Regular Air,-56.15,6.48,6.22,Sarah Bern,British Columbia,West,Corporate,Office Supplies,Paper,Xerox 1894,Small Box,0.37,7/1/2012\n",
      "\n",
      "5775,40965,11/20/2009,Medium,29,843.55,0.08,Regular Air,168.76,30.98,8.74,Mark Cousins,British Columbia,West,Corporate,Office Supplies,Paper,Xerox 1979,Small Box,0.4,11/21/2009\n",
      "\n",
      "5820,41286,9/16/2012,Medium,40,260.96,0.09,Regular Air,-96.7,6.48,6.22,Lena Hernandez,British Columbia,West,Home Office,Office Supplies,Paper,Xerox 1894,Small Box,0.37,9/17/2012\n",
      "\n",
      "5836,41412,9/17/2009,Not Specified,47,263.81,0.03,Regular Air,-237.54,5.4,7.78,Shahid Shariari,British Columbia,West,Consumer,Office Supplies,Binders and Binder Accessories,3M Organizer Strips,Small Box,0.37,9/19/2009\n",
      "\n",
      "5856,41569,7/21/2010,Critical,16,60.76,0.03,Regular Air,5.25,3.7,1.61,Khloe Miller,British Columbia,West,Corporate,Furniture,Office Furnishings,3M Hangers With Command Adhesive,Wrap Bag,0.44,7/23/2010\n",
      "\n",
      "5866,41633,11/9/2010,Low,29,3636.91,0,Delivery Truck,-1284.24,122.99,70.2,Bill Eplett,British Columbia,West,Corporate,Furniture,Chairs & Chairmats,\"Global High-Back Leather Tilter, Burgundy\",Jumbo Drum,0.74,11/9/2010\n",
      "\n",
      "5910,41895,1/10/2011,Critical,8,27663.92,0.05,Regular Air,-391.92,3499.99,24.49,Tony Chapman,British Columbia,West,Consumer,Technology,Copiers and Fax,Canon imageCLASS 2200 Advanced Copier,Large Box,0.37,1/12/2011\n",
      "\n",
      "5936,42112,12/24/2010,Not Specified,16,2744.361,0.01,Regular Air,201.03,195.99,8.99,Bill Eplett,British Columbia,West,Corporate,Technology,Telephones and Communication,T28 WORLD,Small Box,0.6,12/26/2010\n",
      "\n",
      "5942,42177,5/30/2012,Not Specified,49,1201.934,0.03,Regular Air,47.42,28.99,8.59,Shahid Hopkins,British Columbia,West,Small Business,Technology,Telephones and Communication,SouthWestern Bell FA970 Digital Answering Machine with Time/Day Stamp,Medium Box,0.56,5/31/2012\n",
      "\n",
      "5943,42177,5/30/2012,Not Specified,38,395.84,0,Regular Air,8.42,9.77,6.02,Shahid Hopkins,British Columbia,West,Small Business,Furniture,Office Furnishings,DAX Solid Wood Frames,Medium Box,0.48,6/2/2012\n",
      "\n",
      "5969,42339,2/12/2009,Critical,31,206.54,0.02,Regular Air,-178.82,6.48,9.68,Cathy Armstrong,British Columbia,West,Consumer,Office Supplies,Paper,Xerox 1993,Small Box,0.36,2/12/2009\n",
      "\n",
      "5971,42342,9/4/2009,Not Specified,25,318.14,0.01,Regular Air,49.67,12.28,5.09,Bill Eplett,British Columbia,West,Corporate,Office Supplies,Paper,Xerox 1907,Small Box,0.38,9/5/2009\n",
      "\n",
      "6061,42947,8/26/2010,Low,5,177.05,0,Regular Air,-50.67,35.41,1.99,Patrick O'Brill,British Columbia,West,Home Office,Technology,Computer Peripherals,Imation DVD-RAM discs,Small Pack,0.43,8/28/2010\n",
      "\n",
      "6080,43079,7/21/2009,Medium,40,1184.03,0.04,Regular Air,-20.79,30.73,4,Giulietta Weimer,British Columbia,West,Home Office,Technology,Computer Peripherals,Fellowes 17-key keypad for PS/2 interface,Small Box,0.75,7/22/2009\n",
      "\n",
      "6087,43111,9/12/2011,High,27,4722.83,0.01,Regular Air,1749.78,165.98,19.99,Sally Knutson,British Columbia,West,Consumer,Office Supplies,Binders and Binder Accessories,GBC DocuBind P100 Manual Binding Machine,Small Box,0.4,9/13/2011\n",
      "\n",
      "6091,43140,3/18/2009,Critical,23,130.16,0.1,Regular Air,-49.53,5.98,5.14,Marc Harrigan,British Columbia,West,Home Office,Office Supplies,Paper,Xerox 1974,Small Box,0.36,3/20/2009\n",
      "\n",
      "6228,44098,1/27/2010,Low,1,5.06,0.01,Regular Air,-2.64,3.14,1.92,John Grady,British Columbia,West,Corporate,Office Supplies,\"Scissors, Rulers and Trimmers\",Serrated Blade or Curved Handle Hand Letter Openers,Wrap Bag,0.84,1/31/2010\n",
      "\n",
      "3842,27396,12/8/2010,Critical,14,138.31,0.07,Regular Air,-31.16,9.77,6.02,Sean Wendt,British Columbia,West,Corporate,Furniture,Office Furnishings,DAX Solid Wood Frames,Medium Box,0.48,12/10/2010\n",
      "\n",
      "3988,28480,3/15/2009,Medium,17,30.62,0.01,Regular Air,-1.56,1.76,0.7,Mike Kennedy,British Columbia,West,Corporate,Office Supplies,Pens & Art Supplies,Newell 310,Wrap Bag,0.56,3/16/2009\n",
      "\n",
      "4090,29158,10/20/2011,High,12,2266.7,0.07,Delivery Truck,180.8,200.98,23.76,Matt Abelman,British Columbia,West,Home Office,Furniture,Chairs & Chairmats,\"Global Leather Highback Executive Chair with Pneumatic Height Adjustment, Black\",Jumbo Drum,0.58,10/21/2011\n",
      "\n",
      "4144,29409,1/13/2011,High,23,38.99,0.09,Regular Air,-33.52,1.7,1.99,Sally Matthias,British Columbia,West,Home Office,Technology,Computer Peripherals,BASF Silver 74 Minute CD-R,Small Pack,0.51,1/15/2011\n",
      "\n",
      "4213,29956,8/14/2009,Critical,48,80.33,0.09,Regular Air,-12.95,1.82,0.83,Steve Carroll,British Columbia,West,Consumer,Office Supplies,Pens & Art Supplies,Newell 307,Wrap Bag,0.57,8/15/2009\n",
      "\n",
      "4259,30341,1/31/2009,Low,42,6244.18,0.09,Delivery Truck,470.3,160.98,30,Matt Abelman,British Columbia,West,Home Office,Furniture,Chairs & Chairmats,Office Star - Mid Back Dual function Ergonomic High Back Chair with 2-Way Adjustable Arms,Jumbo Drum,0.62,1/31/2009\n",
      "\n",
      "4260,30341,1/31/2009,Low,41,239.75,0.09,Regular Air,105.91,6.3,0.5,Matt Abelman,British Columbia,West,Home Office,Office Supplies,Labels,Avery 51,Small Box,0.39,1/31/2009\n",
      "\n",
      "4261,30341,1/31/2009,Low,30,150.2,0,Regular Air,62.46,4.98,0.8,Matt Abelman,British Columbia,West,Home Office,Office Supplies,Paper,Rediform S.O.S. Phone Message Books,Wrap Bag,0.36,2/7/2009\n",
      "\n",
      "4278,30467,8/15/2009,Critical,5,2019.65,0.05,Regular Air,289.88,420.98,19.99,John Castell,British Columbia,West,Consumer,Office Supplies,Binders and Binder Accessories,GBC DocuBind 200 Manual Binding Machine,Small Box,0.35,8/16/2009\n",
      "\n",
      "4321,30785,7/3/2009,High,7,55.81,0.03,Regular Air,-35.04,6.48,8.73,Neil Ducich,British Columbia,West,Home Office,Office Supplies,Paper,Xerox 227,Small Box,0.37,7/5/2009\n",
      "\n",
      "4322,30785,7/3/2009,High,38,373.07,0.07,Regular Air,149.53,9.93,1.09,Neil Ducich,British Columbia,West,Home Office,Office Supplies,Pens & Art Supplies,Peel-Off® China Markers,Wrap Bag,0.43,7/6/2009\n",
      "\n",
      "4374,31171,4/8/2009,Not Specified,37,161.02,0.08,Regular Air,32.19,4.55,1.49,Parhena Norris,British Columbia,West,Home Office,Office Supplies,Binders and Binder Accessories,Presstex Flexible Ring Binders,Small Box,0.35,4/9/2009\n",
      "\n",
      "4394,31297,8/18/2012,Low,39,679.95,0.08,Regular Air,-93.3,17.99,8.65,Mike Kennedy,British Columbia,West,Corporate,Office Supplies,Pens & Art Supplies,Model L Table or Wall-Mount Pencil Sharpener,Small Box,0.57,8/25/2012\n",
      "\n",
      "4395,31297,8/18/2012,Low,44,1579.56,0.01,Regular Air,699.64,35.44,4.92,Mike Kennedy,British Columbia,West,Corporate,Office Supplies,Paper,Staples Colored Bar Computer Paper,Small Box,0.38,8/27/2012\n",
      "\n",
      "4425,31553,1/10/2009,Critical,32,4906.85,0.09,Regular Air,1907.94,162.93,19.99,Sean Wendt,British Columbia,West,Corporate,Office Supplies,Envelopes,Multimedia Mailers,Small Box,0.39,1/12/2009\n",
      "\n",
      "4595,32706,7/4/2009,Critical,5,2017.5,0.03,Delivery Truck,-663.51,399.98,12.06,Matt Abelman,British Columbia,West,Home Office,Technology,Office Machines,Okidata ML320 Series Turbo Dot Matrix Printers,Jumbo Box,0.56,7/6/2009\n",
      "\n",
      "4650,33122,6/19/2010,Low,21,8468.63,0,Delivery Truck,2819.96,400.97,48.26,Roland Black,British Columbia,West,Small Business,Technology,Office Machines,Hewlett-Packard Deskjet 1220Cse Color Inkjet Printer,Jumbo Box,0.36,6/26/2010\n",
      "\n",
      "4713,33570,12/16/2012,Not Specified,46,265.88,0.05,Regular Air,-90.9,5.74,5.01,Ken Heidel,British Columbia,West,Corporate,Office Supplies,Binders and Binder Accessories,Binder Posts,Small Box,0.39,12/18/2012\n",
      "\n",
      "4714,33570,12/16/2012,Not Specified,1,1500.82,0.01,Delivery Truck,-3381.99,1500.97,29.7,Ken Heidel,British Columbia,West,Corporate,Technology,Office Machines,Epson DFX5000+ Dot Matrix Printer,Jumbo Drum,0.57,12/18/2012\n",
      "\n",
      "4715,33570,12/16/2012,Not Specified,19,3093.864,0.07,Regular Air,286.4,205.99,5.26,Ken Heidel,British Columbia,West,Corporate,Technology,Telephones and Communication,i470,Small Box,0.56,12/16/2012\n",
      "\n",
      "4770,33893,9/20/2012,Not Specified,6,232.21,0,Regular Air,-14.03,35.89,14.72,Sarah Jordon,British Columbia,West,Consumer,Office Supplies,Envelopes,Jet-Pak Recycled Peel 'N' Seal Padded Mailers,Small Box,0.4,9/22/2012\n",
      "\n",
      "4771,33893,9/20/2012,Not Specified,16,88.3,0.09,Regular Air,-12.14,5.85,2.27,Sarah Jordon,British Columbia,West,Consumer,Office Supplies,Pens & Art Supplies,\"Dixon My First Ticonderoga Pencil, #2\",Wrap Bag,0.56,9/21/2012\n",
      "\n",
      "4862,34599,3/3/2010,Low,26,191.55,0.08,Regular Air,7.17,7.7,3.68,John Castell,British Columbia,West,Small Business,Furniture,Office Furnishings,Deflect-O® Glasstique™ Clear Desk Accessories,Wrap Bag,0.52,3/7/2010\n",
      "\n",
      "4863,34599,3/3/2010,Low,29,938.86,0.05,Regular Air,22.21,30.98,17.08,John Castell,British Columbia,West,Small Business,Office Supplies,Paper,Xerox 197,Small Box,0.4,3/7/2010\n",
      "\n",
      "4879,34721,11/1/2010,Not Specified,46,503.17,0.01,Regular Air,-10.21,10.23,4.68,Bart Watters,British Columbia,West,Corporate,Office Supplies,\"Scissors, Rulers and Trimmers\",Acme® Box Cutter Scissors,Small Pack,0.59,11/2/2010\n",
      "\n",
      "4889,34787,2/28/2010,Low,14,453.99,0.05,Regular Air,14.61,30.98,8.99,Sean Wendt,British Columbia,West,Corporate,Office Supplies,Pens & Art Supplies,\"Boston School Pro Electric Pencil Sharpener, 1670\",Small Pack,0.58,3/2/2010\n",
      "\n",
      "4891,34791,5/7/2011,Medium,37,284.58,0.03,Regular Air,33.81,7.59,4,Mary O'Rourke,British Columbia,West,Home Office,Furniture,Office Furnishings,\"Master Giant Foot® Doorstop, Safety Yellow\",Wrap Bag,0.42,5/9/2011\n",
      "\n",
      "4892,34791,5/7/2011,Medium,9,1010.26,0.01,Regular Air,271.5,104.85,19.99,Mary O'Rourke,British Columbia,West,Home Office,Office Supplies,Paper,Multicolor Computer Printout Paper,Small Box,0.37,5/7/2011\n",
      "\n",
      "4895,34822,7/10/2012,Not Specified,23,990.5,0.04,Regular Air,323.73,43.98,1.99,Nathan Cano,British Columbia,West,Consumer,Technology,Computer Peripherals,\"Memorex 80 Minute CD-R Spindle, 100/Pack\",Small Pack,0.44,7/11/2012\n",
      "\n",
      "4900,34853,9/29/2011,Critical,49,651.9,0.16,Regular Air,-74.51,13.73,6.85,Matt Abelman,British Columbia,West,Small Business,Furniture,Office Furnishings,DAX Wood Document Frame.,Wrap Bag,0.54,10/2/2011\n",
      "\n",
      "4991,35522,10/25/2010,Low,27,2575.01,0.09,Regular Air,231.46,99.99,19.99,Michael Granlund,British Columbia,West,Home Office,Technology,Computer Peripherals,US Robotics 56K V.92 External Faxmodem,Small Box,0.52,11/1/2010\n",
      "\n",
      "5062,36099,9/17/2010,Low,32,85.49,0.08,Regular Air,5.72,2.88,0.7,Neil Ducich,British Columbia,West,Home Office,Office Supplies,Pens & Art Supplies,Newell 340,Wrap Bag,0.56,9/22/2010\n",
      "\n",
      "5063,36099,9/17/2010,Low,15,926.3,0.09,Regular Air,-503.8,64.65,35,Neil Ducich,British Columbia,West,Home Office,Office Supplies,Storage & Organization,Space Solutions Commercial Steel Shelving,Large Box,0.8,9/22/2010\n",
      "\n",
      "5106,36359,11/23/2011,High,2,68.66,0.06,Regular Air,-29.6,30.98,5.76,Ken Heidel,British Columbia,West,Corporate,Office Supplies,Paper,\"IBM Multi-Purpose Copy Paper, 8 1/2 x 11\"\", Case\",Small Box,0.4,11/24/2011\n",
      "\n",
      "5193,36901,9/13/2012,Critical,30,201.09,0.08,Regular Air,-56.22,6.68,5.66,Dana Kaydos,British Columbia,West,Corporate,Office Supplies,Paper,Xerox 1923,Small Box,0.37,9/14/2012\n",
      "\n",
      "5256,37412,8/3/2012,High,17,191.67,0.03,Regular Air,6.02,10.98,3.37,Steve Carroll,British Columbia,West,Consumer,Office Supplies,\"Scissors, Rulers and Trimmers\",Fiskars® Softgrip Scissors,Small Pack,0.57,8/5/2012\n",
      "\n",
      "5437,38625,11/17/2010,Not Specified,28,2752,0.06,Express Air,336.47,99.99,19.99,Chad Sievert,British Columbia,West,Corporate,Technology,Computer Peripherals,US Robotics 56K V.92 External Faxmodem,Small Box,0.52,11/19/2010\n",
      "\n",
      "5438,38625,11/17/2010,Not Specified,12,72.82,0.02,Regular Air,5.03,5.98,2.5,Chad Sievert,British Columbia,West,Corporate,Office Supplies,Envelopes,Wausau Papers Astrobrights® Colored Envelopes,Small Box,0.36,11/19/2010\n",
      "\n",
      "5443,38656,8/10/2012,Low,13,64.46,0.01,Regular Air,25.16,4.91,0.5,John Castell,British Columbia,West,Consumer,Office Supplies,Labels,Avery 478,Small Box,0.36,8/10/2012\n",
      "\n",
      "5458,38784,2/3/2011,Medium,50,298.12,0.09,Regular Air,137.67,6.3,0.5,Mark Cousins,British Columbia,West,Home Office,Office Supplies,Labels,Avery 51,Small Box,0.39,2/5/2011\n",
      "\n",
      "5471,38882,12/14/2009,Critical,37,4411.5,0.1,Delivery Truck,-1799.35,122.99,70.2,Hunter Lopez,British Columbia,West,Consumer,Furniture,Chairs & Chairmats,\"Global High-Back Leather Tilter, Burgundy\",Jumbo Drum,0.74,12/15/2009\n",
      "\n",
      "5579,39527,4/17/2011,Low,29,213.35,0.01,Regular Air,63.78,6.88,2,Nathan Mautz,British Columbia,West,Corporate,Office Supplies,Paper,\"Adams Phone Message Book, 200 Message Capacity, 8 1/16” x 11”\",Wrap Bag,0.39,4/26/2011\n",
      "\n",
      "5627,39845,9/6/2009,Critical,44,447.42,0.05,Regular Air,41.3,9.99,4.78,Shaun Weien,British Columbia,West,Home Office,Office Supplies,Paper,Xerox 1896,Small Box,0.4,9/7/2009\n",
      "\n",
      "5637,39877,8/16/2012,Critical,41,90.88,0.04,Regular Air,8.06,2.18,0.78,Nathan Mautz,British Columbia,West,Home Office,Office Supplies,Rubber Bands,Stockwell Push Pins,Wrap Bag,0.52,8/18/2012\n",
      "\n",
      "5695,40259,10/12/2010,Medium,4,29.05,0.08,Express Air,-20.9,4.98,4.32,Theone Pippenger,British Columbia,West,Corporate,Technology,Computer Peripherals,\"DS/HD IBM Formatted Diskettes, 10/Pack - Staples\",Small Pack,0.64,10/13/2010\n",
      "\n",
      "5814,41217,7/13/2011,High,23,1314.64,0.03,Express Air,575.38,55.48,6.79,Nathan Cano,British Columbia,West,Consumer,Office Supplies,Paper,\"Eaton Premium Continuous-Feed Paper, 25% Cotton, Letter Size, White, 1000 Shts/Box\",Small Box,0.37,7/15/2011\n",
      "\n",
      "5876,41671,12/3/2012,Critical,49,638.91,0.02,Regular Air,77.48,12.98,3.14,Bart Watters,British Columbia,West,Corporate,Office Supplies,\"Scissors, Rulers and Trimmers\",\"Acme® 8\"\" Straight Scissors\",Small Pack,0.6,12/5/2012\n",
      "\n",
      "5915,41927,7/13/2012,Not Specified,46,2332.23,0.02,Express Air,1085.93,48.04,7.23,Matt Abelman,British Columbia,West,Home Office,Office Supplies,Paper,Xerox 1885,Small Box,0.37,7/16/2012\n",
      "\n",
      "5919,41988,2/4/2009,Low,33,4610.35,0.08,Delivery Truck,751.58,145.45,17.85,Matt Abelman,British Columbia,West,Home Office,Technology,Office Machines,Panasonic KX-P1150 Dot Matrix Printer,Jumbo Drum,0.56,2/4/2009\n",
      "\n",
      "5920,41988,2/4/2009,Low,18,610.07,0.07,Delivery Truck,-157.56,33.94,19.19,Matt Abelman,British Columbia,West,Home Office,Furniture,Chairs & Chairmats,\"Metal Folding Chairs, Beige, 4/Carton\",Jumbo Drum,0.58,2/8/2009\n",
      "\n",
      "5921,41988,2/4/2009,Low,14,181.49,0.1,Regular Air,-29.54,13.43,5.5,Matt Abelman,British Columbia,West,Home Office,Office Supplies,Storage & Organization,\"Fellowes Personal Hanging Folder Files, Navy\",Small Box,0.57,2/8/2009\n",
      "\n",
      "6026,42692,12/20/2011,Medium,41,248.86,0.08,Regular Air,-168.67,5.98,7.5,Scott Williamson,British Columbia,West,Small Business,Office Supplies,Paper,Xerox 1920,Small Box,0.4,12/22/2011\n",
      "\n",
      "6027,42692,12/20/2011,Medium,42,278.01,0.03,Regular Air,-202.31,6.48,8.73,Scott Williamson,British Columbia,West,Small Business,Office Supplies,Paper,Xerox 227,Small Box,0.37,12/21/2011\n",
      "\n",
      "6216,44007,5/30/2011,Medium,50,281.81,0.07,Regular Air,42.45,5.98,0.96,Nathan Cano,British Columbia,West,Consumer,Office Supplies,Pens & Art Supplies,Newell 315,Wrap Bag,0.6,5/30/2011\n",
      "\n",
      "6279,44450,10/9/2010,Critical,14,243.23,0.07,Regular Air,35.33,17.48,1.99,Sean Wendt,British Columbia,West,Corporate,Technology,Computer Peripherals,\"Maxell Pro 80 Minute CD-R, 10/Pack\",Small Pack,0.45,10/10/2010\n",
      "\n",
      "6280,44450,10/9/2010,Critical,24,1326.51,0.03,Regular Air,58.17,65.99,8.99,Sean Wendt,British Columbia,West,Corporate,Technology,Telephones and Communication,StarTAC Analog,Small Box,0.6,10/9/2010\n",
      "\n",
      "6302,44610,3/10/2011,High,31,127.9,0.07,Regular Air,54.21,4.13,0.5,Hunter Lopez,British Columbia,West,Consumer,Office Supplies,Labels,Avery 506,Small Box,0.39,3/10/2011\n",
      "\n",
      "6350,44999,1/22/2010,Medium,17,110.74,0.09,Regular Air,-70.31,6.48,7.49,Mike Kennedy,British Columbia,West,Small Business,Office Supplies,Paper,Xerox 220,Small Box,0.37,1/23/2010\n",
      "\n",
      "4439,31619,9/17/2009,Low,9,383.23,0.01,Regular Air,146.51,39.98,9.2,Pete Kriz,British Columbia,West,Corporate,Furniture,Office Furnishings,Eldon Radial Chair Mat for Low to Medium Pile Carpets,Wrap Bag,0.65,9/19/2009\n",
      "\n",
      "4450,31715,1/9/2009,Not Specified,11,68.5,0.01,Regular Air,-53.85,5.38,7.57,Mark Haberlin,British Columbia,West,Small Business,Office Supplies,Binders and Binder Accessories,\"Acco PRESSTEX® Data Binder with Storage Hooks, Dark Blue, 9 1/2\"\" X 11\"\"\",Small Box,0.36,1/10/2009\n",
      "\n",
      "4451,31715,1/9/2009,Not Specified,44,145.19,0.05,Regular Air,-116.87,3.28,3.97,Mark Haberlin,British Columbia,West,Small Business,Office Supplies,Pens & Art Supplies,Newell 337,Wrap Bag,0.56,1/9/2009\n",
      "\n",
      "4509,32099,5/5/2010,Not Specified,41,506.73,0.08,Regular Air,25.58,12.28,6.47,Emily Burns,British Columbia,West,Home Office,Office Supplies,Paper,Xerox 1881,Small Box,0.38,5/5/2010\n",
      "\n",
      "4513,32129,7/2/2011,Critical,20,129.27,0.07,Regular Air,-105.15,6.48,8.74,Dave Kipp,British Columbia,West,Consumer,Office Supplies,Paper,Xerox 1984,Small Box,0.36,7/3/2011\n",
      "\n",
      "4514,32129,7/2/2011,Critical,4,8467.68,0.01,Delivery Truck,-3669.05,2036.48,14.7,Dave Kipp,British Columbia,West,Consumer,Technology,Office Machines,Lexmark 4227 Plus Dot Matrix Printer,Jumbo Drum,0.55,7/4/2011\n",
      "\n",
      "4536,32291,11/5/2009,Medium,13,183.22,0.01,Regular Air,-100.89,12.99,14.37,Doug O'Connell,British Columbia,West,Small Business,Furniture,Office Furnishings,\"Tensor \"\"Hersey Kiss\"\" Styled Floor Lamp\",Large Box,0.73,11/5/2009\n",
      "\n",
      "4537,32291,11/5/2009,Medium,4,68.03,0.02,Regular Air,-29.42,15.14,4.53,Doug O'Connell,British Columbia,West,Small Business,Office Supplies,Storage & Organization,Eldon® Gobal File Keepers,Small Box,0.81,11/6/2009\n",
      "\n",
      "4622,32902,3/3/2012,High,23,1638.67,0.05,Delivery Truck,-527.83,68.81,60,Corey Lock,British Columbia,West,Home Office,Office Supplies,Appliances,\"Holmes Replacement Filter for HEPA Air Cleaner, Very Large Room, HEPA Filter\",Jumbo Drum,0.41,3/5/2012\n",
      "\n",
      "4623,32902,3/3/2012,High,8,64.1,0.03,Regular Air,-48.28,6.84,8.37,Corey Lock,British Columbia,West,Home Office,Office Supplies,\"Scissors, Rulers and Trimmers\",\"Acme Design Line 8\"\" Stainless Steel Bent Scissors w/Champagne Handles, 3-1/8\"\" Cut\",Small Pack,0.58,3/5/2012\n",
      "\n",
      "4629,32932,1/9/2010,Low,49,29884.6,0.05,Regular Air,12748.86,599.99,24.49,Karen Carlisle,British Columbia,West,Corporate,Technology,Copiers and Fax,Canon Image Class D660 Copier,Large Box,0.44,1/13/2010\n",
      "\n",
      "4648,33095,2/15/2009,Not Specified,30,4846.74,0.01,Regular Air,1689.93,159.99,5.5,Mick Brown,British Columbia,West,Consumer,Technology,Computer Peripherals,Gyration RF Keyboard,Small Box,0.49,2/17/2009\n",
      "\n",
      "4649,33095,2/15/2009,Not Specified,34,2548.3,0.1,Regular Air,875.57,78.69,19.99,Mick Brown,British Columbia,West,Consumer,Furniture,Office Furnishings,Howard Miller 12-3/4 Diameter Accuwave DS ™ Wall Clock,Small Box,0.43,2/16/2009\n",
      "\n",
      "4652,33126,11/12/2011,Critical,46,5979.84,0.01,Express Air,1779.01,128.24,12.65,Deborah Brumfield,British Columbia,West,Small Business,Furniture,Chairs & Chairmats,SAFCO Folding Chair Trolley,Medium Box,,11/13/2011\n",
      "\n",
      "4653,33126,11/12/2011,Critical,28,175.76,0.06,Regular Air,80.36,6.3,0.5,Deborah Brumfield,British Columbia,West,Small Business,Office Supplies,Labels,Avery 51,Small Box,0.39,11/14/2011\n",
      "\n",
      "4669,33222,6/19/2012,Medium,18,420.76,0.05,Regular Air,-56.21,22.38,15.1,Nicole Brennan,British Columbia,West,Home Office,Office Supplies,Binders and Binder Accessories,\"Avery Flip-Chart Easel Binder, Black\",Small Box,0.38,6/21/2012\n",
      "\n",
      "4670,33222,6/19/2012,Medium,30,1676.46,0.1,Delivery Truck,-626.08,60.98,30,Nicole Brennan,British Columbia,West,Home Office,Furniture,Chairs & Chairmats,Novimex Fabric Task Chair,Jumbo Drum,0.7,6/20/2012\n",
      "\n",
      "4671,33222,6/19/2012,Medium,48,145.66,0.02,Regular Air,28.89,2.88,0.7,Nicole Brennan,British Columbia,West,Home Office,Office Supplies,Pens & Art Supplies,Newell 335,Wrap Bag,0.56,6/21/2012\n",
      "\n",
      "4681,33317,5/11/2009,High,35,203.35,0.08,Regular Air,-1605.73,4.48,49,Jay Fine,British Columbia,West,Consumer,Office Supplies,Appliances,Hoover Portapower™ Portable Vacuum,Large Box,0.6,5/13/2009\n",
      "\n",
      "4682,33317,5/11/2009,High,18,44.52,0.03,Regular Air,-90.59,2.16,6.05,Jay Fine,British Columbia,West,Consumer,Office Supplies,Binders and Binder Accessories,Peel & Stick Add-On Corner Pockets,Small Box,0.37,5/12/2009\n",
      "\n",
      "4683,33317,5/11/2009,High,5,58.9,0.03,Regular Air,-36.9,9.71,9.45,Jay Fine,British Columbia,West,Consumer,Office Supplies,Storage & Organization,Filing/Storage Totes and Swivel Casters,Small Box,0.6,5/11/2009\n",
      "\n",
      "4684,33317,5/11/2009,High,13,602.4205,0.09,Regular Air,10.98,55.99,1.25,Jay Fine,British Columbia,West,Consumer,Technology,Telephones and Communication,Accessory2,Small Pack,0.55,5/13/2009\n",
      "\n",
      "4693,33445,8/2/2012,Low,18,1776.96,0.07,Delivery Truck,-197.06,100.98,35.84,Juliana Krohn,British Columbia,West,Small Business,Furniture,Bookcases,\"Bush Westfield Collection Bookcases, Fully Assembled\",Jumbo Box,0.62,8/7/2012\n",
      "\n",
      "4694,33445,8/2/2012,Low,49,3642.14,0.01,Delivery Truck,103.11,70.98,26.74,Juliana Krohn,British Columbia,West,Small Business,Furniture,Bookcases,\"Hon Metal Bookcases, Black\",Jumbo Box,0.6,8/7/2012\n",
      "\n",
      "4695,33445,8/2/2012,Low,16,2982.5,0.05,Regular Air,-589.58,182.55,69,Juliana Krohn,British Columbia,West,Small Business,Furniture,Tables,\"Lesro Round Back Collection Coffee Table, End Table\",Large Box,0.72,8/4/2012\n",
      "\n",
      "4719,33604,8/18/2011,High,10,59.62,0.04,Regular Air,-56.3,5.4,7.78,Yana Sorensen,British Columbia,West,Corporate,Office Supplies,Binders and Binder Accessories,3M Organizer Strips,Small Box,0.37,8/20/2011\n",
      "\n",
      "4731,33696,5/7/2009,High,2,57.73,0.06,Regular Air,-101.41,27.48,4,Bradley Drucker,British Columbia,West,Small Business,Technology,Computer Peripherals,Belkin MediaBoard 104- Keyboard,Small Box,0.75,5/9/2009\n",
      "\n",
      "4737,33702,9/2/2012,Not Specified,14,56.26,0,Express Air,28.11,2.89,0.5,Adam Hart,British Columbia,West,Corporate,Office Supplies,Labels,Avery 498,Small Box,0.38,9/3/2012\n",
      "\n",
      "4778,33923,1/7/2009,Low,34,1961.7915,0.05,Regular Air,425.75,65.99,5.99,Benjamin Venier,British Columbia,West,Small Business,Technology,Telephones and Communication,i1000,Small Box,0.58,1/11/2009\n",
      "\n",
      "4779,33924,10/18/2012,Not Specified,12,6168.07,0.05,Delivery Truck,1542,500.98,28.14,Ivan Liston,British Columbia,West,Consumer,Technology,Office Machines,\"Hewlett-Packard cp1700 [D, PS] Series Color Inkjet Printers\",Jumbo Drum,0.38,10/20/2012\n",
      "\n",
      "4786,33987,10/25/2011,High,27,1521.1345,0.07,Regular Air,270.6,65.99,3.99,Sara Luxemburg,British Columbia,West,Small Business,Technology,Telephones and Communication,StarTAC 7760,Small Box,0.59,10/26/2011\n",
      "\n",
      "4814,34243,2/11/2011,High,10,89.04,0.08,Regular Air,-16.49,8.75,8.54,Tom Ashbrook,British Columbia,West,Home Office,Furniture,Office Furnishings,\"Eldon® 400 Class™ Desk Accessories, Black Carbon\",Small Pack,0.43,2/13/2011\n",
      "\n",
      "4815,34243,2/11/2011,High,40,297.34,0.04,Express Air,-270.96,7.28,11.15,Tom Ashbrook,British Columbia,West,Home Office,Office Supplies,Paper,\"Array® Parchment Paper, Assorted Colors\",Small Box,0.37,2/12/2011\n",
      "\n",
      "4816,34243,2/11/2011,High,35,1264.13,0.02,Regular Air,-1087.36,35.48,35,Tom Ashbrook,British Columbia,West,Home Office,Office Supplies,Storage & Organization,Belkin OmniView SE Rackmount Kit,Large Box,0.85,2/13/2011\n",
      "\n",
      "4825,34279,3/28/2012,Not Specified,3,840.552,0.1,Delivery Truck,7.55,349.45,60,Joni Wasserman,British Columbia,West,Consumer,Furniture,Tables,\"SAFCO PlanMaster Heigh-Adjustable Drafting Table Base, 43w x 30d x 30-37h, Black\",Jumbo Drum,,3/30/2012\n",
      "\n",
      "4837,34406,9/28/2012,Medium,29,142.59,0.02,Regular Air,-3.23,4.71,0.7,Eric Murdock,British Columbia,West,Home Office,Office Supplies,Rubber Bands,Sterling Rubber Bands by Alliance,Wrap Bag,0.85,9/29/2012\n",
      "\n",
      "4861,34597,12/16/2010,Medium,8,849.337,0.07,Express Air,-258.85,125.99,2.5,Brad Thomas,British Columbia,West,Home Office,Technology,Telephones and Communication,V2397,Small Box,0.58,12/18/2010\n",
      "\n",
      "4914,34980,8/2/2010,Not Specified,7,140.77,0.01,Regular Air,100.77,18.65,3.77,Victoria Pisteka,British Columbia,West,Corporate,Furniture,Office Furnishings,3M Polarizing Light Filter Sleeves,Small Pack,0.39,8/4/2010\n",
      "\n",
      "4915,34980,8/2/2010,Not Specified,25,848.19,0.06,Express Air,120.02,34.76,5.49,Victoria Pisteka,British Columbia,West,Corporate,Office Supplies,Storage & Organization,Home/Office Personal File Carts,Small Box,0.6,8/4/2010\n",
      "\n",
      "4916,34980,8/2/2010,Not Specified,12,562.15,0.01,Regular Air,148.34,46.89,5.1,Victoria Pisteka,British Columbia,West,Corporate,Office Supplies,Appliances,Bionaire Personal Warm Mist Humidifier/Vaporizer,Medium Box,0.46,8/4/2010\n",
      "\n",
      "4968,35361,4/6/2009,Medium,40,746.93,0.09,Express Air,67.03,18.97,9.03,Corey Lock,British Columbia,West,Home Office,Office Supplies,Paper,Computer Printout Paper with Letter-Trim Perforations,Small Box,0.37,4/7/2009\n",
      "\n",
      "4969,35361,4/6/2009,Medium,37,313.4,0,Regular Air,-5.05,8.34,4.82,Corey Lock,British Columbia,West,Home Office,Office Supplies,Paper,Southworth 25% Cotton Antique Laid Paper & Envelopes,Small Box,0.4,4/7/2009\n",
      "\n",
      "4998,35587,11/10/2011,Critical,43,208.77,0.03,Regular Air,-144.24,4.82,5.72,Barry Pond,British Columbia,West,Consumer,Furniture,Office Furnishings,Magna Visual Magnetic Picture Hangers,Small Pack,0.47,11/11/2011\n",
      "\n",
      "5014,35780,1/17/2011,Medium,6,28.55,0.01,Regular Air,-4.5,4.28,1.6,Chris McAfee,British Columbia,West,Consumer,Office Supplies,Pens & Art Supplies,Newell 320,Wrap Bag,0.58,1/19/2011\n",
      "\n",
      "5024,35814,3/27/2012,High,11,324.52,0.08,Regular Air,154.02,29.18,8.55,Karen Carlisle,British Columbia,West,Home Office,Furniture,Office Furnishings,\"Deflect-o SuperTray™ Unbreakable Stackable Tray, Letter, Black\",Small Box,0.42,3/28/2012\n",
      "\n",
      "5044,35938,11/17/2012,Not Specified,6,1770.7,0.05,Delivery Truck,-448.25,280.98,57,Bart Folk,British Columbia,West,Corporate,Furniture,Chairs & Chairmats,Hon 2090 “Pillow Soft” Series Mid Back Swivel/Tilt Chairs,Jumbo Drum,0.78,11/19/2012\n",
      "\n",
      "5045,35938,11/17/2012,Not Specified,48,628.33,0.09,Regular Air,-226.62,14.03,9.37,Bart Folk,British Columbia,West,Corporate,Office Supplies,Storage & Organization,Project Tote Personal File,Small Box,0.56,11/18/2012\n",
      "\n",
      "5047,35968,3/3/2012,Not Specified,21,141.2,0.05,Regular Air,-74.44,6.23,6.97,Barry Weirich,British Columbia,West,Corporate,Office Supplies,Binders and Binder Accessories,Avery Hole Reinforcements,Small Box,0.36,3/5/2012\n",
      "\n",
      "5053,36033,12/19/2009,Not Specified,15,83.02,0.06,Express Air,-54.01,4.98,4.62,Michael Stewart,British Columbia,West,Small Business,Technology,Computer Peripherals,\"Imation 3.5\"\", DISKETTE 44766 HGHLD3.52HD/FM, 10/Pack\",Small Pack,0.64,12/19/2009\n",
      "\n",
      "5057,36067,7/4/2009,High,37,6176.29,0.04,Express Air,1499.94,165.2,19.99,Dave Poirier,British Columbia,West,Small Business,Office Supplies,Storage & Organization,Economy Rollaway Files,Small Box,0.59,7/6/2009\n",
      "\n",
      "5071,36131,5/17/2009,High,26,493.43,0.07,Regular Air,120.18,19.84,4.1,Aleksandra Gannaway,British Columbia,West,Home Office,Office Supplies,Pens & Art Supplies,Prismacolor Color Pencil Set,Wrap Bag,0.44,5/18/2009\n",
      "\n",
      "5076,36160,11/22/2012,Low,12,2218.891,0,Express Air,79.54,205.99,8.99,Bryan Spruell,British Columbia,West,Home Office,Technology,Telephones and Communication,TimeportP7382,Small Box,0.56,11/29/2012\n",
      "\n",
      "5079,36196,8/6/2011,Not Specified,7,39.01,0.07,Regular Air,-38.44,4.98,4.32,Christy Brittain,British Columbia,West,Consumer,Technology,Computer Peripherals,\"DS/HD IBM Formatted Diskettes, 10/Pack - Staples\",Small Pack,0.64,8/8/2011\n",
      "\n",
      "5101,36356,12/25/2011,Medium,45,4768.59,0.01,Delivery Truck,-593.8,100.98,45,Christy Brittain,British Columbia,West,Consumer,Furniture,Chairs & Chairmats,Hon Valutask™ Swivel Chairs,Jumbo Drum,0.69,12/27/2011\n",
      "\n",
      "5102,36356,12/25/2011,Medium,33,117.77,0.08,Regular Air,47.98,3.75,0.5,Christy Brittain,British Columbia,West,Consumer,Office Supplies,Labels,Avery 510,Small Box,0.37,12/27/2011\n",
      "\n",
      "5140,36647,6/30/2009,High,21,179.98,0.01,Regular Air,38.7,7.89,2.82,Christy Brittain,British Columbia,West,Consumer,Office Supplies,Rubber Bands,\"Staples Vinyl Coated Paper Clips, 800/Box\",Wrap Bag,0.4,7/1/2009\n",
      "\n",
      "5141,36647,6/30/2009,High,16,55.44,0.09,Regular Air,-21.91,3.68,1.32,Christy Brittain,British Columbia,West,Consumer,Office Supplies,\"Scissors, Rulers and Trimmers\",\"*Staples* vLetter Openers, 2/Pack\",Wrap Bag,0.83,7/1/2009\n",
      "\n",
      "5142,36647,6/30/2009,High,18,174.62,0.1,Regular Air,-119.77,9.71,9.45,Christy Brittain,British Columbia,West,Consumer,Office Supplies,Storage & Organization,Filing/Storage Totes and Swivel Casters,Small Box,0.6,7/3/2009\n",
      "\n",
      "5159,36737,3/15/2010,Not Specified,10,999.89,0.02,Regular Air,-119.92,99.99,19.99,Harold Dahlen,British Columbia,West,Consumer,Technology,Computer Peripherals,US Robotics 56K V.92 External Faxmodem,Small Box,0.52,3/16/2010\n",
      "\n",
      "5160,36737,3/15/2010,Not Specified,10,35.69,0.04,Regular Air,-31.24,3.28,4.2,Harold Dahlen,British Columbia,West,Consumer,Office Supplies,Pens & Art Supplies,Newell 351,Wrap Bag,0.56,3/16/2010\n",
      "\n",
      "5177,36832,6/1/2012,Low,43,532.89,0.09,Regular Air,210.53,12.97,1.49,Bobby Trafton,British Columbia,West,Small Business,Office Supplies,Binders and Binder Accessories,\"Mead 1st Gear 2\"\" Zipper Binder, Asst. Colors\",Small Box,0.35,6/8/2012\n",
      "\n",
      "5178,36832,6/1/2012,Low,24,60.69,0.06,Express Air,-25.65,2.12,1.99,Bobby Trafton,British Columbia,West,Small Business,Technology,Computer Peripherals,Fuji Slim Jewel Case CD-R,Small Pack,0.55,6/6/2012\n",
      "\n",
      "5184,36836,2/26/2010,Medium,43,16116.33,0.08,Regular Air,6919.87,387.99,19.99,Karen Carlisle,British Columbia,West,Corporate,Office Supplies,Binders and Binder Accessories,Fellowes PB300 Plastic Comb Binding Machine,Small Box,0.38,3/1/2010\n",
      "\n",
      "5188,36867,9/5/2009,High,21,5482.18,0.06,Express Air,1167.38,276.2,24.49,Speros Goranitis,British Columbia,West,Corporate,Furniture,Chairs & Chairmats,SAFCO Arco Folding Chair,Large Box,,9/7/2009\n",
      "\n",
      "5189,36867,9/5/2009,High,16,45.57,0.09,Regular Air,2.81,2.88,0.7,Speros Goranitis,British Columbia,West,Corporate,Office Supplies,Pens & Art Supplies,Newell 346,Wrap Bag,0.56,9/7/2009\n",
      "\n",
      "5231,37250,1/14/2010,High,13,473.46,0.03,Regular Air,128.11,35.94,6.66,Grant Thornton,British Columbia,West,Corporate,Office Supplies,Envelopes,\"Tyvek ® Top-Opening Peel & Seel ® Envelopes, Gray\",Small Box,0.4,1/15/2010\n",
      "\n",
      "5266,37473,10/1/2009,Low,42,88.23,0.1,Regular Air,-195.93,2.18,5,Tom Prescott,British Columbia,West,Small Business,Office Supplies,\"Scissors, Rulers and Trimmers\",*Staples* Letter Opener,Wrap Bag,0.81,10/5/2009\n",
      "\n",
      "5268,37505,6/3/2011,Low,1,29.19,0.03,Regular Air,-23.1,16.98,12.39,Bryan Spruell,British Columbia,West,Home Office,Office Supplies,Envelopes,Brown Kraft Recycled Envelopes,Small Box,0.35,6/5/2011\n",
      "\n",
      "5269,37505,6/3/2011,Low,9,2007.24,0.03,Express Air,600.4,225.04,11.79,Bryan Spruell,British Columbia,West,Home Office,Office Supplies,Appliances,Holmes Harmony HEPA Air Purifier for 17 x 20 Room,Medium Box,0.42,6/5/2011\n",
      "\n",
      "5270,37505,6/3/2011,Low,42,384.41,0.05,Regular Air,-44.3,9.49,5.76,Bryan Spruell,British Columbia,West,Home Office,Technology,Office Machines,\"Sharp EL501VB Scientific Calculator, Battery Operated, 10-Digit Display, Hard Case\",Medium Box,0.39,6/8/2011\n",
      "\n",
      "5272,37537,1/2/2009,Low,4,1239.06,0,Delivery Truck,-193.08,291.73,48.8,Alan Schoenberger,British Columbia,West,Corporate,Furniture,Chairs & Chairmats,Hon 4070 Series Pagoda™ Armless Upholstered Stacking Chairs,Jumbo Drum,0.56,1/2/2009\n",
      "\n",
      "5273,37537,1/2/2009,Low,43,4083.19,0.07,Delivery Truck,-1049.85,100.98,45,Alan Schoenberger,British Columbia,West,Corporate,Furniture,Chairs & Chairmats,Hon Valutask™ Swivel Chairs,Jumbo Drum,0.69,1/4/2009\n",
      "\n",
      "5274,37537,1/2/2009,Low,32,4902.38,0.05,Regular Air,1438.49,155.06,7.07,Alan Schoenberger,British Columbia,West,Corporate,Office Supplies,Storage & Organization,\"Dual Level, Single-Width Filing Carts\",Small Box,0.59,1/9/2009\n",
      "\n",
      "5283,37606,2/22/2010,Critical,1,19.96,0.05,Express Air,3.25,4.98,4.86,Patrick Bzostek,British Columbia,West,Consumer,Office Supplies,Paper,Xerox 190,Small Box,0.38,2/23/2010\n",
      "\n",
      "5284,37606,2/22/2010,Critical,41,148.99,0.03,Regular Air,-115.48,3.57,4.17,Patrick Bzostek,British Columbia,West,Consumer,Office Supplies,Pens & Art Supplies,Barrel Sharpener,Small Pack,0.59,2/24/2010\n",
      "\n",
      "5285,37606,2/22/2010,Critical,21,70.66,0.06,Regular Air,-57.84,3.28,3.97,Patrick Bzostek,British Columbia,West,Consumer,Office Supplies,Pens & Art Supplies,Newell 342,Wrap Bag,0.56,2/24/2010\n",
      "\n",
      "5289,37668,1/8/2010,Low,33,478.27,0.01,Regular Air,-4.85,13.99,7.51,Victoria Pisteka,British Columbia,West,Corporate,Technology,Office Machines,Sharp EL500L Fraction Calculator,Medium Box,0.39,1/8/2010\n",
      "\n",
      "5322,37830,8/16/2009,Not Specified,39,977.92,0.05,Express Air,148.89,25.99,5.37,Tamara Willingham,British Columbia,West,Corporate,Office Supplies,Pens & Art Supplies,\"BOSTON® Ranger® #55 Pencil Sharpener, Black\",Small Box,0.56,8/18/2009\n",
      "\n",
      "5343,37957,11/5/2010,Not Specified,31,229.26,0,Regular Air,-37.2,6.81,5.48,Bobby Trafton,British Columbia,West,Small Business,Office Supplies,Binders and Binder Accessories,Avery Self-Adhesive Photo Pockets for Polaroid Photos,Small Box,0.37,11/6/2010\n",
      "\n",
      "5404,38406,12/2/2010,Medium,12,754.94,0.01,Delivery Truck,-226.24,58.14,36.61,Denny Ordway,British Columbia,West,Small Business,Furniture,Bookcases,O'Sullivan 3-Shelf Heavy-Duty Bookcases,Jumbo Box,0.61,12/3/2010\n",
      "\n",
      "5431,38594,12/1/2009,Medium,26,1011.9,0.07,Regular Air,247.94,39.48,1.99,Roland Fjeld,British Columbia,West,Corporate,Technology,Computer Peripherals,\"80 Minute CD-R Spindle, 100/Pack - Staples\",Small Pack,0.54,12/2/2009\n",
      "\n",
      "5444,38657,5/28/2010,Not Specified,38,1279.25,0.01,Regular Air,569.3,31.78,1.99,Elizabeth Moffitt,British Columbia,West,Consumer,Technology,Computer Peripherals,\"Memorex 4.7GB DVD-RAM, 3/Pack\",Small Pack,0.42,5/29/2010\n",
      "\n",
      "5466,38850,4/29/2010,Medium,34,12570.74,0.02,Delivery Truck,-4560.43,348.21,40.19,Corey Lock,British Columbia,West,Home Office,Furniture,Tables,Bretford CR4500 Series Slim Rectangular Table,Jumbo Box,0.62,5/1/2010\n",
      "\n",
      "5479,38913,9/6/2009,Not Specified,7,230.29,0.03,Regular Air,-4.3,31.74,12.62,David Kendrick,British Columbia,West,Home Office,Office Supplies,Binders and Binder Accessories,GBC Wire Binding Strips,Small Box,0.37,9/6/2009\n",
      "\n",
      "5488,38948,6/5/2011,Not Specified,9,1394.28,0.03,Regular Air,197.16,155.06,7.07,Julia Barnett,British Columbia,West,Home Office,Office Supplies,Storage & Organization,\"Dual Level, Single-Width Filing Carts\",Small Box,0.59,6/6/2011\n",
      "\n",
      "5489,38948,6/5/2011,Not Specified,44,6862.237,0.05,Express Air,1839.2,179.99,13.99,Julia Barnett,British Columbia,West,Home Office,Technology,Telephones and Communication,VTech VT20-2481 2.4GHz Two-Line Phone System w/Answering Machine,Medium Box,0.57,6/6/2011\n",
      "\n",
      "5505,39041,10/26/2011,Critical,47,418.03,0,Express Air,-158.58,8.09,7.96,Adam Hart,British Columbia,West,Corporate,Furniture,Office Furnishings,\"6\"\" Cubicle Wall Clock, Black\",Small Box,0.49,10/26/2011\n",
      "\n",
      "5506,39041,10/26/2011,Critical,23,336.86,0.06,Regular Air,36.32,14.2,5.3,Adam Hart,British Columbia,West,Corporate,Furniture,Office Furnishings,Coloredge Poster Frame,Wrap Bag,0.46,10/28/2011\n",
      "\n",
      "5519,39136,6/24/2009,High,49,2693.514,0.02,Regular Air,662.05,65.99,3.99,Shirley Jackson,British Columbia,West,Corporate,Technology,Telephones and Communication,StarTAC 7760,Small Box,0.59,6/26/2009\n",
      "\n",
      "5535,39232,7/12/2011,Low,11,391.9,0.1,Regular Air,-47.01,35.44,19.99,Adam Hart,British Columbia,West,Corporate,Office Supplies,Paper,Xerox 1880,Small Box,0.38,7/14/2011\n",
      "\n",
      "5536,39232,7/12/2011,Low,26,1451.59,0.06,Regular Air,435.11,55.48,14.3,Adam Hart,British Columbia,West,Corporate,Office Supplies,Paper,Xerox 194,Small Box,0.37,7/17/2011\n",
      "\n",
      "5586,39617,12/17/2011,Not Specified,33,1283.68,0.08,Regular Air,202.47,39.98,9.2,Bradley Drucker,British Columbia,West,Small Business,Furniture,Office Furnishings,Eldon Radial Chair Mat for Low to Medium Pile Carpets,Wrap Bag,0.65,12/19/2011\n",
      "\n",
      "5587,39617,12/17/2011,Not Specified,28,169.46,0.02,Regular Air,34.24,5.84,1.2,Bradley Drucker,British Columbia,West,Small Business,Office Supplies,Pens & Art Supplies,Newell 312,Wrap Bag,0.55,12/19/2011\n",
      "\n",
      "5589,39649,10/19/2009,High,10,1351.653,0.01,Express Air,-202.85,155.99,8.99,Karen Carlisle,British Columbia,West,Corporate,Technology,Telephones and Communication,CF 688,Small Box,0.58,10/20/2009\n",
      "\n",
      "5590,39649,10/19/2009,High,9,63,0.01,Regular Air,-17.48,5.98,5.46,Karen Carlisle,British Columbia,West,Corporate,Office Supplies,Paper,Xerox 1983,Small Box,0.36,10/21/2009\n",
      "\n",
      "5595,39654,9/30/2012,Medium,39,856.15,0.03,Express Air,330.03,21.38,2.99,Grant Thornton,British Columbia,West,Corporate,Office Supplies,Binders and Binder Accessories,Trimflex™ Flexible Post Binders,Small Box,0.37,10/1/2012\n",
      "\n",
      "5618,39808,9/2/2012,Low,50,2026.42,0.03,Regular Air,655.36,39.98,9.83,Brendan Murry,British Columbia,West,Corporate,Office Supplies,Envelopes,\"Blue String-Tie & Button Interoffice Envelopes, 10 x 13\",Small Box,0.4,9/9/2012\n",
      "\n",
      "5619,39808,9/2/2012,Low,31,3413.4555,0.03,Regular Air,868.47,125.99,2.5,Brendan Murry,British Columbia,West,Corporate,Technology,Telephones and Communication,i2000,Small Box,0.6,9/6/2012\n",
      "\n",
      "5623,39841,1/1/2010,Medium,43,294.13,0.01,Regular Air,-123.07,6.68,6.92,Benjamin Venier,British Columbia,West,Small Business,Office Supplies,Paper,Xerox 1898,Small Box,0.37,1/3/2010\n",
      "\n",
      "5630,39847,4/4/2010,Not Specified,29,125.41,0.08,Regular Air,-127.01,4.38,6.21,Jennifer Patt,British Columbia,West,Home Office,Office Supplies,Binders and Binder Accessories,Acco 3-Hole Punch,Small Box,0.37,4/5/2010\n",
      "\n",
      "5631,39847,4/4/2010,Not Specified,49,3170.52,0.08,Regular Air,379.11,64.98,6.88,Jennifer Patt,British Columbia,West,Home Office,Office Supplies,Storage & Organization,Fellowes Bankers Box™ Staxonsteel® Drawer File/Stacking System,Small Box,0.73,4/5/2010\n",
      "\n",
      "5632,39847,4/4/2010,Not Specified,20,2488.477,0.08,Regular Air,142.55,155.99,8.99,Jennifer Patt,British Columbia,West,Home Office,Technology,Telephones and Communication,CF 688,Small Box,0.58,4/6/2010\n",
      "\n",
      "5641,39907,8/29/2010,Low,12,378.84,0.05,Regular Air,-99.38,30.73,4,Jennifer Patt,British Columbia,West,Home Office,Technology,Computer Peripherals,Fellowes 17-key keypad for PS/2 interface,Small Box,0.75,9/7/2010\n",
      "\n",
      "5663,40068,4/20/2010,Low,1,200.38,0.02,Delivery Truck,-90.41,160.98,30,Jennifer Patt,British Columbia,West,Home Office,Furniture,Chairs & Chairmats,Office Star - Mid Back Dual function Ergonomic High Back Chair with 2-Way Adjustable Arms,Jumbo Drum,0.62,4/22/2010\n",
      "\n",
      "5664,40068,4/20/2010,Low,2,128.52,0.1,Regular Air,-110.07,64.98,6.88,Jennifer Patt,British Columbia,West,Home Office,Office Supplies,Storage & Organization,Fellowes Bankers Box™ Staxonsteel® Drawer File/Stacking System,Small Box,0.73,4/24/2010\n",
      "\n",
      "5665,40068,4/20/2010,Low,24,6717.784,0,Delivery Truck,1903.1,348.21,40.19,Jennifer Patt,British Columbia,West,Home Office,Furniture,Tables,Bretford CR4500 Series Slim Rectangular Table,Jumbo Box,0.62,4/20/2010\n",
      "\n",
      "5710,40420,1/10/2011,High,22,59.08,0.1,Regular Air,-2.61,2.88,1.49,Jeremy Pistek,British Columbia,West,Corporate,Office Supplies,Binders and Binder Accessories,Avery Durable Binders,Small Box,0.36,1/12/2011\n",
      "\n",
      "5711,40420,1/10/2011,High,50,886.363,0.08,Regular Air,450.02,20.99,0.99,Jeremy Pistek,British Columbia,West,Corporate,Technology,Telephones and Communication,Accessory21,Wrap Bag,0.37,1/12/2011\n",
      "\n",
      "5716,40485,12/27/2009,Not Specified,36,222.25,0.05,Regular Air,-63.77,5.98,5.46,David Bremer,British Columbia,West,Corporate,Office Supplies,Paper,Xerox 1983,Small Box,0.36,12/27/2009\n",
      "\n",
      "5717,40485,12/27/2009,Not Specified,7,388.7135,0.01,Regular Air,-190.42,65.99,3.99,David Bremer,British Columbia,West,Corporate,Technology,Telephones and Communication,StarTAC 7760,Small Box,0.59,12/28/2009\n",
      "\n",
      "5781,40998,5/2/2009,Medium,43,1233.22,0.05,Regular Air,385.46,29.89,1.99,Nora Paige,British Columbia,West,Small Business,Technology,Computer Peripherals,\"Verbatim DVD-RAM, 5.2GB, Rewritable, Type 1, DS\",Small Pack,0.5,5/3/2009\n",
      "\n",
      "5782,40998,5/2/2009,Medium,39,144.82,0.08,Regular Air,28.4,4,1.3,Nora Paige,British Columbia,West,Small Business,Office Supplies,Paper,EcoTones® Memo Sheets,Wrap Bag,0.37,5/4/2009\n",
      "\n",
      "5793,41091,5/24/2009,Medium,32,6310.69,0.1,Express Air,1318.83,218.08,18.06,Harold Dahlen,British Columbia,West,Consumer,Furniture,Chairs & Chairmats,\"Lifetime Advantage™ Folding Chairs, 4/Carton\",Large Box,0.57,5/25/2009\n",
      "\n",
      "5800,41152,9/3/2011,High,49,3702.92,0.03,Regular Air,541.92,76.72,19.95,Bobby Trafton,British Columbia,West,Corporate,Office Supplies,Appliances,Honeywell Enviracaire® Portable Air Cleaner for up to 8 x 10 Room,Large Box,0.54,9/4/2011\n",
      "\n",
      "5801,41152,9/3/2011,High,29,53.99,0.1,Regular Air,-15.12,1.88,1.49,Bobby Trafton,British Columbia,West,Corporate,Office Supplies,Binders and Binder Accessories,Staples® General Use 3-Ring Binders,Small Box,0.37,9/5/2011\n",
      "\n",
      "5804,41157,4/16/2011,Medium,39,3854.4,0.09,Regular Air,1116.98,107.53,5.81,Nicole Brennan,British Columbia,West,Home Office,Furniture,Office Furnishings,\"Tenex Contemporary Contur Chairmats for Low and Medium Pile Carpet, Computer, 39\"\" x 49\"\"\",Medium Box,0.65,4/18/2011\n",
      "\n",
      "5826,41349,12/17/2011,Critical,44,346.2,0,Express Air,-335.69,7.38,11.51,Jennifer Patt,British Columbia,West,Home Office,Office Supplies,Binders and Binder Accessories,GBC Plastic Binding Combs,Small Box,0.36,12/18/2011\n",
      "\n",
      "5827,41349,12/17/2011,Critical,4,85.96,0.08,Express Air,-7.48,20.24,8.99,Jennifer Patt,British Columbia,West,Home Office,Furniture,Office Furnishings,\"DAX Metal Frame, Desktop, Stepped-Edge\",Small Pack,0.46,12/19/2011\n",
      "\n",
      "5828,41349,12/17/2011,Critical,39,475.52,0.07,Regular Air,-70.43,12.44,6.27,Jennifer Patt,British Columbia,West,Home Office,Office Supplies,Storage & Organization,Eldon Simplefile® Box Office®,Medium Box,0.57,12/19/2011\n",
      "\n",
      "5841,41440,9/22/2009,High,20,92.94,0.09,Regular Air,37.77,4.91,0.5,Alejandro Savely,British Columbia,West,Corporate,Office Supplies,Labels,Avery 493,Small Box,0.36,9/23/2009\n",
      "\n",
      "5842,41440,9/22/2009,High,19,6070.96,0.01,Delivery Truck,173.48,296.18,54.12,Alejandro Savely,British Columbia,West,Corporate,Furniture,Tables,Hon 94000 Series Round Tables,Jumbo Box,0.76,9/25/2009\n",
      "\n",
      "5850,41539,5/3/2011,High,24,41.85,0.04,Express Air,-8.44,1.6,1.29,Charles Crestani,British Columbia,West,Consumer,Office Supplies,Pens & Art Supplies,Sanford Pocket Accent® Highlighters,Wrap Bag,0.42,5/5/2011\n",
      "\n",
      "5851,41539,5/3/2011,High,41,2303.7125,0.04,Regular Air,398.22,65.99,8.99,Charles Crestani,British Columbia,West,Consumer,Technology,Telephones and Communication,V 3600 Series,Small Box,0.58,5/4/2011\n",
      "\n",
      "5859,41574,9/20/2010,High,23,283.82,0.01,Regular Air,-38.94,11.97,5.81,Brendan Murry,British Columbia,West,Corporate,Office Supplies,Pens & Art Supplies,Staples SlimLine Pencil Sharpener,Small Pack,0.6,9/22/2010\n",
      "\n",
      "5902,41831,7/21/2012,Not Specified,43,3441.09,0.03,Delivery Truck,431.95,80.97,30.06,Muhammed Lee,British Columbia,West,Corporate,Technology,Office Machines,Hewlett-Packard Deskjet 940 REFURBISHED Color Inkjet Printer,Jumbo Box,0.4,7/23/2012\n",
      "\n",
      "5903,41831,7/21/2012,Not Specified,38,209.61,0.05,Regular Air,-96.29,5.28,5.66,Muhammed Lee,British Columbia,West,Corporate,Office Supplies,Paper,Xerox 4200 Series MultiUse Premium Copy Paper (20Lb. and 84 Bright),Small Box,0.4,7/22/2012\n",
      "\n",
      "5906,41888,2/28/2009,Low,18,1979.47,0.1,Regular Air,690.27,120.98,9.07,Victoria Pisteka,British Columbia,West,Corporate,Office Supplies,Binders and Binder Accessories,GBC VeloBinder Electric Binding Machine,Small Box,0.35,3/9/2009\n",
      "\n",
      "5907,41888,2/28/2009,Low,23,187.8,0.08,Express Air,-41.83,8.32,2.38,Victoria Pisteka,British Columbia,West,Corporate,Technology,Computer Peripherals,\"Imation 3.5 IBM Formatted Diskettes, 10/Box\",Small Pack,0.74,3/4/2009\n",
      "\n",
      "5908,41888,2/28/2009,Low,29,2823.037,0.1,Regular Air,372.4,125.99,4.2,Victoria Pisteka,British Columbia,West,Corporate,Technology,Telephones and Communication,V3682,Small Box,0.59,2/28/2009\n",
      "\n",
      "5927,42054,9/14/2012,Medium,32,94.55,0.01,Regular Air,6.74,2.88,1.49,Patrick Bzostek,British Columbia,West,Consumer,Office Supplies,Binders and Binder Accessories,Avery Durable Binders,Small Box,0.36,9/16/2012\n",
      "\n",
      "5940,42148,10/20/2011,Critical,11,45.31,0.07,Regular Air,-10.64,3.98,2.97,Jeremy Pistek,British Columbia,West,Corporate,Office Supplies,Paper,Unpadded Memo Slips,Wrap Bag,0.35,10/23/2011\n",
      "\n",
      "5959,42306,9/14/2012,High,4,36.46,0.1,Regular Air,-7.41,8.69,2.99,Maureen Gastineau,British Columbia,West,Consumer,Office Supplies,Binders and Binder Accessories,\"Cardinal Slant-D® Ring Binder, Heavy Gauge Vinyl\",Small Box,0.39,9/16/2012\n",
      "\n",
      "5967,42338,11/2/2009,Not Specified,14,63.91,0.04,Regular Air,-44.47,4.14,6.6,Adam Hart,British Columbia,West,Corporate,Furniture,Office Furnishings,Eldon Image Series Black Desk Accessories,Small Box,0.49,11/4/2009\n",
      "\n",
      "5968,42338,11/2/2009,Not Specified,32,1909.0065,0.01,Regular Air,344.13,65.99,8.99,Adam Hart,British Columbia,West,Corporate,Technology,Telephones and Communication,SC-3160,Small Box,0.59,11/4/2009\n",
      "\n",
      "5972,42343,8/14/2009,Critical,46,3412.08,0.04,Delivery Truck,239.23,70.98,26.85,Berenike Kampe,British Columbia,West,Corporate,Furniture,Bookcases,\"Safco Value Mate Steel Bookcase, Baked Enamel Finish on Steel, Black\",Jumbo Box,,8/16/2009\n",
      "\n",
      "5973,42343,8/14/2009,Critical,31,1311.68,0.03,Regular Air,230.37,40.99,17.48,Berenike Kampe,British Columbia,West,Corporate,Office Supplies,Paper,Xerox 1893,Small Box,0.36,8/15/2009\n",
      "\n",
      "5991,42467,10/14/2010,High,10,238.88,0.01,Regular Air,-48.21,22.38,15.1,Julia Barnett,British Columbia,West,Home Office,Office Supplies,Binders and Binder Accessories,\"Avery Flip-Chart Easel Binder, Black\",Small Box,0.38,10/14/2010\n",
      "\n",
      "5992,42467,10/14/2010,High,39,1235.29,0,Express Air,53.63,30.98,6.5,Julia Barnett,British Columbia,West,Home Office,Technology,Computer Peripherals,Belkin ErgoBoard™ Keyboard,Small Box,0.64,10/16/2010\n",
      "\n",
      "5993,42467,10/14/2010,High,12,1928.327,0.09,Regular Air,-253.37,195.99,8.99,Julia Barnett,British Columbia,West,Home Office,Technology,Telephones and Communication,T28 WORLD,Small Box,0.6,10/16/2010\n",
      "\n",
      "6005,42529,10/10/2010,Low,8,57.15,0.03,Regular Air,-33.95,5.98,7.5,Bobby Elias,British Columbia,West,Small Business,Office Supplies,Paper,Xerox 1920,Small Box,0.4,10/15/2010\n",
      "\n",
      "6008,42563,8/12/2010,Medium,7,44.25,0.07,Express Air,-14.36,4.24,5.41,Jeremy Pistek,British Columbia,West,Corporate,Office Supplies,Binders and Binder Accessories,Storex DuraTech Recycled Plastic Frosted Binders,Small Box,0.35,8/12/2010\n",
      "\n",
      "6011,42567,1/11/2010,Critical,12,1940.32,0,Delivery Truck,-18.81,146.34,43.75,Tom Prescott,British Columbia,West,Small Business,Furniture,Tables,Bevis Round Conference Table Top & Single Column Base,Jumbo Box,0.65,1/13/2010\n",
      "\n",
      "6024,42691,5/24/2010,Low,50,2447.65,0,Regular Air,1170.35,46.94,6.77,Noel Staavos,British Columbia,West,Home Office,Furniture,Office Furnishings,\"Howard Miller 13\"\" Diameter Goldtone Round Wall Clock\",Small Box,0.44,6/2/2010\n",
      "\n",
      "6025,42691,5/24/2010,Low,7,1069.64,0.09,Regular Air,-139.75,161.55,19.99,Noel Staavos,British Columbia,West,Home Office,Office Supplies,Storage & Organization,Fellowes Super Stor/Drawer® Files,Small Box,0.66,5/28/2010\n",
      "\n",
      "6058,42919,10/6/2011,Medium,7,1143.4285,0.04,Express Air,-475.66,195.99,4.2,David Bremer,British Columbia,West,Corporate,Technology,Telephones and Communication,T65,Small Box,0.56,10/7/2011\n",
      "\n",
      "6070,43010,10/9/2012,Critical,40,233.2,0,Regular Air,74.83,5.68,1.46,Bryan Spruell,British Columbia,West,Home Office,Office Supplies,Paper,\"Adams Write n' Stick Phone Message Book, 11\"\" X 5 1/4\"\", 200 Messages\",Wrap Bag,0.39,10/9/2012\n",
      "\n",
      "6071,43010,10/9/2012,Critical,24,245.53,0.02,Regular Air,83.16,10.14,2.27,Bryan Spruell,British Columbia,West,Home Office,Office Supplies,Paper,\"Staples Wirebound Steno Books, 6\"\" x 9\"\", 12/Pack\",Wrap Bag,0.36,10/11/2012\n",
      "\n",
      "6074,43043,4/14/2012,Critical,4,904.12,0.07,Regular Air,28.81,225.04,11.79,Adam Hart,British Columbia,West,Corporate,Office Supplies,Appliances,Holmes Harmony HEPA Air Purifier for 17 x 20 Room,Medium Box,0.42,4/16/2012\n",
      "\n",
      "6092,43170,5/13/2010,Low,25,7667.78,0.04,Delivery Truck,1494.01,306.14,26.53,Bobby Elias,British Columbia,West,Small Business,Technology,Office Machines,Okidata ML184 Turbo Dot Matrix Printers,Jumbo Drum,0.56,5/20/2010\n",
      "\n",
      "6093,43170,5/13/2010,Low,40,1305.85,0,Regular Air,65.01,30.98,17.08,Bobby Elias,British Columbia,West,Small Business,Office Supplies,Paper,Xerox 197,Small Box,0.4,5/17/2010\n",
      "\n",
      "6130,43397,5/12/2011,Critical,35,2130.31,0.08,Delivery Truck,-319.26,60.89,32.41,Damala Kotsonis,British Columbia,West,Corporate,Furniture,Chairs & Chairmats,\"Global Push Button Manager's Chair, Indigo\",Jumbo Drum,0.56,5/13/2011\n",
      "\n",
      "6146,43494,1/3/2012,Medium,2,3668.28,0.09,Regular Air,-4858.67,1938.02,13.99,Jill Matthias,British Columbia,West,Consumer,Technology,Office Machines,Polycom ViewStation™ Adapter H323 Videoconferencing Unit,Medium Box,0.38,1/4/2012\n",
      "\n",
      "6165,43682,8/27/2012,Medium,14,1849.6,0.06,Regular Air,62.16,155.99,8.99,Tim Taslimi,British Columbia,West,Corporate,Technology,Telephones and Communication,R280,Small Box,0.55,8/29/2012\n",
      "\n",
      "6181,43814,1/9/2011,Medium,40,197.1,0.09,Regular Air,-12.88,5.28,2.99,Grant Thornton,British Columbia,West,Corporate,Office Supplies,Binders and Binder Accessories,\"Wilson Jones 1\"\" Hanging DublLock® Ring Binders\",Small Box,0.37,1/10/2011\n",
      "\n",
      "6182,43814,1/9/2011,Medium,47,199.48,0.03,Regular Air,13.8,4.2,2.26,Grant Thornton,British Columbia,West,Corporate,Office Supplies,Paper,\"Important Message Pads, 50 4-1/4 x 5-1/2 Forms per Pad\",Wrap Bag,0.36,1/10/2011\n",
      "\n",
      "6183,43815,6/13/2012,Not Specified,40,635.59,0.07,Regular Air,202.83,16.51,2.99,Corey Catlett,British Columbia,West,Home Office,Office Supplies,Binders and Binder Accessories,JM Magazine Binder,Small Box,0.37,6/14/2012\n",
      "\n",
      "6184,43815,6/13/2012,Not Specified,22,1251.4,0.01,Regular Air,539.45,55.48,6.79,Corey Catlett,British Columbia,West,Home Office,Office Supplies,Paper,\"Eaton Premium Continuous-Feed Paper, 25% Cotton, Letter Size, White, 1000 Shts/Box\",Small Box,0.37,6/14/2012\n",
      "\n",
      "6185,43815,6/13/2012,Not Specified,45,3577.81,0.03,Regular Air,-1097.97,78.8,35,Corey Catlett,British Columbia,West,Home Office,Office Supplies,Storage & Organization,Space Solutions™ Industrial Galvanized Steel Shelving.,Large Box,0.83,6/14/2012\n",
      "\n",
      "6186,43844,10/31/2010,High,25,1009.868,0.02,Regular Air,170.57,45.99,4.99,Deborah Brumfield,British Columbia,West,Small Business,Technology,Telephones and Communication,KF 788,Small Box,0.56,10/31/2010\n",
      "\n",
      "6187,43846,2/26/2009,High,9,31.36,0.1,Regular Air,-8.28,3.6,2.2,Jill Matthias,British Columbia,West,Consumer,Office Supplies,Paper,\"Telephone Message Books with Fax/Mobile Section, 4 1/4\"\" x 6\"\"\",Wrap Bag,0.39,2/27/2009\n",
      "\n",
      "6207,43974,9/16/2009,Not Specified,8,64.23,0.03,Regular Air,15.83,7.64,1.39,Harold Dahlen,British Columbia,West,Corporate,Office Supplies,Envelopes,\"#10- 4 1/8\"\" x 9 1/2\"\" Security-Tint Envelopes\",Small Box,0.36,9/17/2009\n",
      "\n",
      "6209,44000,10/4/2012,Not Specified,17,119.51,0.06,Regular Air,-51.3,7.1,6.05,Dan Campbell,British Columbia,West,Small Business,Office Supplies,Binders and Binder Accessories,\"Wilson Jones Hanging View Binder, White, 1\"\"\",Small Box,0.39,10/4/2012\n",
      "\n",
      "6210,44000,10/4/2012,Not Specified,19,332.38,0.05,Regular Air,89.95,17.78,5.03,Dan Campbell,British Columbia,West,Small Business,Furniture,Office Furnishings,\"Seth Thomas 13 1/2\"\" Wall Clock\",Small Box,0.54,10/5/2012\n",
      "\n",
      "6214,44003,11/17/2011,Low,38,202.42,0.09,Regular Air,0.86,5.34,2.99,Maris LaWare,British Columbia,West,Home Office,Office Supplies,Binders and Binder Accessories,Wilson Jones 14 Line Acrylic Coated Pressboard Data Binders,Small Box,0.38,11/21/2011\n",
      "\n",
      "6224,44069,1/2/2009,Critical,16,137.63,0.09,Express Air,26.71,9.11,2.15,Elizabeth Moffitt,British Columbia,West,Consumer,Office Supplies,Paper,\"Black Print Carbonless Snap-Off® Rapid Letter, 8 1/2\"\" x 7\"\"\",Wrap Bag,0.4,1/4/2009\n",
      "\n",
      "6225,44069,1/2/2009,Critical,43,614.8,0.08,Regular Air,247.79,15.04,1.97,Elizabeth Moffitt,British Columbia,West,Consumer,Office Supplies,Paper,White GlueTop Scratch Pads,Wrap Bag,0.39,1/2/2009\n",
      "\n",
      "6229,44099,3/12/2012,Medium,34,11823.52,0.1,Regular Air,4592.74,367.99,19.99,Alan Schoenberger,British Columbia,West,Corporate,Office Supplies,Binders and Binder Accessories,Ibico Ibimaster 300 Manual Binding System,Small Box,0.4,3/14/2012\n",
      "\n",
      "6230,44099,3/12/2012,Medium,19,80.81,0.1,Regular Air,-67.46,4.24,5.41,Alan Schoenberger,British Columbia,West,Corporate,Office Supplies,Binders and Binder Accessories,Storex DuraTech Recycled Plastic Frosted Binders,Small Box,0.35,3/14/2012\n",
      "\n",
      "6231,44133,1/6/2010,High,35,181.15,0.06,Regular Air,-46.68,5.28,3.96,Mark Packer,British Columbia,West,Small Business,Furniture,Office Furnishings,\"Master Big Foot® Doorstop, Beige\",Wrap Bag,0.54,1/7/2010\n",
      "\n",
      "6249,44261,3/23/2012,High,31,13064.06,0.01,Express Air,5979.56,420.98,19.99,Juliana Krohn,British Columbia,West,Corporate,Office Supplies,Binders and Binder Accessories,GBC DocuBind 200 Manual Binding Machine,Small Box,0.35,3/25/2012\n",
      "\n",
      "6250,44261,3/23/2012,High,34,4771.89,0.05,Delivery Truck,-427.99,140.98,36.09,Juliana Krohn,British Columbia,West,Corporate,Furniture,Bookcases,\"Sauder Forest Hills Library, Woodland Oak Finish\",Jumbo Box,0.77,3/25/2012\n",
      "\n",
      "6251,44261,3/23/2012,High,1,3360.3,0.05,Delivery Truck,-7961.43,3502.14,8.73,Juliana Krohn,British Columbia,West,Corporate,Technology,Office Machines,Okidata Pacemark 4410N Wide Format Dot Matrix Printer,Jumbo Box,0.57,3/24/2012\n",
      "\n",
      "6252,44261,3/23/2012,High,10,306.663,0.07,Regular Air,-17.41,35.99,5.99,Juliana Krohn,British Columbia,West,Corporate,Technology,Telephones and Communication,Accessory41,Wrap Bag,0.38,3/26/2012\n",
      "\n",
      "6263,44323,8/7/2012,Medium,27,21320.58,0.09,Delivery Truck,5381.02,810.98,16.06,Barry Weirich,British Columbia,West,Corporate,Technology,Office Machines,Okidata ML591 Wide Format Dot Matrix Printer,Jumbo Drum,0.56,8/9/2012\n",
      "\n",
      "6289,44517,4/23/2009,Medium,5,32.5,0.03,Regular Air,-16.67,5.28,5.61,Christy Brittain,British Columbia,West,Consumer,Office Supplies,Paper,Xerox 1954,Small Box,0.4,4/24/2009\n",
      "\n",
      "6294,44549,1/22/2012,Medium,5,11.25,0.08,Regular Air,-4.96,2.08,1.49,Bill Shonely,British Columbia,West,Small Business,Office Supplies,Binders and Binder Accessories,Round Ring Binders,Small Box,0.38,1/23/2012\n",
      "\n",
      "6315,44679,6/3/2012,Medium,22,127.51,0.07,Regular Air,26.74,5.98,1.49,Debra Catini,British Columbia,West,Small Business,Office Supplies,Binders and Binder Accessories,Avery Hanging File Binders,Small Box,0.39,6/4/2012\n",
      "\n",
      "6316,44679,6/3/2012,Medium,35,2004.22,0.08,Regular Air,338.91,60.65,12.23,Debra Catini,British Columbia,West,Small Business,Furniture,Office Furnishings,\"Tenex Traditional Chairmats for Medium Pile Carpet, Standard Lip, 36\"\" x 48\"\"\",Medium Box,0.64,6/5/2012\n",
      "\n",
      "6329,44836,9/11/2009,Medium,21,125.79,0.02,Regular Air,28.53,5.98,1.49,Tamara Willingham,British Columbia,West,Corporate,Office Supplies,Binders and Binder Accessories,Avery Hanging File Binders,Small Box,0.39,9/12/2009\n",
      "\n",
      "6358,45120,4/9/2009,Critical,39,14591.44,0.07,Delivery Truck,5475.8,400.97,48.26,Emily Phan,British Columbia,West,Consumer,Technology,Office Machines,Hewlett-Packard Deskjet 1220Cse Color Inkjet Printer,Jumbo Box,0.36,4/10/2009\n",
      "\n",
      "6367,45158,4/10/2010,Low,40,375.52,0.09,Regular Air,131.7,9.68,2.03,Juliana Krohn,British Columbia,West,Corporate,Office Supplies,Paper,\"Wirebound Service Call Books, 5 1/2\"\" x 4\"\"\",Wrap Bag,0.37,4/12/2010\n",
      "\n",
      "6368,45158,4/10/2010,Low,15,63.84,0.03,Express Air,23.52,3.78,0.71,Juliana Krohn,British Columbia,West,Corporate,Office Supplies,Rubber Bands,Staples Bulldog Clip,Wrap Bag,0.39,4/15/2010\n",
      "\n",
      "6377,45254,7/26/2010,High,45,3327.84,0.06,Delivery Truck,-3033.57,70.89,89.3,Corey Lock,British Columbia,West,Home Office,Furniture,Tables,KI Conference Tables,Jumbo Box,0.69,7/27/2010\n",
      "\n",
      "6379,45315,4/20/2012,Medium,32,1141.9,0.02,Regular Air,175.32,34.76,8.22,Peter Buhler,British Columbia,West,Consumer,Office Supplies,Storage & Organization,\"Multi-Use Personal File Cart and Caster Set, Three Stacking Bins\",Small Box,0.57,4/21/2012\n",
      "\n",
      "6387,45380,4/30/2009,Critical,34,1912.9845,0.06,Express Air,288.09,65.99,8.8,Charles Crestani,British Columbia,West,Consumer,Technology,Telephones and Communication,6120,Small Box,0.58,5/1/2009\n",
      "\n",
      "6388,45380,4/30/2009,Critical,24,4170.865,0,Express Air,1030.51,195.99,4.2,Charles Crestani,British Columbia,West,Consumer,Technology,Telephones and Communication,KH 688,Small Box,0.57,5/2/2009\n",
      "\n",
      "6393,45409,4/12/2010,Critical,11,3427.31,0.1,Delivery Truck,124.36,320.98,58.95,Damala Kotsonis,British Columbia,West,Corporate,Furniture,Chairs & Chairmats,Hon 4070 Series Pagoda™ Round Back Stacking Chairs,Jumbo Drum,0.57,4/15/2010\n",
      "\n",
      "6394,45409,4/12/2010,Critical,10,36.26,0.08,Regular Air,-28.37,3.28,3.97,Damala Kotsonis,British Columbia,West,Corporate,Office Supplies,Pens & Art Supplies,Newell 337,Wrap Bag,0.56,4/13/2010\n",
      "\n",
      "6395,45409,4/12/2010,Critical,50,893.1375,0,Regular Air,11,20.99,1.25,Damala Kotsonis,British Columbia,West,Corporate,Technology,Telephones and Communication,Accessory29,Small Pack,0.83,4/15/2010\n",
      "\n",
      "6406,45539,8/2/2009,Not Specified,15,269.2,0.02,Express Air,69.61,16.48,1.99,Grant Thornton,British Columbia,West,Corporate,Technology,Computer Peripherals,Maxell DVD-RAM Discs,Small Pack,0.42,8/4/2009\n",
      "\n",
      "6407,45539,8/2/2009,Not Specified,27,87.33,0.08,Regular Air,13.82,3.38,0.85,Grant Thornton,British Columbia,West,Corporate,Office Supplies,Pens & Art Supplies,Avery Hi-Liter® Fluorescent Desk Style Markers,Wrap Bag,0.48,8/4/2009\n",
      "\n",
      "6418,45605,4/10/2010,Medium,7,1494.27,0.05,Delivery Truck,-248.78,212.6,52.2,Nora Paige,British Columbia,West,Small Business,Furniture,Tables,Bush Advantage Collection® Round Conference Table,Jumbo Box,0.64,4/12/2010\n",
      "\n",
      "6423,45664,6/9/2012,Not Specified,24,473.03,0.09,Regular Air,26.27,19.98,10.49,Karen Carlisle,British Columbia,West,Home Office,Furniture,Office Furnishings,12-1/2 Diameter Round Wall Clock,Small Box,0.49,6/10/2012\n",
      "\n",
      "6426,45671,6/12/2011,Low,13,126.68,0.05,Regular Air,7,9.77,6.02,Charles Crestani,British Columbia,West,Consumer,Furniture,Office Furnishings,DAX Solid Wood Frames,Medium Box,0.48,6/19/2011\n",
      "\n",
      "6430,45728,6/21/2010,High,49,1711.79,0.01,Regular Air,812.32,33.29,1.99,Keith Herrera,British Columbia,West,Small Business,Technology,Computer Peripherals,Verbatim 4.7GB DVD-R,Small Pack,0.41,6/22/2010\n",
      "\n",
      "6437,45762,7/21/2010,Low,21,793.85,0.01,Regular Air,308.53,37.94,5.08,Barry Weirich,British Columbia,West,Corporate,Office Supplies,Paper,\"Snap-A-Way® Black Print Carbonless Ruled Speed Letter, Triplicate\",Wrap Bag,0.38,7/26/2010\n",
      "\n",
      "6486,46151,11/8/2009,Critical,23,203.91,0.02,Regular Air,-35.44,8.6,6.19,Tony Molinari,British Columbia,West,Corporate,Office Supplies,Binders and Binder Accessories,Avery Printable Repositionable Plastic Tabs,Small Box,0.38,11/10/2009\n",
      "\n",
      "6523,46407,3/26/2009,Not Specified,7,38.37,0.1,Regular Air,-29,5.18,5.74,Rick Huthwaite,British Columbia,West,Corporate,Office Supplies,Binders and Binder Accessories,Wilson Jones Impact Binders,Small Box,0.36,3/28/2009\n",
      "\n",
      "6534,46499,6/7/2009,Critical,1,46.94,0.06,Regular Air,-26.54,44.01,3.5,George Zrebassa,British Columbia,West,Home Office,Office Supplies,Appliances,Acco Smartsocket® Color-Coded Six-Outlet AC Adapter Model Surge Protectors,Small Box,0.59,6/8/2009\n",
      "\n",
      "6535,46499,6/7/2009,Critical,22,89.96,0.07,Regular Air,-115.21,4.06,6.89,George Zrebassa,British Columbia,West,Home Office,Office Supplies,Appliances,Eureka Disposable Bags for Sanitaire® Vibra Groomer I® Upright Vac,Small Box,0.6,6/9/2009\n",
      "\n",
      "6536,46499,6/7/2009,Critical,10,12.95,0.1,Regular Air,-6.78,1.26,0.7,George Zrebassa,British Columbia,West,Home Office,Office Supplies,Rubber Bands,Bagged Rubber Bands,Wrap Bag,0.81,6/8/2009\n",
      "\n",
      "6561,46631,3/11/2012,Not Specified,39,930.84,0.05,Regular Air,-122.12,22.84,16.92,Harold Dahlen,British Columbia,West,Corporate,Office Supplies,Paper,Xerox 1973,Small Box,0.39,3/13/2012\n",
      "\n",
      "6563,46662,12/29/2011,Critical,8,57.22,0.07,Regular Air,-27.72,6.48,6.6,Aaron Hawkins,British Columbia,West,Home Office,Office Supplies,Paper,Xerox 21,Small Box,0.37,12/31/2011\n",
      "\n",
      "6564,46662,12/29/2011,Critical,33,162,0.01,Regular Air,45.84,4.84,0.71,Aaron Hawkins,British Columbia,West,Home Office,Office Supplies,Pens & Art Supplies,*Staples* Highlighting Markers,Wrap Bag,0.52,12/31/2011\n",
      "\n",
      "6565,46662,12/29/2011,Critical,48,3410.1575,0.1,Regular Air,1137.91,85.99,0.99,Aaron Hawkins,British Columbia,West,Home Office,Technology,Telephones and Communication,Accessory34,Wrap Bag,0.55,12/31/2011\n",
      "\n",
      "6566,46691,6/24/2012,Critical,47,1676.25,0.04,Regular Air,-458.33,36.65,22.6,Debra Catini,British Columbia,West,Small Business,Furniture,Office Furnishings,\"Electrix Incandescent Magnifying Lamp, Black\",Large Box,0.58,6/26/2012\n",
      "\n",
      "6583,46880,7/3/2010,Critical,1,29.99,0.07,Regular Air,-8.88,21.98,8.32,Karen Carlisle,British Columbia,West,Corporate,Office Supplies,Paper,Standard Line™ “While You Were Out” Hardbound Telephone Message Book,Wrap Bag,0.39,7/5/2010\n",
      "\n",
      "6607,47011,2/19/2009,High,33,373.13,0.05,Regular Air,-35.26,11.29,5.03,Roland Fjeld,British Columbia,West,Corporate,Office Supplies,Storage & Organization,X-Rack™ File for Hanging Folders,Small Box,0.59,2/21/2009\n",
      "\n",
      "6637,47201,12/28/2009,Critical,18,99.55,0.03,Express Air,-60.9,4.98,4.62,Tim Taslimi,British Columbia,West,Corporate,Technology,Computer Peripherals,\"Imation 3.5\"\", DISKETTE 44766 HGHLD3.52HD/FM, 10/Pack\",Small Pack,0.64,12/29/2009\n",
      "\n",
      "6663,47457,6/3/2009,Low,50,8230.77,0.05,Regular Air,1577.02,161.55,19.99,Alejandro Savely,British Columbia,West,Corporate,Office Supplies,Storage & Organization,Fellowes Super Stor/Drawer® Files,Small Box,0.66,6/8/2009\n",
      "\n",
      "6679,47522,10/23/2012,High,5,80.56,0.03,Regular Air,12.5,15.67,1.39,Juliana Krohn,British Columbia,West,Corporate,Office Supplies,Envelopes,\"#10 White Business Envelopes,4 1/8 x 9 1/2\",Small Box,0.38,10/24/2012\n",
      "\n",
      "6684,47553,5/22/2011,Medium,49,20701.928,0.08,Delivery Truck,3918.54,550.98,45.7,Dan Campbell,British Columbia,West,Corporate,Furniture,Tables,Chromcraft Bull-Nose Wood Oval Conference Tables & Bases,Jumbo Box,0.71,5/23/2011\n",
      "\n",
      "6688,47584,7/27/2010,Critical,4,20.19,0.03,Regular Air,1.3,4.91,0.5,Bryan Spruell,British Columbia,West,Home Office,Office Supplies,Labels,Avery 508,Small Box,0.36,7/29/2010\n",
      "\n",
      "6689,47584,7/27/2010,Critical,43,74.99,0.08,Regular Air,-8.95,1.82,0.83,Bryan Spruell,British Columbia,West,Home Office,Office Supplies,Pens & Art Supplies,Newell 307,Wrap Bag,0.57,7/28/2010\n",
      "\n",
      "6696,47683,9/1/2010,Low,38,81.97,0.05,Regular Air,-148.8,1.98,4.77,Harold Dahlen,British Columbia,West,Corporate,Office Supplies,Binders and Binder Accessories,Avery Reinforcements for Hole-Punch Pages,Small Box,0.4,9/8/2010\n",
      "\n",
      "6719,47872,6/12/2009,Critical,38,1756.27,0.09,Regular Air,649.05,46.89,5.1,Brad Thomas,British Columbia,West,Home Office,Office Supplies,Appliances,Bionaire Personal Warm Mist Humidifier/Vaporizer,Medium Box,0.46,6/14/2009\n",
      "\n",
      "6720,47872,6/12/2009,Critical,50,345.58,0.05,Regular Air,-38.04,6.64,4.95,Brad Thomas,British Columbia,West,Home Office,Furniture,Office Furnishings,G.E. Longer-Life Indoor Recessed Floodlight Bulbs,Small Pack,0.37,6/13/2009\n",
      "\n",
      "6723,47877,8/28/2009,Medium,16,273.36,0.04,Regular Air,32.25,17.24,3.26,Tamara Willingham,British Columbia,West,Home Office,Office Supplies,\"Scissors, Rulers and Trimmers\",\"Fiskars 8\"\" Scissors, 2/Pack\",Small Pack,0.56,8/31/2009\n",
      "\n",
      "6724,47877,8/28/2009,Medium,19,3240.728,0.07,Delivery Truck,-691.31,218.75,69.64,Tamara Willingham,British Columbia,West,Home Office,Furniture,Tables,BoxOffice By Design Rectangular and Half-Moon Meeting Room Tables,Jumbo Box,0.77,8/30/2009\n",
      "\n",
      "6725,47877,8/28/2009,Medium,49,8058.96,0.08,Regular Air,-1621.38,209.37,69,Tamara Willingham,British Columbia,West,Home Office,Furniture,Tables,Hon 2111 Invitation™ Series Corner Table,Large Box,0.79,8/30/2009\n",
      "\n",
      "6726,47879,1/11/2012,Critical,19,172.54,0.08,Regular Air,44.23,9.11,2.15,Tamara Willingham,British Columbia,West,Corporate,Office Supplies,Paper,\"Black Print Carbonless Snap-Off® Rapid Letter, 8 1/2\"\" x 7\"\"\",Wrap Bag,0.4,1/12/2012\n",
      "\n",
      "6730,47910,8/15/2009,High,30,5290.57,0.08,Regular Air,1389.18,178.47,19.99,Brad Thomas,British Columbia,West,Home Office,Office Supplies,Storage & Organization,\"Hot File® 7-Pocket, Floor Stand\",Small Box,0.55,8/16/2009\n",
      "\n",
      "6739,47972,10/11/2010,Medium,46,7685.62,0.02,Express Air,1952.15,165.2,19.99,Brendan Murry,British Columbia,West,Corporate,Office Supplies,Storage & Organization,Economy Rollaway Files,Small Box,0.59,10/13/2010\n",
      "\n",
      "6765,48192,12/16/2009,Critical,15,2277.67,0,Delivery Truck,-173.96,140.98,36.09,Jill Matthias,British Columbia,West,Consumer,Furniture,Bookcases,\"Sauder Forest Hills Library, Woodland Oak Finish\",Jumbo Box,0.77,12/17/2009\n",
      "\n",
      "6780,48288,7/22/2011,Medium,25,3308.28,0.08,Delivery Truck,-581.59,130.98,54.74,Nicole Brennan,British Columbia,West,Consumer,Furniture,Bookcases,\"O'Sullivan Elevations Bookcase, Cherry Finish\",Jumbo Box,0.69,7/24/2011\n",
      "\n",
      "6781,48293,4/9/2012,Critical,47,370.6,0.03,Regular Air,160.72,7.64,1.39,Victoria Pisteka,British Columbia,West,Corporate,Office Supplies,Envelopes,\"#10- 4 1/8\"\" x 9 1/2\"\" Security-Tint Envelopes\",Small Box,0.36,4/10/2012\n",
      "\n",
      "6782,48294,5/26/2010,High,43,4072.01,0.01,Regular Air,1675.98,90.24,0.99,Aaron Hawkins,British Columbia,West,Home Office,Office Supplies,Appliances,Kensington 6 Outlet MasterPiece® HOMEOFFICE Power Control Center,Small Box,0.56,5/26/2010\n",
      "\n",
      "6785,48322,3/4/2012,Medium,14,41.37,0.05,Regular Air,1.82,2.94,0.7,Paul Van Hugh,British Columbia,West,Consumer,Office Supplies,Pens & Art Supplies,Newell 338,Wrap Bag,0.58,3/5/2012\n",
      "\n",
      "6787,48353,12/15/2012,Not Specified,18,71.22,0.04,Regular Air,20.43,3.85,0.7,Jeremy Pistek,British Columbia,West,Corporate,Office Supplies,Pens & Art Supplies,Avery Hi-Liter Pen Style Six-Color Fluorescent Set,Wrap Bag,0.44,12/17/2012\n",
      "\n",
      "6794,48420,10/11/2009,Low,46,863.26,0.09,Express Air,229.6,19.23,6.15,Berenike Kampe,British Columbia,West,Corporate,Furniture,Office Furnishings,\"Executive Impressions 13\"\" Clairmont Wall Clock\",Small Pack,0.44,10/13/2009\n",
      "\n",
      "6814,48512,8/3/2011,Not Specified,48,238.79,0.04,Regular Air,-83.78,4.98,4.72,Cyra Reiten,British Columbia,West,Consumer,Office Supplies,Paper,Xerox 1949,Small Box,0.36,8/4/2011\n",
      "\n",
      "6815,48512,8/3/2011,Not Specified,47,148.26,0.04,Express Air,49.04,2.94,0.81,Cyra Reiten,British Columbia,West,Consumer,Office Supplies,Pens & Art Supplies,Prang Colored Pencils,Wrap Bag,0.4,8/3/2011\n",
      "\n",
      "6828,48641,12/5/2011,High,13,66.83,0,Regular Air,23.16,4.98,0.8,Benjamin Venier,British Columbia,West,Small Business,Office Supplies,Paper,Rediform S.O.S. Phone Message Books,Wrap Bag,0.36,12/6/2011\n",
      "\n",
      "6836,48672,12/26/2012,High,43,255.7,0,Regular Air,-35.74,5.81,3.37,Nora Paige,British Columbia,West,Small Business,Office Supplies,Rubber Bands,\"Advantus Push Pins, Aluminum Head\",Wrap Bag,0.54,12/26/2012\n",
      "\n",
      "6841,48709,8/28/2011,High,17,47.12,0.01,Regular Air,-47.01,2.52,4.28,Helen Andreada,British Columbia,West,Corporate,Office Supplies,Pens & Art Supplies,\"Binney & Smith inkTank™ Erasable Desk Highlighter, Chisel Tip, Yellow, 12/Box\",Wrap Bag,0.44,8/30/2011\n",
      "\n",
      "6855,48832,5/5/2010,High,48,4480.89,0.02,Delivery Truck,195.04,90.98,30,Bobby Trafton,British Columbia,West,Small Business,Furniture,Chairs & Chairmats,Office Star - Task Chair with Contemporary Loop Arms,Jumbo Drum,0.61,5/5/2010\n",
      "\n",
      "6856,48836,2/14/2009,Critical,8,2651.21,0.09,Delivery Truck,-93.85,348.21,40.19,Nicole Brennan,British Columbia,West,Home Office,Furniture,Tables,Bretford CR4500 Series Slim Rectangular Table,Jumbo Box,0.62,2/16/2009\n",
      "\n",
      "6870,48935,1/7/2010,Low,21,106.2,0,Regular Air,48.76,4.91,0.5,Jill Matthias,British Columbia,West,Consumer,Office Supplies,Labels,Avery 508,Small Box,0.36,1/9/2010\n",
      "\n",
      "6877,49026,3/7/2011,Low,36,411.75,0.05,Regular Air,-182.87,11.66,8.99,Roland Fjeld,British Columbia,West,Corporate,Office Supplies,Pens & Art Supplies,Boston 16765 Mini Stand Up Battery Pencil Sharpener,Small Pack,0.59,3/12/2011\n",
      "\n",
      "6987,49925,1/22/2010,High,1,3.41,0.06,Regular Air,-1.78,2.88,0.7,Adam Hart,British Columbia,West,Corporate,Office Supplies,Pens & Art Supplies,Newell 346,Wrap Bag,0.56,1/23/2010\n",
      "\n",
      "7055,50337,4/16/2009,Not Specified,37,122.99,0,Express Air,21.48,2.78,1.49,Chris Cortes,British Columbia,West,Consumer,Office Supplies,Binders and Binder Accessories,Wilson Jones Suede Grain Vinyl Binders,Small Box,0.36,4/17/2009\n",
      "\n",
      "7056,50337,4/16/2009,Not Specified,6,14734.71,0.1,Delivery Truck,-3798.01,2550.14,29.7,Chris Cortes,British Columbia,West,Consumer,Technology,Office Machines,Epson DFX-8500 Dot Matrix Printer,Jumbo Drum,0.57,4/18/2009\n",
      "\n",
      "7062,50403,5/12/2012,Not Specified,38,264.92,0.05,Regular Air,-97.06,7.1,6.05,Katherine Ducich,British Columbia,West,Corporate,Office Supplies,Binders and Binder Accessories,\"Wilson Jones Hanging View Binder, White, 1\"\"\",Small Box,0.39,5/14/2012\n",
      "\n",
      "7095,50656,10/25/2009,Critical,42,194.2,0,Regular Air,-139.13,4.37,5.15,Patrick Bzostek,British Columbia,West,Consumer,Office Supplies,Appliances,\"Eureka Sanitaire ® Multi-Pro Heavy-Duty Upright, Disposable Bags\",Small Box,0.59,10/27/2009\n",
      "\n",
      "7096,50656,10/25/2009,Critical,31,16451.33,0.01,Delivery Truck,5325.14,500.98,56,Patrick Bzostek,British Columbia,West,Consumer,Furniture,Chairs & Chairmats,Global Troy™ Executive Leather Low-Back Tilter,Jumbo Drum,0.6,10/26/2009\n",
      "\n",
      "7097,50656,10/25/2009,Critical,39,485.97,0.02,Regular Air,48.6,12.58,5.16,Patrick Bzostek,British Columbia,West,Consumer,Furniture,Office Furnishings,\"DAX Copper Panel Document Frame, 5 x 7 Size\",Small Box,0.43,10/25/2009\n",
      "\n",
      "7098,50656,10/25/2009,Critical,15,109.71,0.1,Regular Air,-20.95,7.7,3.68,Patrick Bzostek,British Columbia,West,Consumer,Furniture,Office Furnishings,Deflect-O® Glasstique™ Clear Desk Accessories,Wrap Bag,0.52,10/26/2009\n",
      "\n",
      "7141,50950,12/30/2012,Not Specified,6,391.12,0.06,Delivery Truck,-166.96,60.98,30,Tony Molinari,British Columbia,West,Corporate,Furniture,Chairs & Chairmats,Novimex Fabric Task Chair,Jumbo Drum,0.7,12/30/2012\n",
      "\n",
      "7142,50950,12/30/2012,Not Specified,35,448.1,0.1,Express Air,-15.07,13.48,4.51,Tony Molinari,British Columbia,West,Corporate,Office Supplies,Storage & Organization,\"Tenex Personal Project File with Scoop Front Design, Black\",Small Box,0.59,12/30/2012\n",
      "\n",
      "7143,50977,6/11/2012,Low,1,34.09,0.05,Express Air,-19.9,18.97,9.03,Thomas Thornton,British Columbia,West,Consumer,Office Supplies,Paper,Computer Printout Paper with Letter-Trim Perforations,Small Box,0.37,6/11/2012\n",
      "\n",
      "7151,51011,6/6/2010,Low,41,5144.8715,0.09,Regular Air,1435.83,155.99,3.9,Thomas Thornton,British Columbia,West,Consumer,Technology,Telephones and Communication,T39m,Small Box,0.55,6/8/2010\n",
      "\n",
      "7169,51171,6/21/2010,High,34,783.48,0.01,Regular Air,-73.4,22.38,15.1,Mark Packer,British Columbia,West,Small Business,Office Supplies,Binders and Binder Accessories,\"Avery Flip-Chart Easel Binder, Black\",Small Box,0.38,6/23/2010\n",
      "\n",
      "7186,51267,5/3/2012,Low,46,4394.78,0.08,Delivery Truck,-335.77,100.98,35.84,Corey Lock,British Columbia,West,Home Office,Furniture,Bookcases,\"Bush Westfield Collection Bookcases, Fully Assembled\",Jumbo Box,0.62,5/8/2012\n",
      "\n",
      "7200,51362,2/22/2010,Medium,47,1501.8,0.02,Regular Air,112.78,30.97,4,Tim Taslimi,British Columbia,West,Corporate,Technology,Computer Peripherals,Microsoft Multimedia Keyboard,Small Box,0.74,2/24/2010\n",
      "\n",
      "7214,51489,3/3/2012,Critical,42,4846.68,0.04,Regular Air,820.94,110.98,13.99,Berenike Kampe,British Columbia,West,Corporate,Furniture,Office Furnishings,\"Rubbermaid ClusterMat Chairmats, Mat Size- 66\"\" x 60\"\", Lip 20\"\" x 11\"\" -90 Degree Angle\",Medium Box,0.69,3/5/2012\n",
      "\n",
      "7215,51489,3/3/2012,Critical,5,32.69,0,Regular Air,-24.43,4.98,7.54,Berenike Kampe,British Columbia,West,Corporate,Office Supplies,Paper,Xerox 1961,Small Box,0.38,3/5/2012\n",
      "\n",
      "7216,51489,3/3/2012,Critical,22,38.88,0.09,Regular Air,-18.57,1.81,1.56,Berenike Kampe,British Columbia,West,Corporate,Office Supplies,Rubber Bands,Colored Push Pins,Wrap Bag,0.49,3/3/2012\n",
      "\n",
      "7217,51493,7/6/2011,Low,31,286.26,0.01,Regular Air,8.34,8.56,5.16,Helen Andreada,British Columbia,West,Corporate,Office Supplies,Paper,\"Message Book, Standard Line \"\"While You Were Out\"\", 5 1/2\"\" X 4\"\", 200 Sets/Book\",Wrap Bag,0.38,7/8/2011\n",
      "\n",
      "7283,51969,9/4/2011,High,16,196.98,0.04,Regular Air,-5.76,12.28,6.47,Irene Maddox,British Columbia,West,Consumer,Office Supplies,Paper,Xerox 1881,Small Box,0.38,9/4/2011\n",
      "\n",
      "7284,51969,9/4/2011,High,33,1756.695,0.1,Regular Air,164.97,65.99,8.8,Irene Maddox,British Columbia,West,Consumer,Technology,Telephones and Communication,6120,Small Box,0.58,9/7/2011\n",
      "\n",
      "7292,52003,2/18/2012,Low,11,1884.208,0.04,Delivery Truck,-776.72,212.6,110.2,Charles Crestani,British Columbia,West,Consumer,Furniture,Tables,Bush Advantage Collection® Round Conference Table,Jumbo Box,0.73,2/25/2012\n",
      "\n",
      "7293,52003,2/18/2012,Low,2,93.3385,0.1,Regular Air,-300.39,55.99,5,Charles Crestani,British Columbia,West,Consumer,Technology,Telephones and Communication,Accessory36,Small Pack,0.83,2/18/2012\n",
      "\n",
      "7323,52196,1/30/2010,Not Specified,1,3.85,0.08,Regular Air,-1.36,3.08,0.99,Adam Hart,British Columbia,West,Corporate,Office Supplies,Labels,Avery 481,Small Box,0.37,1/31/2010\n",
      "\n",
      "7324,52196,1/30/2010,Not Specified,10,547.0005,0.08,Regular Air,-97.2,65.99,3.9,Adam Hart,British Columbia,West,Corporate,Technology,Telephones and Communication,StarTAC Series,Small Box,0.55,2/1/2010\n",
      "\n",
      "7340,52292,10/3/2010,Not Specified,18,2379.15,0.06,Delivery Truck,-261.77,130.98,30,Corey Catlett,British Columbia,West,Home Office,Furniture,Chairs & Chairmats,\"Office Star - Contemporary Task Swivel chair with 2-way adjustable arms, Plum\",Jumbo Drum,0.78,10/4/2010\n",
      "\n",
      "7359,52423,4/11/2011,Critical,49,1734.4,0.02,Regular Air,749.16,35.41,1.99,Allen Armold,British Columbia,West,Home Office,Technology,Computer Peripherals,Imation DVD-RAM discs,Small Pack,0.43,4/13/2011\n",
      "\n",
      "7360,52423,4/11/2011,Critical,25,1128.03,0.01,Regular Air,256.3,42.76,6.22,Allen Armold,British Columbia,West,Home Office,Office Supplies,Storage & Organization,\"SAFCO Mobile Desk Side File, Wire Frame\",Small Box,,4/12/2011\n",
      "\n",
      "7361,52448,9/10/2010,Not Specified,22,6767.43,0.05,Delivery Truck,803.48,320.98,58.95,Barry Weirich,British Columbia,West,Corporate,Furniture,Chairs & Chairmats,Hon 4070 Series Pagoda™ Round Back Stacking Chairs,Jumbo Drum,0.57,9/11/2010\n",
      "\n",
      "7376,52580,8/28/2012,High,16,367.09,0.04,Regular Air,74.2,22.98,1.99,Katherine Ducich,British Columbia,West,Corporate,Technology,Computer Peripherals,\"Memorex 80 Minute CD-R, 30/Pack\",Small Pack,0.46,8/30/2012\n",
      "\n",
      "7377,52580,8/28/2012,High,23,139.66,0.02,Regular Air,46.69,5.68,1.39,Katherine Ducich,British Columbia,West,Corporate,Office Supplies,Envelopes,Staples Standard Envelopes,Small Box,0.38,8/30/2012\n",
      "\n",
      "7441,53056,11/3/2011,Critical,13,509.49,0.07,Regular Air,-51.18,40.99,8.97,Helen Andreada,British Columbia,West,Corporate,Technology,Office Machines,AT&T 1430 2.4GHz Analog Phone w/Caller ID,Small Box,0.54,11/4/2011\n",
      "\n",
      "7442,53060,3/22/2010,Critical,36,739.07,0.1,Regular Air,-71.55,20.95,5.99,Eric Barreto,British Columbia,West,Consumer,Technology,Computer Peripherals,\"Fellowes Basic 104-Key Keyboard, Platinum\",Small Box,0.65,3/24/2010\n",
      "\n",
      "7443,53060,3/22/2010,Critical,4,38.58,0.02,Regular Air,-2.82,9.11,2.15,Eric Barreto,British Columbia,West,Consumer,Office Supplies,Paper,\"Black Print Carbonless Snap-Off® Rapid Letter, 8 1/2\"\" x 7\"\"\",Wrap Bag,0.4,3/24/2010\n",
      "\n",
      "7465,53283,10/28/2011,High,2,25.07,0.04,Regular Air,-27.67,9.49,5.76,Corey Lock,British Columbia,West,Home Office,Technology,Office Machines,\"Sharp EL501VB Scientific Calculator, Battery Operated, 10-Digit Display, Hard Case\",Medium Box,0.39,10/29/2011\n",
      "\n",
      "7471,53344,2/24/2010,High,36,181.95,0.03,Regular Air,-132.26,4.89,6.07,Nora Paige,British Columbia,West,Small Business,Office Supplies,Binders and Binder Accessories,UniKeep™ View Case Binders,Small Box,0.39,2/26/2010\n",
      "\n",
      "7477,53381,9/26/2010,Critical,26,287.43,0.01,Regular Air,37.9,10.98,4.8,Juliana Krohn,British Columbia,West,Corporate,Office Supplies,Envelopes,\"Manila Recycled Extra-Heavyweight Clasp Envelopes, 6\"\" x 9\"\"\",Small Box,0.36,9/27/2010\n",
      "\n",
      "7505,53571,3/15/2012,Not Specified,21,238.06,0.05,Regular Air,56.43,10.91,2.99,Dan Campbell,British Columbia,West,Small Business,Office Supplies,Binders and Binder Accessories,Heavy-Duty E-Z-D® Binders,Small Box,0.38,3/17/2012\n",
      "\n",
      "7513,53635,7/18/2012,Not Specified,33,103.92,0.08,Regular Air,-52.76,3.14,1.92,Raymond Fair,British Columbia,West,Small Business,Office Supplies,\"Scissors, Rulers and Trimmers\",Serrated Blade or Curved Handle Hand Letter Openers,Wrap Bag,0.84,7/20/2012\n",
      "\n",
      "7525,53762,6/1/2012,Critical,28,136.16,0.07,Regular Air,58.1,4.98,0.49,Ivan Liston,British Columbia,West,Consumer,Office Supplies,Labels,Avery White Multi-Purpose Labels,Small Box,0.39,6/2/2012\n",
      "\n",
      "7561,54086,9/6/2012,Low,23,5062.18,0.06,Delivery Truck,842.83,270.97,28.06,Denny Ordway,British Columbia,West,Small Business,Technology,Office Machines,Epson LQ-570e Dot Matrix Printer,Jumbo Drum,0.56,9/8/2012\n",
      "\n",
      "7575,54180,10/22/2012,Critical,43,913.99,0.08,Regular Air,-57.75,21.38,8.99,Jill Matthias,British Columbia,West,Consumer,Office Supplies,Pens & Art Supplies,Boston 1730 StandUp Electric Pencil Sharpener,Small Pack,0.59,10/24/2012\n",
      "\n",
      "7581,54215,10/21/2011,High,14,321.21,0.04,Regular Air,53.44,22.98,1.99,Denny Ordway,British Columbia,West,Small Business,Technology,Computer Peripherals,\"Memorex 80 Minute CD-R, 30/Pack\",Small Pack,0.46,10/23/2011\n",
      "\n",
      "7591,54336,4/15/2010,Medium,50,952.21,0.05,Regular Air,403.83,18.84,3.62,Alejandro Savely,British Columbia,West,Corporate,Furniture,Office Furnishings,Flat Face Poster Frame,Wrap Bag,0.43,4/17/2010\n",
      "\n",
      "7610,54467,10/18/2010,Low,37,436.67,0.06,Regular Air,51.91,11.58,5.72,Bradley Drucker,British Columbia,West,Small Business,Office Supplies,Envelopes,\"Peel & Seel® Recycled Catalog Envelopes, Brown\",Small Box,0.35,10/20/2010\n",
      "\n",
      "7611,54467,10/18/2010,Low,30,146.72,0.06,Regular Air,18.26,5.08,2.03,Bradley Drucker,British Columbia,West,Small Business,Furniture,Office Furnishings,\"Master Caster Door Stop, Brown\",Wrap Bag,0.51,10/20/2010\n",
      "\n",
      "7612,54467,10/18/2010,Low,17,74.83,0.08,Regular Air,-83.71,4.06,6.89,Bradley Drucker,British Columbia,West,Small Business,Office Supplies,Appliances,Eureka Disposable Bags for Sanitaire® Vibra Groomer I® Upright Vac,Small Box,0.6,10/23/2010\n",
      "\n",
      "7623,54534,3/19/2012,Not Specified,16,124.71,0.01,Regular Air,-30.04,7.35,5.96,Tracy Hopkins,British Columbia,West,Small Business,Office Supplies,Paper,\"1/4 Fold Party Design Invitations & White Envelopes, 24 8-1/2\"\" X 11\"\" Cards, 25 Env./Pack\",Small Box,0.38,3/21/2012\n",
      "\n",
      "7627,54564,12/6/2010,High,27,1553.868,0.04,Express Air,322.51,65.99,5.92,Brendan Murry,British Columbia,West,Corporate,Technology,Telephones and Communication,252,Small Box,0.55,12/8/2010\n",
      "\n",
      "7637,54692,3/5/2010,Medium,16,43.65,0.05,Regular Air,-3.67,2.78,0.97,Tom Ashbrook,British Columbia,West,Home Office,Office Supplies,Pens & Art Supplies,Newell 333,Wrap Bag,0.59,3/5/2010\n",
      "\n",
      "7638,54692,3/5/2010,Medium,27,2478.481,0.09,Regular Air,249.1,115.99,8.99,Tom Ashbrook,British Columbia,West,Home Office,Technology,Telephones and Communication,5185,Small Box,0.58,3/7/2010\n",
      "\n",
      "7641,54727,12/13/2010,Medium,29,1427.14,0.02,Regular Air,605.92,48.04,7.23,Bradley Drucker,British Columbia,West,Small Business,Office Supplies,Paper,Xerox 1885,Small Box,0.37,12/14/2010\n",
      "\n",
      "7656,54886,8/4/2012,Critical,39,419.95,0.02,Regular Air,-39.1,10.64,5.16,Doug O'Connell,British Columbia,West,Small Business,Furniture,Office Furnishings,\"Eldon Expressions Punched Metal & Wood Desk Accessories, Pewter & Cherry\",Small Box,0.57,8/5/2012\n",
      "\n",
      "7668,54977,7/10/2011,Low,24,344.25,0.1,Regular Air,23.96,14.48,6.46,Karen Carlisle,British Columbia,West,Home Office,Office Supplies,Binders and Binder Accessories,\"GBC White Gloss Covers, Plain Front\",Small Box,0.38,7/14/2011\n",
      "\n",
      "7669,54977,7/10/2011,Low,12,64.77,0.09,Regular Air,14.46,5.84,1,Karen Carlisle,British Columbia,West,Home Office,Office Supplies,Pens & Art Supplies,\"Quartet Omega® Colored Chalk, 12/Pack\",Wrap Bag,0.38,7/15/2011\n",
      "\n",
      "7676,55040,4/12/2009,High,8,292.38,0.05,Regular Air,6.11,35.51,6.31,Dave Kipp,British Columbia,West,Consumer,Office Supplies,Storage & Organization,Steel Personal Filing/Posting Tote,Small Box,0.58,4/14/2009\n",
      "\n",
      "7677,55040,4/12/2009,High,24,191.79,0.1,Regular Air,-6.34,8.34,2.64,Dave Kipp,British Columbia,West,Consumer,Office Supplies,\"Scissors, Rulers and Trimmers\",Acme® Elite Stainless Steel Scissors,Small Pack,0.59,4/12/2009\n",
      "\n",
      "7678,55040,4/12/2009,High,34,290.01,0.03,Regular Air,-160.28,8.04,8.94,Dave Kipp,British Columbia,West,Consumer,Office Supplies,Binders and Binder Accessories,\"Fellowes Twister Kit, Gray/Clear, 3/pkg\",Small Box,0.4,4/14/2009\n",
      "\n",
      "7679,55040,4/12/2009,High,2,4692.26,0.08,Delivery Truck,-7373.13,2550.14,29.7,Dave Kipp,British Columbia,West,Consumer,Technology,Office Machines,Epson DFX-8500 Dot Matrix Printer,Jumbo Drum,0.57,4/14/2009\n",
      "\n",
      "7692,55139,1/17/2010,Not Specified,41,576.58,0.04,Regular Air,-81.55,13.9,7.59,Bobby Elias,British Columbia,West,Small Business,Office Supplies,\"Scissors, Rulers and Trimmers\",\"Acme Hot Forged Carbon Steel Scissors with Nickel-Plated Handles, 3 7/8\"\" Cut, 8\"\"L\",Small Pack,0.56,1/18/2010\n",
      "\n",
      "7702,55203,4/11/2010,Low,18,994.4745,0.05,Regular Air,0.71,65.99,7.69,Natalie Webber,British Columbia,West,Corporate,Technology,Telephones and Communication,5190,Small Box,0.59,4/11/2010\n",
      "\n",
      "7721,55330,8/12/2009,Medium,49,633.91,0,Regular Air,141.17,12.58,5.16,Brad Thomas,British Columbia,West,Corporate,Furniture,Office Furnishings,\"DAX Copper Panel Document Frame, 5 x 7 Size\",Small Box,0.43,8/12/2009\n",
      "\n",
      "7744,55431,6/8/2012,Not Specified,39,61.94,0.1,Regular Air,-17.78,1.6,1.29,Kean Thornton,British Columbia,West,Corporate,Office Supplies,Pens & Art Supplies,Sanford Pocket Accent® Highlighters,Wrap Bag,0.42,6/9/2012\n",
      "\n",
      "7756,55494,6/25/2012,Not Specified,4,57.82,0.08,Express Air,0.85,10.98,4.8,Michael Stewart,British Columbia,West,Small Business,Office Supplies,Envelopes,\"Manila Recycled Extra-Heavyweight Clasp Envelopes, 6\"\" x 9\"\"\",Small Box,0.36,6/27/2012\n",
      "\n",
      "7757,55494,6/25/2012,Not Specified,49,544.89,0.09,Regular Air,-115.66,11.97,5.81,Michael Stewart,British Columbia,West,Small Business,Office Supplies,Pens & Art Supplies,Staples SlimLine Pencil Sharpener,Small Pack,0.6,6/26/2012\n",
      "\n",
      "7762,55554,11/16/2009,Critical,6,122.09,0.04,Regular Air,-15.2,18.97,9.54,Alyssa Tate,British Columbia,West,Small Business,Office Supplies,Paper,Xerox 1939,Small Box,0.37,11/17/2009\n",
      "\n",
      "7763,55554,11/16/2009,Critical,49,150.06,0.02,Regular Air,30.97,2.88,0.7,Alyssa Tate,British Columbia,West,Small Business,Office Supplies,Pens & Art Supplies,Newell 340,Wrap Bag,0.56,11/19/2009\n",
      "\n",
      "7764,55554,11/16/2009,Critical,9,95.09,0.09,Regular Air,-13.53,10.98,3.37,Alyssa Tate,British Columbia,West,Small Business,Office Supplies,\"Scissors, Rulers and Trimmers\",Fiskars® Softgrip Scissors,Small Pack,0.57,11/17/2009\n",
      "\n",
      "7775,55651,3/7/2012,Medium,11,995.724,0.05,Regular Air,-117.61,110.99,2.5,Helen Andreada,British Columbia,West,Corporate,Technology,Telephones and Communication,T18,Small Box,0.57,3/8/2012\n",
      "\n",
      "7836,56006,10/1/2011,Critical,16,102.99,0.1,Regular Air,-102.17,6.48,9.68,Bill Shonely,British Columbia,West,Small Business,Office Supplies,Paper,Xerox 1993,Small Box,0.36,10/1/2011\n",
      "\n",
      "7837,56006,10/1/2011,Critical,20,1429.088,0.06,Regular Air,500.05,85.99,1.25,Bill Shonely,British Columbia,West,Small Business,Technology,Telephones and Communication,Accessory8,Small Pack,0.39,10/3/2011\n",
      "\n",
      "7850,56130,11/29/2011,Medium,13,246.06,0.08,Regular Air,52.33,18.7,8.99,David Bremer,British Columbia,West,Corporate,Furniture,Office Furnishings,\"Executive Impressions 13-1/2\"\" Indoor/Outdoor Wall Clock\",Small Pack,0.47,12/1/2011\n",
      "\n",
      "7851,56130,11/29/2011,Medium,25,41.87,0.05,Regular Air,-25.52,1.68,1.57,David Bremer,British Columbia,West,Corporate,Office Supplies,Pens & Art Supplies,Newell 323,Wrap Bag,0.59,12/1/2011\n",
      "\n",
      "7855,56162,4/25/2011,Not Specified,30,5217.79,0.09,Delivery Truck,209.54,180.98,30,Julia Barnett,British Columbia,West,Corporate,Furniture,Chairs & Chairmats,Office Star - Ergonomic Mid Back Chair with 2-Way Adjustable Arms,Jumbo Drum,0.69,4/27/2011\n",
      "\n",
      "7867,56261,2/27/2012,Critical,43,16886.76,0.02,Delivery Truck,483.95,376.13,85.63,Paul Van Hugh,British Columbia,West,Consumer,Furniture,Tables,Bretford Rectangular Conference Table Tops,Jumbo Box,0.74,2/29/2012\n",
      "\n",
      "7881,56358,3/1/2012,Not Specified,1,11.7,0,Regular Air,-8.06,5.89,5.57,Anne McFarland,British Columbia,West,Consumer,Furniture,Office Furnishings,Eldon Wave Desk Accessories,Small Box,0.41,3/3/2012\n",
      "\n",
      "7893,56452,2/14/2009,Not Specified,34,6686.344,0,Delivery Truck,1192.04,236.97,59.24,Charles Crestani,British Columbia,West,Consumer,Furniture,Tables,Chromcraft Rectangular Conference Tables,Jumbo Box,0.61,2/15/2009\n",
      "\n",
      "7895,56483,2/19/2009,High,37,158.62,0.05,Regular Air,-104.57,4.28,5.17,Debra Catini,British Columbia,West,Small Business,Office Supplies,Paper,Xerox 1971,Small Box,0.4,2/19/2009\n",
      "\n",
      "7896,56484,11/21/2011,Not Specified,6,176.58,0.1,Regular Air,28.34,30.56,2.99,Bobby Trafton,British Columbia,West,Small Business,Office Supplies,Binders and Binder Accessories,Surelock™ Post Binders,Small Box,0.35,11/22/2011\n",
      "\n",
      "7897,56484,11/21/2011,Not Specified,15,1121.84,0,Regular Air,-173.66,73.98,12.14,Bobby Trafton,British Columbia,West,Small Business,Technology,Computer Peripherals,Keytronic 105-Key Spanish Keyboard,Small Box,0.67,11/22/2011\n",
      "\n",
      "7931,56676,10/25/2012,Critical,39,206.47,0.08,Regular Air,-107.2,5.28,5.66,Dave Kipp,British Columbia,West,Consumer,Office Supplies,Paper,Xerox 4200 Series MultiUse Premium Copy Paper (20Lb. and 84 Bright),Small Box,0.4,10/26/2012\n",
      "\n",
      "7941,56740,10/16/2012,Low,6,34.29,0.05,Regular Air,-6.82,5.28,2.99,Jay Fine,British Columbia,West,Consumer,Office Supplies,Binders and Binder Accessories,\"Wilson Jones 1\"\" Hanging DublLock® Ring Binders\",Small Box,0.37,10/18/2012\n",
      "\n",
      "7942,56740,10/16/2012,Low,29,23516.31,0.09,Regular Air,1094.74,832.81,24.49,Jay Fine,British Columbia,West,Consumer,Office Supplies,\"Scissors, Rulers and Trimmers\",Martin Yale Chadless Opener Electric Letter Opener,Medium Box,0.83,10/20/2012\n",
      "\n",
      "7948,56802,5/29/2012,High,50,78.2,0.09,Regular Air,-4.56,1.68,1,Thea Hendricks,British Columbia,West,Home Office,Office Supplies,Pens & Art Supplies,Prang Dustless Chalk Sticks,Wrap Bag,0.35,5/30/2012\n",
      "\n",
      "7959,56868,12/3/2011,Low,34,1947.4265,0.03,Regular Air,473.27,65.99,5.92,Bobby Trafton,British Columbia,West,Corporate,Technology,Telephones and Communication,252,Small Box,0.55,12/10/2011\n",
      "\n",
      "7960,56869,7/23/2010,Low,10,842.19,0,Regular Air,157.45,80.98,4.5,Natalie Webber,British Columbia,West,Consumer,Office Supplies,Appliances,Belkin 8 Outlet SurgeMaster II Gold Surge Protector with Phone Protection,Small Box,0.59,7/25/2010\n",
      "\n",
      "8004,57190,5/28/2010,Medium,48,2052.83,0.02,Regular Air,395.85,40.99,8.97,Dave Poirier,British Columbia,West,Small Business,Technology,Office Machines,AT&T 1430 2.4GHz Analog Phone w/Caller ID,Small Box,0.54,5/28/2010\n",
      "\n",
      "8005,57190,5/28/2010,Medium,36,620.45,0.09,Regular Air,171.94,17.48,1.99,Dave Poirier,British Columbia,West,Small Business,Technology,Computer Peripherals,\"Memorex 'Cool' 80 Minute CD-R Spindle, 25/Pack\",Small Pack,0.46,5/29/2010\n",
      "\n",
      "8009,57248,10/15/2009,Critical,34,167.5,0.04,Regular Air,-84.42,4.98,4.95,Damala Kotsonis,British Columbia,West,Corporate,Office Supplies,Binders and Binder Accessories,Cardinal Holdit Business Card Pockets,Small Box,0.37,10/17/2009\n",
      "\n",
      "8022,57318,1/10/2010,Medium,33,158.79,0.02,Regular Air,74.14,4.91,0.5,Eric Barreto,British Columbia,West,Small Business,Office Supplies,Labels,Avery 508,Small Box,0.36,1/12/2010\n",
      "\n",
      "8023,57318,1/10/2010,Medium,12,79.06,0.1,Regular Air,-47,6.68,6.92,Eric Barreto,British Columbia,West,Small Business,Office Supplies,Paper,Xerox 1898,Small Box,0.37,1/12/2010\n",
      "\n",
      "8025,57350,5/25/2011,High,33,140.63,0.09,Regular Air,-111.87,4.28,5.68,Tracy Hopkins,British Columbia,West,Small Business,Office Supplies,Paper,Xerox 199,Small Box,0.4,5/26/2011\n",
      "\n",
      "8026,57350,5/25/2011,High,50,4872.6675,0.09,Regular Air,851.31,125.99,8.8,Tracy Hopkins,British Columbia,West,Small Business,Technology,Telephones and Communication,StarTAC 6500,Small Box,0.59,5/26/2011\n",
      "\n",
      "8032,57381,8/7/2009,High,13,515.23,0.1,Regular Air,171.4,41.94,2.99,Paul Van Hugh,British Columbia,West,Consumer,Office Supplies,Binders and Binder Accessories,\"Avery Trapezoid Extra Heavy Duty 4\"\" Binders\",Small Box,0.35,8/8/2009\n",
      "\n",
      "8033,57381,8/7/2009,High,22,41.65,0.06,Regular Air,-13.86,1.98,0.7,Paul Van Hugh,British Columbia,West,Consumer,Office Supplies,Rubber Bands,\"Brites Rubber Bands, 1 1/2 oz. Box\",Wrap Bag,0.83,8/7/2009\n",
      "\n",
      "8041,57444,5/14/2011,Critical,24,178.92,0.09,Regular Air,-56.11,7.68,6.16,Barry Pond,British Columbia,West,Consumer,Office Supplies,Binders and Binder Accessories,GBC VeloBinder Strips,Small Box,0.35,5/15/2011\n",
      "\n",
      "8048,57476,3/16/2009,High,20,1351.43,0.08,Delivery Truck,-550.43,68.81,60,Michael Stewart,British Columbia,West,Small Business,Office Supplies,Appliances,\"Holmes Replacement Filter for HEPA Air Cleaner, Very Large Room, HEPA Filter\",Jumbo Drum,0.41,3/17/2009\n",
      "\n",
      "8049,57476,3/16/2009,High,17,357.91,0.04,Regular Air,-52.12,21.38,8.99,Michael Stewart,British Columbia,West,Small Business,Office Supplies,Pens & Art Supplies,Boston 1730 StandUp Electric Pencil Sharpener,Small Pack,0.59,3/18/2009\n",
      "\n",
      "8078,57633,2/6/2011,High,12,351.12,0.09,Express Air,202.63,30.93,3.92,Speros Goranitis,British Columbia,West,Corporate,Furniture,Office Furnishings,\"Advantus Employee of the Month Certificate Frame, 11 x 13-1/2\",Small Pack,0.44,2/7/2011\n",
      "\n",
      "8085,57669,8/8/2010,Critical,41,1803.12,0,Regular Air,544.93,40.98,5.33,Cyra Reiten,British Columbia,West,Consumer,Office Supplies,Appliances,Belkin 8 Outlet Surge Protector,Small Box,0.57,8/9/2010\n",
      "\n",
      "8093,57734,9/16/2009,High,26,110.14,0.05,Regular Air,-89.22,4.24,5.41,Dan Campbell,British Columbia,West,Small Business,Office Supplies,Binders and Binder Accessories,Storex DuraTech Recycled Plastic Frosted Binders,Small Box,0.35,9/18/2009\n",
      "\n",
      "8094,57734,9/16/2009,High,27,453.89,0.1,Regular Air,-75.06,16.98,12.39,Dan Campbell,British Columbia,West,Small Business,Office Supplies,Envelopes,Brown Kraft Recycled Envelopes,Small Box,0.35,9/18/2009\n",
      "\n",
      "8095,57760,7/12/2011,Not Specified,38,275.11,0.06,Regular Air,17.15,7.59,4,Rick Huthwaite,British Columbia,West,Corporate,Furniture,Office Furnishings,\"Master Giant Foot® Doorstop, Safety Yellow\",Wrap Bag,0.42,7/14/2011\n",
      "\n",
      "8096,57760,7/12/2011,Not Specified,34,102.34,0.01,Regular Air,-30.39,2.98,2.03,Rick Huthwaite,British Columbia,West,Corporate,Office Supplies,Pens & Art Supplies,\"Premium Writing Pencils, Soft, #2 by Central Association for the Blind\",Wrap Bag,0.57,7/14/2011\n",
      "\n",
      "8110,57891,12/17/2010,Medium,17,934.9405,0.08,Regular Air,47.1,65.99,5.92,Corey Lock,British Columbia,West,Home Office,Technology,Telephones and Communication,252,Small Box,0.55,12/17/2010\n",
      "\n",
      "8125,58084,8/19/2012,Medium,3,21.55,0.09,Regular Air,-2.87,7.31,0.49,Raymond Fair,British Columbia,West,Small Business,Office Supplies,Labels,Self-Adhesive Address Labels for Typewriters by Universal,Small Box,0.38,8/19/2012\n",
      "\n",
      "8126,58084,8/19/2012,Medium,36,266.16,0.03,Regular Air,90.91,7.28,1.77,Raymond Fair,British Columbia,West,Small Business,Office Supplies,Paper,\"Post-it® “Important Message” Note Pad, Neon Colors, 50 Sheets/Pad\",Wrap Bag,0.37,8/21/2012\n",
      "\n",
      "8139,58179,9/5/2011,Medium,3,39.49,0.1,Regular Air,-12.99,11.58,5.72,Ed Jacobs,British Columbia,West,Small Business,Office Supplies,Envelopes,\"Peel & Seel® Recycled Catalog Envelopes, Brown\",Small Box,0.35,9/6/2011\n",
      "\n",
      "8151,58279,4/11/2009,Medium,44,1317.34,0.03,Regular Air,555.93,30.56,2.99,Emily Phan,British Columbia,West,Consumer,Office Supplies,Binders and Binder Accessories,Surelock™ Post Binders,Small Box,0.35,4/11/2009\n",
      "\n",
      "8165,58369,8/30/2012,High,46,320.57,0.1,Regular Air,-114.2,7.1,6.05,Allen Armold,British Columbia,West,Home Office,Office Supplies,Binders and Binder Accessories,\"Wilson Jones Hanging View Binder, White, 1\"\"\",Small Box,0.39,8/31/2012\n",
      "\n",
      "8166,58369,8/30/2012,High,16,2013.8,0.01,Delivery Truck,-98.43,119.99,56.14,Allen Armold,British Columbia,West,Home Office,Technology,Office Machines,Hewlett-Packard 2600DN Business Color Inkjet Printer,Jumbo Box,0.39,8/30/2012\n",
      "\n",
      "8167,58371,5/11/2010,Medium,5,2168.05,0,Regular Air,416.02,420.98,19.99,Barry Pond,British Columbia,West,Consumer,Office Supplies,Binders and Binder Accessories,GBC DocuBind 200 Manual Binding Machine,Small Box,0.35,5/13/2010\n",
      "\n",
      "8168,58371,5/11/2010,Medium,44,303.07,0.02,Regular Air,-238.45,6.48,9.68,Barry Pond,British Columbia,West,Consumer,Office Supplies,Paper,Xerox 1993,Small Box,0.36,5/12/2010\n",
      "\n",
      "8169,58371,5/11/2010,Medium,48,1661.8,0.07,Regular Air,202.68,36.55,13.89,Barry Pond,British Columbia,West,Consumer,Office Supplies,Pens & Art Supplies,\"Dixon Ticonderoga Core-Lock Colored Pencils, 48-Color Set\",Wrap Bag,0.41,5/13/2010\n",
      "\n",
      "8173,58433,7/1/2011,High,11,2020.58,0.01,Delivery Truck,-45.02,180.98,30,Dean Katz,British Columbia,West,Home Office,Furniture,Chairs & Chairmats,Office Star - Ergonomic Mid Back Chair with 2-Way Adjustable Arms,Jumbo Drum,0.69,7/2/2011\n",
      "\n",
      "8174,58433,7/1/2011,High,30,1533.46,0,Regular Air,730.44,48.04,5.79,Dean Katz,British Columbia,West,Home Office,Office Supplies,Paper,Xerox 1937,Small Box,0.37,7/3/2011\n",
      "\n",
      "8175,58433,7/1/2011,High,20,5989.048,0.09,Delivery Truck,541.01,400.98,42.52,Dean Katz,British Columbia,West,Home Office,Furniture,Tables,Bretford CR8500 Series Meeting Room Furniture,Jumbo Box,0.71,7/3/2011\n",
      "\n",
      "8236,58855,10/31/2010,Medium,38,69.26,0.07,Regular Air,-113.86,1.74,4.08,Jeremy Pistek,British Columbia,West,Corporate,Furniture,Office Furnishings,\"Eldon Regeneration Recycled Desk Accessories, Smoke\",Small Pack,0.53,10/31/2010\n",
      "\n",
      "8278,59173,12/20/2010,High,27,2896.99,0.01,Delivery Truck,36.94,100.98,35.84,Jennifer Patt,British Columbia,West,Home Office,Furniture,Bookcases,\"Bush Westfield Collection Bookcases, Fully Assembled\",Jumbo Box,0.62,12/21/2010\n",
      "\n",
      "8284,59204,2/29/2012,Medium,8,250.29,0.1,Regular Air,-9.31,31.74,12.62,Corey Catlett,British Columbia,West,Home Office,Office Supplies,Binders and Binder Accessories,GBC Wire Binding Strips,Small Box,0.37,3/1/2012\n",
      "\n",
      "8285,59204,2/29/2012,Medium,7,251.59,0.09,Regular Air,39.23,37.94,5.08,Corey Catlett,British Columbia,West,Home Office,Office Supplies,Paper,\"Snap-A-Way® Black Print Carbonless Ruled Speed Letter, Triplicate\",Wrap Bag,0.38,3/1/2012\n",
      "\n",
      "8309,59363,5/2/2009,High,24,158.91,0.06,Regular Air,-38.57,6.68,5.2,Alyssa Tate,British Columbia,West,Small Business,Office Supplies,Paper,Xerox 1977,Small Box,0.37,5/2/2009\n",
      "\n",
      "8328,59553,11/12/2010,Not Specified,15,171.57,0.04,Regular Air,12.5,11.34,5.01,Raymond Fair,British Columbia,West,Small Business,Office Supplies,Paper,Xerox 188,Small Box,0.36,11/13/2010\n",
      "\n",
      "8329,59553,11/12/2010,Not Specified,42,2170.305,0.1,Regular Air,264.32,65.99,8.99,Raymond Fair,British Columbia,West,Small Business,Technology,Telephones and Communication,5180,Small Box,0.56,11/14/2010\n",
      "\n",
      "8348,59681,6/11/2009,Critical,23,224.34,0.02,Express Air,-11.95,8.6,6.19,Giulietta Dortch,British Columbia,West,Small Business,Office Supplies,Binders and Binder Accessories,Avery Printable Repositionable Plastic Tabs,Small Box,0.38,6/13/2009\n",
      "\n",
      "8369,59781,12/12/2012,Not Specified,43,262.13,0,Express Air,-60.91,5.58,5.3,Julia Barnett,British Columbia,West,Corporate,Office Supplies,Envelopes,Staples Brown Kraft Recycled Clasp Envelopes,Small Box,0.35,12/13/2012\n",
      "\n",
      "8370,59781,12/12/2012,Not Specified,24,173.12,0.1,Regular Air,-166.41,7.28,11.15,Julia Barnett,British Columbia,West,Corporate,Office Supplies,Paper,\"Array® Parchment Paper, Assorted Colors\",Small Box,0.37,12/13/2012\n",
      "\n",
      "8374,59812,6/22/2011,Medium,46,9261.24,0,Regular Air,1646.43,193.17,19.99,Muhammed Lee,British Columbia,West,Consumer,Office Supplies,Storage & Organization,Fellowes Staxonsteel® Drawer Files,Small Box,0.71,6/22/2011\n",
      "\n",
      "8375,59812,6/22/2011,Medium,2,28.98,0.06,Regular Air,-18.39,12.64,4.98,Muhammed Lee,British Columbia,West,Consumer,Furniture,Office Furnishings,Nu-Dell Executive Frame,Small Pack,0.48,6/23/2011\n",
      "\n",
      "8376,59815,12/15/2010,Not Specified,14,51.56,0.09,Regular Air,-1.06,3.71,1.93,Christy Brittain,British Columbia,West,Consumer,Office Supplies,Paper,\"\"\"While you Were Out\"\" Message Book, One Form per Page\",Wrap Bag,0.35,12/17/2010\n",
      "\n",
      "8395,59971,5/31/2011,Critical,26,437.77,0.01,Express Air,-125.8,15.98,8.99,Brad Thomas,British Columbia,West,Home Office,Technology,Computer Peripherals,\"Imation 3.5\"\" DS/HD IBM Formatted Diskettes, 50/Pack\",Small Pack,0.64,6/2/2011\n",
      "\n",
      "8396,59971,5/31/2011,Critical,45,514.86,0.08,Regular Air,-10.84,12.28,6.47,Brad Thomas,British Columbia,West,Home Office,Office Supplies,Paper,Xerox 1881,Small Box,0.38,6/2/2011\n",
      "\n",
      "8397,59971,5/31/2011,Critical,12,356.27,0.1,Express Air,84.53,30.98,5.09,Brad Thomas,British Columbia,West,Home Office,Office Supplies,Paper,Xerox 19,Small Box,0.4,6/2/2011\n",
      "\n",
      "79,481,10/7/2012,High,44,4509.3775,0.01,Regular Air,1426.26,115.99,5.26,Art Foster,British Columbia,West,Home Office,Technology,Telephones and Communication,636,Small Box,0.57,10/9/2012\n",
      "\n",
      "131,834,5/22/2009,Medium,15,1813.04,0.01,Delivery Truck,-164.4,115.99,56.14,Eugene Moren,British Columbia,West,Home Office,Technology,Office Machines,Hewlett-Packard Deskjet 5550 Color Inkjet Printer,Jumbo Drum,0.4,5/23/2009\n",
      "\n",
      "215,1414,8/15/2011,Critical,44,4530.96,0.07,Delivery Truck,-993.35,105.49,41.64,Carol Darley,British Columbia,West,Small Business,Furniture,Tables,Balt Solid Wood Rectangular Table,Jumbo Box,0.75,8/15/2011\n",
      "\n",
      "335,2305,1/25/2010,High,33,3116.47,0.1,Delivery Truck,-1578.26,100.98,57.38,Maribeth Dona,British Columbia,West,Home Office,Furniture,Bookcases,\"Bush Westfield Collection Bookcases, Dark Cherry Finish, Fully Assembled\",Jumbo Box,0.78,1/27/2010\n",
      "\n",
      "336,2305,1/25/2010,High,1,12.41,0.01,Regular Air,-9.08,6.68,5.66,Maribeth Dona,British Columbia,West,Home Office,Office Supplies,Paper,Xerox 1923,Small Box,0.37,1/26/2010\n",
      "\n",
      "341,2311,5/1/2011,High,31,1324.09,0.01,Regular Air,94.96,40.89,18.98,Fred Harton,British Columbia,West,Home Office,Furniture,Office Furnishings,Eldon Executive Woodline II Cherry Finish Desk Accessories,Small Box,0.57,5/2/2011\n",
      "\n",
      "351,2438,7/14/2010,High,20,278.68,0.06,Regular Air,8.9,14.48,6.46,Andrew Allen,British Columbia,West,Corporate,Office Supplies,Binders and Binder Accessories,\"GBC White Gloss Covers, Plain Front\",Small Box,0.38,7/17/2010\n",
      "\n",
      "352,2438,7/14/2010,High,23,717.468,0.01,Regular Air,316.48,35.99,0.99,Andrew Allen,British Columbia,West,Corporate,Technology,Telephones and Communication,Accessory31,Small Pack,0.35,7/16/2010\n",
      "\n",
      "374,2595,12/13/2011,Not Specified,13,11764.25,0.04,Delivery Truck,2322.44,880.98,44.55,Art Miller,British Columbia,West,Corporate,Furniture,Bookcases,\"Riverside Palais Royal Lawyers Bookcase, Royale Cherry Finish\",Jumbo Box,0.62,12/14/2011\n",
      "\n",
      "375,2595,12/13/2011,Not Specified,4,25.17,0.09,Regular Air,5.88,5.47,5.26,Art Miller,British Columbia,West,Corporate,Furniture,Office Furnishings,Advantus Panel Wall Acrylic Frame,Small Pack,0.42,12/15/2011\n",
      "\n",
      "376,2595,12/13/2011,Not Specified,29,208.47,0.01,Express Air,-125.6,6.48,8.74,Art Miller,British Columbia,West,Corporate,Office Supplies,Paper,Xerox 1984,Small Box,0.36,12/15/2011\n",
      "\n",
      "409,2790,8/18/2009,High,7,45.91,0.01,Regular Air,-35.54,5.44,7.46,Maribeth Dona,British Columbia,West,Home Office,Office Supplies,Binders and Binder Accessories,Wilson Jones Custom Binder Spines & Labels,Small Box,0.36,8/19/2009\n",
      "\n",
      "410,2790,8/18/2009,High,41,22319.58,0.02,Delivery Truck,-734.31,549.99,49,Maribeth Dona,British Columbia,West,Home Office,Technology,Copiers and Fax,Sharp 1540cs Digital Laser Copier,Jumbo Drum,0.35,8/20/2009\n",
      "\n",
      "411,2790,8/18/2009,High,15,330.24,0.03,Express Air,8.48,22.01,5.53,Maribeth Dona,British Columbia,West,Home Office,Office Supplies,Pens & Art Supplies,Boston 16801 Nautilus™ Battery Pencil Sharpener,Small Pack,0.59,8/19/2009\n",
      "\n",
      "412,2790,8/18/2009,High,15,520.65,0.09,Regular Air,30.63,34.76,8.22,Maribeth Dona,British Columbia,West,Home Office,Office Supplies,Storage & Organization,\"Multi-Use Personal File Cart and Caster Set, Three Stacking Bins\",Small Box,0.57,8/20/2009\n",
      "\n",
      "490,3395,10/29/2009,Not Specified,31,181.17,0.06,Express Air,-59.88,5.38,5.24,Cathy Armstrong,British Columbia,West,Consumer,Office Supplies,Binders and Binder Accessories,\"Acco PRESSTEX® Data Binder with Storage Hooks, Dark Blue, 14 7/8\"\" X 11\"\"\",Small Box,0.36,10/31/2009\n",
      "\n",
      "491,3395,10/29/2009,Not Specified,1,13.16,0.03,Regular Air,-10.29,7.35,5.96,Cathy Armstrong,British Columbia,West,Consumer,Office Supplies,Paper,\"1/4 Fold Party Design Invitations & White Envelopes, 24 8-1/2\"\" X 11\"\" Cards, 25 Env./Pack\",Small Box,0.38,10/31/2009\n",
      "\n",
      "492,3395,10/29/2009,Not Specified,7,107.88,0.02,Regular Air,25.59,15.57,1.39,Cathy Armstrong,British Columbia,West,Consumer,Office Supplies,Envelopes,Park Ridge™ Embossed Executive Business Envelopes,Small Box,0.38,10/30/2009\n",
      "\n",
      "493,3395,10/29/2009,Not Specified,29,623.02,0.02,Regular Air,-255.66,20.89,11.52,Cathy Armstrong,British Columbia,West,Consumer,Office Supplies,Storage & Organization,\"Iris® 3-Drawer Stacking Bin, Black\",Small Box,0.83,10/30/2009\n",
      "\n",
      "575,3907,8/18/2012,Medium,34,729.83,0.07,Regular Air,-135.1,22.38,15.1,Christopher Martinez,British Columbia,West,Small Business,Office Supplies,Binders and Binder Accessories,\"Avery Flip-Chart Easel Binder, Black\",Small Box,0.38,8/20/2012\n",
      "\n",
      "576,3907,8/18/2012,Medium,36,1083.19,0.03,Express Air,214.61,29.99,5.5,Christopher Martinez,British Columbia,West,Small Business,Technology,Computer Peripherals,Logitech Cordless Access Keyboard,Small Box,0.51,8/19/2012\n",
      "\n",
      "613,4195,5/28/2010,Not Specified,30,255.74,0.07,Regular Air,37.09,8.5,1.99,Art Miller,British Columbia,West,Corporate,Technology,Computer Peripherals,Hewlett-Packard 4.7GB DVD+R Discs,Small Pack,0.49,5/30/2010\n",
      "\n",
      "631,4391,2/17/2012,High,20,2592.432,0.06,Regular Air,428.47,155.99,3.9,Eugene Moren,British Columbia,West,Home Office,Technology,Telephones and Communication,T39m,Small Box,0.55,2/19/2012\n",
      "\n",
      "633,4422,5/21/2011,Medium,12,313.43,0.02,Regular Air,104.03,25.38,8.99,Scott Cohen,British Columbia,West,Consumer,Furniture,Office Furnishings,\"Executive Impressions 13\"\" Chairman Wall Clock\",Small Pack,0.5,5/21/2011\n",
      "\n",
      "634,4422,5/21/2011,Medium,17,390.11,0.02,Regular Air,-19.92,21.38,8.99,Scott Cohen,British Columbia,West,Consumer,Office Supplies,Pens & Art Supplies,Boston 1730 StandUp Electric Pencil Sharpener,Small Pack,0.59,5/21/2011\n",
      "\n",
      "679,4741,7/6/2012,Not Specified,40,342.97,0.09,Regular Air,-131.63,8.75,8.54,Anthony O'Donnell,British Columbia,West,Consumer,Furniture,Office Furnishings,\"Eldon® 400 Class™ Desk Accessories, Black Carbon\",Small Pack,0.43,7/7/2012\n",
      "\n",
      "693,4835,10/24/2009,Critical,3,9.4,0.04,Regular Air,-7.6,2.52,1.92,Eugene Moren,British Columbia,West,Home Office,Office Supplies,\"Scissors, Rulers and Trimmers\",Letter Slitter,Wrap Bag,0.82,10/24/2009\n",
      "\n",
      "711,5028,4/16/2012,High,10,79.68,0.06,Regular Air,18.24,7.7,3.68,Art Miller,British Columbia,West,Corporate,Furniture,Office Furnishings,Deflect-O® Glasstique™ Clear Desk Accessories,Wrap Bag,0.52,4/18/2012\n",
      "\n",
      "717,5095,4/21/2012,High,7,786.675,0.01,Regular Air,-315.03,125.99,8.8,Lauren Leatherbury,British Columbia,West,Corporate,Technology,Telephones and Communication,StarTAC 6500,Small Box,0.59,4/22/2012\n",
      "\n",
      "736,5317,9/8/2009,Low,38,212.57,0.09,Express Air,9.49,5.34,2.99,Christopher Martinez,British Columbia,West,Small Business,Office Supplies,Binders and Binder Accessories,Wilson Jones 14 Line Acrylic Coated Pressboard Data Binders,Small Box,0.38,9/15/2009\n",
      "\n",
      "737,5317,9/8/2009,Low,10,1469.48,0.07,Delivery Truck,-263.65,140.98,53.48,Christopher Martinez,British Columbia,West,Small Business,Furniture,Bookcases,\"Bush Heritage Pine Collection 5-Shelf Bookcase, Albany Pine Finish, *Special Order\",Jumbo Box,0.65,9/15/2009\n",
      "\n",
      "738,5317,9/8/2009,Low,25,4279.24,0.06,Regular Air,890.18,205.99,5.26,Christopher Martinez,British Columbia,West,Small Business,Technology,Telephones and Communication,i470,Small Box,0.56,9/15/2009\n",
      "\n",
      "801,5735,12/10/2009,Medium,10,2665.64,0.1,Delivery Truck,-107.49,280.98,35.67,Art Foster,British Columbia,West,Home Office,Furniture,Tables,Global Adaptabilities™ Conference Tables,Jumbo Box,0.66,12/11/2009\n",
      "\n",
      "810,5856,11/5/2009,High,42,10307.01,0,Delivery Truck,3025.59,230.98,23.78,Christopher Martinez,British Columbia,West,Small Business,Furniture,Tables,\"Bush® Cubix Conference Tables, Fully Assembled\",Jumbo Box,0.6,11/7/2009\n",
      "\n",
      "816,5891,12/28/2012,Medium,2,44.45,0.01,Regular Air,-17.46,20.98,1.49,Art Foster,British Columbia,West,Home Office,Office Supplies,Binders and Binder Accessories,Avery Legal 4-Ring Binder,Small Box,0.35,12/30/2012\n",
      "\n",
      "875,6274,7/14/2011,Not Specified,22,46.36,0.05,Express Air,-56.73,1.74,4.08,Eugene Moren,British Columbia,West,Home Office,Furniture,Office Furnishings,\"Eldon Regeneration Recycled Desk Accessories, Smoke\",Small Pack,0.53,7/15/2011\n",
      "\n",
      "878,6309,6/9/2010,Medium,10,29.79,0.01,Regular Air,3.76,2.88,0.99,Art Miller,British Columbia,West,Corporate,Office Supplies,Labels,Avery 474,Small Box,0.36,6/10/2010\n",
      "\n",
      "885,6368,2/22/2009,Not Specified,40,19100.45,0,Delivery Truck,6839.95,442.14,14.7,Anthony O'Donnell,British Columbia,West,Corporate,Technology,Office Machines,Okidata ML390 Turbo Dot Matrix Printers,Jumbo Drum,0.56,2/22/2009\n",
      "\n",
      "961,6978,12/9/2010,High,47,371.95,0.07,Regular Air,-87.4,8.12,2.83,Art Foster,British Columbia,West,Home Office,Technology,Computer Peripherals,\"Imation Neon Mac Format Diskettes, 10/Pack\",Small Pack,0.77,12/10/2010\n",
      "\n",
      "1024,7461,1/12/2009,Low,12,4080.3,0.05,Delivery Truck,593.79,350.99,39,Greg Matthias,British Columbia,West,Home Office,Furniture,Chairs & Chairmats,Global Leather Executive Chair,Jumbo Drum,0.55,1/14/2009\n",
      "\n",
      "1025,7461,1/12/2009,Low,28,260.79,0,Regular Air,111.4,8.74,1.39,Greg Matthias,British Columbia,West,Home Office,Office Supplies,Envelopes,\"#10- 4 1/8\"\" x 9 1/2\"\" Recycled Envelopes\",Small Box,0.38,1/16/2009\n",
      "\n",
      "1026,7461,1/12/2009,Low,44,90.35,0.02,Regular Air,-16.72,1.98,0.7,Greg Matthias,British Columbia,West,Home Office,Office Supplies,Rubber Bands,\"Brites Rubber Bands, 1 1/2 oz. Box\",Wrap Bag,0.83,1/16/2009\n",
      "\n",
      "1297,9505,6/7/2012,High,2,316.52,0.03,Regular Air,-542.32,152.48,4,Maribeth Dona,British Columbia,West,Home Office,Technology,Computer Peripherals,Adesso Programmable 142-Key Keyboard,Small Box,0.79,6/9/2012\n",
      "\n",
      "1298,9505,6/7/2012,High,5,155.39,0.1,Regular Air,-127.7,32.98,5.5,Maribeth Dona,British Columbia,West,Home Office,Technology,Computer Peripherals,PC Concepts 116 Key Quantum 3000 Keyboard,Small Box,0.75,6/10/2012\n",
      "\n",
      "1340,9794,3/24/2012,Not Specified,25,135.23,0.1,Regular Air,-45.65,5.68,3.6,Scott Cohen,British Columbia,West,Consumer,Office Supplies,\"Scissors, Rulers and Trimmers\",Acme® Preferred Stainless Steel Scissors,Small Pack,0.56,3/25/2012\n",
      "\n",
      "1400,10148,3/25/2009,Low,27,14357.85,0.02,Delivery Truck,3309.55,500.98,41.44,Christopher Martinez,British Columbia,West,Small Business,Furniture,Bookcases,DMI Eclipse Executive Suite Bookcases,Jumbo Box,0.66,3/25/2009\n",
      "\n",
      "1534,11045,3/25/2012,Medium,35,710.86,0.04,Regular Air,196.22,19.98,5.97,Eugene Moren,British Columbia,West,Home Office,Office Supplies,Paper,Xerox 1936,Small Box,0.38,3/26/2012\n",
      "\n",
      "1537,11074,6/9/2011,High,21,114.53,0.07,Regular Air,-39.23,5.68,3.6,Cynthia Delaney,British Columbia,West,Corporate,Office Supplies,\"Scissors, Rulers and Trimmers\",Acme® Preferred Stainless Steel Scissors,Small Pack,0.56,6/11/2011\n",
      "\n",
      "1538,11074,6/9/2011,High,44,7164.7435,0.07,Regular Air,1609.29,205.99,5.99,Cynthia Delaney,British Columbia,West,Corporate,Technology,Telephones and Communication,3285,Small Box,0.59,6/10/2011\n",
      "\n",
      "1732,12449,1/31/2010,Medium,36,1400.1,0.03,Regular Air,88.68,39.98,4,Anthony Rawles,British Columbia,West,Small Business,Technology,Computer Peripherals,Microsoft Natural Keyboard Elite,Small Box,0.7,2/2/2010\n",
      "\n",
      "2051,14661,1/24/2010,Not Specified,38,1325.06,0.06,Regular Air,-180.23,35.77,9.02,Lauren Leatherbury,British Columbia,West,Home Office,Technology,Computer Peripherals,\"IBM Numeric Access II Keypad, 17-Key, Black\",Small Box,0.75,1/25/2010\n",
      "\n",
      "2143,15303,9/13/2010,Critical,21,101.13,0.02,Regular Air,-74.41,4.54,5.83,Fred Harton,British Columbia,West,Home Office,Office Supplies,Binders and Binder Accessories,\"Avery® Durable Plastic 1\"\" Binders\",Small Box,0.36,9/14/2010\n",
      "\n",
      "2144,15303,9/13/2010,Critical,18,526.45,0.02,Regular Air,-108.14,28.48,8.99,Fred Harton,British Columbia,West,Home Office,Technology,Computer Peripherals,\"Imation IBM Formatted Diskettes, 100/Pack\",Small Pack,0.7,9/15/2010\n",
      "\n",
      "2171,15622,8/25/2011,High,34,8581.25,0,Delivery Truck,1464.23,240.98,60.2,Cathy Armstrong,British Columbia,West,Consumer,Furniture,Bookcases,\"Atlantic Metals Mobile 2-Shelf Bookcases, Custom Colors\",Jumbo Box,0.56,8/26/2011\n",
      "\n",
      "2172,15622,8/25/2011,High,21,135.99,0.09,Regular Air,-129.24,6.48,9.68,Cathy Armstrong,British Columbia,West,Consumer,Office Supplies,Paper,Xerox 1993,Small Box,0.36,8/26/2011\n",
      "\n",
      "2189,15778,5/6/2010,High,9,43.23,0,Regular Air,-29.53,3.98,5.26,Barry Blumstein,British Columbia,West,Small Business,Office Supplies,Binders and Binder Accessories,Ibico Presentation Index for Binding Systems,Small Box,0.38,5/8/2010\n",
      "\n",
      "2239,16164,1/3/2012,Low,22,3353.54,0.07,Regular Air,1189.96,162.93,19.99,Eva Jacobs,British Columbia,West,Home Office,Office Supplies,Envelopes,Multimedia Mailers,Small Box,0.39,1/12/2012\n",
      "\n",
      "2240,16164,1/3/2012,Low,26,69.38,0.08,Regular Air,-70.73,2.52,4.28,Eva Jacobs,British Columbia,West,Home Office,Office Supplies,Pens & Art Supplies,\"Binney & Smith inkTank™ Erasable Desk Highlighter, Chisel Tip, Yellow, 12/Box\",Wrap Bag,0.44,1/10/2012\n",
      "\n",
      "2245,16166,1/31/2010,Critical,36,78.51,0.09,Regular Air,-10.06,2.18,1.38,Anthony Rawles,British Columbia,West,Small Business,Office Supplies,Rubber Bands,Advantus Push Pins,Wrap Bag,0.44,2/1/2010\n",
      "\n",
      "2324,16768,7/25/2009,High,9,101.47,0.03,Regular Air,-18.64,10.89,4.5,Andrew Allen,British Columbia,West,Corporate,Office Supplies,Appliances,Belkin 6 Outlet Metallic Surge Strip,Small Box,0.59,7/26/2009\n",
      "\n",
      "2390,17313,5/7/2009,High,27,130.49,0.07,Express Air,47.09,4.76,0.88,Scott Cohen,British Columbia,West,Consumer,Office Supplies,Paper,Wirebound Voice Message Log Book,Wrap Bag,0.39,5/9/2009\n",
      "\n",
      "2409,17447,5/18/2012,Low,42,861.41,0.01,Regular Air,128,18.97,9.54,Carol Darley,British Columbia,West,Home Office,Office Supplies,Paper,Xerox 1939,Small Box,0.37,5/20/2012\n",
      "\n",
      "2493,18145,9/4/2010,Medium,21,361.98,0,Regular Air,-55.61,15.99,9.4,Lauren Leatherbury,British Columbia,West,Corporate,Technology,Office Machines,\"AT&T Black Trimline Phone, Model 210\",Small Box,0.49,9/5/2010\n",
      "\n",
      "2509,18215,9/19/2010,Medium,29,965.82,0.09,Regular Air,169.15,34.99,5.5,Eugene Moren,British Columbia,West,Home Office,Technology,Computer Peripherals,Logitech Cordless Keyboard,Small Box,0.49,9/20/2010\n",
      "\n",
      "2581,18598,8/6/2010,Critical,24,349.65,0.1,Express Air,28.55,14.48,6.46,Fred Harton,British Columbia,West,Home Office,Office Supplies,Binders and Binder Accessories,\"GBC White Gloss Covers, Plain Front\",Small Box,0.38,8/9/2010\n",
      "\n",
      "2582,18598,8/6/2010,Critical,46,4814.12,0.03,Regular Air,855.14,102.3,21.26,Fred Harton,British Columbia,West,Home Office,Furniture,Office Furnishings,Luxo Professional Combination Clamp-On Lamps,Large Box,0.59,8/8/2010\n",
      "\n",
      "2664,19234,1/24/2009,High,24,359.65,0.01,Regular Air,-11.15,14.42,6.75,Cynthia Delaney,British Columbia,West,Corporate,Office Supplies,Appliances,Holmes Odor Grabber,Medium Box,0.52,1/24/2009\n",
      "\n",
      "2701,19555,2/11/2010,Low,36,246.24,0.08,Regular Air,-118.9,6.68,7.3,Carol Darley,British Columbia,West,Small Business,Office Supplies,Paper,Xerox 1959,Small Box,0.37,2/15/2010\n",
      "\n",
      "2702,19555,2/11/2010,Low,8,78.67,0,Regular Air,14.1,9.11,2.15,Carol Darley,British Columbia,West,Small Business,Office Supplies,Paper,\"Black Print Carbonless Snap-Off® Rapid Letter, 8 1/2\"\" x 7\"\"\",Wrap Bag,0.4,2/18/2010\n",
      "\n",
      "2751,19843,7/29/2010,Medium,33,4416.651,0.02,Regular Air,1020.41,155.99,8.99,Eugene Moren,British Columbia,West,Home Office,Technology,Telephones and Communication,LX 788,Small Box,0.58,7/29/2010\n",
      "\n",
      "2862,20646,3/30/2011,Medium,41,1204.0845,0.04,Regular Air,341.96,35.99,1.1,Lauren Leatherbury,British Columbia,West,Corporate,Technology,Telephones and Communication,Accessory35,Small Box,0.55,4/1/2011\n",
      "\n",
      "2928,21222,2/3/2009,Not Specified,36,181.39,0.1,Regular Air,-32.4,5.08,3.63,Carol Darley,British Columbia,West,Home Office,Furniture,Office Furnishings,\"Master Caster Door Stop, Gray\",Wrap Bag,0.51,2/5/2009\n",
      "\n",
      "2929,21222,2/3/2009,Not Specified,26,846.0815,0.02,Regular Air,-120.93,35.99,5,Carol Darley,British Columbia,West,Home Office,Technology,Telephones and Communication,Accessory27,Small Box,0.85,2/5/2009\n",
      "\n",
      "3166,22755,3/30/2009,Medium,35,187.84,0,Regular Air,-95.05,4.91,5.68,Fred Harton,British Columbia,West,Home Office,Office Supplies,Binders and Binder Accessories,\"Acco Pressboard Covers with Storage Hooks, 14 7/8\"\" x 11\"\", Light Blue\",Small Box,0.36,3/31/2009\n",
      "\n",
      "3167,22755,3/30/2009,Medium,45,240.6,0.04,Regular Air,3.45,5.34,2.99,Fred Harton,British Columbia,West,Home Office,Office Supplies,Binders and Binder Accessories,Wilson Jones 14 Line Acrylic Coated Pressboard Data Binders,Small Box,0.38,4/1/2009\n",
      "\n",
      "3168,22755,3/30/2009,Medium,5,236.878,0.06,Regular Air,-275.25,55.99,5,Fred Harton,British Columbia,West,Home Office,Technology,Telephones and Communication,Accessory6,Small Pack,0.8,4/1/2009\n",
      "\n",
      "3222,23136,9/25/2009,Not Specified,41,9312.52,0.01,Regular Air,3039.37,218.08,18.06,Barry Blumstein,British Columbia,West,Small Business,Furniture,Chairs & Chairmats,\"Lifetime Advantage™ Folding Chairs, 4/Carton\",Large Box,0.57,9/26/2009\n",
      "\n",
      "3223,23136,9/25/2009,Not Specified,43,220.47,0.04,Regular Air,-135.16,4.98,4.62,Barry Blumstein,British Columbia,West,Small Business,Technology,Computer Peripherals,\"Imation 3.5\"\", DISKETTE 44766 HGHLD3.52HD/FM, 10/Pack\",Small Pack,0.64,9/26/2009\n",
      "\n",
      "3316,23685,6/29/2012,Not Specified,46,7928.562,0.08,Regular Air,2229.48,205.99,5,Cynthia Delaney,British Columbia,West,Corporate,Technology,Telephones and Communication,Phone 918,Small Box,0.59,6/30/2012\n",
      "\n",
      "3319,23745,12/5/2012,Low,12,715.8,0.06,Regular Air,-279.12,55.5,52.2,Duane Noonan,British Columbia,West,Corporate,Furniture,Office Furnishings,Eldon Cleatmat® Chair Mats for Medium Pile Carpets,Medium Box,0.72,12/5/2012\n",
      "\n",
      "3320,23745,12/5/2012,Low,47,10941.23,0,Delivery Truck,1687.07,227.55,32.48,Duane Noonan,British Columbia,West,Corporate,Furniture,Tables,Hon Rectangular Conference Tables,Jumbo Box,0.68,12/9/2012\n",
      "\n",
      "3585,25571,8/18/2012,Critical,42,3749,0.08,Regular Air,-1032.13,89.83,35,Cathy Armstrong,British Columbia,West,Consumer,Office Supplies,Storage & Organization,Fellowes Officeware™ Wire Shelving,Large Box,0.83,8/20/2012\n",
      "\n",
      "3645,26053,1/24/2012,Low,48,878.75,0.07,Express Air,70.46,18.97,9.03,Cynthia Delaney,British Columbia,West,Corporate,Office Supplies,Paper,Computer Printout Paper with Letter-Trim Perforations,Small Box,0.37,1/24/2012\n",
      "\n",
      "3670,26277,6/27/2011,Medium,17,877.81,0.02,Regular Air,-44.4,49.99,19.99,Art Miller,British Columbia,West,Corporate,Technology,Computer Peripherals,US Robotics 56K V.92 Internal PCI Faxmodem,Small Box,0.45,6/28/2011\n",
      "\n",
      "3692,26374,11/5/2009,Not Specified,5,90.9415,0.05,Regular Air,-109.42,20.99,3.3,Art Miller,British Columbia,West,Corporate,Technology,Telephones and Communication,Accessory39,Small Pack,0.81,11/6/2009\n",
      "\n",
      "3771,26944,11/7/2009,Critical,6,453.87,0.02,Regular Air,-217.69,73.98,14.52,Eva Jacobs,British Columbia,West,Home Office,Technology,Computer Peripherals,Keytronic French Keyboard,Small Box,0.65,11/10/2009\n",
      "\n",
      "3791,27013,7/5/2009,Low,28,2232.15,0.05,Regular Air,-746.44,80.98,35,Fred Harton,British Columbia,West,Home Office,Office Supplies,Storage & Organization,Carina Double Wide Media Storage Towers in Natural & Black,Large Box,0.81,7/9/2009\n",
      "\n",
      "3792,27013,7/5/2009,Low,26,7007.19,0.05,Regular Air,-274.95,279.48,35,Fred Harton,British Columbia,West,Home Office,Office Supplies,Storage & Organization,\"Tennsco Snap-Together Open Shelving Units, Starter Sets and Add-On Units\",Large Box,0.8,7/5/2009\n",
      "\n",
      "3913,27904,9/3/2011,High,8,460.5895,0.02,Regular Air,-171.2,65.99,8.99,Anthony O'Donnell,British Columbia,West,Consumer,Technology,Telephones and Communication,Talkabout T8367,Small Box,0.56,9/4/2011\n",
      "\n",
      "3925,27974,10/7/2010,High,31,813.41,0.09,Express Air,284.65,28.48,1.99,Art Foster,British Columbia,West,Home Office,Technology,Computer Peripherals,\"Memorex 4.7GB DVD+RW, 3/Pack\",Small Pack,0.4,10/9/2010\n",
      "\n",
      "4192,29767,2/5/2011,High,48,4153.06,0.06,Regular Air,1499.41,90.24,0.99,Eva Jacobs,British Columbia,West,Home Office,Office Supplies,Appliances,Kensington 6 Outlet MasterPiece® HOMEOFFICE Power Control Center,Small Box,0.56,2/6/2011\n",
      "\n",
      "4196,29826,9/24/2009,Critical,9,157.63,0.06,Regular Air,-78.13,17.98,4,Cathy Armstrong,British Columbia,West,Consumer,Technology,Computer Peripherals,\"Belkin 107-key enhanced keyboard, USB/PS/2 interface\",Small Box,0.79,9/25/2009\n",
      "\n",
      "4290,30566,7/1/2011,Low,34,225.45,0.02,Regular Air,-193.39,6.48,9.54,Barry Blumstein,British Columbia,West,Small Business,Office Supplies,Paper,Xerox 1905,Small Box,0.37,7/3/2011\n",
      "\n",
      "4329,30852,5/14/2009,Critical,35,2827.1425,0.01,Regular Air,713.88,95.99,4.9,Andrew Allen,British Columbia,West,Corporate,Technology,Telephones and Communication,T60,Small Box,0.56,5/15/2009\n",
      "\n",
      "4379,31204,8/21/2010,Low,14,215.52,0.02,Regular Air,75.83,14.34,5,Christopher Martinez,British Columbia,West,Small Business,Furniture,Office Furnishings,Nu-Dell Leatherette Frames,Small Pack,0.49,8/26/2010\n",
      "\n",
      "4380,31204,8/21/2010,Low,8,10.46,0,Regular Air,-0.89,1.14,0.7,Christopher Martinez,British Columbia,West,Small Business,Office Supplies,Rubber Bands,OIC Thumb-Tacks,Wrap Bag,0.38,8/21/2010\n",
      "\n",
      "4567,32513,2/2/2012,Low,23,3982.21,0.03,Regular Air,1413.94,165.98,19.99,Andrew Allen,British Columbia,West,Corporate,Office Supplies,Binders and Binder Accessories,GBC DocuBind P100 Manual Binding Machine,Small Box,0.4,2/7/2012\n",
      "\n",
      "4568,32513,2/2/2012,Low,40,66.55,0.01,Regular Air,-15.13,1.6,1.29,Andrew Allen,British Columbia,West,Corporate,Office Supplies,Pens & Art Supplies,Sanford Pocket Accent® Highlighters,Wrap Bag,0.42,2/7/2012\n",
      "\n",
      "4589,32641,3/21/2010,High,18,167.53,0.05,Regular Air,-9.57,8.85,5.6,Fred Harton,British Columbia,West,Home Office,Office Supplies,Binders and Binder Accessories,GBC Standard Plastic Binding Systems Combs,Small Box,0.36,3/22/2010\n",
      "\n",
      "4741,33729,9/19/2012,Not Specified,26,6995.56,0.07,Regular Air,-286.58,279.48,35,Anthony Rawles,British Columbia,West,Small Business,Office Supplies,Storage & Organization,\"Tennsco Snap-Together Open Shelving Units, Starter Sets and Add-On Units\",Large Box,0.8,9/20/2012\n",
      "\n",
      "4796,34083,2/5/2012,Not Specified,29,1415.148,0.02,Express Air,-64.94,55.99,5,Barry Blumstein,British Columbia,West,Small Business,Technology,Telephones and Communication,Accessory6,Small Pack,0.8,2/5/2012\n",
      "\n",
      "4824,34275,7/1/2009,Low,3,6041.01,0.04,Delivery Truck,-4793,2036.48,14.7,Greg Matthias,British Columbia,West,Small Business,Technology,Office Machines,Lexmark 4227 Plus Dot Matrix Printer,Jumbo Drum,0.55,7/6/2009\n",
      "\n",
      "4854,34532,12/11/2012,Low,41,1234.36,0.04,Express Air,-84.77,30.98,19.51,Carol Darley,British Columbia,West,Small Business,Office Supplies,Envelopes,Staples Colored Interoffice Envelopes,Small Box,0.36,12/18/2012\n",
      "\n",
      "4942,35139,1/18/2010,High,3,10380.34,0.05,Delivery Truck,-8389.47,3502.14,8.73,Lauren Leatherbury,British Columbia,West,Home Office,Technology,Office Machines,Okidata Pacemark 4410N Wide Format Dot Matrix Printer,Jumbo Box,0.57,1/19/2010\n",
      "\n",
      "4943,35139,1/18/2010,High,25,854.9,0.05,Regular Air,76.87,34.58,8.99,Lauren Leatherbury,British Columbia,West,Home Office,Office Supplies,Pens & Art Supplies,Panasonic KP-350BK Electric Pencil Sharpener with Auto Stop,Small Pack,0.56,1/20/2010\n",
      "\n",
      "4944,35139,1/18/2010,High,32,389.98,0.07,Regular Air,-14.98,12.21,4.81,Lauren Leatherbury,British Columbia,West,Home Office,Office Supplies,Storage & Organization,Portable Personal File Box,Small Box,0.58,1/20/2010\n",
      "\n",
      "4952,35239,11/12/2011,Critical,21,109.29,0.08,Regular Air,-77.08,5.28,6.26,Barry Blumstein,British Columbia,West,Small Business,Office Supplies,Paper,Xerox 1928,Small Box,0.4,11/13/2011\n",
      "\n",
      "4953,35239,11/12/2011,Critical,38,2257.88,0.01,Regular Air,474.98,59.76,9.71,Barry Blumstein,British Columbia,West,Small Business,Office Supplies,Storage & Organization,\"Advantus 10-Drawer Portable Organizer, Chrome Metal Frame, Smoke Drawers\",Small Box,0.57,11/14/2011\n",
      "\n",
      "5032,35875,6/14/2011,High,31,348.92,0.06,Regular Air,28.47,10.98,3.37,Cynthia Delaney,British Columbia,West,Corporate,Office Supplies,\"Scissors, Rulers and Trimmers\",Fiskars® Softgrip Scissors,Small Pack,0.57,6/14/2011\n",
      "\n",
      "5217,37125,1/14/2010,High,46,72.18,0,Regular Air,11.83,1.48,0.7,Sanjit Jacobs,British Columbia,West,Consumer,Office Supplies,Rubber Bands,Binder Clips by OIC,Wrap Bag,0.37,1/15/2010\n",
      "\n",
      "5222,37158,9/22/2012,Low,25,172.04,0.05,Regular Air,-85.11,6.48,7.37,Anthony O'Donnell,British Columbia,West,Consumer,Office Supplies,Paper,Xerox 210,Small Box,0.37,9/27/2012\n",
      "\n",
      "5252,37380,4/1/2011,Critical,29,737.38,0.08,Regular Air,90.04,26.64,5.3,Fred Harton,British Columbia,West,Home Office,Furniture,Chairs & Chairmats,SAFCO Optional Arm Kit for Workspace® Cribbage Stacking Chair,Medium Box,,4/2/2011\n",
      "\n",
      "5253,37380,4/1/2011,Critical,47,507.18,0,Regular Air,74.73,9.99,4.78,Fred Harton,British Columbia,West,Home Office,Office Supplies,Paper,Xerox 1896,Small Box,0.4,4/2/2011\n",
      "\n",
      "5254,37380,4/1/2011,Critical,42,151.19,0.07,Regular Air,27.37,3.55,1.43,Fred Harton,British Columbia,West,Home Office,Office Supplies,Rubber Bands,\"Acco Clips to Go™ Binder Clips, 24 Clips in Two Sizes\",Wrap Bag,0.38,4/2/2011\n",
      "\n",
      "5264,37445,2/18/2012,High,37,2180.23,0.05,Regular Air,660.25,60.22,3.5,Anthony O'Donnell,British Columbia,West,Corporate,Office Supplies,Appliances,\"Fellowes Smart Surge Ten-Outlet Protector, Platinum\",Small Box,0.57,2/19/2012\n",
      "\n",
      "5373,38212,4/4/2011,Medium,24,123.75,0.09,Express Air,55.42,4.98,0.49,Eva Jacobs,British Columbia,West,Home Office,Office Supplies,Labels,Avery White Multi-Purpose Labels,Small Box,0.39,4/5/2011\n",
      "\n",
      "5374,38212,4/4/2011,Medium,46,3533.97,0.07,Regular Air,-1329.81,80.98,35,Eva Jacobs,British Columbia,West,Home Office,Office Supplies,Storage & Organization,\"Carina 42\"\"Hx23 3/4\"\"W Media Storage Unit\",Large Box,0.83,4/6/2011\n",
      "\n",
      "5375,38212,4/4/2011,Medium,38,3821.4045,0,Regular Air,1256.97,115.99,2.5,Eva Jacobs,British Columbia,West,Home Office,Technology,Telephones and Communication,StarTAC 7797,Small Box,0.55,4/6/2011\n",
      "\n",
      "5378,38240,12/19/2009,High,42,1651.07,0.09,Regular Air,-100.49,40.98,6.5,Ken Lonsdale,British Columbia,West,Consumer,Technology,Computer Peripherals,Targus USB Numeric Keypad,Small Box,0.74,12/21/2009\n",
      "\n",
      "5447,38661,2/12/2012,High,48,326.1,0.04,Regular Air,-118.74,6.48,6.6,Duane Noonan,British Columbia,West,Corporate,Office Supplies,Paper,Xerox 21,Small Box,0.37,2/13/2012\n",
      "\n",
      "5448,38661,2/12/2012,High,6,170.374,0.09,Regular Air,-67.13,35.99,0.99,Duane Noonan,British Columbia,West,Corporate,Technology,Telephones and Communication,Accessory31,Small Pack,0.35,2/15/2012\n",
      "\n",
      "5516,39110,2/5/2010,Medium,14,2595.07,0.1,Regular Air,1217.19,194.3,11.54,Eva Jacobs,British Columbia,West,Home Office,Furniture,Office Furnishings,Electrix Halogen Magnifier Lamp,Large Box,0.59,2/5/2010\n",
      "\n",
      "5537,39235,7/14/2010,Medium,34,801.98,0,Regular Air,-99.95,21.66,13.99,Lauren Leatherbury,British Columbia,West,Corporate,Office Supplies,Appliances,Holmes 99% HEPA Air Purifier,Medium Box,0.52,7/16/2010\n",
      "\n",
      "5548,39270,2/6/2011,High,11,65.78,0.07,Regular Air,-17.42,5.81,3.37,Greg Matthias,British Columbia,West,Home Office,Office Supplies,Rubber Bands,\"Advantus Push Pins, Aluminum Head\",Wrap Bag,0.54,2/6/2011\n",
      "\n",
      "5582,39586,5/19/2011,Not Specified,1,10.48,0.04,Regular Air,-5.44,3.52,6.83,Lauren Leatherbury,British Columbia,West,Corporate,Office Supplies,Binders and Binder Accessories,Self-Adhesive Ring Binder Labels,Small Box,0.38,5/21/2011\n",
      "\n",
      "5620,39812,6/20/2009,Not Specified,40,323.63,0.05,Regular Air,-205.49,8.04,8.94,Greg Matthias,British Columbia,West,Home Office,Office Supplies,Binders and Binder Accessories,\"Fellowes Twister Kit, Gray/Clear, 3/pkg\",Small Box,0.4,6/22/2009\n",
      "\n",
      "5731,40673,2/17/2012,Low,14,157.49,0.02,Regular Air,62.54,10.94,1.39,Art Foster,British Columbia,West,Home Office,Office Supplies,Envelopes,\"White Business Envelopes with Contemporary Seam, Recycled White Business Envelopes\",Small Box,0.35,2/22/2012\n",
      "\n",
      "5837,41413,11/16/2011,Low,17,10134.55,0.08,Regular Air,-597.21,599.99,24.49,Art Miller,British Columbia,West,Corporate,Technology,Copiers and Fax,Hewlett Packard LaserJet 3310 Copier,Large Box,0.37,11/23/2011\n",
      "\n",
      "5838,41413,11/16/2011,Low,46,1765.64,0.08,Regular Air,108.65,40.97,14.45,Art Miller,British Columbia,West,Corporate,Furniture,Office Furnishings,Dana Halogen Swing-Arm Architect Lamp,Large Box,0.57,11/18/2011\n",
      "\n",
      "5839,41413,11/16/2011,Low,23,156.5,0.01,Regular Air,-49.6,6.48,6,Art Miller,British Columbia,West,Corporate,Office Supplies,Paper,Xerox 2,Small Box,0.37,11/20/2011\n",
      "\n",
      "5895,41824,7/4/2010,Not Specified,8,157.51,0.01,Regular Air,46.48,18.94,1.49,Art Miller,British Columbia,West,Corporate,Office Supplies,Binders and Binder Accessories,Flexible Leather- Look Classic Collection Ring Binder,Small Box,0.35,7/5/2010\n",
      "\n",
      "5896,41824,7/4/2010,Not Specified,33,97.78,0.09,Regular Air,-31.22,2.98,2.03,Art Miller,British Columbia,West,Corporate,Office Supplies,Pens & Art Supplies,\"Premium Writing Pencils, Soft, #2 by Central Association for the Blind\",Wrap Bag,0.57,7/6/2010\n",
      "\n",
      "6015,42628,5/5/2011,Not Specified,4,1199.336,0.01,Delivery Truck,224.8,349.45,60,Ken Lonsdale,British Columbia,West,Consumer,Furniture,Tables,\"SAFCO PlanMaster Heigh-Adjustable Drafting Table Base, 43w x 30d x 30-37h, Black\",Jumbo Drum,,5/7/2011\n",
      "\n",
      "6030,42722,10/7/2012,Not Specified,23,1152.16,0,Regular Air,286.98,48.92,4.5,Fred Harton,British Columbia,West,Home Office,Office Supplies,Appliances,\"Fellowes Premier Superior Surge Suppressor, 10-Outlet, With Phone and Remote\",Small Box,0.59,10/8/2012\n",
      "\n",
      "6031,42722,10/7/2012,Not Specified,2,19.9,0.07,Regular Air,15.97,7.38,5.21,Fred Harton,British Columbia,West,Home Office,Furniture,Office Furnishings,\"Eldon® Expressions™ Wood Desk Accessories, Oak\",Small Box,0.56,10/9/2012\n",
      "\n",
      "6035,42753,1/18/2012,Medium,45,4072.8175,0.1,Regular Air,897.36,115.99,3,Anthony Rawles,British Columbia,West,Small Business,Technology,Telephones and Communication,V66,Small Box,0.59,1/20/2012\n",
      "\n",
      "6073,43013,4/22/2011,Low,43,1438.33,0.08,Regular Air,163.38,34.76,8.22,Lauren Leatherbury,British Columbia,West,Home Office,Office Supplies,Storage & Organization,\"Multi-Use Personal File Cart and Caster Set, Three Stacking Bins\",Small Box,0.57,4/27/2011\n",
      "\n",
      "6238,44198,1/4/2011,Critical,35,625.9485,0.04,Express Air,-87.02,20.99,3.3,Greg Matthias,British Columbia,West,Home Office,Technology,Telephones and Communication,Accessory39,Small Pack,0.81,1/4/2011\n",
      "\n",
      "6281,44451,9/11/2011,Low,4,12.49,0.08,Regular Air,-13.5,1.98,4.77,Eva Jacobs,British Columbia,West,Home Office,Office Supplies,Binders and Binder Accessories,Avery Reinforcements for Hole-Punch Pages,Small Box,0.4,9/15/2011\n",
      "\n",
      "6296,44576,12/25/2009,Not Specified,30,1653.607,0.02,Regular Air,294.97,65.99,5.31,Greg Matthias,British Columbia,West,Small Business,Technology,Telephones and Communication,3390,Small Box,0.57,12/26/2009\n",
      "\n",
      "6327,44834,4/20/2009,Medium,13,248.76,0.1,Express Air,35.09,19.98,5.77,Anthony Rawles,British Columbia,West,Small Business,Office Supplies,Paper,Xerox Blank Computer Paper,Small Box,0.38,4/20/2009\n",
      "\n",
      "6328,44834,4/20/2009,Medium,43,10984.05,0.06,Delivery Truck,785.63,259.71,66.67,Anthony Rawles,British Columbia,West,Small Business,Furniture,Tables,\"Bevis Round Bullnose 29\"\" High Table Top\",Jumbo Box,0.61,4/21/2009\n",
      "\n",
      "6473,46053,9/13/2012,High,31,2447.1075,0,Regular Air,856.96,85.99,0.99,Ken Lonsdale,British Columbia,West,Consumer,Technology,Telephones and Communication,Accessory34,Wrap Bag,0.55,9/14/2012\n",
      "\n",
      "6654,47329,2/10/2010,Low,2,26.64,0.09,Express Air,-13.88,11.55,2.36,Greg Matthias,British Columbia,West,Home Office,Office Supplies,Pens & Art Supplies,Newell 309,Wrap Bag,0.55,2/15/2010\n",
      "\n",
      "6655,47329,2/10/2010,Low,16,88.19,0.03,Regular Air,-25.97,4.98,4.72,Greg Matthias,British Columbia,West,Home Office,Office Supplies,Paper,Xerox 1949,Small Box,0.36,2/19/2010\n",
      "\n",
      "6666,47461,4/25/2010,High,39,318.28,0.08,Regular Air,114.95,8.17,1.69,Christopher Martinez,British Columbia,West,Small Business,Office Supplies,Paper,\"Wirebound Message Forms, Four 2 3/4 x 5 Forms per Page, Pink Paper\",Wrap Bag,0.38,4/26/2010\n",
      "\n",
      "6667,47461,4/25/2010,High,34,289.53,0.08,Express Air,46.97,8.69,2.99,Christopher Martinez,British Columbia,West,Small Business,Office Supplies,Binders and Binder Accessories,\"Cardinal Slant-D® Ring Binder, Heavy Gauge Vinyl\",Small Box,0.39,4/26/2010\n",
      "\n",
      "6668,47461,4/25/2010,High,45,322.8,0.06,Regular Air,53.15,7.08,2.35,Christopher Martinez,British Columbia,West,Small Business,Office Supplies,Pens & Art Supplies,SANFORD Major Accent™ Highlighters,Wrap Bag,0.47,4/27/2010\n",
      "\n",
      "6682,47525,3/3/2011,Medium,40,649.46,0.01,Regular Air,189.04,15.98,4,Anthony Rawles,British Columbia,West,Small Business,Technology,Computer Peripherals,Logitech Access Keyboard,Small Box,0.37,3/4/2011\n",
      "\n",
      "6854,48803,11/9/2012,Critical,19,200.41,0.05,Regular Air,-23.65,10.23,4.68,Christopher Martinez,British Columbia,West,Home Office,Office Supplies,\"Scissors, Rulers and Trimmers\",Acme® Box Cutter Scissors,Small Pack,0.59,11/10/2012\n",
      "\n",
      "6878,49027,4/11/2011,High,41,708.83,0.08,Regular Air,35.08,17.67,8.99,Fred Harton,British Columbia,West,Home Office,Furniture,Office Furnishings,\"Executive Impressions 12\"\" Wall Clock\",Small Pack,0.47,4/12/2011\n",
      "\n",
      "7124,50822,2/7/2012,Medium,6,1635.29,0.1,Regular Air,7.92,276.2,24.49,Carol Darley,British Columbia,West,Small Business,Furniture,Chairs & Chairmats,SAFCO Arco Folding Chair,Large Box,,2/8/2012\n",
      "\n",
      "7125,50822,2/7/2012,Medium,37,316.35,0.01,Express Air,-52.18,8.12,2.83,Carol Darley,British Columbia,West,Small Business,Technology,Computer Peripherals,\"Imation Neon Mac Format Diskettes, 10/Pack\",Small Pack,0.77,2/8/2012\n",
      "\n",
      "7251,51714,9/5/2009,Not Specified,33,194.09,0.03,Regular Air,-63.35,5.78,5.37,Lauren Leatherbury,British Columbia,West,Home Office,Office Supplies,Paper,Xerox 1950,Small Box,0.36,9/6/2009\n",
      "\n",
      "7264,51815,5/26/2009,Low,37,227.5,0.01,Regular Air,-256.52,5.94,9.92,Anthony Rawles,British Columbia,West,Small Business,Office Supplies,Binders and Binder Accessories,Storex Dura Pro™ Binders,Small Box,0.38,6/2/2009\n",
      "\n",
      "7265,51815,5/26/2009,Low,21,2292.1015,0.02,Regular Air,398.36,125.99,3,Anthony Rawles,British Columbia,West,Small Business,Technology,Telephones and Communication,270c,Small Box,0.59,5/26/2009\n",
      "\n",
      "7275,51906,9/1/2011,High,24,206.34,0.04,Regular Air,-38.23,8.46,3.62,Art Foster,British Columbia,West,Home Office,Technology,Computer Peripherals,\"Imation 3.5\"\", RTS 247544 3M 3.5 DSDD, 10/Pack\",Small Pack,0.61,9/2/2011\n",
      "\n",
      "7309,52128,11/22/2010,Not Specified,11,13.52,0.03,Regular Air,-27.66,0.99,2.96,Sanjit Jacobs,British Columbia,West,Consumer,Technology,Computer Peripherals,\"Sony IBM Color Diskettes, 25/Pack\",Small Pack,0.61,11/23/2010\n",
      "\n",
      "7392,52675,10/10/2011,Medium,4,20.25,0.1,Regular Air,-22.13,4.77,2.39,Christopher Martinez,British Columbia,West,Small Business,Technology,Computer Peripherals,\"Imation Primaris 3.5\"\" 2HD Unformatted Diskettes, 10/Pack\",Small Pack,0.72,10/12/2011\n",
      "\n",
      "7393,52675,10/10/2011,Medium,22,52.62,0.01,Regular Air,-4.64,2.21,1.12,Christopher Martinez,British Columbia,West,Small Business,Office Supplies,Pens & Art Supplies,Newell 327,Wrap Bag,0.58,10/12/2011\n",
      "\n",
      "7455,53189,8/23/2011,Critical,29,214.19,0,Express Air,-40.56,6.48,5.94,Duane Noonan,British Columbia,West,Corporate,Office Supplies,Paper,\"Eureka Recycled Copy Paper 8 1/2\"\" x 11\"\", Ream\",Small Box,0.37,8/23/2011\n",
      "\n",
      "7590,54307,1/8/2012,High,41,198.29,0.08,Regular Air,-134.41,4.91,5.68,Lauren Leatherbury,British Columbia,West,Corporate,Office Supplies,Binders and Binder Accessories,\"Acco Pressboard Covers with Storage Hooks, 14 7/8\"\" x 11\"\", Light Blue\",Small Box,0.36,1/9/2012\n",
      "\n",
      "7661,54917,4/9/2010,High,12,6034.68,0.06,Regular Air,-517.08,499.99,24.49,Anthony Rawles,British Columbia,West,Small Business,Technology,Copiers and Fax,Sharp AL-1530CS Digital Copier,Large Box,0.36,4/10/2010\n",
      "\n",
      "7965,56930,8/17/2012,Low,47,228.31,0.03,Regular Air,8.89,4.71,0.7,Eva Jacobs,British Columbia,West,Home Office,Office Supplies,Rubber Bands,Plymouth Boxed Rubber Bands by Plymouth,Wrap Bag,0.8,8/24/2012\n",
      "\n",
      "8060,57511,10/6/2009,Critical,32,98.46,0.01,Regular Air,41.54,2.89,0.5,Duane Noonan,British Columbia,West,Corporate,Office Supplies,Labels,Avery 498,Small Box,0.38,10/7/2009\n",
      "\n",
      "8061,57511,10/6/2009,Critical,11,569.636,0,Regular Air,-173.25,55.99,5,Duane Noonan,British Columbia,West,Corporate,Technology,Telephones and Communication,Accessory6,Small Pack,0.8,10/8/2009\n",
      "\n",
      "8106,57857,5/1/2010,High,18,314.96,0.1,Regular Air,153.48,18.65,3.77,Anthony Rawles,British Columbia,West,Small Business,Furniture,Office Furnishings,3M Polarizing Light Filter Sleeves,Small Pack,0.39,5/1/2010\n",
      "\n",
      "8107,57861,10/25/2012,Medium,40,120.15,0,Regular Air,11.32,2.88,1.49,Anthony Rawles,British Columbia,West,Small Business,Office Supplies,Binders and Binder Accessories,Avery Durable Binders,Small Box,0.36,10/27/2012\n",
      "\n",
      "8145,58247,9/23/2011,Not Specified,8,1058.82,0.02,Regular Air,211.73,131.12,0.99,Christopher Martinez,British Columbia,West,Home Office,Office Supplies,Appliances,Kensington 7 Outlet MasterPiece® HOMEOFFICE Power Control Center,Small Box,0.55,9/23/2011\n",
      "\n",
      "8146,58247,9/23/2011,Not Specified,14,92.07,0.09,Regular Air,-64.5,6.48,7.86,Christopher Martinez,British Columbia,West,Home Office,Office Supplies,Paper,Xerox 213,Small Box,0.37,9/25/2011\n",
      "\n",
      "8178,58470,6/8/2011,High,24,1811.55,0.09,Regular Air,512.69,81.32,0.99,Barry Blumstein,British Columbia,West,Small Business,Office Supplies,Appliances,Kensington 4 Outlet MasterPiece® Compact Power Control Center,Small Box,0.57,6/9/2011\n",
      "\n",
      "8179,58470,6/8/2011,High,13,49.08,0.06,Regular Air,-0.31,3.71,1.93,Barry Blumstein,British Columbia,West,Small Business,Office Supplies,Paper,\"\"\"While you Were Out\"\" Message Book, One Form per Page\",Wrap Bag,0.35,6/8/2011\n",
      "\n",
      "8180,58470,6/8/2011,High,36,236.19,0.06,Regular Air,-76.92,6.48,5.94,Barry Blumstein,British Columbia,West,Small Business,Office Supplies,Paper,\"Eureka Recycled Copy Paper 8 1/2\"\" x 11\"\", Ream\",Small Box,0.37,6/9/2011\n",
      "\n",
      "8181,58470,6/8/2011,High,45,854.14,0.01,Regular Air,94,18.97,9.03,Barry Blumstein,British Columbia,West,Small Business,Office Supplies,Paper,Computer Printout Paper with Letter-Trim Perforations,Small Box,0.37,6/10/2011\n",
      "\n",
      "8182,58470,6/8/2011,High,5,159.5,0.09,Regular Air,-57.98,31.98,6.72,Barry Blumstein,British Columbia,West,Small Business,Office Supplies,Storage & Organization,Fellowes Bankers Box™ Stor/Drawer® Steel Plus™,Small Box,0.75,6/9/2011\n",
      "\n",
      "8219,58759,1/21/2009,Low,4,33.44,0.1,Regular Air,-6.88,8.01,2.87,Andrew Allen,British Columbia,West,Corporate,Office Supplies,Paper,\"TOPS Money Receipt Book, Consecutively Numbered in Red,\",Wrap Bag,0.4,1/28/2009\n",
      "\n",
      "8365,59780,2/20/2010,Critical,21,6776.92,0,Delivery Truck,1395.02,306.14,26.53,Art Foster,British Columbia,West,Home Office,Technology,Office Machines,Okidata ML184 Turbo Dot Matrix Printers,Jumbo Drum,0.56,2/20/2010\n",
      "\n"
     ]
    }
   ],
   "source": [
    "# Reading Files\n",
    "f = open(\"Superstore-SalesBC.csv\",\"r\")\n",
    "# if f.mode == \"r\":\n",
    "#      contents = f.read()\n",
    "#      print(contents)\n",
    "\n",
    "for lin in f:\n",
    "    print(lin)\n",
    "f.close()"
   ]
  },
  {
   "cell_type": "code",
   "execution_count": null,
   "metadata": {},
   "outputs": [],
   "source": []
  }
 ],
 "metadata": {
  "colab": {
   "name": "NICF_Python_Begin.ipynb",
   "provenance": []
  },
  "kernelspec": {
   "display_name": "Python 3",
   "language": "python",
   "name": "python3"
  },
  "language_info": {
   "codemirror_mode": {
    "name": "ipython",
    "version": 3
   },
   "file_extension": ".py",
   "mimetype": "text/x-python",
   "name": "python",
   "nbconvert_exporter": "python",
   "pygments_lexer": "ipython3",
   "version": "3.7.4"
  }
 },
 "nbformat": 4,
 "nbformat_minor": 1
}
